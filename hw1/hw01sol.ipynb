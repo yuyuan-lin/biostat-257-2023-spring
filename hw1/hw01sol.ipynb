{
 "cells": [
  {
   "cell_type": "raw",
   "metadata": {},
   "source": [
    "---\n",
    "title: Biostat/Biomath M257 Homework 1\n",
    "subtitle: Due Apr 14 @ 11:59PM\n",
    "author: Yuyuan Lin (804886544)\n",
    "date: today\n",
    "format:\n",
    "  html:\n",
    "    theme: cosmo\n",
    "    embed-resources: true\n",
    "    number-sections: false\n",
    "    toc: true\n",
    "    toc-depth: 4\n",
    "    toc-location: left\n",
    "---"
   ]
  },
  {
   "cell_type": "markdown",
   "metadata": {},
   "source": [
    "## Q1\n",
    "\n",
    "**No handwritten homework reports are accepted for this course.**  We work with Git/GitHub.  Efficient and abundant use of Git, e.g., **frequent and well-documented** commits, is an important criterion for grading your homework.\n",
    "\n",
    "1. If you don't have a GitHub account, apply for the [Student Developer Pack](https://education.github.com/pack) at GitHub using your UCLA email.\n",
    "\n",
    "2. Create a **private** repository `biostat-257-2023-spring` and add `Hua-Zhou` and `parsajamshidian` (TA) as your collaborators.\n",
    "\n",
    "3. Top directories of the repository should be `hw1`, `hw2`, ... You may create other branches for developing your homework solutions; but the `master` branch will be your presentation area. Put your homework submission files (Jupyter notebook `.ipynb`, html converted from notebook, all code and data set to reproduce results) in the `master` branch. \n",
    "\n",
    "4. After each homework due date, teaching assistant and instructor will check out your `master` branch for grading. Tag each of your homework submissions with tag names `hw1`, `hw2`, ...  Tagging time will be used as your submission time. That means if you tag your hw1 submission after deadline, penalty points will be deducted for late submission.  \n",
    "\n",
    "5. Read the [style guide](https://github.com/invenia/BlueStyle) for Julia programming. Following rules in the style guide will be strictly enforced when grading: (1) four space indenting rule, (2) 92 charcter rule, (3) space after comma rule, (4) no space before comma rule, (5) space around binary operator rule."
   ]
  },
  {
   "cell_type": "markdown",
   "metadata": {},
   "source": [
    "### Q1 answer\n",
    "Please refer to my [Github repo](https://github.com/yuyuan-lin/biostat-257-2023-spring) for the homework answers."
   ]
  },
  {
   "cell_type": "markdown",
   "metadata": {},
   "source": [
    "## Q2\n",
    "\n",
    "Let's check whether floating-point numbers obey certain algebraic rules. For 2-5, one counter-example suffices.\n",
    "\n",
    "1. Associative rule for addition says `(x + y) + z == x + (y + z)`. Check association rule using `x = 0.1`, `y = 0.1` and `z = 1.0` in Julia. Explain what you find.\n",
    "\n",
    "2. Do floating-point numbers obey the associative rule for multiplication: `(x * y) * z == x * (y * z)`?\n",
    "\n",
    "3. Do floating-point numbers obey the distributive rule: `a * (x + y) == a * x + a * y`?  \n",
    "\n",
    "4. Is `0 * x == 0` true for all floating-point number `x`? \n",
    "\n",
    "5. Is `x / a == x * (1 / a)` always true?"
   ]
  },
  {
   "cell_type": "markdown",
   "metadata": {},
   "source": [
    "### Q2 answer\n",
    "#### Part 1\n",
    "The association rule of addition does not always hold in Julia. The reason is that real numbers are stored as a limited number of binary codes (0/1) in the computer, and it will be rounded if the decimal part cannot be written as a sum of $1/2^i$. This rounding issue causes the imprecision of float calculation we see here."
   ]
  },
  {
   "cell_type": "code",
   "execution_count": 5,
   "metadata": {},
   "outputs": [
    {
     "name": "stdout",
     "output_type": "stream",
     "text": [
      "1.2\n",
      "1.2000000000000002\n",
      "false\n"
     ]
    }
   ],
   "source": [
    "x = 0.1; y = 0.1; z = 1\n",
    "println((x + y) + z)\n",
    "println(x + (y + z))\n",
    "println((x + y) + z == x + (y + z))"
   ]
  },
  {
   "attachments": {},
   "cell_type": "markdown",
   "metadata": {},
   "source": [
    "#### Part 2\n",
    "The association rule of multiplication does not always hold in Julia. The reason is similar (float precision)."
   ]
  },
  {
   "cell_type": "code",
   "execution_count": 6,
   "metadata": {},
   "outputs": [
    {
     "name": "stdout",
     "output_type": "stream",
     "text": [
      "0.006000000000000001\n",
      "0.006\n",
      "false\n"
     ]
    }
   ],
   "source": [
    "x = 0.1; y = 0.2; z = 0.3\n",
    "println((x * y) * z)\n",
    "println(x * (y * z))\n",
    "println((x * y) * z == x * (y * z))"
   ]
  },
  {
   "attachments": {},
   "cell_type": "markdown",
   "metadata": {},
   "source": [
    "#### Part 3\n",
    "The distributive rule does not always hold in Julia. The reason is similar (float precision)."
   ]
  },
  {
   "cell_type": "code",
   "execution_count": 7,
   "metadata": {},
   "outputs": [
    {
     "name": "stdout",
     "output_type": "stream",
     "text": [
      "0.09000000000000001\n",
      "0.09\n",
      "false\n"
     ]
    }
   ],
   "source": [
    "x = 0.1; y = 0.2; z = 0.3\n",
    "println((x + y) * z)\n",
    "println(x * z + y * z)\n",
    "println((x + y) * z == x * z + y * z)"
   ]
  },
  {
   "attachments": {},
   "cell_type": "markdown",
   "metadata": {},
   "source": [
    "#### Part 4\n",
    "Multiplying any normal float number by 0 will give a 0. However, some special values such as `NaN` and `Inf` are also stored as `Float64`. Multiplying these special float values by 0 will NOT give a 0. "
   ]
  },
  {
   "cell_type": "code",
   "execution_count": 8,
   "metadata": {},
   "outputs": [
    {
     "name": "stdout",
     "output_type": "stream",
     "text": [
      "0.0\n",
      "NaN\n",
      "NaN\n"
     ]
    }
   ],
   "source": [
    "a = rand(Float64)\n",
    "println(a * 0)\n",
    "println(Inf * 0)\n",
    "println(NaN * 0)"
   ]
  },
  {
   "attachments": {},
   "cell_type": "markdown",
   "metadata": {},
   "source": [
    "#### Part 5\n",
    "It is not always true as shown below."
   ]
  },
  {
   "cell_type": "code",
   "execution_count": 9,
   "metadata": {},
   "outputs": [
    {
     "name": "stdout",
     "output_type": "stream",
     "text": [
      "0.27337941005904537\n",
      "0.27337941005904537\n",
      "true\n"
     ]
    }
   ],
   "source": [
    "a, b = rand(Float64, 2)\n",
    "println(a / b)\n",
    "println(a * (1 / b))\n",
    "println(a / b == a * (1 / b))"
   ]
  },
  {
   "cell_type": "markdown",
   "metadata": {},
   "source": [
    "## Q3\n",
    "\n",
    "Consider Julia function\n",
    "```julia\n",
    "function g(k)\n",
    "    for i in 1:10\n",
    "        k = 5k - 1\n",
    "    end\n",
    "    k\n",
    "end\n",
    "```\n",
    "1. Use `@code_llvm` to find the LLVM bitcode of compiled `g` with `Int64` input.   \n",
    "2. Use `@code_llvm` to find the LLVM bitcode of compiled `g` with `Float64` input.  \n",
    "3. Compare the bitcode from questions 1 and 2. What do you find?  \n",
    "4. Read Julia documentation on `@fastmath` and repeat the questions 1-3 on the function  \n",
    "\n",
    "```julia\n",
    "function g_fastmath(k)  \n",
    "    @fastmath for i in 1:10  \n",
    "        k = 5k - 1\n",
    "    end\n",
    "    k\n",
    "end\n",
    "```\n",
    "Explain what does the macro `@fastmath` do? And why are the bitcodes for `g` and `g_fastmath` with `Float64` input different? (Hint: Q2)"
   ]
  },
  {
   "attachments": {},
   "cell_type": "markdown",
   "metadata": {},
   "source": [
    "### Q3 answer\n",
    "#### Part 1"
   ]
  },
  {
   "cell_type": "code",
   "execution_count": 10,
   "metadata": {},
   "outputs": [
    {
     "name": "stdout",
     "output_type": "stream",
     "text": [
      "\u001b[90m;  @ /Users/yuyuanlin/Documents/UCLA_files/course_work/BIS_M257/hw/biostat-257-2023-spring/hw1/hw01sol.ipynb:1 within `g`\u001b[39m\n",
      "\u001b[95mdefine\u001b[39m \u001b[36mi64\u001b[39m \u001b[93m@julia_g_1209\u001b[39m\u001b[33m(\u001b[39m\u001b[36mi64\u001b[39m \u001b[95msignext\u001b[39m \u001b[0m%0\u001b[33m)\u001b[39m \u001b[0m#0 \u001b[33m{\u001b[39m\n",
      "\u001b[91mtop:\u001b[39m\n",
      "\u001b[90m;  @ /Users/yuyuanlin/Documents/UCLA_files/course_work/BIS_M257/hw/biostat-257-2023-spring/hw1/hw01sol.ipynb:3 within `g`\u001b[39m\n",
      "\u001b[90m; ┌ @ int.jl:88 within `*`\u001b[39m\n",
      "   \u001b[0m%1 \u001b[0m= \u001b[96m\u001b[1mmul\u001b[22m\u001b[39m \u001b[36mi64\u001b[39m \u001b[0m%0\u001b[0m, \u001b[33m9765625\u001b[39m\n",
      "\u001b[90m; └\u001b[39m\n",
      "\u001b[90m; ┌ @ int.jl:86 within `-`\u001b[39m\n",
      "   \u001b[0m%2 \u001b[0m= \u001b[96m\u001b[1madd\u001b[22m\u001b[39m \u001b[36mi64\u001b[39m \u001b[0m%1\u001b[0m, \u001b[33m-2441406\u001b[39m\n",
      "\u001b[90m; └\u001b[39m\n",
      "\u001b[90m;  @ /Users/yuyuanlin/Documents/UCLA_files/course_work/BIS_M257/hw/biostat-257-2023-spring/hw1/hw01sol.ipynb:5 within `g`\u001b[39m\n",
      "  \u001b[96m\u001b[1mret\u001b[22m\u001b[39m \u001b[36mi64\u001b[39m \u001b[0m%2\n",
      "\u001b[33m}\u001b[39m\n"
     ]
    }
   ],
   "source": [
    "function g(k)\n",
    "    for i in 1:10\n",
    "        k = 5k - 1\n",
    "    end\n",
    "    k\n",
    "end\n",
    "\n",
    "@code_llvm g(1::Int64)"
   ]
  },
  {
   "attachments": {},
   "cell_type": "markdown",
   "metadata": {},
   "source": [
    "#### Part 2"
   ]
  },
  {
   "cell_type": "code",
   "execution_count": 11,
   "metadata": {},
   "outputs": [
    {
     "name": "stdout",
     "output_type": "stream",
     "text": [
      "\u001b[90m;  @ /Users/yuyuanlin/Documents/UCLA_files/course_work/BIS_M257/hw/biostat-257-2023-spring/hw1/hw01sol.ipynb:1 within `g`\u001b[39m\n",
      "\u001b[95mdefine\u001b[39m \u001b[36mdouble\u001b[39m \u001b[93m@julia_g_1346\u001b[39m\u001b[33m(\u001b[39m\u001b[36mdouble\u001b[39m \u001b[0m%0\u001b[33m)\u001b[39m \u001b[0m#0 \u001b[33m{\u001b[39m\n",
      "\u001b[91mtop:\u001b[39m\n",
      "\u001b[90m;  @ /Users/yuyuanlin/Documents/UCLA_files/course_work/BIS_M257/hw/biostat-257-2023-spring/hw1/hw01sol.ipynb:3 within `g`\u001b[39m\n",
      "\u001b[90m; ┌ @ promotion.jl:389 within `*` @ float.jl:385\u001b[39m\n",
      "   \u001b[0m%1 \u001b[0m= \u001b[96m\u001b[1mfmul\u001b[22m\u001b[39m \u001b[36mdouble\u001b[39m \u001b[0m%0\u001b[0m, \u001b[33m5.000000e+00\u001b[39m\n",
      "\u001b[90m; └\u001b[39m\n",
      "\u001b[90m; ┌ @ promotion.jl:390 within `-` @ float.jl:384\u001b[39m\n",
      "   \u001b[0m%2 \u001b[0m= \u001b[96m\u001b[1mfadd\u001b[22m\u001b[39m \u001b[36mdouble\u001b[39m \u001b[0m%1\u001b[0m, \u001b[33m-1.000000e+00\u001b[39m\n",
      "\u001b[90m; └\u001b[39m\n",
      "\u001b[90m; ┌ @ promotion.jl:389 within `*` @ float.jl:385\u001b[39m\n",
      "   \u001b[0m%3 \u001b[0m= \u001b[96m\u001b[1mfmul\u001b[22m\u001b[39m \u001b[36mdouble\u001b[39m \u001b[0m%2\u001b[0m, \u001b[33m5.000000e+00\u001b[39m\n",
      "\u001b[90m; └\u001b[39m\n",
      "\u001b[90m; ┌ @ promotion.jl:390 within `-` @ float.jl:384\u001b[39m\n",
      "   \u001b[0m%4 \u001b[0m= \u001b[96m\u001b[1mfadd\u001b[22m\u001b[39m \u001b[36mdouble\u001b[39m \u001b[0m%3\u001b[0m, \u001b[33m-1.000000e+00\u001b[39m\n",
      "\u001b[90m; └\u001b[39m\n",
      "\u001b[90m; ┌ @ promotion.jl:389 within `*` @ float.jl:385\u001b[39m\n",
      "   \u001b[0m%5 \u001b[0m= \u001b[96m\u001b[1mfmul\u001b[22m\u001b[39m \u001b[36mdouble\u001b[39m \u001b[0m%4\u001b[0m, \u001b[33m5.000000e+00\u001b[39m\n",
      "\u001b[90m; └\u001b[39m\n",
      "\u001b[90m; ┌ @ promotion.jl:390 within `-` @ float.jl:384\u001b[39m\n",
      "   \u001b[0m%6 \u001b[0m= \u001b[96m\u001b[1mfadd\u001b[22m\u001b[39m \u001b[36mdouble\u001b[39m \u001b[0m%5\u001b[0m, \u001b[33m-1.000000e+00\u001b[39m\n",
      "\u001b[90m; └\u001b[39m\n",
      "\u001b[90m; ┌ @ promotion.jl:389 within `*` @ float.jl:385\u001b[39m\n",
      "   \u001b[0m%7 \u001b[0m= \u001b[96m\u001b[1mfmul\u001b[22m\u001b[39m \u001b[36mdouble\u001b[39m \u001b[0m%6\u001b[0m, \u001b[33m5.000000e+00\u001b[39m\n",
      "\u001b[90m; └\u001b[39m\n",
      "\u001b[90m; ┌ @ promotion.jl:390 within `-` @ float.jl:384\u001b[39m\n",
      "   \u001b[0m%8 \u001b[0m= \u001b[96m\u001b[1mfadd\u001b[22m\u001b[39m \u001b[36mdouble\u001b[39m \u001b[0m%7\u001b[0m, \u001b[33m-1.000000e+00\u001b[39m\n",
      "\u001b[90m; └\u001b[39m\n",
      "\u001b[90m; ┌ @ promotion.jl:389 within `*` @ float.jl:385\u001b[39m\n",
      "   \u001b[0m%9 \u001b[0m= \u001b[96m\u001b[1mfmul\u001b[22m\u001b[39m \u001b[36mdouble\u001b[39m \u001b[0m%8\u001b[0m, \u001b[33m5.000000e+00\u001b[39m\n",
      "\u001b[90m; └\u001b[39m\n",
      "\u001b[90m; ┌ @ promotion.jl:390 within `-` @ float.jl:384\u001b[39m\n",
      "   \u001b[0m%10 \u001b[0m= \u001b[96m\u001b[1mfadd\u001b[22m\u001b[39m \u001b[36mdouble\u001b[39m \u001b[0m%9\u001b[0m, \u001b[33m-1.000000e+00\u001b[39m\n",
      "\u001b[90m; └\u001b[39m\n",
      "\u001b[90m; ┌ @ promotion.jl:389 within `*` @ float.jl:385\u001b[39m\n",
      "   \u001b[0m%11 \u001b[0m= \u001b[96m\u001b[1mfmul\u001b[22m\u001b[39m \u001b[36mdouble\u001b[39m \u001b[0m%10\u001b[0m, \u001b[33m5.000000e+00\u001b[39m\n",
      "\u001b[90m; └\u001b[39m\n",
      "\u001b[90m; ┌ @ promotion.jl:390 within `-` @ float.jl:384\u001b[39m\n",
      "   \u001b[0m%12 \u001b[0m= \u001b[96m\u001b[1mfadd\u001b[22m\u001b[39m \u001b[36mdouble\u001b[39m \u001b[0m%11\u001b[0m, \u001b[33m-1.000000e+00\u001b[39m\n",
      "\u001b[90m; └\u001b[39m\n",
      "\u001b[90m; ┌ @ promotion.jl:389 within `*` @ float.jl:385\u001b[39m\n",
      "   \u001b[0m%13 \u001b[0m= \u001b[96m\u001b[1mfmul\u001b[22m\u001b[39m \u001b[36mdouble\u001b[39m \u001b[0m%12\u001b[0m, \u001b[33m5.000000e+00\u001b[39m\n",
      "\u001b[90m; └\u001b[39m\n",
      "\u001b[90m; ┌ @ promotion.jl:390 within `-` @ float.jl:384\u001b[39m\n",
      "   \u001b[0m%14 \u001b[0m= \u001b[96m\u001b[1mfadd\u001b[22m\u001b[39m \u001b[36mdouble\u001b[39m \u001b[0m%13\u001b[0m, \u001b[33m-1.000000e+00\u001b[39m\n",
      "\u001b[90m; └\u001b[39m\n",
      "\u001b[90m; ┌ @ promotion.jl:389 within `*` @ float.jl:385\u001b[39m\n",
      "   \u001b[0m%15 \u001b[0m= \u001b[96m\u001b[1mfmul\u001b[22m\u001b[39m \u001b[36mdouble\u001b[39m \u001b[0m%14\u001b[0m, \u001b[33m5.000000e+00\u001b[39m\n",
      "\u001b[90m; └\u001b[39m\n",
      "\u001b[90m; ┌ @ promotion.jl:390 within `-` @ float.jl:384\u001b[39m\n",
      "   \u001b[0m%16 \u001b[0m= \u001b[96m\u001b[1mfadd\u001b[22m\u001b[39m \u001b[36mdouble\u001b[39m \u001b[0m%15\u001b[0m, \u001b[33m-1.000000e+00\u001b[39m\n",
      "\u001b[90m; └\u001b[39m\n",
      "\u001b[90m; ┌ @ promotion.jl:389 within `*` @ float.jl:385\u001b[39m\n",
      "   \u001b[0m%17 \u001b[0m= \u001b[96m\u001b[1mfmul\u001b[22m\u001b[39m \u001b[36mdouble\u001b[39m \u001b[0m%16\u001b[0m, \u001b[33m5.000000e+00\u001b[39m\n",
      "\u001b[90m; └\u001b[39m\n",
      "\u001b[90m; ┌ @ promotion.jl:390 within `-` @ float.jl:384\u001b[39m\n",
      "   \u001b[0m%18 \u001b[0m= \u001b[96m\u001b[1mfadd\u001b[22m\u001b[39m \u001b[36mdouble\u001b[39m \u001b[0m%17\u001b[0m, \u001b[33m-1.000000e+00\u001b[39m\n",
      "\u001b[90m; └\u001b[39m\n",
      "\u001b[90m; ┌ @ promotion.jl:389 within `*` @ float.jl:385\u001b[39m\n",
      "   \u001b[0m%19 \u001b[0m= \u001b[96m\u001b[1mfmul\u001b[22m\u001b[39m \u001b[36mdouble\u001b[39m \u001b[0m%18\u001b[0m, \u001b[33m5.000000e+00\u001b[39m\n",
      "\u001b[90m; └\u001b[39m\n",
      "\u001b[90m; ┌ @ promotion.jl:390 within `-` @ float.jl:384\u001b[39m\n",
      "   \u001b[0m%20 \u001b[0m= \u001b[96m\u001b[1mfadd\u001b[22m\u001b[39m \u001b[36mdouble\u001b[39m \u001b[0m%19\u001b[0m, \u001b[33m-1.000000e+00\u001b[39m\n",
      "\u001b[90m; └\u001b[39m\n",
      "\u001b[90m;  @ /Users/yuyuanlin/Documents/UCLA_files/course_work/BIS_M257/hw/biostat-257-2023-spring/hw1/hw01sol.ipynb:5 within `g`\u001b[39m\n",
      "  \u001b[96m\u001b[1mret\u001b[22m\u001b[39m \u001b[36mdouble\u001b[39m \u001b[0m%20\n",
      "\u001b[33m}\u001b[39m\n"
     ]
    }
   ],
   "source": [
    "@code_llvm g(1.0::Float64)"
   ]
  },
  {
   "attachments": {},
   "cell_type": "markdown",
   "metadata": {},
   "source": [
    "#### Part 3\n",
    "Comparing the LLVM bitcodes from Part 1 and 2, we can see that the bitcode for `g` with `Int64` input is much simpler than that for `g` with `Float64` input. This is because the method for `Int64` input is much simpler than that for `Float64` input. "
   ]
  },
  {
   "attachments": {},
   "cell_type": "markdown",
   "metadata": {},
   "source": [
    "#### Part 4"
   ]
  },
  {
   "cell_type": "code",
   "execution_count": 12,
   "metadata": {},
   "outputs": [
    {
     "name": "stdout",
     "output_type": "stream",
     "text": [
      "\u001b[90m;  @ /Users/yuyuanlin/Documents/UCLA_files/course_work/BIS_M257/hw/biostat-257-2023-spring/hw1/hw01sol.ipynb:1 within `g_fastmath`\u001b[39m\n",
      "\u001b[95mdefine\u001b[39m \u001b[36mi64\u001b[39m \u001b[93m@julia_g_fastmath_1349\u001b[39m\u001b[33m(\u001b[39m\u001b[36mi64\u001b[39m \u001b[95msignext\u001b[39m \u001b[0m%0\u001b[33m)\u001b[39m \u001b[0m#0 \u001b[33m{\u001b[39m\n",
      "\u001b[91mtop:\u001b[39m\n",
      "\u001b[90m;  @ /Users/yuyuanlin/Documents/UCLA_files/course_work/BIS_M257/hw/biostat-257-2023-spring/hw1/hw01sol.ipynb:3 within `g_fastmath`\u001b[39m\n",
      "\u001b[90m; ┌ @ fastmath.jl:270 within `mul_fast`\u001b[39m\n",
      "\u001b[90m; │┌ @ int.jl:88 within `*`\u001b[39m\n",
      "    \u001b[0m%1 \u001b[0m= \u001b[96m\u001b[1mmul\u001b[22m\u001b[39m \u001b[36mi64\u001b[39m \u001b[0m%0\u001b[0m, \u001b[33m9765625\u001b[39m\n",
      "\u001b[90m; └└\u001b[39m\n",
      "\u001b[90m; ┌ @ fastmath.jl:270 within `sub_fast`\u001b[39m\n",
      "\u001b[90m; │┌ @ int.jl:86 within `-`\u001b[39m\n",
      "    \u001b[0m%2 \u001b[0m= \u001b[96m\u001b[1madd\u001b[22m\u001b[39m \u001b[36mi64\u001b[39m \u001b[0m%1\u001b[0m, \u001b[33m-2441406\u001b[39m\n",
      "\u001b[90m; └└\u001b[39m\n",
      "\u001b[90m;  @ /Users/yuyuanlin/Documents/UCLA_files/course_work/BIS_M257/hw/biostat-257-2023-spring/hw1/hw01sol.ipynb:5 within `g_fastmath`\u001b[39m\n",
      "  \u001b[96m\u001b[1mret\u001b[22m\u001b[39m \u001b[36mi64\u001b[39m \u001b[0m%2\n",
      "\u001b[33m}\u001b[39m\n"
     ]
    }
   ],
   "source": [
    "function g_fastmath(k)  \n",
    "    @fastmath for i in 1:10  \n",
    "        k = 5k - 1\n",
    "    end\n",
    "    k\n",
    "end\n",
    "\n",
    "@code_llvm g_fastmath(1::Int64)"
   ]
  },
  {
   "cell_type": "code",
   "execution_count": 13,
   "metadata": {},
   "outputs": [
    {
     "name": "stdout",
     "output_type": "stream",
     "text": [
      "\u001b[90m;  @ /Users/yuyuanlin/Documents/UCLA_files/course_work/BIS_M257/hw/biostat-257-2023-spring/hw1/hw01sol.ipynb:1 within `g_fastmath`\u001b[39m\n",
      "\u001b[95mdefine\u001b[39m \u001b[36mdouble\u001b[39m \u001b[93m@julia_g_fastmath_1351\u001b[39m\u001b[33m(\u001b[39m\u001b[36mdouble\u001b[39m \u001b[0m%0\u001b[33m)\u001b[39m \u001b[0m#0 \u001b[33m{\u001b[39m\n",
      "\u001b[91mtop:\u001b[39m\n",
      "\u001b[90m;  @ /Users/yuyuanlin/Documents/UCLA_files/course_work/BIS_M257/hw/biostat-257-2023-spring/hw1/hw01sol.ipynb:3 within `g_fastmath`\u001b[39m\n",
      "\u001b[90m; ┌ @ fastmath.jl:267 within `mul_fast` @ fastmath.jl:167\u001b[39m\n",
      "   \u001b[0m%1 \u001b[0m= \u001b[96m\u001b[1mfmul\u001b[22m\u001b[39m \u001b[95mfast\u001b[39m \u001b[36mdouble\u001b[39m \u001b[0m%0\u001b[0m, \u001b[33m0x4162A05F20000000\u001b[39m\n",
      "\u001b[90m; └\u001b[39m\n",
      "\u001b[90m; ┌ @ fastmath.jl:267 within `sub_fast` @ fastmath.jl:166\u001b[39m\n",
      "   \u001b[0m%2 \u001b[0m= \u001b[96m\u001b[1mfadd\u001b[22m\u001b[39m \u001b[95mfast\u001b[39m \u001b[36mdouble\u001b[39m \u001b[0m%1\u001b[0m, \u001b[33m0xC142A05F00000000\u001b[39m\n",
      "\u001b[90m; └\u001b[39m\n",
      "\u001b[90m;  @ /Users/yuyuanlin/Documents/UCLA_files/course_work/BIS_M257/hw/biostat-257-2023-spring/hw1/hw01sol.ipynb:5 within `g_fastmath`\u001b[39m\n",
      "  \u001b[96m\u001b[1mret\u001b[22m\u001b[39m \u001b[36mdouble\u001b[39m \u001b[0m%2\n",
      "\u001b[33m}\u001b[39m\n"
     ]
    }
   ],
   "source": [
    "@code_llvm g_fastmath(1.0::Float64)"
   ]
  },
  {
   "attachments": {},
   "cell_type": "markdown",
   "metadata": {},
   "source": [
    "The macro `@fastmath` executes a transformed version of the expression, which calls functions that may violate strict IEEE semantics. This allows the fastest possible. This may reduce the precision of float numbers, and cause numerical changes. The LLVM bitcode for `g_fastmath` with `Float64` input is as long as that for `g` or `g_fastmath` with `Int64` input, which is much simpler than that for `g` with `Float64` input."
   ]
  },
  {
   "cell_type": "markdown",
   "metadata": {},
   "source": [
    "## Q4\n",
    "\n",
    "Create the vector `x = (0.988, 0.989, 0.990, ..., 1.010, 1.011, 1.012)`.   \n",
    "\n",
    "1. Plot the polynomial `y = x^7 - 7x^6 + 21x^5 - 35x^4 + 35x^3 - 21x^2 + 7x - 1` at points `x`.  \n",
    "\n",
    "2. Plot the polynomial `y = (x - 1)^7` at points `x`.  \n",
    "\n",
    "3. Explain what you found."
   ]
  },
  {
   "attachments": {},
   "cell_type": "markdown",
   "metadata": {},
   "source": [
    "### Q4 answer\n",
    "The part 1 and 2 are shown below."
   ]
  },
  {
   "cell_type": "code",
   "execution_count": 14,
   "metadata": {},
   "outputs": [
    {
     "data": {
      "image/png": "[encoded data removed]",
      "image/svg+xml": [
       "<?xml version=\"1.0\" encoding=\"utf-8\"?>\n",
       "<svg xmlns=\"http://www.w3.org/2000/svg\" xmlns:xlink=\"http://www.w3.org/1999/xlink\" width=\"600\" height=\"400\" viewBox=\"0 0 2400 1600\">\n",
       "<defs>\n",
       "  <clipPath id=\"clip130\">\n",
       "    <rect x=\"0\" y=\"0\" width=\"2400\" height=\"1600\"/>\n",
       "  </clipPath>\n",
       "</defs>\n",
       "<path clip-path=\"url(#clip130)\" d=\"M0 1600 L2400 1600 L2400 0 L0 0  Z\" fill=\"#ffffff\" fill-rule=\"evenodd\" fill-opacity=\"1\"/>\n",
       "<defs>\n",
       "  <clipPath id=\"clip131\">\n",
       "    <rect x=\"480\" y=\"0\" width=\"1681\" height=\"1600\"/>\n",
       "  </clipPath>\n",
       "</defs>\n",
       "<path clip-path=\"url(#clip130)\" d=\"M432.293 1423.18 L2352.76 1423.18 L2352.76 47.2441 L432.293 47.2441  Z\" fill=\"#ffffff\" fill-rule=\"evenodd\" fill-opacity=\"1\"/>\n",
       "<defs>\n",
       "  <clipPath id=\"clip132\">\n",
       "    <rect x=\"432\" y=\"47\" width=\"1921\" height=\"1377\"/>\n",
       "  </clipPath>\n",
       "</defs>\n",
       "<polyline clip-path=\"url(#clip132)\" style=\"stroke:#000000; stroke-linecap:round; stroke-linejoin:round; stroke-width:2; stroke-opacity:0.1; fill:none\" points=\"637.625,1423.18 637.625,47.2441 \"/>\n",
       "<polyline clip-path=\"url(#clip132)\" style=\"stroke:#000000; stroke-linecap:round; stroke-linejoin:round; stroke-width:2; stroke-opacity:0.1; fill:none\" points=\"1015.07,1423.18 1015.07,47.2441 \"/>\n",
       "<polyline clip-path=\"url(#clip132)\" style=\"stroke:#000000; stroke-linecap:round; stroke-linejoin:round; stroke-width:2; stroke-opacity:0.1; fill:none\" points=\"1392.52,1423.18 1392.52,47.2441 \"/>\n",
       "<polyline clip-path=\"url(#clip132)\" style=\"stroke:#000000; stroke-linecap:round; stroke-linejoin:round; stroke-width:2; stroke-opacity:0.1; fill:none\" points=\"1769.97,1423.18 1769.97,47.2441 \"/>\n",
       "<polyline clip-path=\"url(#clip132)\" style=\"stroke:#000000; stroke-linecap:round; stroke-linejoin:round; stroke-width:2; stroke-opacity:0.1; fill:none\" points=\"2147.42,1423.18 2147.42,47.2441 \"/>\n",
       "<polyline clip-path=\"url(#clip130)\" style=\"stroke:#000000; stroke-linecap:round; stroke-linejoin:round; stroke-width:4; stroke-opacity:1; fill:none\" points=\"432.293,1423.18 2352.76,1423.18 \"/>\n",
       "<polyline clip-path=\"url(#clip130)\" style=\"stroke:#000000; stroke-linecap:round; stroke-linejoin:round; stroke-width:4; stroke-opacity:1; fill:none\" points=\"637.625,1423.18 637.625,1404.28 \"/>\n",
       "<polyline clip-path=\"url(#clip130)\" style=\"stroke:#000000; stroke-linecap:round; stroke-linejoin:round; stroke-width:4; stroke-opacity:1; fill:none\" points=\"1015.07,1423.18 1015.07,1404.28 \"/>\n",
       "<polyline clip-path=\"url(#clip130)\" style=\"stroke:#000000; stroke-linecap:round; stroke-linejoin:round; stroke-width:4; stroke-opacity:1; fill:none\" points=\"1392.52,1423.18 1392.52,1404.28 \"/>\n",
       "<polyline clip-path=\"url(#clip130)\" style=\"stroke:#000000; stroke-linecap:round; stroke-linejoin:round; stroke-width:4; stroke-opacity:1; fill:none\" points=\"1769.97,1423.18 1769.97,1404.28 \"/>\n",
       "<polyline clip-path=\"url(#clip130)\" style=\"stroke:#000000; stroke-linecap:round; stroke-linejoin:round; stroke-width:4; stroke-opacity:1; fill:none\" points=\"2147.42,1423.18 2147.42,1404.28 \"/>\n",
       "<path clip-path=\"url(#clip130)\" d=\"M584.848 1454.1 Q581.237 1454.1 579.408 1457.66 Q577.602 1461.2 577.602 1468.33 Q577.602 1475.44 579.408 1479.01 Q581.237 1482.55 584.848 1482.55 Q588.482 1482.55 590.288 1479.01 Q592.116 1475.44 592.116 1468.33 Q592.116 1461.2 590.288 1457.66 Q588.482 1454.1 584.848 1454.1 M584.848 1450.39 Q590.658 1450.39 593.714 1455 Q596.792 1459.58 596.792 1468.33 Q596.792 1477.06 593.714 1481.67 Q590.658 1486.25 584.848 1486.25 Q579.038 1486.25 575.959 1481.67 Q572.903 1477.06 572.903 1468.33 Q572.903 1459.58 575.959 1455 Q579.038 1450.39 584.848 1450.39 Z\" fill=\"#000000\" fill-rule=\"nonzero\" fill-opacity=\"1\" /><path clip-path=\"url(#clip130)\" d=\"M605.01 1479.7 L609.894 1479.7 L609.894 1485.58 L605.01 1485.58 L605.01 1479.7 Z\" fill=\"#000000\" fill-rule=\"nonzero\" fill-opacity=\"1\" /><path clip-path=\"url(#clip130)\" d=\"M620.218 1484.86 L620.218 1480.6 Q621.977 1481.44 623.783 1481.88 Q625.588 1482.32 627.324 1482.32 Q631.954 1482.32 634.385 1479.21 Q636.838 1476.09 637.186 1469.75 Q635.843 1471.74 633.783 1472.8 Q631.723 1473.87 629.223 1473.87 Q624.037 1473.87 621.005 1470.74 Q617.996 1467.59 617.996 1462.15 Q617.996 1456.83 621.144 1453.61 Q624.292 1450.39 629.524 1450.39 Q635.519 1450.39 638.667 1455 Q641.838 1459.58 641.838 1468.33 Q641.838 1476.51 637.949 1481.39 Q634.084 1486.25 627.533 1486.25 Q625.774 1486.25 623.968 1485.9 Q622.162 1485.56 620.218 1484.86 M629.524 1470.21 Q632.672 1470.21 634.5 1468.06 Q636.352 1465.9 636.352 1462.15 Q636.352 1458.43 634.5 1456.27 Q632.672 1454.1 629.524 1454.1 Q626.375 1454.1 624.524 1456.27 Q622.695 1458.43 622.695 1462.15 Q622.695 1465.9 624.524 1468.06 Q626.375 1470.21 629.524 1470.21 Z\" fill=\"#000000\" fill-rule=\"nonzero\" fill-opacity=\"1\" /><path clip-path=\"url(#clip130)\" d=\"M650.38 1484.86 L650.38 1480.6 Q652.139 1481.44 653.945 1481.88 Q655.75 1482.32 657.486 1482.32 Q662.116 1482.32 664.546 1479.21 Q667 1476.09 667.347 1469.75 Q666.005 1471.74 663.945 1472.8 Q661.884 1473.87 659.384 1473.87 Q654.199 1473.87 651.167 1470.74 Q648.158 1467.59 648.158 1462.15 Q648.158 1456.83 651.306 1453.61 Q654.454 1450.39 659.685 1450.39 Q665.681 1450.39 668.829 1455 Q672 1459.58 672 1468.33 Q672 1476.51 668.111 1481.39 Q664.246 1486.25 657.695 1486.25 Q655.935 1486.25 654.13 1485.9 Q652.324 1485.56 650.38 1484.86 M659.685 1470.21 Q662.834 1470.21 664.662 1468.06 Q666.514 1465.9 666.514 1462.15 Q666.514 1458.43 664.662 1456.27 Q662.834 1454.1 659.685 1454.1 Q656.537 1454.1 654.685 1456.27 Q652.857 1458.43 652.857 1462.15 Q652.857 1465.9 654.685 1468.06 Q656.537 1470.21 659.685 1470.21 Z\" fill=\"#000000\" fill-rule=\"nonzero\" fill-opacity=\"1\" /><path clip-path=\"url(#clip130)\" d=\"M690.403 1454.1 Q686.792 1454.1 684.963 1457.66 Q683.157 1461.2 683.157 1468.33 Q683.157 1475.44 684.963 1479.01 Q686.792 1482.55 690.403 1482.55 Q694.037 1482.55 695.843 1479.01 Q697.671 1475.44 697.671 1468.33 Q697.671 1461.2 695.843 1457.66 Q694.037 1454.1 690.403 1454.1 M690.403 1450.39 Q696.213 1450.39 699.269 1455 Q702.347 1459.58 702.347 1468.33 Q702.347 1477.06 699.269 1481.67 Q696.213 1486.25 690.403 1486.25 Q684.593 1486.25 681.514 1481.67 Q678.458 1477.06 678.458 1468.33 Q678.458 1459.58 681.514 1455 Q684.593 1450.39 690.403 1450.39 Z\" fill=\"#000000\" fill-rule=\"nonzero\" fill-opacity=\"1\" /><path clip-path=\"url(#clip130)\" d=\"M962.795 1454.1 Q959.184 1454.1 957.355 1457.66 Q955.55 1461.2 955.55 1468.33 Q955.55 1475.44 957.355 1479.01 Q959.184 1482.55 962.795 1482.55 Q966.429 1482.55 968.235 1479.01 Q970.064 1475.44 970.064 1468.33 Q970.064 1461.2 968.235 1457.66 Q966.429 1454.1 962.795 1454.1 M962.795 1450.39 Q968.605 1450.39 971.661 1455 Q974.739 1459.58 974.739 1468.33 Q974.739 1477.06 971.661 1481.67 Q968.605 1486.25 962.795 1486.25 Q956.985 1486.25 953.906 1481.67 Q950.851 1477.06 950.851 1468.33 Q950.851 1459.58 953.906 1455 Q956.985 1450.39 962.795 1450.39 Z\" fill=\"#000000\" fill-rule=\"nonzero\" fill-opacity=\"1\" /><path clip-path=\"url(#clip130)\" d=\"M982.957 1479.7 L987.841 1479.7 L987.841 1485.58 L982.957 1485.58 L982.957 1479.7 Z\" fill=\"#000000\" fill-rule=\"nonzero\" fill-opacity=\"1\" /><path clip-path=\"url(#clip130)\" d=\"M998.165 1484.86 L998.165 1480.6 Q999.924 1481.44 1001.73 1481.88 Q1003.54 1482.32 1005.27 1482.32 Q1009.9 1482.32 1012.33 1479.21 Q1014.79 1476.09 1015.13 1469.75 Q1013.79 1471.74 1011.73 1472.8 Q1009.67 1473.87 1007.17 1473.87 Q1001.98 1473.87 998.952 1470.74 Q995.943 1467.59 995.943 1462.15 Q995.943 1456.83 999.091 1453.61 Q1002.24 1450.39 1007.47 1450.39 Q1013.47 1450.39 1016.61 1455 Q1019.79 1459.58 1019.79 1468.33 Q1019.79 1476.51 1015.9 1481.39 Q1012.03 1486.25 1005.48 1486.25 Q1003.72 1486.25 1001.92 1485.9 Q1000.11 1485.56 998.165 1484.86 M1007.47 1470.21 Q1010.62 1470.21 1012.45 1468.06 Q1014.3 1465.9 1014.3 1462.15 Q1014.3 1458.43 1012.45 1456.27 Q1010.62 1454.1 1007.47 1454.1 Q1004.32 1454.1 1002.47 1456.27 Q1000.64 1458.43 1000.64 1462.15 Q1000.64 1465.9 1002.47 1468.06 Q1004.32 1470.21 1007.47 1470.21 Z\" fill=\"#000000\" fill-rule=\"nonzero\" fill-opacity=\"1\" /><path clip-path=\"url(#clip130)\" d=\"M1028.33 1484.86 L1028.33 1480.6 Q1030.09 1481.44 1031.89 1481.88 Q1033.7 1482.32 1035.43 1482.32 Q1040.06 1482.32 1042.49 1479.21 Q1044.95 1476.09 1045.29 1469.75 Q1043.95 1471.74 1041.89 1472.8 Q1039.83 1473.87 1037.33 1473.87 Q1032.15 1473.87 1029.11 1470.74 Q1026.1 1467.59 1026.1 1462.15 Q1026.1 1456.83 1029.25 1453.61 Q1032.4 1450.39 1037.63 1450.39 Q1043.63 1450.39 1046.78 1455 Q1049.95 1459.58 1049.95 1468.33 Q1049.95 1476.51 1046.06 1481.39 Q1042.19 1486.25 1035.64 1486.25 Q1033.88 1486.25 1032.08 1485.9 Q1030.27 1485.56 1028.33 1484.86 M1037.63 1470.21 Q1040.78 1470.21 1042.61 1468.06 Q1044.46 1465.9 1044.46 1462.15 Q1044.46 1458.43 1042.61 1456.27 Q1040.78 1454.1 1037.63 1454.1 Q1034.48 1454.1 1032.63 1456.27 Q1030.8 1458.43 1030.8 1462.15 Q1030.8 1465.9 1032.63 1468.06 Q1034.48 1470.21 1037.63 1470.21 Z\" fill=\"#000000\" fill-rule=\"nonzero\" fill-opacity=\"1\" /><path clip-path=\"url(#clip130)\" d=\"M1058.4 1451.02 L1076.75 1451.02 L1076.75 1454.96 L1062.68 1454.96 L1062.68 1463.43 Q1063.7 1463.08 1064.72 1462.92 Q1065.73 1462.73 1066.75 1462.73 Q1072.54 1462.73 1075.92 1465.9 Q1079.3 1469.08 1079.3 1474.49 Q1079.3 1480.07 1075.83 1483.17 Q1072.35 1486.25 1066.04 1486.25 Q1063.86 1486.25 1061.59 1485.88 Q1059.35 1485.51 1056.94 1484.77 L1056.94 1480.07 Q1059.02 1481.2 1061.24 1481.76 Q1063.47 1482.32 1065.94 1482.32 Q1069.95 1482.32 1072.29 1480.21 Q1074.62 1478.1 1074.62 1474.49 Q1074.62 1470.88 1072.29 1468.77 Q1069.95 1466.67 1065.94 1466.67 Q1064.07 1466.67 1062.19 1467.08 Q1060.34 1467.5 1058.4 1468.38 L1058.4 1451.02 Z\" fill=\"#000000\" fill-rule=\"nonzero\" fill-opacity=\"1\" /><path clip-path=\"url(#clip130)\" d=\"M1329.52 1481.64 L1337.15 1481.64 L1337.15 1455.28 L1328.84 1456.95 L1328.84 1452.69 L1337.11 1451.02 L1341.78 1451.02 L1341.78 1481.64 L1349.42 1481.64 L1349.42 1485.58 L1329.52 1485.58 L1329.52 1481.64 Z\" fill=\"#000000\" fill-rule=\"nonzero\" fill-opacity=\"1\" /><path clip-path=\"url(#clip130)\" d=\"M1358.87 1479.7 L1363.75 1479.7 L1363.75 1485.58 L1358.87 1485.58 L1358.87 1479.7 Z\" fill=\"#000000\" fill-rule=\"nonzero\" fill-opacity=\"1\" /><path clip-path=\"url(#clip130)\" d=\"M1383.94 1454.1 Q1380.33 1454.1 1378.5 1457.66 Q1376.69 1461.2 1376.69 1468.33 Q1376.69 1475.44 1378.5 1479.01 Q1380.33 1482.55 1383.94 1482.55 Q1387.57 1482.55 1389.38 1479.01 Q1391.2 1475.44 1391.2 1468.33 Q1391.2 1461.2 1389.38 1457.66 Q1387.57 1454.1 1383.94 1454.1 M1383.94 1450.39 Q1389.75 1450.39 1392.8 1455 Q1395.88 1459.58 1395.88 1468.33 Q1395.88 1477.06 1392.8 1481.67 Q1389.75 1486.25 1383.94 1486.25 Q1378.13 1486.25 1375.05 1481.67 Q1371.99 1477.06 1371.99 1468.33 Q1371.99 1459.58 1375.05 1455 Q1378.13 1450.39 1383.94 1450.39 Z\" fill=\"#000000\" fill-rule=\"nonzero\" fill-opacity=\"1\" /><path clip-path=\"url(#clip130)\" d=\"M1414.1 1454.1 Q1410.49 1454.1 1408.66 1457.66 Q1406.85 1461.2 1406.85 1468.33 Q1406.85 1475.44 1408.66 1479.01 Q1410.49 1482.55 1414.1 1482.55 Q1417.73 1482.55 1419.54 1479.01 Q1421.37 1475.44 1421.37 1468.33 Q1421.37 1461.2 1419.54 1457.66 Q1417.73 1454.1 1414.1 1454.1 M1414.1 1450.39 Q1419.91 1450.39 1422.96 1455 Q1426.04 1459.58 1426.04 1468.33 Q1426.04 1477.06 1422.96 1481.67 Q1419.91 1486.25 1414.1 1486.25 Q1408.29 1486.25 1405.21 1481.67 Q1402.15 1477.06 1402.15 1468.33 Q1402.15 1459.58 1405.21 1455 Q1408.29 1450.39 1414.1 1450.39 Z\" fill=\"#000000\" fill-rule=\"nonzero\" fill-opacity=\"1\" /><path clip-path=\"url(#clip130)\" d=\"M1444.26 1454.1 Q1440.65 1454.1 1438.82 1457.66 Q1437.01 1461.2 1437.01 1468.33 Q1437.01 1475.44 1438.82 1479.01 Q1440.65 1482.55 1444.26 1482.55 Q1447.89 1482.55 1449.7 1479.01 Q1451.53 1475.44 1451.53 1468.33 Q1451.53 1461.2 1449.7 1457.66 Q1447.89 1454.1 1444.26 1454.1 M1444.26 1450.39 Q1450.07 1450.39 1453.13 1455 Q1456.2 1459.58 1456.2 1468.33 Q1456.2 1477.06 1453.13 1481.67 Q1450.07 1486.25 1444.26 1486.25 Q1438.45 1486.25 1435.37 1481.67 Q1432.32 1477.06 1432.32 1468.33 Q1432.32 1459.58 1435.37 1455 Q1438.45 1450.39 1444.26 1450.39 Z\" fill=\"#000000\" fill-rule=\"nonzero\" fill-opacity=\"1\" /><path clip-path=\"url(#clip130)\" d=\"M1707.46 1481.64 L1715.1 1481.64 L1715.1 1455.28 L1706.79 1456.95 L1706.79 1452.69 L1715.06 1451.02 L1719.73 1451.02 L1719.73 1481.64 L1727.37 1481.64 L1727.37 1485.58 L1707.46 1485.58 L1707.46 1481.64 Z\" fill=\"#000000\" fill-rule=\"nonzero\" fill-opacity=\"1\" /><path clip-path=\"url(#clip130)\" d=\"M1736.81 1479.7 L1741.7 1479.7 L1741.7 1485.58 L1736.81 1485.58 L1736.81 1479.7 Z\" fill=\"#000000\" fill-rule=\"nonzero\" fill-opacity=\"1\" /><path clip-path=\"url(#clip130)\" d=\"M1761.88 1454.1 Q1758.27 1454.1 1756.44 1457.66 Q1754.64 1461.2 1754.64 1468.33 Q1754.64 1475.44 1756.44 1479.01 Q1758.27 1482.55 1761.88 1482.55 Q1765.52 1482.55 1767.32 1479.01 Q1769.15 1475.44 1769.15 1468.33 Q1769.15 1461.2 1767.32 1457.66 Q1765.52 1454.1 1761.88 1454.1 M1761.88 1450.39 Q1767.69 1450.39 1770.75 1455 Q1773.83 1459.58 1773.83 1468.33 Q1773.83 1477.06 1770.75 1481.67 Q1767.69 1486.25 1761.88 1486.25 Q1756.07 1486.25 1752.99 1481.67 Q1749.94 1477.06 1749.94 1468.33 Q1749.94 1459.58 1752.99 1455 Q1756.07 1450.39 1761.88 1450.39 Z\" fill=\"#000000\" fill-rule=\"nonzero\" fill-opacity=\"1\" /><path clip-path=\"url(#clip130)\" d=\"M1792.05 1454.1 Q1788.43 1454.1 1786.61 1457.66 Q1784.8 1461.2 1784.8 1468.33 Q1784.8 1475.44 1786.61 1479.01 Q1788.43 1482.55 1792.05 1482.55 Q1795.68 1482.55 1797.49 1479.01 Q1799.31 1475.44 1799.31 1468.33 Q1799.31 1461.2 1797.49 1457.66 Q1795.68 1454.1 1792.05 1454.1 M1792.05 1450.39 Q1797.86 1450.39 1800.91 1455 Q1803.99 1459.58 1803.99 1468.33 Q1803.99 1477.06 1800.91 1481.67 Q1797.86 1486.25 1792.05 1486.25 Q1786.24 1486.25 1783.16 1481.67 Q1780.1 1477.06 1780.1 1468.33 Q1780.1 1459.58 1783.16 1455 Q1786.24 1450.39 1792.05 1450.39 Z\" fill=\"#000000\" fill-rule=\"nonzero\" fill-opacity=\"1\" /><path clip-path=\"url(#clip130)\" d=\"M1812.25 1451.02 L1830.61 1451.02 L1830.61 1454.96 L1816.54 1454.96 L1816.54 1463.43 Q1817.55 1463.08 1818.57 1462.92 Q1819.59 1462.73 1820.61 1462.73 Q1826.4 1462.73 1829.78 1465.9 Q1833.16 1469.08 1833.16 1474.49 Q1833.16 1480.07 1829.68 1483.17 Q1826.21 1486.25 1819.89 1486.25 Q1817.72 1486.25 1815.45 1485.88 Q1813.2 1485.51 1810.8 1484.77 L1810.8 1480.07 Q1812.88 1481.2 1815.1 1481.76 Q1817.32 1482.32 1819.8 1482.32 Q1823.8 1482.32 1826.14 1480.21 Q1828.48 1478.1 1828.48 1474.49 Q1828.48 1470.88 1826.14 1468.77 Q1823.8 1466.67 1819.8 1466.67 Q1817.92 1466.67 1816.05 1467.08 Q1814.2 1467.5 1812.25 1468.38 L1812.25 1451.02 Z\" fill=\"#000000\" fill-rule=\"nonzero\" fill-opacity=\"1\" /><path clip-path=\"url(#clip130)\" d=\"M2084.41 1481.64 L2092.05 1481.64 L2092.05 1455.28 L2083.74 1456.95 L2083.74 1452.69 L2092.01 1451.02 L2096.68 1451.02 L2096.68 1481.64 L2104.32 1481.64 L2104.32 1485.58 L2084.41 1485.58 L2084.41 1481.64 Z\" fill=\"#000000\" fill-rule=\"nonzero\" fill-opacity=\"1\" /><path clip-path=\"url(#clip130)\" d=\"M2113.77 1479.7 L2118.65 1479.7 L2118.65 1485.58 L2113.77 1485.58 L2113.77 1479.7 Z\" fill=\"#000000\" fill-rule=\"nonzero\" fill-opacity=\"1\" /><path clip-path=\"url(#clip130)\" d=\"M2138.84 1454.1 Q2135.22 1454.1 2133.4 1457.66 Q2131.59 1461.2 2131.59 1468.33 Q2131.59 1475.44 2133.4 1479.01 Q2135.22 1482.55 2138.84 1482.55 Q2142.47 1482.55 2144.28 1479.01 Q2146.1 1475.44 2146.1 1468.33 Q2146.1 1461.2 2144.28 1457.66 Q2142.47 1454.1 2138.84 1454.1 M2138.84 1450.39 Q2144.65 1450.39 2147.7 1455 Q2150.78 1459.58 2150.78 1468.33 Q2150.78 1477.06 2147.7 1481.67 Q2144.65 1486.25 2138.84 1486.25 Q2133.03 1486.25 2129.95 1481.67 Q2126.89 1477.06 2126.89 1468.33 Q2126.89 1459.58 2129.95 1455 Q2133.03 1450.39 2138.84 1450.39 Z\" fill=\"#000000\" fill-rule=\"nonzero\" fill-opacity=\"1\" /><path clip-path=\"url(#clip130)\" d=\"M2159.81 1481.64 L2167.45 1481.64 L2167.45 1455.28 L2159.14 1456.95 L2159.14 1452.69 L2167.4 1451.02 L2172.08 1451.02 L2172.08 1481.64 L2179.71 1481.64 L2179.71 1485.58 L2159.81 1485.58 L2159.81 1481.64 Z\" fill=\"#000000\" fill-rule=\"nonzero\" fill-opacity=\"1\" /><path clip-path=\"url(#clip130)\" d=\"M2199.16 1454.1 Q2195.55 1454.1 2193.72 1457.66 Q2191.91 1461.2 2191.91 1468.33 Q2191.91 1475.44 2193.72 1479.01 Q2195.55 1482.55 2199.16 1482.55 Q2202.79 1482.55 2204.6 1479.01 Q2206.43 1475.44 2206.43 1468.33 Q2206.43 1461.2 2204.6 1457.66 Q2202.79 1454.1 2199.16 1454.1 M2199.16 1450.39 Q2204.97 1450.39 2208.02 1455 Q2211.1 1459.58 2211.1 1468.33 Q2211.1 1477.06 2208.02 1481.67 Q2204.97 1486.25 2199.16 1486.25 Q2193.35 1486.25 2190.27 1481.67 Q2187.21 1477.06 2187.21 1468.33 Q2187.21 1459.58 2190.27 1455 Q2193.35 1450.39 2199.16 1450.39 Z\" fill=\"#000000\" fill-rule=\"nonzero\" fill-opacity=\"1\" /><path clip-path=\"url(#clip130)\" d=\"M1409.14 1532.4 L1396.25 1549.74 L1409.81 1568.04 L1402.9 1568.04 L1392.52 1554.04 L1382.15 1568.04 L1375.24 1568.04 L1389.09 1549.39 L1376.42 1532.4 L1383.33 1532.4 L1392.78 1545.1 L1402.23 1532.4 L1409.14 1532.4 Z\" fill=\"#000000\" fill-rule=\"nonzero\" fill-opacity=\"1\" /><polyline clip-path=\"url(#clip132)\" style=\"stroke:#000000; stroke-linecap:round; stroke-linejoin:round; stroke-width:2; stroke-opacity:0.1; fill:none\" points=\"432.293,1122.33 2352.76,1122.33 \"/>\n",
       "<polyline clip-path=\"url(#clip132)\" style=\"stroke:#000000; stroke-linecap:round; stroke-linejoin:round; stroke-width:2; stroke-opacity:0.1; fill:none\" points=\"432.293,791.465 2352.76,791.465 \"/>\n",
       "<polyline clip-path=\"url(#clip132)\" style=\"stroke:#000000; stroke-linecap:round; stroke-linejoin:round; stroke-width:2; stroke-opacity:0.1; fill:none\" points=\"432.293,460.601 2352.76,460.601 \"/>\n",
       "<polyline clip-path=\"url(#clip132)\" style=\"stroke:#000000; stroke-linecap:round; stroke-linejoin:round; stroke-width:2; stroke-opacity:0.1; fill:none\" points=\"432.293,129.737 2352.76,129.737 \"/>\n",
       "<polyline clip-path=\"url(#clip130)\" style=\"stroke:#000000; stroke-linecap:round; stroke-linejoin:round; stroke-width:4; stroke-opacity:1; fill:none\" points=\"432.293,1423.18 432.293,47.2441 \"/>\n",
       "<polyline clip-path=\"url(#clip130)\" style=\"stroke:#000000; stroke-linecap:round; stroke-linejoin:round; stroke-width:4; stroke-opacity:1; fill:none\" points=\"432.293,1122.33 451.19,1122.33 \"/>\n",
       "<polyline clip-path=\"url(#clip130)\" style=\"stroke:#000000; stroke-linecap:round; stroke-linejoin:round; stroke-width:4; stroke-opacity:1; fill:none\" points=\"432.293,791.465 451.19,791.465 \"/>\n",
       "<polyline clip-path=\"url(#clip130)\" style=\"stroke:#000000; stroke-linecap:round; stroke-linejoin:round; stroke-width:4; stroke-opacity:1; fill:none\" points=\"432.293,460.601 451.19,460.601 \"/>\n",
       "<polyline clip-path=\"url(#clip130)\" style=\"stroke:#000000; stroke-linecap:round; stroke-linejoin:round; stroke-width:4; stroke-opacity:1; fill:none\" points=\"432.293,129.737 451.19,129.737 \"/>\n",
       "<path clip-path=\"url(#clip130)\" d=\"M114.26 1129.23 L143.936 1129.23 L143.936 1133.16 L114.26 1133.16 L114.26 1129.23 Z\" fill=\"#000000\" fill-rule=\"nonzero\" fill-opacity=\"1\" /><path clip-path=\"url(#clip130)\" d=\"M158.056 1142.12 L174.376 1142.12 L174.376 1146.06 L152.431 1146.06 L152.431 1142.12 Q155.093 1139.37 159.677 1134.74 Q164.283 1130.08 165.464 1128.74 Q167.709 1126.22 168.589 1124.48 Q169.491 1122.72 169.491 1121.03 Q169.491 1118.28 167.547 1116.54 Q165.626 1114.81 162.524 1114.81 Q160.325 1114.81 157.871 1115.57 Q155.44 1116.33 152.663 1117.89 L152.663 1113.16 Q155.487 1112.03 157.94 1111.45 Q160.394 1110.87 162.431 1110.87 Q167.802 1110.87 170.996 1113.56 Q174.19 1116.24 174.19 1120.73 Q174.19 1122.86 173.38 1124.78 Q172.593 1126.68 170.487 1129.27 Q169.908 1129.95 166.806 1133.16 Q163.704 1136.36 158.056 1142.12 Z\" fill=\"#000000\" fill-rule=\"nonzero\" fill-opacity=\"1\" /><path clip-path=\"url(#clip130)\" d=\"M184.19 1140.18 L189.075 1140.18 L189.075 1146.06 L184.19 1146.06 L184.19 1140.18 Z\" fill=\"#000000\" fill-rule=\"nonzero\" fill-opacity=\"1\" /><path clip-path=\"url(#clip130)\" d=\"M209.26 1114.58 Q205.649 1114.58 203.82 1118.14 Q202.014 1121.68 202.014 1128.81 Q202.014 1135.92 203.82 1139.48 Q205.649 1143.02 209.26 1143.02 Q212.894 1143.02 214.699 1139.48 Q216.528 1135.92 216.528 1128.81 Q216.528 1121.68 214.699 1118.14 Q212.894 1114.58 209.26 1114.58 M209.26 1110.87 Q215.07 1110.87 218.125 1115.48 Q221.204 1120.06 221.204 1128.81 Q221.204 1137.54 218.125 1142.14 Q215.07 1146.73 209.26 1146.73 Q203.449 1146.73 200.371 1142.14 Q197.315 1137.54 197.315 1128.81 Q197.315 1120.06 200.371 1115.48 Q203.449 1110.87 209.26 1110.87 Z\" fill=\"#000000\" fill-rule=\"nonzero\" fill-opacity=\"1\" /><path clip-path=\"url(#clip130)\" d=\"M257.593 1120.59 L247.014 1131.22 L257.593 1141.8 L254.838 1144.6 L244.213 1133.97 L233.588 1144.6 L230.857 1141.8 L241.412 1131.22 L230.857 1120.59 L233.588 1117.79 L244.213 1128.42 L254.838 1117.79 L257.593 1120.59 Z\" fill=\"#000000\" fill-rule=\"nonzero\" fill-opacity=\"1\" /><path clip-path=\"url(#clip130)\" d=\"M269.954 1142.12 L277.593 1142.12 L277.593 1115.76 L269.282 1117.42 L269.282 1113.16 L277.546 1111.5 L282.222 1111.5 L282.222 1142.12 L289.861 1142.12 L289.861 1146.06 L269.954 1146.06 L269.954 1142.12 Z\" fill=\"#000000\" fill-rule=\"nonzero\" fill-opacity=\"1\" /><path clip-path=\"url(#clip130)\" d=\"M309.305 1114.58 Q305.694 1114.58 303.866 1118.14 Q302.06 1121.68 302.06 1128.81 Q302.06 1135.92 303.866 1139.48 Q305.694 1143.02 309.305 1143.02 Q312.94 1143.02 314.745 1139.48 Q316.574 1135.92 316.574 1128.81 Q316.574 1121.68 314.745 1118.14 Q312.94 1114.58 309.305 1114.58 M309.305 1110.87 Q315.116 1110.87 318.171 1115.48 Q321.25 1120.06 321.25 1128.81 Q321.25 1137.54 318.171 1142.14 Q315.116 1146.73 309.305 1146.73 Q303.495 1146.73 300.417 1142.14 Q297.361 1137.54 297.361 1128.81 Q297.361 1120.06 300.417 1115.48 Q303.495 1110.87 309.305 1110.87 Z\" fill=\"#000000\" fill-rule=\"nonzero\" fill-opacity=\"1\" /><path clip-path=\"url(#clip130)\" d=\"M321.25 1104.97 L345.361 1104.97 L345.361 1108.17 L321.25 1108.17 L321.25 1104.97 Z\" fill=\"#000000\" fill-rule=\"nonzero\" fill-opacity=\"1\" /><path clip-path=\"url(#clip130)\" d=\"M354.22 1115.45 L360.426 1115.45 L360.426 1094.03 L353.674 1095.38 L353.674 1091.92 L360.389 1090.57 L364.188 1090.57 L364.188 1115.45 L370.394 1115.45 L370.394 1118.65 L354.22 1118.65 L354.22 1115.45 Z\" fill=\"#000000\" fill-rule=\"nonzero\" fill-opacity=\"1\" /><path clip-path=\"url(#clip130)\" d=\"M388.506 1093.88 L378.914 1108.87 L388.506 1108.87 L388.506 1093.88 M387.51 1090.57 L392.287 1090.57 L392.287 1108.87 L396.293 1108.87 L396.293 1112.03 L392.287 1112.03 L392.287 1118.65 L388.506 1118.65 L388.506 1112.03 L375.83 1112.03 L375.83 1108.36 L387.51 1090.57 Z\" fill=\"#000000\" fill-rule=\"nonzero\" fill-opacity=\"1\" /><path clip-path=\"url(#clip130)\" d=\"M384.348 777.264 Q380.737 777.264 378.909 780.829 Q377.103 784.37 377.103 791.5 Q377.103 798.606 378.909 802.171 Q380.737 805.713 384.348 805.713 Q387.983 805.713 389.788 802.171 Q391.617 798.606 391.617 791.5 Q391.617 784.37 389.788 780.829 Q387.983 777.264 384.348 777.264 M384.348 773.56 Q390.159 773.56 393.214 778.167 Q396.293 782.75 396.293 791.5 Q396.293 800.227 393.214 804.833 Q390.159 809.416 384.348 809.416 Q378.538 809.416 375.46 804.833 Q372.404 800.227 372.404 791.5 Q372.404 782.75 375.46 778.167 Q378.538 773.56 384.348 773.56 Z\" fill=\"#000000\" fill-rule=\"nonzero\" fill-opacity=\"1\" /><path clip-path=\"url(#clip130)\" d=\"M158.056 480.393 L174.376 480.393 L174.376 484.329 L152.431 484.329 L152.431 480.393 Q155.093 477.639 159.677 473.009 Q164.283 468.356 165.464 467.014 Q167.709 464.491 168.589 462.755 Q169.491 460.995 169.491 459.306 Q169.491 456.551 167.547 454.815 Q165.626 453.079 162.524 453.079 Q160.325 453.079 157.871 453.843 Q155.44 454.606 152.663 456.157 L152.663 451.435 Q155.487 450.301 157.94 449.722 Q160.394 449.144 162.431 449.144 Q167.802 449.144 170.996 451.829 Q174.19 454.514 174.19 459.005 Q174.19 461.134 173.38 463.056 Q172.593 464.954 170.487 467.546 Q169.908 468.218 166.806 471.435 Q163.704 474.63 158.056 480.393 Z\" fill=\"#000000\" fill-rule=\"nonzero\" fill-opacity=\"1\" /><path clip-path=\"url(#clip130)\" d=\"M184.19 478.449 L189.075 478.449 L189.075 484.329 L184.19 484.329 L184.19 478.449 Z\" fill=\"#000000\" fill-rule=\"nonzero\" fill-opacity=\"1\" /><path clip-path=\"url(#clip130)\" d=\"M209.26 452.847 Q205.649 452.847 203.82 456.412 Q202.014 459.954 202.014 467.083 Q202.014 474.19 203.82 477.754 Q205.649 481.296 209.26 481.296 Q212.894 481.296 214.699 477.754 Q216.528 474.19 216.528 467.083 Q216.528 459.954 214.699 456.412 Q212.894 452.847 209.26 452.847 M209.26 449.144 Q215.07 449.144 218.125 453.75 Q221.204 458.333 221.204 467.083 Q221.204 475.81 218.125 480.417 Q215.07 485 209.26 485 Q203.449 485 200.371 480.417 Q197.315 475.81 197.315 467.083 Q197.315 458.333 200.371 453.75 Q203.449 449.144 209.26 449.144 Z\" fill=\"#000000\" fill-rule=\"nonzero\" fill-opacity=\"1\" /><path clip-path=\"url(#clip130)\" d=\"M257.593 458.866 L247.014 469.491 L257.593 480.069 L254.838 482.87 L244.213 472.245 L233.588 482.87 L230.857 480.069 L241.412 469.491 L230.857 458.866 L233.588 456.065 L244.213 466.69 L254.838 456.065 L257.593 458.866 Z\" fill=\"#000000\" fill-rule=\"nonzero\" fill-opacity=\"1\" /><path clip-path=\"url(#clip130)\" d=\"M269.954 480.393 L277.593 480.393 L277.593 454.028 L269.282 455.694 L269.282 451.435 L277.546 449.769 L282.222 449.769 L282.222 480.393 L289.861 480.393 L289.861 484.329 L269.954 484.329 L269.954 480.393 Z\" fill=\"#000000\" fill-rule=\"nonzero\" fill-opacity=\"1\" /><path clip-path=\"url(#clip130)\" d=\"M309.305 452.847 Q305.694 452.847 303.866 456.412 Q302.06 459.954 302.06 467.083 Q302.06 474.19 303.866 477.754 Q305.694 481.296 309.305 481.296 Q312.94 481.296 314.745 477.754 Q316.574 474.19 316.574 467.083 Q316.574 459.954 314.745 456.412 Q312.94 452.847 309.305 452.847 M309.305 449.144 Q315.116 449.144 318.171 453.75 Q321.25 458.333 321.25 467.083 Q321.25 475.81 318.171 480.417 Q315.116 485 309.305 485 Q303.495 485 300.417 480.417 Q297.361 475.81 297.361 467.083 Q297.361 458.333 300.417 453.75 Q303.495 449.144 309.305 449.144 Z\" fill=\"#000000\" fill-rule=\"nonzero\" fill-opacity=\"1\" /><path clip-path=\"url(#clip130)\" d=\"M321.25 443.245 L345.361 443.245 L345.361 446.442 L321.25 446.442 L321.25 443.245 Z\" fill=\"#000000\" fill-rule=\"nonzero\" fill-opacity=\"1\" /><path clip-path=\"url(#clip130)\" d=\"M354.22 453.721 L360.426 453.721 L360.426 432.299 L353.674 433.653 L353.674 430.192 L360.389 428.838 L364.188 428.838 L364.188 453.721 L370.394 453.721 L370.394 456.918 L354.22 456.918 L354.22 453.721 Z\" fill=\"#000000\" fill-rule=\"nonzero\" fill-opacity=\"1\" /><path clip-path=\"url(#clip130)\" d=\"M388.506 432.148 L378.914 447.138 L388.506 447.138 L388.506 432.148 M387.51 428.838 L392.287 428.838 L392.287 447.138 L396.293 447.138 L396.293 450.298 L392.287 450.298 L392.287 456.918 L388.506 456.918 L388.506 450.298 L375.83 450.298 L375.83 446.63 L387.51 428.838 Z\" fill=\"#000000\" fill-rule=\"nonzero\" fill-opacity=\"1\" /><path clip-path=\"url(#clip130)\" d=\"M166.876 122.978 L155.07 141.427 L166.876 141.427 L166.876 122.978 M165.649 118.904 L171.528 118.904 L171.528 141.427 L176.459 141.427 L176.459 145.316 L171.528 145.316 L171.528 153.464 L166.876 153.464 L166.876 145.316 L151.274 145.316 L151.274 140.802 L165.649 118.904 Z\" fill=\"#000000\" fill-rule=\"nonzero\" fill-opacity=\"1\" /><path clip-path=\"url(#clip130)\" d=\"M184.19 147.585 L189.075 147.585 L189.075 153.464 L184.19 153.464 L184.19 147.585 Z\" fill=\"#000000\" fill-rule=\"nonzero\" fill-opacity=\"1\" /><path clip-path=\"url(#clip130)\" d=\"M209.26 121.983 Q205.649 121.983 203.82 125.548 Q202.014 129.089 202.014 136.219 Q202.014 143.325 203.82 146.89 Q205.649 150.432 209.26 150.432 Q212.894 150.432 214.699 146.89 Q216.528 143.325 216.528 136.219 Q216.528 129.089 214.699 125.548 Q212.894 121.983 209.26 121.983 M209.26 118.279 Q215.07 118.279 218.125 122.886 Q221.204 127.469 221.204 136.219 Q221.204 144.946 218.125 149.552 Q215.07 154.136 209.26 154.136 Q203.449 154.136 200.371 149.552 Q197.315 144.946 197.315 136.219 Q197.315 127.469 200.371 122.886 Q203.449 118.279 209.26 118.279 Z\" fill=\"#000000\" fill-rule=\"nonzero\" fill-opacity=\"1\" /><path clip-path=\"url(#clip130)\" d=\"M257.593 128.002 L247.014 138.626 L257.593 149.205 L254.838 152.006 L244.213 141.381 L233.588 152.006 L230.857 149.205 L241.412 138.626 L230.857 128.002 L233.588 125.201 L244.213 135.826 L254.838 125.201 L257.593 128.002 Z\" fill=\"#000000\" fill-rule=\"nonzero\" fill-opacity=\"1\" /><path clip-path=\"url(#clip130)\" d=\"M269.954 149.529 L277.593 149.529 L277.593 123.164 L269.282 124.83 L269.282 120.571 L277.546 118.904 L282.222 118.904 L282.222 149.529 L289.861 149.529 L289.861 153.464 L269.954 153.464 L269.954 149.529 Z\" fill=\"#000000\" fill-rule=\"nonzero\" fill-opacity=\"1\" /><path clip-path=\"url(#clip130)\" d=\"M309.305 121.983 Q305.694 121.983 303.866 125.548 Q302.06 129.089 302.06 136.219 Q302.06 143.325 303.866 146.89 Q305.694 150.432 309.305 150.432 Q312.94 150.432 314.745 146.89 Q316.574 143.325 316.574 136.219 Q316.574 129.089 314.745 125.548 Q312.94 121.983 309.305 121.983 M309.305 118.279 Q315.116 118.279 318.171 122.886 Q321.25 127.469 321.25 136.219 Q321.25 144.946 318.171 149.552 Q315.116 154.136 309.305 154.136 Q303.495 154.136 300.417 149.552 Q297.361 144.946 297.361 136.219 Q297.361 127.469 300.417 122.886 Q303.495 118.279 309.305 118.279 Z\" fill=\"#000000\" fill-rule=\"nonzero\" fill-opacity=\"1\" /><path clip-path=\"url(#clip130)\" d=\"M321.25 112.381 L345.361 112.381 L345.361 115.578 L321.25 115.578 L321.25 112.381 Z\" fill=\"#000000\" fill-rule=\"nonzero\" fill-opacity=\"1\" /><path clip-path=\"url(#clip130)\" d=\"M354.22 122.857 L360.426 122.857 L360.426 101.435 L353.674 102.789 L353.674 99.3281 L360.389 97.9739 L364.188 97.9739 L364.188 122.857 L370.394 122.857 L370.394 126.054 L354.22 126.054 L354.22 122.857 Z\" fill=\"#000000\" fill-rule=\"nonzero\" fill-opacity=\"1\" /><path clip-path=\"url(#clip130)\" d=\"M388.506 101.284 L378.914 116.274 L388.506 116.274 L388.506 101.284 M387.51 97.9739 L392.287 97.9739 L392.287 116.274 L396.293 116.274 L396.293 119.434 L392.287 119.434 L392.287 126.054 L388.506 126.054 L388.506 119.434 L375.83 119.434 L375.83 115.766 L387.51 97.9739 Z\" fill=\"#000000\" fill-rule=\"nonzero\" fill-opacity=\"1\" /><path clip-path=\"url(#clip130)\" d=\"M67.3143 733.525 Q73.68 736.008 75.6216 738.363 Q77.5631 740.718 77.5631 744.665 L77.5631 749.344 L72.6615 749.344 L72.6615 745.906 Q72.6615 743.487 71.5157 742.151 Q70.3699 740.814 66.1048 739.191 L63.4312 738.14 L28.3562 752.559 L28.3562 746.352 L56.238 735.212 L28.3562 724.072 L28.3562 717.865 L67.3143 733.525 Z\" fill=\"#000000\" fill-rule=\"nonzero\" fill-opacity=\"1\" /><polyline clip-path=\"url(#clip132)\" style=\"stroke:#009af9; stroke-linecap:round; stroke-linejoin:round; stroke-width:4; stroke-opacity:1; fill:none\" points=\"486.646,1379.2 504.946,1246.96 523.247,1305.73 541.547,1173.49 559.848,1100.02 578.148,1026.56 596.449,953.092 614.75,997.172 633.05,923.705 651.351,850.238 669.651,953.092 687.952,997.172 706.253,806.158 724.553,850.238 742.854,835.545 761.154,820.852 779.455,864.932 797.755,732.692 816.056,791.465 834.357,835.545 852.657,879.625 870.958,806.158 889.258,732.692 907.559,835.545 925.859,820.852 944.16,806.158 962.461,732.692 980.761,894.318 999.062,820.852 1017.36,806.158 1035.66,732.692 1053.96,894.318 1072.26,762.078 1090.56,806.158 1108.87,806.158 1127.17,673.919 1145.47,835.545 1163.77,762.078 1182.07,688.612 1200.37,673.919 1218.67,776.772 1236.97,703.305 1255.27,923.705 1273.57,850.238 1291.87,717.999 1310.17,703.305 1328.47,747.385 1346.77,732.692 1365.07,717.999 1383.37,762.078 1401.67,820.852 1419.98,688.612 1438.28,732.692 1456.58,717.999 1474.88,879.625 1493.18,806.158 1511.48,909.012 1529.78,835.545 1548.08,762.078 1566.38,747.385 1584.68,732.692 1602.98,835.545 1621.28,820.852 1639.58,688.612 1657.88,791.465 1676.18,835.545 1694.48,835.545 1712.78,879.625 1731.09,806.158 1749.39,732.692 1767.69,894.318 1785.99,879.625 1804.29,747.385 1822.59,850.238 1840.89,776.772 1859.19,879.625 1877.49,747.385 1895.79,850.238 1914.09,659.225 1932.39,938.398 1950.69,688.612 1968.99,791.465 1987.29,791.465 2005.59,717.999 2023.89,644.532 2042.2,688.612 2060.5,673.919 2078.8,717.999 2097.1,703.305 2115.4,688.612 2133.7,615.145 2152,659.225 2170.3,644.532 2188.6,629.839 2206.9,438.825 2225.2,541.679 2243.5,409.439 2261.8,335.972 2280.1,277.199 2298.4,86.1857 \"/>\n",
       "<polyline clip-path=\"url(#clip132)\" style=\"stroke:#e26f46; stroke-linecap:round; stroke-linejoin:round; stroke-width:4; stroke-opacity:1; fill:none\" points=\"486.646,1384.24 504.946,1305.32 523.247,1235.59 541.547,1174.13 559.848,1120.11 578.148,1072.77 596.449,1031.39 614.75,995.345 633.05,964.044 651.351,936.957 669.651,913.598 687.952,893.53 706.253,876.358 724.553,861.724 742.854,849.308 761.154,838.822 779.455,830.01 797.755,822.642 816.056,816.516 834.357,811.452 852.657,807.292 870.958,803.898 889.258,801.147 907.559,798.936 925.859,797.172 944.16,795.778 962.461,794.687 980.761,793.842 999.062,793.194 1017.36,792.704 1035.66,792.338 1053.96,792.069 1072.26,791.874 1090.56,791.736 1108.87,791.64 1127.17,791.575 1145.47,791.532 1163.77,791.504 1182.07,791.487 1200.37,791.477 1218.67,791.471 1236.97,791.468 1255.27,791.466 1273.57,791.466 1291.87,791.465 1310.17,791.465 1328.47,791.465 1346.77,791.465 1365.07,791.465 1383.37,791.465 1401.67,791.465 1419.98,791.465 1438.28,791.465 1456.58,791.465 1474.88,791.465 1493.18,791.465 1511.48,791.465 1529.78,791.464 1548.08,791.463 1566.38,791.459 1584.68,791.454 1602.98,791.443 1621.28,791.426 1639.58,791.399 1657.88,791.355 1676.18,791.29 1694.48,791.194 1712.78,791.056 1731.09,790.861 1749.39,790.592 1767.69,790.227 1785.99,789.736 1804.29,789.089 1822.59,788.243 1840.89,787.152 1859.19,785.758 1877.49,783.994 1895.79,781.783 1914.09,779.032 1932.39,775.638 1950.69,771.478 1968.99,766.414 1987.29,760.288 2005.59,752.92 2023.89,744.108 2042.2,733.622 2060.5,721.206 2078.8,706.572 2097.1,689.4 2115.4,669.332 2133.7,645.974 2152,618.886 2170.3,587.585 2188.6,551.539 2206.9,510.164 2225.2,462.816 2243.5,408.797 2261.8,347.338 2280.1,277.606 2298.4,198.692 \"/>\n",
       "<path clip-path=\"url(#clip130)\" d=\"M496.308 248.629 L2126.52 248.629 L2126.52 93.1086 L496.308 93.1086  Z\" fill=\"#ffffff\" fill-rule=\"evenodd\" fill-opacity=\"1\"/>\n",
       "<polyline clip-path=\"url(#clip130)\" style=\"stroke:#000000; stroke-linecap:round; stroke-linejoin:round; stroke-width:4; stroke-opacity:1; fill:none\" points=\"496.308,248.629 2126.52,248.629 2126.52,93.1086 496.308,93.1086 496.308,248.629 \"/>\n",
       "<polyline clip-path=\"url(#clip130)\" style=\"stroke:#009af9; stroke-linecap:round; stroke-linejoin:round; stroke-width:4; stroke-opacity:1; fill:none\" points=\"517.647,144.949 645.678,144.949 \"/>\n",
       "<path clip-path=\"url(#clip130)\" d=\"M680.859 164.636 Q679.053 169.266 677.34 170.678 Q675.627 172.09 672.757 172.09 L669.354 172.09 L669.354 168.525 L671.854 168.525 Q673.613 168.525 674.585 167.692 Q675.558 166.858 676.738 163.756 L677.502 161.812 L667.016 136.303 L671.53 136.303 L679.632 156.581 L687.734 136.303 L692.247 136.303 L680.859 164.636 Z\" fill=\"#000000\" fill-rule=\"nonzero\" fill-opacity=\"1\" /><path clip-path=\"url(#clip130)\" d=\"M713.752 140.701 L743.428 140.701 L743.428 144.59 L713.752 144.59 L713.752 140.701 M713.752 150.145 L743.428 150.145 L743.428 154.081 L713.752 154.081 L713.752 150.145 Z\" fill=\"#000000\" fill-rule=\"nonzero\" fill-opacity=\"1\" /><path clip-path=\"url(#clip130)\" d=\"M789.539 136.303 L780.164 148.919 L790.025 162.229 L785.002 162.229 L777.455 152.043 L769.909 162.229 L764.886 162.229 L774.955 148.664 L765.742 136.303 L770.766 136.303 L777.64 145.539 L784.515 136.303 L789.539 136.303 Z\" fill=\"#000000\" fill-rule=\"nonzero\" fill-opacity=\"1\" /><path clip-path=\"url(#clip130)\" d=\"M813.705 127.669 L826.274 140.562 L821.622 140.562 L811.437 131.419 L801.251 140.562 L796.599 140.562 L809.168 127.669 L813.705 127.669 Z\" fill=\"#000000\" fill-rule=\"nonzero\" fill-opacity=\"1\" /><path clip-path=\"url(#clip130)\" d=\"M835.186 127.669 L857.409 127.669 L857.409 129.659 L844.862 162.229 L839.978 162.229 L851.784 131.604 L835.186 131.604 L835.186 127.669 Z\" fill=\"#000000\" fill-rule=\"nonzero\" fill-opacity=\"1\" /><path clip-path=\"url(#clip130)\" d=\"M878.844 147.344 L891.32 147.344 L891.32 151.141 L878.844 151.141 L878.844 147.344 Z\" fill=\"#000000\" fill-rule=\"nonzero\" fill-opacity=\"1\" /><path clip-path=\"url(#clip130)\" d=\"M912.593 127.669 L934.816 127.669 L934.816 129.659 L922.269 162.229 L917.385 162.229 L929.191 131.604 L912.593 131.604 L912.593 127.669 Z\" fill=\"#000000\" fill-rule=\"nonzero\" fill-opacity=\"1\" /><path clip-path=\"url(#clip130)\" d=\"M964.885 136.303 L955.51 148.919 L965.371 162.229 L960.348 162.229 L952.802 152.043 L945.255 162.229 L940.232 162.229 L950.302 148.664 L941.089 136.303 L946.112 136.303 L952.987 145.539 L959.862 136.303 L964.885 136.303 Z\" fill=\"#000000\" fill-rule=\"nonzero\" fill-opacity=\"1\" /><path clip-path=\"url(#clip130)\" d=\"M989.051 127.669 L1001.62 140.562 L996.968 140.562 L986.783 131.419 L976.598 140.562 L971.945 140.562 L984.514 127.669 L989.051 127.669 Z\" fill=\"#000000\" fill-rule=\"nonzero\" fill-opacity=\"1\" /><path clip-path=\"url(#clip130)\" d=\"M1022.29 143.085 Q1019.14 143.085 1017.29 145.238 Q1015.46 147.391 1015.46 151.141 Q1015.46 154.868 1017.29 157.043 Q1019.14 159.196 1022.29 159.196 Q1025.44 159.196 1027.27 157.043 Q1029.12 154.868 1029.12 151.141 Q1029.12 147.391 1027.27 145.238 Q1025.44 143.085 1022.29 143.085 M1031.57 128.433 L1031.57 132.692 Q1029.82 131.858 1028.01 131.419 Q1026.23 130.979 1024.47 130.979 Q1019.84 130.979 1017.38 134.104 Q1014.95 137.229 1014.61 143.548 Q1015.97 141.534 1018.03 140.469 Q1020.09 139.382 1022.57 139.382 Q1027.78 139.382 1030.79 142.553 Q1033.82 145.701 1033.82 151.141 Q1033.82 156.465 1030.67 159.682 Q1027.52 162.9 1022.29 162.9 Q1016.3 162.9 1013.13 158.317 Q1009.95 153.71 1009.95 144.983 Q1009.95 136.789 1013.84 131.928 Q1017.73 127.044 1024.28 127.044 Q1026.04 127.044 1027.82 127.391 Q1029.63 127.738 1031.57 128.433 Z\" fill=\"#000000\" fill-rule=\"nonzero\" fill-opacity=\"1\" /><path clip-path=\"url(#clip130)\" d=\"M1073.68 132.507 L1073.68 145.4 L1086.57 145.4 L1086.57 149.335 L1073.68 149.335 L1073.68 162.229 L1069.79 162.229 L1069.79 149.335 L1056.9 149.335 L1056.9 145.4 L1069.79 145.4 L1069.79 132.507 L1073.68 132.507 Z\" fill=\"#000000\" fill-rule=\"nonzero\" fill-opacity=\"1\" /><path clip-path=\"url(#clip130)\" d=\"M1115.76 158.293 L1132.08 158.293 L1132.08 162.229 L1110.14 162.229 L1110.14 158.293 Q1112.8 155.539 1117.38 150.909 Q1121.99 146.256 1123.17 144.914 Q1125.42 142.391 1126.3 140.655 Q1127.2 138.895 1127.2 137.206 Q1127.2 134.451 1125.25 132.715 Q1123.33 130.979 1120.23 130.979 Q1118.03 130.979 1115.58 131.743 Q1113.15 132.507 1110.37 134.057 L1110.37 129.335 Q1113.19 128.201 1115.65 127.622 Q1118.1 127.044 1120.14 127.044 Q1125.51 127.044 1128.7 129.729 Q1131.9 132.414 1131.9 136.905 Q1131.9 139.034 1131.09 140.956 Q1130.3 142.854 1128.19 145.446 Q1127.62 146.118 1124.51 149.335 Q1121.41 152.53 1115.76 158.293 Z\" fill=\"#000000\" fill-rule=\"nonzero\" fill-opacity=\"1\" /><path clip-path=\"url(#clip130)\" d=\"M1142.71 158.293 L1150.35 158.293 L1150.35 131.928 L1142.04 133.595 L1142.04 129.335 L1150.3 127.669 L1154.98 127.669 L1154.98 158.293 L1162.62 158.293 L1162.62 162.229 L1142.71 162.229 L1142.71 158.293 Z\" fill=\"#000000\" fill-rule=\"nonzero\" fill-opacity=\"1\" /><path clip-path=\"url(#clip130)\" d=\"M1193.01 136.303 L1183.63 148.919 L1193.49 162.229 L1188.47 162.229 L1180.93 152.043 L1173.38 162.229 L1168.36 162.229 L1178.43 148.664 L1169.21 136.303 L1174.24 136.303 L1181.11 145.539 L1187.99 136.303 L1193.01 136.303 Z\" fill=\"#000000\" fill-rule=\"nonzero\" fill-opacity=\"1\" /><path clip-path=\"url(#clip130)\" d=\"M1217.18 127.669 L1229.74 140.562 L1225.09 140.562 L1214.91 131.419 L1204.72 140.562 L1200.07 140.562 L1212.64 127.669 L1217.18 127.669 Z\" fill=\"#000000\" fill-rule=\"nonzero\" fill-opacity=\"1\" /><path clip-path=\"url(#clip130)\" d=\"M1239.88 127.669 L1258.24 127.669 L1258.24 131.604 L1244.17 131.604 L1244.17 140.076 Q1245.18 139.729 1246.2 139.567 Q1247.22 139.382 1248.24 139.382 Q1254.03 139.382 1257.41 142.553 Q1260.79 145.724 1260.79 151.141 Q1260.79 156.719 1257.31 159.821 Q1253.84 162.9 1247.52 162.9 Q1245.35 162.9 1243.08 162.53 Q1240.83 162.159 1238.43 161.418 L1238.43 156.719 Q1240.51 157.854 1242.73 158.409 Q1244.95 158.965 1247.43 158.965 Q1251.43 158.965 1253.77 156.858 Q1256.11 154.752 1256.11 151.141 Q1256.11 147.53 1253.77 145.423 Q1251.43 143.317 1247.43 143.317 Q1245.55 143.317 1243.68 143.733 Q1241.83 144.15 1239.88 145.03 L1239.88 127.669 Z\" fill=\"#000000\" fill-rule=\"nonzero\" fill-opacity=\"1\" /><path clip-path=\"url(#clip130)\" d=\"M1282.31 147.344 L1294.79 147.344 L1294.79 151.141 L1282.31 151.141 L1282.31 147.344 Z\" fill=\"#000000\" fill-rule=\"nonzero\" fill-opacity=\"1\" /><path clip-path=\"url(#clip130)\" d=\"M1331.41 143.594 Q1334.77 144.312 1336.64 146.581 Q1338.54 148.849 1338.54 152.182 Q1338.54 157.298 1335.02 160.099 Q1331.5 162.9 1325.02 162.9 Q1322.85 162.9 1320.53 162.46 Q1318.24 162.043 1315.79 161.187 L1315.79 156.673 Q1317.73 157.807 1320.04 158.386 Q1322.36 158.965 1324.88 158.965 Q1329.28 158.965 1331.57 157.229 Q1333.89 155.493 1333.89 152.182 Q1333.89 149.127 1331.73 147.414 Q1329.61 145.678 1325.79 145.678 L1321.76 145.678 L1321.76 141.835 L1325.97 141.835 Q1329.42 141.835 1331.25 140.469 Q1333.08 139.081 1333.08 136.488 Q1333.08 133.826 1331.18 132.414 Q1329.3 130.979 1325.79 130.979 Q1323.86 130.979 1321.67 131.395 Q1319.47 131.812 1316.83 132.692 L1316.83 128.525 Q1319.49 127.784 1321.8 127.414 Q1324.14 127.044 1326.2 127.044 Q1331.53 127.044 1334.63 129.474 Q1337.73 131.882 1337.73 136.002 Q1337.73 138.872 1336.09 140.863 Q1334.44 142.831 1331.41 143.594 Z\" fill=\"#000000\" fill-rule=\"nonzero\" fill-opacity=\"1\" /><path clip-path=\"url(#clip130)\" d=\"M1347.45 127.669 L1365.81 127.669 L1365.81 131.604 L1351.73 131.604 L1351.73 140.076 Q1352.75 139.729 1353.77 139.567 Q1354.79 139.382 1355.81 139.382 Q1361.6 139.382 1364.98 142.553 Q1368.35 145.724 1368.35 151.141 Q1368.35 156.719 1364.88 159.821 Q1361.41 162.9 1355.09 162.9 Q1352.92 162.9 1350.65 162.53 Q1348.4 162.159 1345.99 161.418 L1345.99 156.719 Q1348.08 157.854 1350.3 158.409 Q1352.52 158.965 1355 158.965 Q1359 158.965 1361.34 156.858 Q1363.68 154.752 1363.68 151.141 Q1363.68 147.53 1361.34 145.423 Q1359 143.317 1355 143.317 Q1353.12 143.317 1351.25 143.733 Q1349.4 144.15 1347.45 145.03 L1347.45 127.669 Z\" fill=\"#000000\" fill-rule=\"nonzero\" fill-opacity=\"1\" /><path clip-path=\"url(#clip130)\" d=\"M1398.52 136.303 L1389.14 148.919 L1399 162.229 L1393.98 162.229 L1386.43 152.043 L1378.89 162.229 L1373.86 162.229 L1383.93 148.664 L1374.72 136.303 L1379.74 136.303 L1386.62 145.539 L1393.49 136.303 L1398.52 136.303 Z\" fill=\"#000000\" fill-rule=\"nonzero\" fill-opacity=\"1\" /><path clip-path=\"url(#clip130)\" d=\"M1422.68 127.669 L1435.25 140.562 L1430.6 140.562 L1420.41 131.419 L1410.23 140.562 L1405.58 140.562 L1418.15 127.669 L1422.68 127.669 Z\" fill=\"#000000\" fill-rule=\"nonzero\" fill-opacity=\"1\" /><path clip-path=\"url(#clip130)\" d=\"M1458.19 131.743 L1446.39 150.192 L1458.19 150.192 L1458.19 131.743 M1456.97 127.669 L1462.85 127.669 L1462.85 150.192 L1467.78 150.192 L1467.78 154.081 L1462.85 154.081 L1462.85 162.229 L1458.19 162.229 L1458.19 154.081 L1442.59 154.081 L1442.59 149.567 L1456.97 127.669 Z\" fill=\"#000000\" fill-rule=\"nonzero\" fill-opacity=\"1\" /><path clip-path=\"url(#clip130)\" d=\"M1507.31 132.507 L1507.31 145.4 L1520.21 145.4 L1520.21 149.335 L1507.31 149.335 L1507.31 162.229 L1503.42 162.229 L1503.42 149.335 L1490.53 149.335 L1490.53 145.4 L1503.42 145.4 L1503.42 132.507 L1507.31 132.507 Z\" fill=\"#000000\" fill-rule=\"nonzero\" fill-opacity=\"1\" /><path clip-path=\"url(#clip130)\" d=\"M1559.53 143.594 Q1562.89 144.312 1564.77 146.581 Q1566.66 148.849 1566.66 152.182 Q1566.66 157.298 1563.15 160.099 Q1559.63 162.9 1553.15 162.9 Q1550.97 162.9 1548.65 162.46 Q1546.36 162.043 1543.91 161.187 L1543.91 156.673 Q1545.85 157.807 1548.17 158.386 Q1550.48 158.965 1553.01 158.965 Q1557.4 158.965 1559.7 157.229 Q1562.01 155.493 1562.01 152.182 Q1562.01 149.127 1559.86 147.414 Q1557.73 145.678 1553.91 145.678 L1549.88 145.678 L1549.88 141.835 L1554.09 141.835 Q1557.54 141.835 1559.37 140.469 Q1561.2 139.081 1561.2 136.488 Q1561.2 133.826 1559.3 132.414 Q1557.43 130.979 1553.91 130.979 Q1551.99 130.979 1549.79 131.395 Q1547.59 131.812 1544.95 132.692 L1544.95 128.525 Q1547.61 127.784 1549.93 127.414 Q1552.27 127.044 1554.33 127.044 Q1559.65 127.044 1562.75 129.474 Q1565.85 131.882 1565.85 136.002 Q1565.85 138.872 1564.21 140.863 Q1562.57 142.831 1559.53 143.594 Z\" fill=\"#000000\" fill-rule=\"nonzero\" fill-opacity=\"1\" /><path clip-path=\"url(#clip130)\" d=\"M1575.58 127.669 L1593.93 127.669 L1593.93 131.604 L1579.86 131.604 L1579.86 140.076 Q1580.88 139.729 1581.9 139.567 Q1582.91 139.382 1583.93 139.382 Q1589.72 139.382 1593.1 142.553 Q1596.48 145.724 1596.48 151.141 Q1596.48 156.719 1593.01 159.821 Q1589.53 162.9 1583.21 162.9 Q1581.04 162.9 1578.77 162.53 Q1576.53 162.159 1574.12 161.418 L1574.12 156.719 Q1576.2 157.854 1578.42 158.409 Q1580.65 158.965 1583.12 158.965 Q1587.13 158.965 1589.46 156.858 Q1591.8 154.752 1591.8 151.141 Q1591.8 147.53 1589.46 145.423 Q1587.13 143.317 1583.12 143.317 Q1581.25 143.317 1579.37 143.733 Q1577.52 144.15 1575.58 145.03 L1575.58 127.669 Z\" fill=\"#000000\" fill-rule=\"nonzero\" fill-opacity=\"1\" /><path clip-path=\"url(#clip130)\" d=\"M1626.64 136.303 L1617.27 148.919 L1627.13 162.229 L1622.1 162.229 L1614.56 152.043 L1607.01 162.229 L1601.99 162.229 L1612.06 148.664 L1602.84 136.303 L1607.87 136.303 L1614.74 145.539 L1621.62 136.303 L1626.64 136.303 Z\" fill=\"#000000\" fill-rule=\"nonzero\" fill-opacity=\"1\" /><path clip-path=\"url(#clip130)\" d=\"M1650.81 127.669 L1663.38 140.562 L1658.72 140.562 L1648.54 131.419 L1638.35 140.562 L1633.7 140.562 L1646.27 127.669 L1650.81 127.669 Z\" fill=\"#000000\" fill-rule=\"nonzero\" fill-opacity=\"1\" /><path clip-path=\"url(#clip130)\" d=\"M1687.64 143.594 Q1690.99 144.312 1692.87 146.581 Q1694.77 148.849 1694.77 152.182 Q1694.77 157.298 1691.25 160.099 Q1687.73 162.9 1681.25 162.9 Q1679.07 162.9 1676.76 162.46 Q1674.46 162.043 1672.01 161.187 L1672.01 156.673 Q1673.96 157.807 1676.27 158.386 Q1678.58 158.965 1681.11 158.965 Q1685.51 158.965 1687.8 157.229 Q1690.11 155.493 1690.11 152.182 Q1690.11 149.127 1687.96 147.414 Q1685.83 145.678 1682.01 145.678 L1677.98 145.678 L1677.98 141.835 L1682.2 141.835 Q1685.64 141.835 1687.47 140.469 Q1689.3 139.081 1689.3 136.488 Q1689.3 133.826 1687.4 132.414 Q1685.53 130.979 1682.01 130.979 Q1680.09 130.979 1677.89 131.395 Q1675.69 131.812 1673.05 132.692 L1673.05 128.525 Q1675.71 127.784 1678.03 127.414 Q1680.37 127.044 1682.43 127.044 Q1687.75 127.044 1690.85 129.474 Q1693.96 131.882 1693.96 136.002 Q1693.96 138.872 1692.31 140.863 Q1690.67 142.831 1687.64 143.594 Z\" fill=\"#000000\" fill-rule=\"nonzero\" fill-opacity=\"1\" /><path clip-path=\"url(#clip130)\" d=\"M1715.95 147.344 L1728.42 147.344 L1728.42 151.141 L1715.95 151.141 L1715.95 147.344 Z\" fill=\"#000000\" fill-rule=\"nonzero\" fill-opacity=\"1\" /><path clip-path=\"url(#clip130)\" d=\"M1754.9 158.293 L1771.22 158.293 L1771.22 162.229 L1749.28 162.229 L1749.28 158.293 Q1751.94 155.539 1756.52 150.909 Q1761.13 146.256 1762.31 144.914 Q1764.56 142.391 1765.44 140.655 Q1766.34 138.895 1766.34 137.206 Q1766.34 134.451 1764.39 132.715 Q1762.47 130.979 1759.37 130.979 Q1757.17 130.979 1754.72 131.743 Q1752.29 132.507 1749.51 134.057 L1749.51 129.335 Q1752.33 128.201 1754.79 127.622 Q1757.24 127.044 1759.28 127.044 Q1764.65 127.044 1767.84 129.729 Q1771.04 132.414 1771.04 136.905 Q1771.04 139.034 1770.23 140.956 Q1769.44 142.854 1767.33 145.446 Q1766.76 146.118 1763.65 149.335 Q1760.55 152.53 1754.9 158.293 Z\" fill=\"#000000\" fill-rule=\"nonzero\" fill-opacity=\"1\" /><path clip-path=\"url(#clip130)\" d=\"M1781.85 158.293 L1789.49 158.293 L1789.49 131.928 L1781.18 133.595 L1781.18 129.335 L1789.44 127.669 L1794.12 127.669 L1794.12 158.293 L1801.76 158.293 L1801.76 162.229 L1781.85 162.229 L1781.85 158.293 Z\" fill=\"#000000\" fill-rule=\"nonzero\" fill-opacity=\"1\" /><path clip-path=\"url(#clip130)\" d=\"M1832.15 136.303 L1822.77 148.919 L1832.63 162.229 L1827.61 162.229 L1820.07 152.043 L1812.52 162.229 L1807.5 162.229 L1817.57 148.664 L1808.35 136.303 L1813.38 136.303 L1820.25 145.539 L1827.13 136.303 L1832.15 136.303 Z\" fill=\"#000000\" fill-rule=\"nonzero\" fill-opacity=\"1\" /><path clip-path=\"url(#clip130)\" d=\"M1856.32 127.669 L1868.88 140.562 L1864.23 140.562 L1854.05 131.419 L1843.86 140.562 L1839.21 140.562 L1851.78 127.669 L1856.32 127.669 Z\" fill=\"#000000\" fill-rule=\"nonzero\" fill-opacity=\"1\" /><path clip-path=\"url(#clip130)\" d=\"M1883 158.293 L1899.32 158.293 L1899.32 162.229 L1877.38 162.229 L1877.38 158.293 Q1880.04 155.539 1884.63 150.909 Q1889.23 146.256 1890.41 144.914 Q1892.66 142.391 1893.54 140.655 Q1894.44 138.895 1894.44 137.206 Q1894.44 134.451 1892.5 132.715 Q1890.57 130.979 1887.47 130.979 Q1885.27 130.979 1882.82 131.743 Q1880.39 132.507 1877.61 134.057 L1877.61 129.335 Q1880.44 128.201 1882.89 127.622 Q1885.34 127.044 1887.38 127.044 Q1892.75 127.044 1895.94 129.729 Q1899.14 132.414 1899.14 136.905 Q1899.14 139.034 1898.33 140.956 Q1897.54 142.854 1895.44 145.446 Q1894.86 146.118 1891.75 149.335 Q1888.65 152.53 1883 158.293 Z\" fill=\"#000000\" fill-rule=\"nonzero\" fill-opacity=\"1\" /><path clip-path=\"url(#clip130)\" d=\"M1940.94 132.507 L1940.94 145.4 L1953.84 145.4 L1953.84 149.335 L1940.94 149.335 L1940.94 162.229 L1937.06 162.229 L1937.06 149.335 L1924.16 149.335 L1924.16 145.4 L1937.06 145.4 L1937.06 132.507 L1940.94 132.507 Z\" fill=\"#000000\" fill-rule=\"nonzero\" fill-opacity=\"1\" /><path clip-path=\"url(#clip130)\" d=\"M1977.82 127.669 L2000.04 127.669 L2000.04 129.659 L1987.5 162.229 L1982.61 162.229 L1994.42 131.604 L1977.82 131.604 L1977.82 127.669 Z\" fill=\"#000000\" fill-rule=\"nonzero\" fill-opacity=\"1\" /><path clip-path=\"url(#clip130)\" d=\"M2030.11 136.303 L2020.74 148.919 L2030.6 162.229 L2025.57 162.229 L2018.03 152.043 L2010.48 162.229 L2005.46 162.229 L2015.53 148.664 L2006.31 136.303 L2011.34 136.303 L2018.21 145.539 L2025.09 136.303 L2030.11 136.303 Z\" fill=\"#000000\" fill-rule=\"nonzero\" fill-opacity=\"1\" /><path clip-path=\"url(#clip130)\" d=\"M2049.53 147.344 L2062.01 147.344 L2062.01 151.141 L2049.53 151.141 L2049.53 147.344 Z\" fill=\"#000000\" fill-rule=\"nonzero\" fill-opacity=\"1\" /><path clip-path=\"url(#clip130)\" d=\"M2085.27 158.293 L2092.91 158.293 L2092.91 131.928 L2084.6 133.595 L2084.6 129.335 L2092.86 127.669 L2097.54 127.669 L2097.54 158.293 L2105.18 158.293 L2105.18 162.229 L2085.27 162.229 L2085.27 158.293 Z\" fill=\"#000000\" fill-rule=\"nonzero\" fill-opacity=\"1\" /><polyline clip-path=\"url(#clip130)\" style=\"stroke:#e26f46; stroke-linecap:round; stroke-linejoin:round; stroke-width:4; stroke-opacity:1; fill:none\" points=\"517.647,196.789 645.678,196.789 \"/>\n",
       "<path clip-path=\"url(#clip130)\" d=\"M680.859 216.476 Q679.053 221.106 677.34 222.518 Q675.627 223.93 672.757 223.93 L669.354 223.93 L669.354 220.365 L671.854 220.365 Q673.613 220.365 674.585 219.532 Q675.558 218.698 676.738 215.596 L677.502 213.652 L667.016 188.143 L671.53 188.143 L679.632 208.421 L687.734 188.143 L692.247 188.143 L680.859 216.476 Z\" fill=\"#000000\" fill-rule=\"nonzero\" fill-opacity=\"1\" /><path clip-path=\"url(#clip130)\" d=\"M713.752 192.541 L743.428 192.541 L743.428 196.43 L713.752 196.43 L713.752 192.541 M713.752 201.985 L743.428 201.985 L743.428 205.921 L713.752 205.921 L713.752 201.985 Z\" fill=\"#000000\" fill-rule=\"nonzero\" fill-opacity=\"1\" /><path clip-path=\"url(#clip130)\" d=\"M778.219 178.097 Q775.117 183.421 773.613 188.629 Q772.108 193.837 772.108 199.184 Q772.108 204.532 773.613 209.786 Q775.14 215.018 778.219 220.319 L774.515 220.319 Q771.043 214.879 769.307 209.624 Q767.594 204.37 767.594 199.184 Q767.594 194.022 769.307 188.791 Q771.02 183.56 774.515 178.097 L778.219 178.097 Z\" fill=\"#000000\" fill-rule=\"nonzero\" fill-opacity=\"1\" /><path clip-path=\"url(#clip130)\" d=\"M808.034 188.143 L798.659 200.759 L808.52 214.069 L803.497 214.069 L795.951 203.883 L788.404 214.069 L783.381 214.069 L793.451 200.504 L784.238 188.143 L789.261 188.143 L796.136 197.379 L803.011 188.143 L808.034 188.143 Z\" fill=\"#000000\" fill-rule=\"nonzero\" fill-opacity=\"1\" /><path clip-path=\"url(#clip130)\" d=\"M827.455 199.184 L839.932 199.184 L839.932 202.981 L827.455 202.981 L827.455 199.184 Z\" fill=\"#000000\" fill-rule=\"nonzero\" fill-opacity=\"1\" /><path clip-path=\"url(#clip130)\" d=\"M863.196 210.133 L870.834 210.133 L870.834 183.768 L862.524 185.435 L862.524 181.175 L870.788 179.509 L875.464 179.509 L875.464 210.133 L883.103 210.133 L883.103 214.069 L863.196 214.069 L863.196 210.133 Z\" fill=\"#000000\" fill-rule=\"nonzero\" fill-opacity=\"1\" /><path clip-path=\"url(#clip130)\" d=\"M891.274 178.097 L894.978 178.097 Q898.45 183.56 900.163 188.791 Q901.899 194.022 901.899 199.184 Q901.899 204.37 900.163 209.624 Q898.45 214.879 894.978 220.319 L891.274 220.319 Q894.353 215.018 895.857 209.786 Q897.385 204.532 897.385 199.184 Q897.385 193.837 895.857 188.629 Q894.353 183.421 891.274 178.097 Z\" fill=\"#000000\" fill-rule=\"nonzero\" fill-opacity=\"1\" /><path clip-path=\"url(#clip130)\" d=\"M928.103 179.509 L940.672 192.402 L936.019 192.402 L925.834 183.259 L915.649 192.402 L910.996 192.402 L923.566 179.509 L928.103 179.509 Z\" fill=\"#000000\" fill-rule=\"nonzero\" fill-opacity=\"1\" /><path clip-path=\"url(#clip130)\" d=\"M949.584 179.509 L971.806 179.509 L971.806 181.499 L959.26 214.069 L954.376 214.069 L966.181 183.444 L949.584 183.444 L949.584 179.509 Z\" fill=\"#000000\" fill-rule=\"nonzero\" fill-opacity=\"1\" /></svg>\n"
      ],
      "text/html": [
       "<?xml version=\"1.0\" encoding=\"utf-8\"?>\n",
       "<svg xmlns=\"http://www.w3.org/2000/svg\" xmlns:xlink=\"http://www.w3.org/1999/xlink\" width=\"600\" height=\"400\" viewBox=\"0 0 2400 1600\">\n",
       "<defs>\n",
       "  <clipPath id=\"clip180\">\n",
       "    <rect x=\"0\" y=\"0\" width=\"2400\" height=\"1600\"/>\n",
       "  </clipPath>\n",
       "</defs>\n",
       "<path clip-path=\"url(#clip180)\" d=\"M0 1600 L2400 1600 L2400 0 L0 0  Z\" fill=\"#ffffff\" fill-rule=\"evenodd\" fill-opacity=\"1\"/>\n",
       "<defs>\n",
       "  <clipPath id=\"clip181\">\n",
       "    <rect x=\"480\" y=\"0\" width=\"1681\" height=\"1600\"/>\n",
       "  </clipPath>\n",
       "</defs>\n",
       "<path clip-path=\"url(#clip180)\" d=\"M432.293 1423.18 L2352.76 1423.18 L2352.76 47.2441 L432.293 47.2441  Z\" fill=\"#ffffff\" fill-rule=\"evenodd\" fill-opacity=\"1\"/>\n",
       "<defs>\n",
       "  <clipPath id=\"clip182\">\n",
       "    <rect x=\"432\" y=\"47\" width=\"1921\" height=\"1377\"/>\n",
       "  </clipPath>\n",
       "</defs>\n",
       "<polyline clip-path=\"url(#clip182)\" style=\"stroke:#000000; stroke-linecap:round; stroke-linejoin:round; stroke-width:2; stroke-opacity:0.1; fill:none\" points=\"637.625,1423.18 637.625,47.2441 \"/>\n",
       "<polyline clip-path=\"url(#clip182)\" style=\"stroke:#000000; stroke-linecap:round; stroke-linejoin:round; stroke-width:2; stroke-opacity:0.1; fill:none\" points=\"1015.07,1423.18 1015.07,47.2441 \"/>\n",
       "<polyline clip-path=\"url(#clip182)\" style=\"stroke:#000000; stroke-linecap:round; stroke-linejoin:round; stroke-width:2; stroke-opacity:0.1; fill:none\" points=\"1392.52,1423.18 1392.52,47.2441 \"/>\n",
       "<polyline clip-path=\"url(#clip182)\" style=\"stroke:#000000; stroke-linecap:round; stroke-linejoin:round; stroke-width:2; stroke-opacity:0.1; fill:none\" points=\"1769.97,1423.18 1769.97,47.2441 \"/>\n",
       "<polyline clip-path=\"url(#clip182)\" style=\"stroke:#000000; stroke-linecap:round; stroke-linejoin:round; stroke-width:2; stroke-opacity:0.1; fill:none\" points=\"2147.42,1423.18 2147.42,47.2441 \"/>\n",
       "<polyline clip-path=\"url(#clip180)\" style=\"stroke:#000000; stroke-linecap:round; stroke-linejoin:round; stroke-width:4; stroke-opacity:1; fill:none\" points=\"432.293,1423.18 2352.76,1423.18 \"/>\n",
       "<polyline clip-path=\"url(#clip180)\" style=\"stroke:#000000; stroke-linecap:round; stroke-linejoin:round; stroke-width:4; stroke-opacity:1; fill:none\" points=\"637.625,1423.18 637.625,1404.28 \"/>\n",
       "<polyline clip-path=\"url(#clip180)\" style=\"stroke:#000000; stroke-linecap:round; stroke-linejoin:round; stroke-width:4; stroke-opacity:1; fill:none\" points=\"1015.07,1423.18 1015.07,1404.28 \"/>\n",
       "<polyline clip-path=\"url(#clip180)\" style=\"stroke:#000000; stroke-linecap:round; stroke-linejoin:round; stroke-width:4; stroke-opacity:1; fill:none\" points=\"1392.52,1423.18 1392.52,1404.28 \"/>\n",
       "<polyline clip-path=\"url(#clip180)\" style=\"stroke:#000000; stroke-linecap:round; stroke-linejoin:round; stroke-width:4; stroke-opacity:1; fill:none\" points=\"1769.97,1423.18 1769.97,1404.28 \"/>\n",
       "<polyline clip-path=\"url(#clip180)\" style=\"stroke:#000000; stroke-linecap:round; stroke-linejoin:round; stroke-width:4; stroke-opacity:1; fill:none\" points=\"2147.42,1423.18 2147.42,1404.28 \"/>\n",
       "<path clip-path=\"url(#clip180)\" d=\"M584.848 1454.1 Q581.237 1454.1 579.408 1457.66 Q577.602 1461.2 577.602 1468.33 Q577.602 1475.44 579.408 1479.01 Q581.237 1482.55 584.848 1482.55 Q588.482 1482.55 590.288 1479.01 Q592.116 1475.44 592.116 1468.33 Q592.116 1461.2 590.288 1457.66 Q588.482 1454.1 584.848 1454.1 M584.848 1450.39 Q590.658 1450.39 593.714 1455 Q596.792 1459.58 596.792 1468.33 Q596.792 1477.06 593.714 1481.67 Q590.658 1486.25 584.848 1486.25 Q579.038 1486.25 575.959 1481.67 Q572.903 1477.06 572.903 1468.33 Q572.903 1459.58 575.959 1455 Q579.038 1450.39 584.848 1450.39 Z\" fill=\"#000000\" fill-rule=\"nonzero\" fill-opacity=\"1\" /><path clip-path=\"url(#clip180)\" d=\"M605.01 1479.7 L609.894 1479.7 L609.894 1485.58 L605.01 1485.58 L605.01 1479.7 Z\" fill=\"#000000\" fill-rule=\"nonzero\" fill-opacity=\"1\" /><path clip-path=\"url(#clip180)\" d=\"M620.218 1484.86 L620.218 1480.6 Q621.977 1481.44 623.783 1481.88 Q625.588 1482.32 627.324 1482.32 Q631.954 1482.32 634.385 1479.21 Q636.838 1476.09 637.186 1469.75 Q635.843 1471.74 633.783 1472.8 Q631.723 1473.87 629.223 1473.87 Q624.037 1473.87 621.005 1470.74 Q617.996 1467.59 617.996 1462.15 Q617.996 1456.83 621.144 1453.61 Q624.292 1450.39 629.524 1450.39 Q635.519 1450.39 638.667 1455 Q641.838 1459.58 641.838 1468.33 Q641.838 1476.51 637.949 1481.39 Q634.084 1486.25 627.533 1486.25 Q625.774 1486.25 623.968 1485.9 Q622.162 1485.56 620.218 1484.86 M629.524 1470.21 Q632.672 1470.21 634.5 1468.06 Q636.352 1465.9 636.352 1462.15 Q636.352 1458.43 634.5 1456.27 Q632.672 1454.1 629.524 1454.1 Q626.375 1454.1 624.524 1456.27 Q622.695 1458.43 622.695 1462.15 Q622.695 1465.9 624.524 1468.06 Q626.375 1470.21 629.524 1470.21 Z\" fill=\"#000000\" fill-rule=\"nonzero\" fill-opacity=\"1\" /><path clip-path=\"url(#clip180)\" d=\"M650.38 1484.86 L650.38 1480.6 Q652.139 1481.44 653.945 1481.88 Q655.75 1482.32 657.486 1482.32 Q662.116 1482.32 664.546 1479.21 Q667 1476.09 667.347 1469.75 Q666.005 1471.74 663.945 1472.8 Q661.884 1473.87 659.384 1473.87 Q654.199 1473.87 651.167 1470.74 Q648.158 1467.59 648.158 1462.15 Q648.158 1456.83 651.306 1453.61 Q654.454 1450.39 659.685 1450.39 Q665.681 1450.39 668.829 1455 Q672 1459.58 672 1468.33 Q672 1476.51 668.111 1481.39 Q664.246 1486.25 657.695 1486.25 Q655.935 1486.25 654.13 1485.9 Q652.324 1485.56 650.38 1484.86 M659.685 1470.21 Q662.834 1470.21 664.662 1468.06 Q666.514 1465.9 666.514 1462.15 Q666.514 1458.43 664.662 1456.27 Q662.834 1454.1 659.685 1454.1 Q656.537 1454.1 654.685 1456.27 Q652.857 1458.43 652.857 1462.15 Q652.857 1465.9 654.685 1468.06 Q656.537 1470.21 659.685 1470.21 Z\" fill=\"#000000\" fill-rule=\"nonzero\" fill-opacity=\"1\" /><path clip-path=\"url(#clip180)\" d=\"M690.403 1454.1 Q686.792 1454.1 684.963 1457.66 Q683.157 1461.2 683.157 1468.33 Q683.157 1475.44 684.963 1479.01 Q686.792 1482.55 690.403 1482.55 Q694.037 1482.55 695.843 1479.01 Q697.671 1475.44 697.671 1468.33 Q697.671 1461.2 695.843 1457.66 Q694.037 1454.1 690.403 1454.1 M690.403 1450.39 Q696.213 1450.39 699.269 1455 Q702.347 1459.58 702.347 1468.33 Q702.347 1477.06 699.269 1481.67 Q696.213 1486.25 690.403 1486.25 Q684.593 1486.25 681.514 1481.67 Q678.458 1477.06 678.458 1468.33 Q678.458 1459.58 681.514 1455 Q684.593 1450.39 690.403 1450.39 Z\" fill=\"#000000\" fill-rule=\"nonzero\" fill-opacity=\"1\" /><path clip-path=\"url(#clip180)\" d=\"M962.795 1454.1 Q959.184 1454.1 957.355 1457.66 Q955.55 1461.2 955.55 1468.33 Q955.55 1475.44 957.355 1479.01 Q959.184 1482.55 962.795 1482.55 Q966.429 1482.55 968.235 1479.01 Q970.064 1475.44 970.064 1468.33 Q970.064 1461.2 968.235 1457.66 Q966.429 1454.1 962.795 1454.1 M962.795 1450.39 Q968.605 1450.39 971.661 1455 Q974.739 1459.58 974.739 1468.33 Q974.739 1477.06 971.661 1481.67 Q968.605 1486.25 962.795 1486.25 Q956.985 1486.25 953.906 1481.67 Q950.851 1477.06 950.851 1468.33 Q950.851 1459.58 953.906 1455 Q956.985 1450.39 962.795 1450.39 Z\" fill=\"#000000\" fill-rule=\"nonzero\" fill-opacity=\"1\" /><path clip-path=\"url(#clip180)\" d=\"M982.957 1479.7 L987.841 1479.7 L987.841 1485.58 L982.957 1485.58 L982.957 1479.7 Z\" fill=\"#000000\" fill-rule=\"nonzero\" fill-opacity=\"1\" /><path clip-path=\"url(#clip180)\" d=\"M998.165 1484.86 L998.165 1480.6 Q999.924 1481.44 1001.73 1481.88 Q1003.54 1482.32 1005.27 1482.32 Q1009.9 1482.32 1012.33 1479.21 Q1014.79 1476.09 1015.13 1469.75 Q1013.79 1471.74 1011.73 1472.8 Q1009.67 1473.87 1007.17 1473.87 Q1001.98 1473.87 998.952 1470.74 Q995.943 1467.59 995.943 1462.15 Q995.943 1456.83 999.091 1453.61 Q1002.24 1450.39 1007.47 1450.39 Q1013.47 1450.39 1016.61 1455 Q1019.79 1459.58 1019.79 1468.33 Q1019.79 1476.51 1015.9 1481.39 Q1012.03 1486.25 1005.48 1486.25 Q1003.72 1486.25 1001.92 1485.9 Q1000.11 1485.56 998.165 1484.86 M1007.47 1470.21 Q1010.62 1470.21 1012.45 1468.06 Q1014.3 1465.9 1014.3 1462.15 Q1014.3 1458.43 1012.45 1456.27 Q1010.62 1454.1 1007.47 1454.1 Q1004.32 1454.1 1002.47 1456.27 Q1000.64 1458.43 1000.64 1462.15 Q1000.64 1465.9 1002.47 1468.06 Q1004.32 1470.21 1007.47 1470.21 Z\" fill=\"#000000\" fill-rule=\"nonzero\" fill-opacity=\"1\" /><path clip-path=\"url(#clip180)\" d=\"M1028.33 1484.86 L1028.33 1480.6 Q1030.09 1481.44 1031.89 1481.88 Q1033.7 1482.32 1035.43 1482.32 Q1040.06 1482.32 1042.49 1479.21 Q1044.95 1476.09 1045.29 1469.75 Q1043.95 1471.74 1041.89 1472.8 Q1039.83 1473.87 1037.33 1473.87 Q1032.15 1473.87 1029.11 1470.74 Q1026.1 1467.59 1026.1 1462.15 Q1026.1 1456.83 1029.25 1453.61 Q1032.4 1450.39 1037.63 1450.39 Q1043.63 1450.39 1046.78 1455 Q1049.95 1459.58 1049.95 1468.33 Q1049.95 1476.51 1046.06 1481.39 Q1042.19 1486.25 1035.64 1486.25 Q1033.88 1486.25 1032.08 1485.9 Q1030.27 1485.56 1028.33 1484.86 M1037.63 1470.21 Q1040.78 1470.21 1042.61 1468.06 Q1044.46 1465.9 1044.46 1462.15 Q1044.46 1458.43 1042.61 1456.27 Q1040.78 1454.1 1037.63 1454.1 Q1034.48 1454.1 1032.63 1456.27 Q1030.8 1458.43 1030.8 1462.15 Q1030.8 1465.9 1032.63 1468.06 Q1034.48 1470.21 1037.63 1470.21 Z\" fill=\"#000000\" fill-rule=\"nonzero\" fill-opacity=\"1\" /><path clip-path=\"url(#clip180)\" d=\"M1058.4 1451.02 L1076.75 1451.02 L1076.75 1454.96 L1062.68 1454.96 L1062.68 1463.43 Q1063.7 1463.08 1064.72 1462.92 Q1065.73 1462.73 1066.75 1462.73 Q1072.54 1462.73 1075.92 1465.9 Q1079.3 1469.08 1079.3 1474.49 Q1079.3 1480.07 1075.83 1483.17 Q1072.35 1486.25 1066.04 1486.25 Q1063.86 1486.25 1061.59 1485.88 Q1059.35 1485.51 1056.94 1484.77 L1056.94 1480.07 Q1059.02 1481.2 1061.24 1481.76 Q1063.47 1482.32 1065.94 1482.32 Q1069.95 1482.32 1072.29 1480.21 Q1074.62 1478.1 1074.62 1474.49 Q1074.62 1470.88 1072.29 1468.77 Q1069.95 1466.67 1065.94 1466.67 Q1064.07 1466.67 1062.19 1467.08 Q1060.34 1467.5 1058.4 1468.38 L1058.4 1451.02 Z\" fill=\"#000000\" fill-rule=\"nonzero\" fill-opacity=\"1\" /><path clip-path=\"url(#clip180)\" d=\"M1329.52 1481.64 L1337.15 1481.64 L1337.15 1455.28 L1328.84 1456.95 L1328.84 1452.69 L1337.11 1451.02 L1341.78 1451.02 L1341.78 1481.64 L1349.42 1481.64 L1349.42 1485.58 L1329.52 1485.58 L1329.52 1481.64 Z\" fill=\"#000000\" fill-rule=\"nonzero\" fill-opacity=\"1\" /><path clip-path=\"url(#clip180)\" d=\"M1358.87 1479.7 L1363.75 1479.7 L1363.75 1485.58 L1358.87 1485.58 L1358.87 1479.7 Z\" fill=\"#000000\" fill-rule=\"nonzero\" fill-opacity=\"1\" /><path clip-path=\"url(#clip180)\" d=\"M1383.94 1454.1 Q1380.33 1454.1 1378.5 1457.66 Q1376.69 1461.2 1376.69 1468.33 Q1376.69 1475.44 1378.5 1479.01 Q1380.33 1482.55 1383.94 1482.55 Q1387.57 1482.55 1389.38 1479.01 Q1391.2 1475.44 1391.2 1468.33 Q1391.2 1461.2 1389.38 1457.66 Q1387.57 1454.1 1383.94 1454.1 M1383.94 1450.39 Q1389.75 1450.39 1392.8 1455 Q1395.88 1459.58 1395.88 1468.33 Q1395.88 1477.06 1392.8 1481.67 Q1389.75 1486.25 1383.94 1486.25 Q1378.13 1486.25 1375.05 1481.67 Q1371.99 1477.06 1371.99 1468.33 Q1371.99 1459.58 1375.05 1455 Q1378.13 1450.39 1383.94 1450.39 Z\" fill=\"#000000\" fill-rule=\"nonzero\" fill-opacity=\"1\" /><path clip-path=\"url(#clip180)\" d=\"M1414.1 1454.1 Q1410.49 1454.1 1408.66 1457.66 Q1406.85 1461.2 1406.85 1468.33 Q1406.85 1475.44 1408.66 1479.01 Q1410.49 1482.55 1414.1 1482.55 Q1417.73 1482.55 1419.54 1479.01 Q1421.37 1475.44 1421.37 1468.33 Q1421.37 1461.2 1419.54 1457.66 Q1417.73 1454.1 1414.1 1454.1 M1414.1 1450.39 Q1419.91 1450.39 1422.96 1455 Q1426.04 1459.58 1426.04 1468.33 Q1426.04 1477.06 1422.96 1481.67 Q1419.91 1486.25 1414.1 1486.25 Q1408.29 1486.25 1405.21 1481.67 Q1402.15 1477.06 1402.15 1468.33 Q1402.15 1459.58 1405.21 1455 Q1408.29 1450.39 1414.1 1450.39 Z\" fill=\"#000000\" fill-rule=\"nonzero\" fill-opacity=\"1\" /><path clip-path=\"url(#clip180)\" d=\"M1444.26 1454.1 Q1440.65 1454.1 1438.82 1457.66 Q1437.01 1461.2 1437.01 1468.33 Q1437.01 1475.44 1438.82 1479.01 Q1440.65 1482.55 1444.26 1482.55 Q1447.89 1482.55 1449.7 1479.01 Q1451.53 1475.44 1451.53 1468.33 Q1451.53 1461.2 1449.7 1457.66 Q1447.89 1454.1 1444.26 1454.1 M1444.26 1450.39 Q1450.07 1450.39 1453.13 1455 Q1456.2 1459.58 1456.2 1468.33 Q1456.2 1477.06 1453.13 1481.67 Q1450.07 1486.25 1444.26 1486.25 Q1438.45 1486.25 1435.37 1481.67 Q1432.32 1477.06 1432.32 1468.33 Q1432.32 1459.58 1435.37 1455 Q1438.45 1450.39 1444.26 1450.39 Z\" fill=\"#000000\" fill-rule=\"nonzero\" fill-opacity=\"1\" /><path clip-path=\"url(#clip180)\" d=\"M1707.46 1481.64 L1715.1 1481.64 L1715.1 1455.28 L1706.79 1456.95 L1706.79 1452.69 L1715.06 1451.02 L1719.73 1451.02 L1719.73 1481.64 L1727.37 1481.64 L1727.37 1485.58 L1707.46 1485.58 L1707.46 1481.64 Z\" fill=\"#000000\" fill-rule=\"nonzero\" fill-opacity=\"1\" /><path clip-path=\"url(#clip180)\" d=\"M1736.81 1479.7 L1741.7 1479.7 L1741.7 1485.58 L1736.81 1485.58 L1736.81 1479.7 Z\" fill=\"#000000\" fill-rule=\"nonzero\" fill-opacity=\"1\" /><path clip-path=\"url(#clip180)\" d=\"M1761.88 1454.1 Q1758.27 1454.1 1756.44 1457.66 Q1754.64 1461.2 1754.64 1468.33 Q1754.64 1475.44 1756.44 1479.01 Q1758.27 1482.55 1761.88 1482.55 Q1765.52 1482.55 1767.32 1479.01 Q1769.15 1475.44 1769.15 1468.33 Q1769.15 1461.2 1767.32 1457.66 Q1765.52 1454.1 1761.88 1454.1 M1761.88 1450.39 Q1767.69 1450.39 1770.75 1455 Q1773.83 1459.58 1773.83 1468.33 Q1773.83 1477.06 1770.75 1481.67 Q1767.69 1486.25 1761.88 1486.25 Q1756.07 1486.25 1752.99 1481.67 Q1749.94 1477.06 1749.94 1468.33 Q1749.94 1459.58 1752.99 1455 Q1756.07 1450.39 1761.88 1450.39 Z\" fill=\"#000000\" fill-rule=\"nonzero\" fill-opacity=\"1\" /><path clip-path=\"url(#clip180)\" d=\"M1792.05 1454.1 Q1788.43 1454.1 1786.61 1457.66 Q1784.8 1461.2 1784.8 1468.33 Q1784.8 1475.44 1786.61 1479.01 Q1788.43 1482.55 1792.05 1482.55 Q1795.68 1482.55 1797.49 1479.01 Q1799.31 1475.44 1799.31 1468.33 Q1799.31 1461.2 1797.49 1457.66 Q1795.68 1454.1 1792.05 1454.1 M1792.05 1450.39 Q1797.86 1450.39 1800.91 1455 Q1803.99 1459.58 1803.99 1468.33 Q1803.99 1477.06 1800.91 1481.67 Q1797.86 1486.25 1792.05 1486.25 Q1786.24 1486.25 1783.16 1481.67 Q1780.1 1477.06 1780.1 1468.33 Q1780.1 1459.58 1783.16 1455 Q1786.24 1450.39 1792.05 1450.39 Z\" fill=\"#000000\" fill-rule=\"nonzero\" fill-opacity=\"1\" /><path clip-path=\"url(#clip180)\" d=\"M1812.25 1451.02 L1830.61 1451.02 L1830.61 1454.96 L1816.54 1454.96 L1816.54 1463.43 Q1817.55 1463.08 1818.57 1462.92 Q1819.59 1462.73 1820.61 1462.73 Q1826.4 1462.73 1829.78 1465.9 Q1833.16 1469.08 1833.16 1474.49 Q1833.16 1480.07 1829.68 1483.17 Q1826.21 1486.25 1819.89 1486.25 Q1817.72 1486.25 1815.45 1485.88 Q1813.2 1485.51 1810.8 1484.77 L1810.8 1480.07 Q1812.88 1481.2 1815.1 1481.76 Q1817.32 1482.32 1819.8 1482.32 Q1823.8 1482.32 1826.14 1480.21 Q1828.48 1478.1 1828.48 1474.49 Q1828.48 1470.88 1826.14 1468.77 Q1823.8 1466.67 1819.8 1466.67 Q1817.92 1466.67 1816.05 1467.08 Q1814.2 1467.5 1812.25 1468.38 L1812.25 1451.02 Z\" fill=\"#000000\" fill-rule=\"nonzero\" fill-opacity=\"1\" /><path clip-path=\"url(#clip180)\" d=\"M2084.41 1481.64 L2092.05 1481.64 L2092.05 1455.28 L2083.74 1456.95 L2083.74 1452.69 L2092.01 1451.02 L2096.68 1451.02 L2096.68 1481.64 L2104.32 1481.64 L2104.32 1485.58 L2084.41 1485.58 L2084.41 1481.64 Z\" fill=\"#000000\" fill-rule=\"nonzero\" fill-opacity=\"1\" /><path clip-path=\"url(#clip180)\" d=\"M2113.77 1479.7 L2118.65 1479.7 L2118.65 1485.58 L2113.77 1485.58 L2113.77 1479.7 Z\" fill=\"#000000\" fill-rule=\"nonzero\" fill-opacity=\"1\" /><path clip-path=\"url(#clip180)\" d=\"M2138.84 1454.1 Q2135.22 1454.1 2133.4 1457.66 Q2131.59 1461.2 2131.59 1468.33 Q2131.59 1475.44 2133.4 1479.01 Q2135.22 1482.55 2138.84 1482.55 Q2142.47 1482.55 2144.28 1479.01 Q2146.1 1475.44 2146.1 1468.33 Q2146.1 1461.2 2144.28 1457.66 Q2142.47 1454.1 2138.84 1454.1 M2138.84 1450.39 Q2144.65 1450.39 2147.7 1455 Q2150.78 1459.58 2150.78 1468.33 Q2150.78 1477.06 2147.7 1481.67 Q2144.65 1486.25 2138.84 1486.25 Q2133.03 1486.25 2129.95 1481.67 Q2126.89 1477.06 2126.89 1468.33 Q2126.89 1459.58 2129.95 1455 Q2133.03 1450.39 2138.84 1450.39 Z\" fill=\"#000000\" fill-rule=\"nonzero\" fill-opacity=\"1\" /><path clip-path=\"url(#clip180)\" d=\"M2159.81 1481.64 L2167.45 1481.64 L2167.45 1455.28 L2159.14 1456.95 L2159.14 1452.69 L2167.4 1451.02 L2172.08 1451.02 L2172.08 1481.64 L2179.71 1481.64 L2179.71 1485.58 L2159.81 1485.58 L2159.81 1481.64 Z\" fill=\"#000000\" fill-rule=\"nonzero\" fill-opacity=\"1\" /><path clip-path=\"url(#clip180)\" d=\"M2199.16 1454.1 Q2195.55 1454.1 2193.72 1457.66 Q2191.91 1461.2 2191.91 1468.33 Q2191.91 1475.44 2193.72 1479.01 Q2195.55 1482.55 2199.16 1482.55 Q2202.79 1482.55 2204.6 1479.01 Q2206.43 1475.44 2206.43 1468.33 Q2206.43 1461.2 2204.6 1457.66 Q2202.79 1454.1 2199.16 1454.1 M2199.16 1450.39 Q2204.97 1450.39 2208.02 1455 Q2211.1 1459.58 2211.1 1468.33 Q2211.1 1477.06 2208.02 1481.67 Q2204.97 1486.25 2199.16 1486.25 Q2193.35 1486.25 2190.27 1481.67 Q2187.21 1477.06 2187.21 1468.33 Q2187.21 1459.58 2190.27 1455 Q2193.35 1450.39 2199.16 1450.39 Z\" fill=\"#000000\" fill-rule=\"nonzero\" fill-opacity=\"1\" /><path clip-path=\"url(#clip180)\" d=\"M1409.14 1532.4 L1396.25 1549.74 L1409.81 1568.04 L1402.9 1568.04 L1392.52 1554.04 L1382.15 1568.04 L1375.24 1568.04 L1389.09 1549.39 L1376.42 1532.4 L1383.33 1532.4 L1392.78 1545.1 L1402.23 1532.4 L1409.14 1532.4 Z\" fill=\"#000000\" fill-rule=\"nonzero\" fill-opacity=\"1\" /><polyline clip-path=\"url(#clip182)\" style=\"stroke:#000000; stroke-linecap:round; stroke-linejoin:round; stroke-width:2; stroke-opacity:0.1; fill:none\" points=\"432.293,1122.33 2352.76,1122.33 \"/>\n",
       "<polyline clip-path=\"url(#clip182)\" style=\"stroke:#000000; stroke-linecap:round; stroke-linejoin:round; stroke-width:2; stroke-opacity:0.1; fill:none\" points=\"432.293,791.465 2352.76,791.465 \"/>\n",
       "<polyline clip-path=\"url(#clip182)\" style=\"stroke:#000000; stroke-linecap:round; stroke-linejoin:round; stroke-width:2; stroke-opacity:0.1; fill:none\" points=\"432.293,460.601 2352.76,460.601 \"/>\n",
       "<polyline clip-path=\"url(#clip182)\" style=\"stroke:#000000; stroke-linecap:round; stroke-linejoin:round; stroke-width:2; stroke-opacity:0.1; fill:none\" points=\"432.293,129.737 2352.76,129.737 \"/>\n",
       "<polyline clip-path=\"url(#clip180)\" style=\"stroke:#000000; stroke-linecap:round; stroke-linejoin:round; stroke-width:4; stroke-opacity:1; fill:none\" points=\"432.293,1423.18 432.293,47.2441 \"/>\n",
       "<polyline clip-path=\"url(#clip180)\" style=\"stroke:#000000; stroke-linecap:round; stroke-linejoin:round; stroke-width:4; stroke-opacity:1; fill:none\" points=\"432.293,1122.33 451.19,1122.33 \"/>\n",
       "<polyline clip-path=\"url(#clip180)\" style=\"stroke:#000000; stroke-linecap:round; stroke-linejoin:round; stroke-width:4; stroke-opacity:1; fill:none\" points=\"432.293,791.465 451.19,791.465 \"/>\n",
       "<polyline clip-path=\"url(#clip180)\" style=\"stroke:#000000; stroke-linecap:round; stroke-linejoin:round; stroke-width:4; stroke-opacity:1; fill:none\" points=\"432.293,460.601 451.19,460.601 \"/>\n",
       "<polyline clip-path=\"url(#clip180)\" style=\"stroke:#000000; stroke-linecap:round; stroke-linejoin:round; stroke-width:4; stroke-opacity:1; fill:none\" points=\"432.293,129.737 451.19,129.737 \"/>\n",
       "<path clip-path=\"url(#clip180)\" d=\"M114.26 1129.23 L143.936 1129.23 L143.936 1133.16 L114.26 1133.16 L114.26 1129.23 Z\" fill=\"#000000\" fill-rule=\"nonzero\" fill-opacity=\"1\" /><path clip-path=\"url(#clip180)\" d=\"M158.056 1142.12 L174.376 1142.12 L174.376 1146.06 L152.431 1146.06 L152.431 1142.12 Q155.093 1139.37 159.677 1134.74 Q164.283 1130.08 165.464 1128.74 Q167.709 1126.22 168.589 1124.48 Q169.491 1122.72 169.491 1121.03 Q169.491 1118.28 167.547 1116.54 Q165.626 1114.81 162.524 1114.81 Q160.325 1114.81 157.871 1115.57 Q155.44 1116.33 152.663 1117.89 L152.663 1113.16 Q155.487 1112.03 157.94 1111.45 Q160.394 1110.87 162.431 1110.87 Q167.802 1110.87 170.996 1113.56 Q174.19 1116.24 174.19 1120.73 Q174.19 1122.86 173.38 1124.78 Q172.593 1126.68 170.487 1129.27 Q169.908 1129.95 166.806 1133.16 Q163.704 1136.36 158.056 1142.12 Z\" fill=\"#000000\" fill-rule=\"nonzero\" fill-opacity=\"1\" /><path clip-path=\"url(#clip180)\" d=\"M184.19 1140.18 L189.075 1140.18 L189.075 1146.06 L184.19 1146.06 L184.19 1140.18 Z\" fill=\"#000000\" fill-rule=\"nonzero\" fill-opacity=\"1\" /><path clip-path=\"url(#clip180)\" d=\"M209.26 1114.58 Q205.649 1114.58 203.82 1118.14 Q202.014 1121.68 202.014 1128.81 Q202.014 1135.92 203.82 1139.48 Q205.649 1143.02 209.26 1143.02 Q212.894 1143.02 214.699 1139.48 Q216.528 1135.92 216.528 1128.81 Q216.528 1121.68 214.699 1118.14 Q212.894 1114.58 209.26 1114.58 M209.26 1110.87 Q215.07 1110.87 218.125 1115.48 Q221.204 1120.06 221.204 1128.81 Q221.204 1137.54 218.125 1142.14 Q215.07 1146.73 209.26 1146.73 Q203.449 1146.73 200.371 1142.14 Q197.315 1137.54 197.315 1128.81 Q197.315 1120.06 200.371 1115.48 Q203.449 1110.87 209.26 1110.87 Z\" fill=\"#000000\" fill-rule=\"nonzero\" fill-opacity=\"1\" /><path clip-path=\"url(#clip180)\" d=\"M257.593 1120.59 L247.014 1131.22 L257.593 1141.8 L254.838 1144.6 L244.213 1133.97 L233.588 1144.6 L230.857 1141.8 L241.412 1131.22 L230.857 1120.59 L233.588 1117.79 L244.213 1128.42 L254.838 1117.79 L257.593 1120.59 Z\" fill=\"#000000\" fill-rule=\"nonzero\" fill-opacity=\"1\" /><path clip-path=\"url(#clip180)\" d=\"M269.954 1142.12 L277.593 1142.12 L277.593 1115.76 L269.282 1117.42 L269.282 1113.16 L277.546 1111.5 L282.222 1111.5 L282.222 1142.12 L289.861 1142.12 L289.861 1146.06 L269.954 1146.06 L269.954 1142.12 Z\" fill=\"#000000\" fill-rule=\"nonzero\" fill-opacity=\"1\" /><path clip-path=\"url(#clip180)\" d=\"M309.305 1114.58 Q305.694 1114.58 303.866 1118.14 Q302.06 1121.68 302.06 1128.81 Q302.06 1135.92 303.866 1139.48 Q305.694 1143.02 309.305 1143.02 Q312.94 1143.02 314.745 1139.48 Q316.574 1135.92 316.574 1128.81 Q316.574 1121.68 314.745 1118.14 Q312.94 1114.58 309.305 1114.58 M309.305 1110.87 Q315.116 1110.87 318.171 1115.48 Q321.25 1120.06 321.25 1128.81 Q321.25 1137.54 318.171 1142.14 Q315.116 1146.73 309.305 1146.73 Q303.495 1146.73 300.417 1142.14 Q297.361 1137.54 297.361 1128.81 Q297.361 1120.06 300.417 1115.48 Q303.495 1110.87 309.305 1110.87 Z\" fill=\"#000000\" fill-rule=\"nonzero\" fill-opacity=\"1\" /><path clip-path=\"url(#clip180)\" d=\"M321.25 1104.97 L345.361 1104.97 L345.361 1108.17 L321.25 1108.17 L321.25 1104.97 Z\" fill=\"#000000\" fill-rule=\"nonzero\" fill-opacity=\"1\" /><path clip-path=\"url(#clip180)\" d=\"M354.22 1115.45 L360.426 1115.45 L360.426 1094.03 L353.674 1095.38 L353.674 1091.92 L360.389 1090.57 L364.188 1090.57 L364.188 1115.45 L370.394 1115.45 L370.394 1118.65 L354.22 1118.65 L354.22 1115.45 Z\" fill=\"#000000\" fill-rule=\"nonzero\" fill-opacity=\"1\" /><path clip-path=\"url(#clip180)\" d=\"M388.506 1093.88 L378.914 1108.87 L388.506 1108.87 L388.506 1093.88 M387.51 1090.57 L392.287 1090.57 L392.287 1108.87 L396.293 1108.87 L396.293 1112.03 L392.287 1112.03 L392.287 1118.65 L388.506 1118.65 L388.506 1112.03 L375.83 1112.03 L375.83 1108.36 L387.51 1090.57 Z\" fill=\"#000000\" fill-rule=\"nonzero\" fill-opacity=\"1\" /><path clip-path=\"url(#clip180)\" d=\"M384.348 777.264 Q380.737 777.264 378.909 780.829 Q377.103 784.37 377.103 791.5 Q377.103 798.606 378.909 802.171 Q380.737 805.713 384.348 805.713 Q387.983 805.713 389.788 802.171 Q391.617 798.606 391.617 791.5 Q391.617 784.37 389.788 780.829 Q387.983 777.264 384.348 777.264 M384.348 773.56 Q390.159 773.56 393.214 778.167 Q396.293 782.75 396.293 791.5 Q396.293 800.227 393.214 804.833 Q390.159 809.416 384.348 809.416 Q378.538 809.416 375.46 804.833 Q372.404 800.227 372.404 791.5 Q372.404 782.75 375.46 778.167 Q378.538 773.56 384.348 773.56 Z\" fill=\"#000000\" fill-rule=\"nonzero\" fill-opacity=\"1\" /><path clip-path=\"url(#clip180)\" d=\"M158.056 480.393 L174.376 480.393 L174.376 484.329 L152.431 484.329 L152.431 480.393 Q155.093 477.639 159.677 473.009 Q164.283 468.356 165.464 467.014 Q167.709 464.491 168.589 462.755 Q169.491 460.995 169.491 459.306 Q169.491 456.551 167.547 454.815 Q165.626 453.079 162.524 453.079 Q160.325 453.079 157.871 453.843 Q155.44 454.606 152.663 456.157 L152.663 451.435 Q155.487 450.301 157.94 449.722 Q160.394 449.144 162.431 449.144 Q167.802 449.144 170.996 451.829 Q174.19 454.514 174.19 459.005 Q174.19 461.134 173.38 463.056 Q172.593 464.954 170.487 467.546 Q169.908 468.218 166.806 471.435 Q163.704 474.63 158.056 480.393 Z\" fill=\"#000000\" fill-rule=\"nonzero\" fill-opacity=\"1\" /><path clip-path=\"url(#clip180)\" d=\"M184.19 478.449 L189.075 478.449 L189.075 484.329 L184.19 484.329 L184.19 478.449 Z\" fill=\"#000000\" fill-rule=\"nonzero\" fill-opacity=\"1\" /><path clip-path=\"url(#clip180)\" d=\"M209.26 452.847 Q205.649 452.847 203.82 456.412 Q202.014 459.954 202.014 467.083 Q202.014 474.19 203.82 477.754 Q205.649 481.296 209.26 481.296 Q212.894 481.296 214.699 477.754 Q216.528 474.19 216.528 467.083 Q216.528 459.954 214.699 456.412 Q212.894 452.847 209.26 452.847 M209.26 449.144 Q215.07 449.144 218.125 453.75 Q221.204 458.333 221.204 467.083 Q221.204 475.81 218.125 480.417 Q215.07 485 209.26 485 Q203.449 485 200.371 480.417 Q197.315 475.81 197.315 467.083 Q197.315 458.333 200.371 453.75 Q203.449 449.144 209.26 449.144 Z\" fill=\"#000000\" fill-rule=\"nonzero\" fill-opacity=\"1\" /><path clip-path=\"url(#clip180)\" d=\"M257.593 458.866 L247.014 469.491 L257.593 480.069 L254.838 482.87 L244.213 472.245 L233.588 482.87 L230.857 480.069 L241.412 469.491 L230.857 458.866 L233.588 456.065 L244.213 466.69 L254.838 456.065 L257.593 458.866 Z\" fill=\"#000000\" fill-rule=\"nonzero\" fill-opacity=\"1\" /><path clip-path=\"url(#clip180)\" d=\"M269.954 480.393 L277.593 480.393 L277.593 454.028 L269.282 455.694 L269.282 451.435 L277.546 449.769 L282.222 449.769 L282.222 480.393 L289.861 480.393 L289.861 484.329 L269.954 484.329 L269.954 480.393 Z\" fill=\"#000000\" fill-rule=\"nonzero\" fill-opacity=\"1\" /><path clip-path=\"url(#clip180)\" d=\"M309.305 452.847 Q305.694 452.847 303.866 456.412 Q302.06 459.954 302.06 467.083 Q302.06 474.19 303.866 477.754 Q305.694 481.296 309.305 481.296 Q312.94 481.296 314.745 477.754 Q316.574 474.19 316.574 467.083 Q316.574 459.954 314.745 456.412 Q312.94 452.847 309.305 452.847 M309.305 449.144 Q315.116 449.144 318.171 453.75 Q321.25 458.333 321.25 467.083 Q321.25 475.81 318.171 480.417 Q315.116 485 309.305 485 Q303.495 485 300.417 480.417 Q297.361 475.81 297.361 467.083 Q297.361 458.333 300.417 453.75 Q303.495 449.144 309.305 449.144 Z\" fill=\"#000000\" fill-rule=\"nonzero\" fill-opacity=\"1\" /><path clip-path=\"url(#clip180)\" d=\"M321.25 443.245 L345.361 443.245 L345.361 446.442 L321.25 446.442 L321.25 443.245 Z\" fill=\"#000000\" fill-rule=\"nonzero\" fill-opacity=\"1\" /><path clip-path=\"url(#clip180)\" d=\"M354.22 453.721 L360.426 453.721 L360.426 432.299 L353.674 433.653 L353.674 430.192 L360.389 428.838 L364.188 428.838 L364.188 453.721 L370.394 453.721 L370.394 456.918 L354.22 456.918 L354.22 453.721 Z\" fill=\"#000000\" fill-rule=\"nonzero\" fill-opacity=\"1\" /><path clip-path=\"url(#clip180)\" d=\"M388.506 432.148 L378.914 447.138 L388.506 447.138 L388.506 432.148 M387.51 428.838 L392.287 428.838 L392.287 447.138 L396.293 447.138 L396.293 450.298 L392.287 450.298 L392.287 456.918 L388.506 456.918 L388.506 450.298 L375.83 450.298 L375.83 446.63 L387.51 428.838 Z\" fill=\"#000000\" fill-rule=\"nonzero\" fill-opacity=\"1\" /><path clip-path=\"url(#clip180)\" d=\"M166.876 122.978 L155.07 141.427 L166.876 141.427 L166.876 122.978 M165.649 118.904 L171.528 118.904 L171.528 141.427 L176.459 141.427 L176.459 145.316 L171.528 145.316 L171.528 153.464 L166.876 153.464 L166.876 145.316 L151.274 145.316 L151.274 140.802 L165.649 118.904 Z\" fill=\"#000000\" fill-rule=\"nonzero\" fill-opacity=\"1\" /><path clip-path=\"url(#clip180)\" d=\"M184.19 147.585 L189.075 147.585 L189.075 153.464 L184.19 153.464 L184.19 147.585 Z\" fill=\"#000000\" fill-rule=\"nonzero\" fill-opacity=\"1\" /><path clip-path=\"url(#clip180)\" d=\"M209.26 121.983 Q205.649 121.983 203.82 125.548 Q202.014 129.089 202.014 136.219 Q202.014 143.325 203.82 146.89 Q205.649 150.432 209.26 150.432 Q212.894 150.432 214.699 146.89 Q216.528 143.325 216.528 136.219 Q216.528 129.089 214.699 125.548 Q212.894 121.983 209.26 121.983 M209.26 118.279 Q215.07 118.279 218.125 122.886 Q221.204 127.469 221.204 136.219 Q221.204 144.946 218.125 149.552 Q215.07 154.136 209.26 154.136 Q203.449 154.136 200.371 149.552 Q197.315 144.946 197.315 136.219 Q197.315 127.469 200.371 122.886 Q203.449 118.279 209.26 118.279 Z\" fill=\"#000000\" fill-rule=\"nonzero\" fill-opacity=\"1\" /><path clip-path=\"url(#clip180)\" d=\"M257.593 128.002 L247.014 138.626 L257.593 149.205 L254.838 152.006 L244.213 141.381 L233.588 152.006 L230.857 149.205 L241.412 138.626 L230.857 128.002 L233.588 125.201 L244.213 135.826 L254.838 125.201 L257.593 128.002 Z\" fill=\"#000000\" fill-rule=\"nonzero\" fill-opacity=\"1\" /><path clip-path=\"url(#clip180)\" d=\"M269.954 149.529 L277.593 149.529 L277.593 123.164 L269.282 124.83 L269.282 120.571 L277.546 118.904 L282.222 118.904 L282.222 149.529 L289.861 149.529 L289.861 153.464 L269.954 153.464 L269.954 149.529 Z\" fill=\"#000000\" fill-rule=\"nonzero\" fill-opacity=\"1\" /><path clip-path=\"url(#clip180)\" d=\"M309.305 121.983 Q305.694 121.983 303.866 125.548 Q302.06 129.089 302.06 136.219 Q302.06 143.325 303.866 146.89 Q305.694 150.432 309.305 150.432 Q312.94 150.432 314.745 146.89 Q316.574 143.325 316.574 136.219 Q316.574 129.089 314.745 125.548 Q312.94 121.983 309.305 121.983 M309.305 118.279 Q315.116 118.279 318.171 122.886 Q321.25 127.469 321.25 136.219 Q321.25 144.946 318.171 149.552 Q315.116 154.136 309.305 154.136 Q303.495 154.136 300.417 149.552 Q297.361 144.946 297.361 136.219 Q297.361 127.469 300.417 122.886 Q303.495 118.279 309.305 118.279 Z\" fill=\"#000000\" fill-rule=\"nonzero\" fill-opacity=\"1\" /><path clip-path=\"url(#clip180)\" d=\"M321.25 112.381 L345.361 112.381 L345.361 115.578 L321.25 115.578 L321.25 112.381 Z\" fill=\"#000000\" fill-rule=\"nonzero\" fill-opacity=\"1\" /><path clip-path=\"url(#clip180)\" d=\"M354.22 122.857 L360.426 122.857 L360.426 101.435 L353.674 102.789 L353.674 99.3281 L360.389 97.9739 L364.188 97.9739 L364.188 122.857 L370.394 122.857 L370.394 126.054 L354.22 126.054 L354.22 122.857 Z\" fill=\"#000000\" fill-rule=\"nonzero\" fill-opacity=\"1\" /><path clip-path=\"url(#clip180)\" d=\"M388.506 101.284 L378.914 116.274 L388.506 116.274 L388.506 101.284 M387.51 97.9739 L392.287 97.9739 L392.287 116.274 L396.293 116.274 L396.293 119.434 L392.287 119.434 L392.287 126.054 L388.506 126.054 L388.506 119.434 L375.83 119.434 L375.83 115.766 L387.51 97.9739 Z\" fill=\"#000000\" fill-rule=\"nonzero\" fill-opacity=\"1\" /><path clip-path=\"url(#clip180)\" d=\"M67.3143 733.525 Q73.68 736.008 75.6216 738.363 Q77.5631 740.718 77.5631 744.665 L77.5631 749.344 L72.6615 749.344 L72.6615 745.906 Q72.6615 743.487 71.5157 742.151 Q70.3699 740.814 66.1048 739.191 L63.4312 738.14 L28.3562 752.559 L28.3562 746.352 L56.238 735.212 L28.3562 724.072 L28.3562 717.865 L67.3143 733.525 Z\" fill=\"#000000\" fill-rule=\"nonzero\" fill-opacity=\"1\" /><polyline clip-path=\"url(#clip182)\" style=\"stroke:#009af9; stroke-linecap:round; stroke-linejoin:round; stroke-width:4; stroke-opacity:1; fill:none\" points=\"486.646,1379.2 504.946,1246.96 523.247,1305.73 541.547,1173.49 559.848,1100.02 578.148,1026.56 596.449,953.092 614.75,997.172 633.05,923.705 651.351,850.238 669.651,953.092 687.952,997.172 706.253,806.158 724.553,850.238 742.854,835.545 761.154,820.852 779.455,864.932 797.755,732.692 816.056,791.465 834.357,835.545 852.657,879.625 870.958,806.158 889.258,732.692 907.559,835.545 925.859,820.852 944.16,806.158 962.461,732.692 980.761,894.318 999.062,820.852 1017.36,806.158 1035.66,732.692 1053.96,894.318 1072.26,762.078 1090.56,806.158 1108.87,806.158 1127.17,673.919 1145.47,835.545 1163.77,762.078 1182.07,688.612 1200.37,673.919 1218.67,776.772 1236.97,703.305 1255.27,923.705 1273.57,850.238 1291.87,717.999 1310.17,703.305 1328.47,747.385 1346.77,732.692 1365.07,717.999 1383.37,762.078 1401.67,820.852 1419.98,688.612 1438.28,732.692 1456.58,717.999 1474.88,879.625 1493.18,806.158 1511.48,909.012 1529.78,835.545 1548.08,762.078 1566.38,747.385 1584.68,732.692 1602.98,835.545 1621.28,820.852 1639.58,688.612 1657.88,791.465 1676.18,835.545 1694.48,835.545 1712.78,879.625 1731.09,806.158 1749.39,732.692 1767.69,894.318 1785.99,879.625 1804.29,747.385 1822.59,850.238 1840.89,776.772 1859.19,879.625 1877.49,747.385 1895.79,850.238 1914.09,659.225 1932.39,938.398 1950.69,688.612 1968.99,791.465 1987.29,791.465 2005.59,717.999 2023.89,644.532 2042.2,688.612 2060.5,673.919 2078.8,717.999 2097.1,703.305 2115.4,688.612 2133.7,615.145 2152,659.225 2170.3,644.532 2188.6,629.839 2206.9,438.825 2225.2,541.679 2243.5,409.439 2261.8,335.972 2280.1,277.199 2298.4,86.1857 \"/>\n",
       "<polyline clip-path=\"url(#clip182)\" style=\"stroke:#e26f46; stroke-linecap:round; stroke-linejoin:round; stroke-width:4; stroke-opacity:1; fill:none\" points=\"486.646,1384.24 504.946,1305.32 523.247,1235.59 541.547,1174.13 559.848,1120.11 578.148,1072.77 596.449,1031.39 614.75,995.345 633.05,964.044 651.351,936.957 669.651,913.598 687.952,893.53 706.253,876.358 724.553,861.724 742.854,849.308 761.154,838.822 779.455,830.01 797.755,822.642 816.056,816.516 834.357,811.452 852.657,807.292 870.958,803.898 889.258,801.147 907.559,798.936 925.859,797.172 944.16,795.778 962.461,794.687 980.761,793.842 999.062,793.194 1017.36,792.704 1035.66,792.338 1053.96,792.069 1072.26,791.874 1090.56,791.736 1108.87,791.64 1127.17,791.575 1145.47,791.532 1163.77,791.504 1182.07,791.487 1200.37,791.477 1218.67,791.471 1236.97,791.468 1255.27,791.466 1273.57,791.466 1291.87,791.465 1310.17,791.465 1328.47,791.465 1346.77,791.465 1365.07,791.465 1383.37,791.465 1401.67,791.465 1419.98,791.465 1438.28,791.465 1456.58,791.465 1474.88,791.465 1493.18,791.465 1511.48,791.465 1529.78,791.464 1548.08,791.463 1566.38,791.459 1584.68,791.454 1602.98,791.443 1621.28,791.426 1639.58,791.399 1657.88,791.355 1676.18,791.29 1694.48,791.194 1712.78,791.056 1731.09,790.861 1749.39,790.592 1767.69,790.227 1785.99,789.736 1804.29,789.089 1822.59,788.243 1840.89,787.152 1859.19,785.758 1877.49,783.994 1895.79,781.783 1914.09,779.032 1932.39,775.638 1950.69,771.478 1968.99,766.414 1987.29,760.288 2005.59,752.92 2023.89,744.108 2042.2,733.622 2060.5,721.206 2078.8,706.572 2097.1,689.4 2115.4,669.332 2133.7,645.974 2152,618.886 2170.3,587.585 2188.6,551.539 2206.9,510.164 2225.2,462.816 2243.5,408.797 2261.8,347.338 2280.1,277.606 2298.4,198.692 \"/>\n",
       "<path clip-path=\"url(#clip180)\" d=\"M496.308 248.629 L2126.52 248.629 L2126.52 93.1086 L496.308 93.1086  Z\" fill=\"#ffffff\" fill-rule=\"evenodd\" fill-opacity=\"1\"/>\n",
       "<polyline clip-path=\"url(#clip180)\" style=\"stroke:#000000; stroke-linecap:round; stroke-linejoin:round; stroke-width:4; stroke-opacity:1; fill:none\" points=\"496.308,248.629 2126.52,248.629 2126.52,93.1086 496.308,93.1086 496.308,248.629 \"/>\n",
       "<polyline clip-path=\"url(#clip180)\" style=\"stroke:#009af9; stroke-linecap:round; stroke-linejoin:round; stroke-width:4; stroke-opacity:1; fill:none\" points=\"517.647,144.949 645.678,144.949 \"/>\n",
       "<path clip-path=\"url(#clip180)\" d=\"M680.859 164.636 Q679.053 169.266 677.34 170.678 Q675.627 172.09 672.757 172.09 L669.354 172.09 L669.354 168.525 L671.854 168.525 Q673.613 168.525 674.585 167.692 Q675.558 166.858 676.738 163.756 L677.502 161.812 L667.016 136.303 L671.53 136.303 L679.632 156.581 L687.734 136.303 L692.247 136.303 L680.859 164.636 Z\" fill=\"#000000\" fill-rule=\"nonzero\" fill-opacity=\"1\" /><path clip-path=\"url(#clip180)\" d=\"M713.752 140.701 L743.428 140.701 L743.428 144.59 L713.752 144.59 L713.752 140.701 M713.752 150.145 L743.428 150.145 L743.428 154.081 L713.752 154.081 L713.752 150.145 Z\" fill=\"#000000\" fill-rule=\"nonzero\" fill-opacity=\"1\" /><path clip-path=\"url(#clip180)\" d=\"M789.539 136.303 L780.164 148.919 L790.025 162.229 L785.002 162.229 L777.455 152.043 L769.909 162.229 L764.886 162.229 L774.955 148.664 L765.742 136.303 L770.766 136.303 L777.64 145.539 L784.515 136.303 L789.539 136.303 Z\" fill=\"#000000\" fill-rule=\"nonzero\" fill-opacity=\"1\" /><path clip-path=\"url(#clip180)\" d=\"M813.705 127.669 L826.274 140.562 L821.622 140.562 L811.437 131.419 L801.251 140.562 L796.599 140.562 L809.168 127.669 L813.705 127.669 Z\" fill=\"#000000\" fill-rule=\"nonzero\" fill-opacity=\"1\" /><path clip-path=\"url(#clip180)\" d=\"M835.186 127.669 L857.409 127.669 L857.409 129.659 L844.862 162.229 L839.978 162.229 L851.784 131.604 L835.186 131.604 L835.186 127.669 Z\" fill=\"#000000\" fill-rule=\"nonzero\" fill-opacity=\"1\" /><path clip-path=\"url(#clip180)\" d=\"M878.844 147.344 L891.32 147.344 L891.32 151.141 L878.844 151.141 L878.844 147.344 Z\" fill=\"#000000\" fill-rule=\"nonzero\" fill-opacity=\"1\" /><path clip-path=\"url(#clip180)\" d=\"M912.593 127.669 L934.816 127.669 L934.816 129.659 L922.269 162.229 L917.385 162.229 L929.191 131.604 L912.593 131.604 L912.593 127.669 Z\" fill=\"#000000\" fill-rule=\"nonzero\" fill-opacity=\"1\" /><path clip-path=\"url(#clip180)\" d=\"M964.885 136.303 L955.51 148.919 L965.371 162.229 L960.348 162.229 L952.802 152.043 L945.255 162.229 L940.232 162.229 L950.302 148.664 L941.089 136.303 L946.112 136.303 L952.987 145.539 L959.862 136.303 L964.885 136.303 Z\" fill=\"#000000\" fill-rule=\"nonzero\" fill-opacity=\"1\" /><path clip-path=\"url(#clip180)\" d=\"M989.051 127.669 L1001.62 140.562 L996.968 140.562 L986.783 131.419 L976.598 140.562 L971.945 140.562 L984.514 127.669 L989.051 127.669 Z\" fill=\"#000000\" fill-rule=\"nonzero\" fill-opacity=\"1\" /><path clip-path=\"url(#clip180)\" d=\"M1022.29 143.085 Q1019.14 143.085 1017.29 145.238 Q1015.46 147.391 1015.46 151.141 Q1015.46 154.868 1017.29 157.043 Q1019.14 159.196 1022.29 159.196 Q1025.44 159.196 1027.27 157.043 Q1029.12 154.868 1029.12 151.141 Q1029.12 147.391 1027.27 145.238 Q1025.44 143.085 1022.29 143.085 M1031.57 128.433 L1031.57 132.692 Q1029.82 131.858 1028.01 131.419 Q1026.23 130.979 1024.47 130.979 Q1019.84 130.979 1017.38 134.104 Q1014.95 137.229 1014.61 143.548 Q1015.97 141.534 1018.03 140.469 Q1020.09 139.382 1022.57 139.382 Q1027.78 139.382 1030.79 142.553 Q1033.82 145.701 1033.82 151.141 Q1033.82 156.465 1030.67 159.682 Q1027.52 162.9 1022.29 162.9 Q1016.3 162.9 1013.13 158.317 Q1009.95 153.71 1009.95 144.983 Q1009.95 136.789 1013.84 131.928 Q1017.73 127.044 1024.28 127.044 Q1026.04 127.044 1027.82 127.391 Q1029.63 127.738 1031.57 128.433 Z\" fill=\"#000000\" fill-rule=\"nonzero\" fill-opacity=\"1\" /><path clip-path=\"url(#clip180)\" d=\"M1073.68 132.507 L1073.68 145.4 L1086.57 145.4 L1086.57 149.335 L1073.68 149.335 L1073.68 162.229 L1069.79 162.229 L1069.79 149.335 L1056.9 149.335 L1056.9 145.4 L1069.79 145.4 L1069.79 132.507 L1073.68 132.507 Z\" fill=\"#000000\" fill-rule=\"nonzero\" fill-opacity=\"1\" /><path clip-path=\"url(#clip180)\" d=\"M1115.76 158.293 L1132.08 158.293 L1132.08 162.229 L1110.14 162.229 L1110.14 158.293 Q1112.8 155.539 1117.38 150.909 Q1121.99 146.256 1123.17 144.914 Q1125.42 142.391 1126.3 140.655 Q1127.2 138.895 1127.2 137.206 Q1127.2 134.451 1125.25 132.715 Q1123.33 130.979 1120.23 130.979 Q1118.03 130.979 1115.58 131.743 Q1113.15 132.507 1110.37 134.057 L1110.37 129.335 Q1113.19 128.201 1115.65 127.622 Q1118.1 127.044 1120.14 127.044 Q1125.51 127.044 1128.7 129.729 Q1131.9 132.414 1131.9 136.905 Q1131.9 139.034 1131.09 140.956 Q1130.3 142.854 1128.19 145.446 Q1127.62 146.118 1124.51 149.335 Q1121.41 152.53 1115.76 158.293 Z\" fill=\"#000000\" fill-rule=\"nonzero\" fill-opacity=\"1\" /><path clip-path=\"url(#clip180)\" d=\"M1142.71 158.293 L1150.35 158.293 L1150.35 131.928 L1142.04 133.595 L1142.04 129.335 L1150.3 127.669 L1154.98 127.669 L1154.98 158.293 L1162.62 158.293 L1162.62 162.229 L1142.71 162.229 L1142.71 158.293 Z\" fill=\"#000000\" fill-rule=\"nonzero\" fill-opacity=\"1\" /><path clip-path=\"url(#clip180)\" d=\"M1193.01 136.303 L1183.63 148.919 L1193.49 162.229 L1188.47 162.229 L1180.93 152.043 L1173.38 162.229 L1168.36 162.229 L1178.43 148.664 L1169.21 136.303 L1174.24 136.303 L1181.11 145.539 L1187.99 136.303 L1193.01 136.303 Z\" fill=\"#000000\" fill-rule=\"nonzero\" fill-opacity=\"1\" /><path clip-path=\"url(#clip180)\" d=\"M1217.18 127.669 L1229.74 140.562 L1225.09 140.562 L1214.91 131.419 L1204.72 140.562 L1200.07 140.562 L1212.64 127.669 L1217.18 127.669 Z\" fill=\"#000000\" fill-rule=\"nonzero\" fill-opacity=\"1\" /><path clip-path=\"url(#clip180)\" d=\"M1239.88 127.669 L1258.24 127.669 L1258.24 131.604 L1244.17 131.604 L1244.17 140.076 Q1245.18 139.729 1246.2 139.567 Q1247.22 139.382 1248.24 139.382 Q1254.03 139.382 1257.41 142.553 Q1260.79 145.724 1260.79 151.141 Q1260.79 156.719 1257.31 159.821 Q1253.84 162.9 1247.52 162.9 Q1245.35 162.9 1243.08 162.53 Q1240.83 162.159 1238.43 161.418 L1238.43 156.719 Q1240.51 157.854 1242.73 158.409 Q1244.95 158.965 1247.43 158.965 Q1251.43 158.965 1253.77 156.858 Q1256.11 154.752 1256.11 151.141 Q1256.11 147.53 1253.77 145.423 Q1251.43 143.317 1247.43 143.317 Q1245.55 143.317 1243.68 143.733 Q1241.83 144.15 1239.88 145.03 L1239.88 127.669 Z\" fill=\"#000000\" fill-rule=\"nonzero\" fill-opacity=\"1\" /><path clip-path=\"url(#clip180)\" d=\"M1282.31 147.344 L1294.79 147.344 L1294.79 151.141 L1282.31 151.141 L1282.31 147.344 Z\" fill=\"#000000\" fill-rule=\"nonzero\" fill-opacity=\"1\" /><path clip-path=\"url(#clip180)\" d=\"M1331.41 143.594 Q1334.77 144.312 1336.64 146.581 Q1338.54 148.849 1338.54 152.182 Q1338.54 157.298 1335.02 160.099 Q1331.5 162.9 1325.02 162.9 Q1322.85 162.9 1320.53 162.46 Q1318.24 162.043 1315.79 161.187 L1315.79 156.673 Q1317.73 157.807 1320.04 158.386 Q1322.36 158.965 1324.88 158.965 Q1329.28 158.965 1331.57 157.229 Q1333.89 155.493 1333.89 152.182 Q1333.89 149.127 1331.73 147.414 Q1329.61 145.678 1325.79 145.678 L1321.76 145.678 L1321.76 141.835 L1325.97 141.835 Q1329.42 141.835 1331.25 140.469 Q1333.08 139.081 1333.08 136.488 Q1333.08 133.826 1331.18 132.414 Q1329.3 130.979 1325.79 130.979 Q1323.86 130.979 1321.67 131.395 Q1319.47 131.812 1316.83 132.692 L1316.83 128.525 Q1319.49 127.784 1321.8 127.414 Q1324.14 127.044 1326.2 127.044 Q1331.53 127.044 1334.63 129.474 Q1337.73 131.882 1337.73 136.002 Q1337.73 138.872 1336.09 140.863 Q1334.44 142.831 1331.41 143.594 Z\" fill=\"#000000\" fill-rule=\"nonzero\" fill-opacity=\"1\" /><path clip-path=\"url(#clip180)\" d=\"M1347.45 127.669 L1365.81 127.669 L1365.81 131.604 L1351.73 131.604 L1351.73 140.076 Q1352.75 139.729 1353.77 139.567 Q1354.79 139.382 1355.81 139.382 Q1361.6 139.382 1364.98 142.553 Q1368.35 145.724 1368.35 151.141 Q1368.35 156.719 1364.88 159.821 Q1361.41 162.9 1355.09 162.9 Q1352.92 162.9 1350.65 162.53 Q1348.4 162.159 1345.99 161.418 L1345.99 156.719 Q1348.08 157.854 1350.3 158.409 Q1352.52 158.965 1355 158.965 Q1359 158.965 1361.34 156.858 Q1363.68 154.752 1363.68 151.141 Q1363.68 147.53 1361.34 145.423 Q1359 143.317 1355 143.317 Q1353.12 143.317 1351.25 143.733 Q1349.4 144.15 1347.45 145.03 L1347.45 127.669 Z\" fill=\"#000000\" fill-rule=\"nonzero\" fill-opacity=\"1\" /><path clip-path=\"url(#clip180)\" d=\"M1398.52 136.303 L1389.14 148.919 L1399 162.229 L1393.98 162.229 L1386.43 152.043 L1378.89 162.229 L1373.86 162.229 L1383.93 148.664 L1374.72 136.303 L1379.74 136.303 L1386.62 145.539 L1393.49 136.303 L1398.52 136.303 Z\" fill=\"#000000\" fill-rule=\"nonzero\" fill-opacity=\"1\" /><path clip-path=\"url(#clip180)\" d=\"M1422.68 127.669 L1435.25 140.562 L1430.6 140.562 L1420.41 131.419 L1410.23 140.562 L1405.58 140.562 L1418.15 127.669 L1422.68 127.669 Z\" fill=\"#000000\" fill-rule=\"nonzero\" fill-opacity=\"1\" /><path clip-path=\"url(#clip180)\" d=\"M1458.19 131.743 L1446.39 150.192 L1458.19 150.192 L1458.19 131.743 M1456.97 127.669 L1462.85 127.669 L1462.85 150.192 L1467.78 150.192 L1467.78 154.081 L1462.85 154.081 L1462.85 162.229 L1458.19 162.229 L1458.19 154.081 L1442.59 154.081 L1442.59 149.567 L1456.97 127.669 Z\" fill=\"#000000\" fill-rule=\"nonzero\" fill-opacity=\"1\" /><path clip-path=\"url(#clip180)\" d=\"M1507.31 132.507 L1507.31 145.4 L1520.21 145.4 L1520.21 149.335 L1507.31 149.335 L1507.31 162.229 L1503.42 162.229 L1503.42 149.335 L1490.53 149.335 L1490.53 145.4 L1503.42 145.4 L1503.42 132.507 L1507.31 132.507 Z\" fill=\"#000000\" fill-rule=\"nonzero\" fill-opacity=\"1\" /><path clip-path=\"url(#clip180)\" d=\"M1559.53 143.594 Q1562.89 144.312 1564.77 146.581 Q1566.66 148.849 1566.66 152.182 Q1566.66 157.298 1563.15 160.099 Q1559.63 162.9 1553.15 162.9 Q1550.97 162.9 1548.65 162.46 Q1546.36 162.043 1543.91 161.187 L1543.91 156.673 Q1545.85 157.807 1548.17 158.386 Q1550.48 158.965 1553.01 158.965 Q1557.4 158.965 1559.7 157.229 Q1562.01 155.493 1562.01 152.182 Q1562.01 149.127 1559.86 147.414 Q1557.73 145.678 1553.91 145.678 L1549.88 145.678 L1549.88 141.835 L1554.09 141.835 Q1557.54 141.835 1559.37 140.469 Q1561.2 139.081 1561.2 136.488 Q1561.2 133.826 1559.3 132.414 Q1557.43 130.979 1553.91 130.979 Q1551.99 130.979 1549.79 131.395 Q1547.59 131.812 1544.95 132.692 L1544.95 128.525 Q1547.61 127.784 1549.93 127.414 Q1552.27 127.044 1554.33 127.044 Q1559.65 127.044 1562.75 129.474 Q1565.85 131.882 1565.85 136.002 Q1565.85 138.872 1564.21 140.863 Q1562.57 142.831 1559.53 143.594 Z\" fill=\"#000000\" fill-rule=\"nonzero\" fill-opacity=\"1\" /><path clip-path=\"url(#clip180)\" d=\"M1575.58 127.669 L1593.93 127.669 L1593.93 131.604 L1579.86 131.604 L1579.86 140.076 Q1580.88 139.729 1581.9 139.567 Q1582.91 139.382 1583.93 139.382 Q1589.72 139.382 1593.1 142.553 Q1596.48 145.724 1596.48 151.141 Q1596.48 156.719 1593.01 159.821 Q1589.53 162.9 1583.21 162.9 Q1581.04 162.9 1578.77 162.53 Q1576.53 162.159 1574.12 161.418 L1574.12 156.719 Q1576.2 157.854 1578.42 158.409 Q1580.65 158.965 1583.12 158.965 Q1587.13 158.965 1589.46 156.858 Q1591.8 154.752 1591.8 151.141 Q1591.8 147.53 1589.46 145.423 Q1587.13 143.317 1583.12 143.317 Q1581.25 143.317 1579.37 143.733 Q1577.52 144.15 1575.58 145.03 L1575.58 127.669 Z\" fill=\"#000000\" fill-rule=\"nonzero\" fill-opacity=\"1\" /><path clip-path=\"url(#clip180)\" d=\"M1626.64 136.303 L1617.27 148.919 L1627.13 162.229 L1622.1 162.229 L1614.56 152.043 L1607.01 162.229 L1601.99 162.229 L1612.06 148.664 L1602.84 136.303 L1607.87 136.303 L1614.74 145.539 L1621.62 136.303 L1626.64 136.303 Z\" fill=\"#000000\" fill-rule=\"nonzero\" fill-opacity=\"1\" /><path clip-path=\"url(#clip180)\" d=\"M1650.81 127.669 L1663.38 140.562 L1658.72 140.562 L1648.54 131.419 L1638.35 140.562 L1633.7 140.562 L1646.27 127.669 L1650.81 127.669 Z\" fill=\"#000000\" fill-rule=\"nonzero\" fill-opacity=\"1\" /><path clip-path=\"url(#clip180)\" d=\"M1687.64 143.594 Q1690.99 144.312 1692.87 146.581 Q1694.77 148.849 1694.77 152.182 Q1694.77 157.298 1691.25 160.099 Q1687.73 162.9 1681.25 162.9 Q1679.07 162.9 1676.76 162.46 Q1674.46 162.043 1672.01 161.187 L1672.01 156.673 Q1673.96 157.807 1676.27 158.386 Q1678.58 158.965 1681.11 158.965 Q1685.51 158.965 1687.8 157.229 Q1690.11 155.493 1690.11 152.182 Q1690.11 149.127 1687.96 147.414 Q1685.83 145.678 1682.01 145.678 L1677.98 145.678 L1677.98 141.835 L1682.2 141.835 Q1685.64 141.835 1687.47 140.469 Q1689.3 139.081 1689.3 136.488 Q1689.3 133.826 1687.4 132.414 Q1685.53 130.979 1682.01 130.979 Q1680.09 130.979 1677.89 131.395 Q1675.69 131.812 1673.05 132.692 L1673.05 128.525 Q1675.71 127.784 1678.03 127.414 Q1680.37 127.044 1682.43 127.044 Q1687.75 127.044 1690.85 129.474 Q1693.96 131.882 1693.96 136.002 Q1693.96 138.872 1692.31 140.863 Q1690.67 142.831 1687.64 143.594 Z\" fill=\"#000000\" fill-rule=\"nonzero\" fill-opacity=\"1\" /><path clip-path=\"url(#clip180)\" d=\"M1715.95 147.344 L1728.42 147.344 L1728.42 151.141 L1715.95 151.141 L1715.95 147.344 Z\" fill=\"#000000\" fill-rule=\"nonzero\" fill-opacity=\"1\" /><path clip-path=\"url(#clip180)\" d=\"M1754.9 158.293 L1771.22 158.293 L1771.22 162.229 L1749.28 162.229 L1749.28 158.293 Q1751.94 155.539 1756.52 150.909 Q1761.13 146.256 1762.31 144.914 Q1764.56 142.391 1765.44 140.655 Q1766.34 138.895 1766.34 137.206 Q1766.34 134.451 1764.39 132.715 Q1762.47 130.979 1759.37 130.979 Q1757.17 130.979 1754.72 131.743 Q1752.29 132.507 1749.51 134.057 L1749.51 129.335 Q1752.33 128.201 1754.79 127.622 Q1757.24 127.044 1759.28 127.044 Q1764.65 127.044 1767.84 129.729 Q1771.04 132.414 1771.04 136.905 Q1771.04 139.034 1770.23 140.956 Q1769.44 142.854 1767.33 145.446 Q1766.76 146.118 1763.65 149.335 Q1760.55 152.53 1754.9 158.293 Z\" fill=\"#000000\" fill-rule=\"nonzero\" fill-opacity=\"1\" /><path clip-path=\"url(#clip180)\" d=\"M1781.85 158.293 L1789.49 158.293 L1789.49 131.928 L1781.18 133.595 L1781.18 129.335 L1789.44 127.669 L1794.12 127.669 L1794.12 158.293 L1801.76 158.293 L1801.76 162.229 L1781.85 162.229 L1781.85 158.293 Z\" fill=\"#000000\" fill-rule=\"nonzero\" fill-opacity=\"1\" /><path clip-path=\"url(#clip180)\" d=\"M1832.15 136.303 L1822.77 148.919 L1832.63 162.229 L1827.61 162.229 L1820.07 152.043 L1812.52 162.229 L1807.5 162.229 L1817.57 148.664 L1808.35 136.303 L1813.38 136.303 L1820.25 145.539 L1827.13 136.303 L1832.15 136.303 Z\" fill=\"#000000\" fill-rule=\"nonzero\" fill-opacity=\"1\" /><path clip-path=\"url(#clip180)\" d=\"M1856.32 127.669 L1868.88 140.562 L1864.23 140.562 L1854.05 131.419 L1843.86 140.562 L1839.21 140.562 L1851.78 127.669 L1856.32 127.669 Z\" fill=\"#000000\" fill-rule=\"nonzero\" fill-opacity=\"1\" /><path clip-path=\"url(#clip180)\" d=\"M1883 158.293 L1899.32 158.293 L1899.32 162.229 L1877.38 162.229 L1877.38 158.293 Q1880.04 155.539 1884.63 150.909 Q1889.23 146.256 1890.41 144.914 Q1892.66 142.391 1893.54 140.655 Q1894.44 138.895 1894.44 137.206 Q1894.44 134.451 1892.5 132.715 Q1890.57 130.979 1887.47 130.979 Q1885.27 130.979 1882.82 131.743 Q1880.39 132.507 1877.61 134.057 L1877.61 129.335 Q1880.44 128.201 1882.89 127.622 Q1885.34 127.044 1887.38 127.044 Q1892.75 127.044 1895.94 129.729 Q1899.14 132.414 1899.14 136.905 Q1899.14 139.034 1898.33 140.956 Q1897.54 142.854 1895.44 145.446 Q1894.86 146.118 1891.75 149.335 Q1888.65 152.53 1883 158.293 Z\" fill=\"#000000\" fill-rule=\"nonzero\" fill-opacity=\"1\" /><path clip-path=\"url(#clip180)\" d=\"M1940.94 132.507 L1940.94 145.4 L1953.84 145.4 L1953.84 149.335 L1940.94 149.335 L1940.94 162.229 L1937.06 162.229 L1937.06 149.335 L1924.16 149.335 L1924.16 145.4 L1937.06 145.4 L1937.06 132.507 L1940.94 132.507 Z\" fill=\"#000000\" fill-rule=\"nonzero\" fill-opacity=\"1\" /><path clip-path=\"url(#clip180)\" d=\"M1977.82 127.669 L2000.04 127.669 L2000.04 129.659 L1987.5 162.229 L1982.61 162.229 L1994.42 131.604 L1977.82 131.604 L1977.82 127.669 Z\" fill=\"#000000\" fill-rule=\"nonzero\" fill-opacity=\"1\" /><path clip-path=\"url(#clip180)\" d=\"M2030.11 136.303 L2020.74 148.919 L2030.6 162.229 L2025.57 162.229 L2018.03 152.043 L2010.48 162.229 L2005.46 162.229 L2015.53 148.664 L2006.31 136.303 L2011.34 136.303 L2018.21 145.539 L2025.09 136.303 L2030.11 136.303 Z\" fill=\"#000000\" fill-rule=\"nonzero\" fill-opacity=\"1\" /><path clip-path=\"url(#clip180)\" d=\"M2049.53 147.344 L2062.01 147.344 L2062.01 151.141 L2049.53 151.141 L2049.53 147.344 Z\" fill=\"#000000\" fill-rule=\"nonzero\" fill-opacity=\"1\" /><path clip-path=\"url(#clip180)\" d=\"M2085.27 158.293 L2092.91 158.293 L2092.91 131.928 L2084.6 133.595 L2084.6 129.335 L2092.86 127.669 L2097.54 127.669 L2097.54 158.293 L2105.18 158.293 L2105.18 162.229 L2085.27 162.229 L2085.27 158.293 Z\" fill=\"#000000\" fill-rule=\"nonzero\" fill-opacity=\"1\" /><polyline clip-path=\"url(#clip180)\" style=\"stroke:#e26f46; stroke-linecap:round; stroke-linejoin:round; stroke-width:4; stroke-opacity:1; fill:none\" points=\"517.647,196.789 645.678,196.789 \"/>\n",
       "<path clip-path=\"url(#clip180)\" d=\"M680.859 216.476 Q679.053 221.106 677.34 222.518 Q675.627 223.93 672.757 223.93 L669.354 223.93 L669.354 220.365 L671.854 220.365 Q673.613 220.365 674.585 219.532 Q675.558 218.698 676.738 215.596 L677.502 213.652 L667.016 188.143 L671.53 188.143 L679.632 208.421 L687.734 188.143 L692.247 188.143 L680.859 216.476 Z\" fill=\"#000000\" fill-rule=\"nonzero\" fill-opacity=\"1\" /><path clip-path=\"url(#clip180)\" d=\"M713.752 192.541 L743.428 192.541 L743.428 196.43 L713.752 196.43 L713.752 192.541 M713.752 201.985 L743.428 201.985 L743.428 205.921 L713.752 205.921 L713.752 201.985 Z\" fill=\"#000000\" fill-rule=\"nonzero\" fill-opacity=\"1\" /><path clip-path=\"url(#clip180)\" d=\"M778.219 178.097 Q775.117 183.421 773.613 188.629 Q772.108 193.837 772.108 199.184 Q772.108 204.532 773.613 209.786 Q775.14 215.018 778.219 220.319 L774.515 220.319 Q771.043 214.879 769.307 209.624 Q767.594 204.37 767.594 199.184 Q767.594 194.022 769.307 188.791 Q771.02 183.56 774.515 178.097 L778.219 178.097 Z\" fill=\"#000000\" fill-rule=\"nonzero\" fill-opacity=\"1\" /><path clip-path=\"url(#clip180)\" d=\"M808.034 188.143 L798.659 200.759 L808.52 214.069 L803.497 214.069 L795.951 203.883 L788.404 214.069 L783.381 214.069 L793.451 200.504 L784.238 188.143 L789.261 188.143 L796.136 197.379 L803.011 188.143 L808.034 188.143 Z\" fill=\"#000000\" fill-rule=\"nonzero\" fill-opacity=\"1\" /><path clip-path=\"url(#clip180)\" d=\"M827.455 199.184 L839.932 199.184 L839.932 202.981 L827.455 202.981 L827.455 199.184 Z\" fill=\"#000000\" fill-rule=\"nonzero\" fill-opacity=\"1\" /><path clip-path=\"url(#clip180)\" d=\"M863.196 210.133 L870.834 210.133 L870.834 183.768 L862.524 185.435 L862.524 181.175 L870.788 179.509 L875.464 179.509 L875.464 210.133 L883.103 210.133 L883.103 214.069 L863.196 214.069 L863.196 210.133 Z\" fill=\"#000000\" fill-rule=\"nonzero\" fill-opacity=\"1\" /><path clip-path=\"url(#clip180)\" d=\"M891.274 178.097 L894.978 178.097 Q898.45 183.56 900.163 188.791 Q901.899 194.022 901.899 199.184 Q901.899 204.37 900.163 209.624 Q898.45 214.879 894.978 220.319 L891.274 220.319 Q894.353 215.018 895.857 209.786 Q897.385 204.532 897.385 199.184 Q897.385 193.837 895.857 188.629 Q894.353 183.421 891.274 178.097 Z\" fill=\"#000000\" fill-rule=\"nonzero\" fill-opacity=\"1\" /><path clip-path=\"url(#clip180)\" d=\"M928.103 179.509 L940.672 192.402 L936.019 192.402 L925.834 183.259 L915.649 192.402 L910.996 192.402 L923.566 179.509 L928.103 179.509 Z\" fill=\"#000000\" fill-rule=\"nonzero\" fill-opacity=\"1\" /><path clip-path=\"url(#clip180)\" d=\"M949.584 179.509 L971.806 179.509 L971.806 181.499 L959.26 214.069 L954.376 214.069 L966.181 183.444 L949.584 183.444 L949.584 179.509 Z\" fill=\"#000000\" fill-rule=\"nonzero\" fill-opacity=\"1\" /></svg>\n"
      ]
     },
     "metadata": {},
     "output_type": "display_data"
    }
   ],
   "source": [
    "# generate the data\n",
    "x = range(start = 0.988, stop = 1.012, length = 100)\n",
    "y1 = x.^7 .- 7x.^6 .+ 21x.^5 .- 35x.^4 .+ 35x.^3 .- 21x.^2 .+ 7x .- 1\n",
    "y2 = (x .- 1).^7\n",
    "\n",
    "# plot\n",
    "using Plots\n",
    "plot(x, y1, xlabel = \"x\", ylabel = \"y\", legend =:topleft,\n",
    "     label = \"y = x^7 - 7x^6 + 21x^5 - 35x^4 + 35x^3 - 21x^2 + 7x - 1\")\n",
    "plot!(x, y2,\n",
    "      label = \"y = (x - 1)^7\")"
   ]
  },
  {
   "attachments": {},
   "cell_type": "markdown",
   "metadata": {},
   "source": [
    "#### Part 3\n",
    "As shown above, these two function are mathematically equivalent. However, the plots are not the same, as the first function shows a noisy pattern and the second function plot is more stable. This is because the first function is much more sensitive to the precision of float numbers. "
   ]
  },
  {
   "attachments": {},
   "cell_type": "markdown",
   "metadata": {},
   "source": [
    "## Q5\n",
    "\n",
    "1. Show the **Sherman-Morrison formula**\n",
    "$$\n",
    "\t(\\mathbf{A} + \\mathbf{u} \\mathbf{u}^T)^{-1} = \\mathbf{A}^{-1} - \\frac{1}{1 + \\mathbf{u}^T \\mathbf{A}^{-1} \\mathbf{u}} \\mathbf{A}^{-1} \\mathbf{u} \\mathbf{u}^T \\mathbf{A}^{-1},\n",
    "$$\n",
    "where $\\mathbf{A} \\in \\mathbb{R}^{n \\times n}$ is nonsingular and $\\mathbf{u} \\in \\mathbb{R}^n$. This formula supplies the inverse of the symmetric, rank-one  perturbation of $\\mathbf{A}$.\n",
    "\n",
    "2. Show the **Woodbury formula**\n",
    "$$\n",
    "\t(\\mathbf{A} + \\mathbf{U} \\mathbf{V}^T)^{-1} = \\mathbf{A}^{-1} - \\mathbf{A}^{-1} \\mathbf{U} (\\mathbf{I}_m + \\mathbf{V}^T \\mathbf{A}^{-1} \\mathbf{U})^{-1} \\mathbf{V}^T \\mathbf{A}^{-1},\n",
    "$$\n",
    "where $\\mathbf{A} \\in \\mathbb{R}^{n \\times n}$ is nonsingular, $\\mathbf{U}, \\mathbf{V} \\in \\mathbb{R}^{n \\times m}$, and $\\mathbf{I}_m$ is the $m \\times m$ identity matrix. In many applications $m$ is much smaller than $n$. Woodbury formula generalizes Sherman-Morrison and is valuable because the smaller matrix $\\mathbf{I}_m + \\mathbf{V}^T \\mathbf{A}^{-1} \\mathbf{U}$ is cheaper to invert than the larger matrix $\\mathbf{A} + \\mathbf{U} \\mathbf{V}^T$.\n",
    "\n",
    "3. Show the **binomial inversion formula**\n",
    "$$\n",
    "\t(\\mathbf{A} + \\mathbf{U} \\mathbf{B} \\mathbf{V}^T)^{-1} = \\mathbf{A}^{-1} - \\mathbf{A}^{-1} \\mathbf{U} (\\mathbf{B}^{-1} + \\mathbf{V}^T \\mathbf{A}^{-1} \\mathbf{U})^{-1} \\mathbf{V}^T \\mathbf{A}^{-1},\n",
    "$$\n",
    "where $\\mathbf{A}$ and $\\mathbf{B}$ are nonsingular.\n",
    "\n",
    "4. Show the identity\n",
    "$$\n",
    "\t\\text{det}(\\mathbf{A} + \\mathbf{U} \\mathbf{V}^T) = \\text{det}(\\mathbf{A}) \\text{det}(\\mathbf{I}_m + \\mathbf{V}^T \\mathbf{A}^{-1} \\mathbf{U}).\n",
    "$$\n",
    "This formula is useful for evaluating the density of a multivariate normal with covariance matrix $\\mathbf{A} + \\mathbf{U} \\mathbf{V}^T$.\n",
    "\n",
    "**Hint**: 1 and 2 are special cases of 3. For 4, show that\n",
    "$$\n",
    "\\begin{pmatrix}\n",
    "- \\mathbf{A} & \\mathbf{O} \\\\\n",
    "\\mathbf{O} & \\mathbf{I} + \\mathbf{V}^T \\mathbf{A}^{-1} \\mathbf{U}\n",
    "\\end{pmatrix} = \\begin{pmatrix}\n",
    "\\mathbf{I} & \\mathbf{O} \\\\\n",
    "\\mathbf{V}^T \\mathbf{A}^{-1} & \\mathbf{I}\n",
    "\\end{pmatrix} \\begin{pmatrix}\n",
    "- \\mathbf{A} & \\mathbf{U} \\\\\n",
    "\\mathbf{V}^T & \\mathbf{I}\n",
    "\\end{pmatrix} \\begin{pmatrix}\n",
    "\\mathbf{I} & \\mathbf{A}^{-1} \\mathbf{U} \\\\\n",
    "\\mathbf{O} & \\mathbf{I}\n",
    "\\end{pmatrix}.\n",
    "$$"
   ]
  },
  {
   "attachments": {},
   "cell_type": "markdown",
   "metadata": {},
   "source": [
    "### Q5 answer\n",
    "#### Part 1\n",
    "The Sherman-Morrison formula is a special case of the Woodbury formula, when $\\mathbf{V} = \\mathbf{u}^T$ and $\\mathbf{U} = \\mathbf{u}$, i.e., $\\mathbf{V}$ and $\\mathbf{U}$ are 1-column matrices. So, the Sherman-Morrison formula will be proved if we can prove the Woodbury formula.\n",
    "\n",
    "#### Part 2\n",
    "The Woodbury formula is a special case of the binomial inversion formula, when $\\mathbf{B} = \\mathbf{I}_m$. So, the Woodbury formula will be proved if we can prove the binomial inversion formula.\n",
    "\n",
    "#### Part 3\n",
    "Proof:\n",
    "\n",
    "$$\n",
    "\\begin{aligned}\n",
    "&(\\mathbf{A}+\\mathbf{U}\\mathbf{B}\\mathbf{V}^T)\\left[\\mathbf{A}^{-1}-\\mathbf{A}^{-1}\\mathbf{U}(\\mathbf{B}^{-1}+\\mathbf{V}^T\\mathbf{A}^{-1}\\mathbf{U})^{-1}\\mathbf{V}^T\\mathbf{A}^{-1}\\right] \\\\\n",
    "=& \\mathbf{A}\\mathbf{A}^{-1} - \\mathbf{A}\\mathbf{A}^{-1}\\mathbf{U}(\\mathbf{B}^{-1}+\\mathbf{V}^T\\mathbf{A}^{-1}\\mathbf{U})^{-1}\\mathbf{V}^T\\mathbf{A}^{-1} + \\mathbf{U}\\mathbf{B}\\mathbf{V}^T\\mathbf{A}^{-1} - \\mathbf{U}\\mathbf{B}\\mathbf{V}^T\\mathbf{A}^{-1}\\mathbf{U}(\\mathbf{B}^{-1}+\\mathbf{V}^T\\mathbf{A}^{-1}\\mathbf{U})^{-1}\\mathbf{V}^T\\mathbf{A}^{-1} \\\\\n",
    "=& \\mathbf{I} + \\mathbf{U}\\mathbf{B}\\mathbf{V}^T\\mathbf{A}^{-1} -\\mathbf{U}(\\mathbf{B}^{-1}+\\mathbf{V}^T\\mathbf{A}^{-1}\\mathbf{U})\\mathbf{V}^T\\mathbf{A}^{-1} - \\mathbf{U}\\mathbf{B}\\mathbf{V}^T\\mathbf{A}^{-1}\\mathbf{U}(\\mathbf{B}^{-1}+\\mathbf{V}^T\\mathbf{A}^{-1}\\mathbf{U})\\mathbf{V}^T\\mathbf{A}^{-1} \\\\\n",
    "=& \\mathbf{I} + \\mathbf{U}\\mathbf{B}\\mathbf{V}^T\\mathbf{A}^{-1} -\\mathbf{U}\\mathbf{B}(\\mathbf{B}^{-1}+\\mathbf{V}^T\\mathbf{A}^{-1}\\mathbf{U})(\\mathbf{B}^{-1}+\\mathbf{V}^T\\mathbf{A}^{-1}\\mathbf{U})\\mathbf{V}^T\\mathbf{A}^{-1}\\\\\n",
    "=& \\mathbf{I} + \\mathbf{U}\\mathbf{B}\\mathbf{V}^T\\mathbf{A}^{-1} - \\mathbf{U}\\mathbf{B}\\mathbf{V}^T\\mathbf{A}^{-1} = \\mathbf{I}\n",
    "\\end{aligned}\n",
    "$$\n",
    "\n",
    "Thus, we proved the binomial inversion formula.\n",
    "\n",
    "#### Part 4\n",
    "We first prove the following identity: $\\left(\\begin{array}{cc}-\\mathbf{A} & \\mathbf{O}\\\\ \\mathbf{O} & \\mathbf{I}+\\mathbf{V}^T\\mathbf{A}^{-1}\\mathbf{U}\\end{array}\\right) = \\left(\\begin{array}{cc}\\mathbf{I} & \\mathbf{O} \\\\ \\mathbf{V}^T\\mathbf{A}^{-1}& \\mathbf{I} \\end{array}\\right)\\left(\\begin{array}{cc} -\\mathbf{A}& \\mathbf{U}\\\\ \\mathbf{V}^T & \\mathbf{I}\\end{array}\\right)\\left(\\begin{array}{cc}\\mathbf{I} & \\mathbf{A}^{-1}\\mathbf{U}\\\\ \\mathbf{O} & \\mathbf{I} \\end{array}\\right)$\n",
    "\n",
    "$$\n",
    "\\begin{aligned}\n",
    "\\left(\\begin{array}{cc}\\mathbf{I} & \\mathbf{O} \\\\ \\mathbf{V}^T\\mathbf{A}^{-1}& \\mathbf{I} \\end{array}\\right)\\left(\\begin{array}{cc} -\\mathbf{A}& \\mathbf{U}\\\\ \\mathbf{V}^T & \\mathbf{I}\\end{array}\\right)\\left(\\begin{array}{cc}\\mathbf{I} & \\mathbf{A}^{-1}\\mathbf{U}\\\\ \\mathbf{O} & \\mathbf{I} \\end{array}\\right) \n",
    "&= \\left(\\begin{array}{cc} -\\mathbf{A} & \\mathbf{U} \\\\ -\\mathbf{V}^T\\mathbf{A}^{-1}\\mathbf{A}+\\mathbf{V}^T & \\mathbf{I}+\\mathbf{V}^T\\mathbf{A}^{-1}\\mathbf{U} \\end{array}\\right)\n",
    "\\left(\\begin{array}{cc}\\mathbf{I} & \\mathbf{A}^{-1}\\mathbf{U}\\\\ \\mathbf{O} & \\mathbf{I} \\end{array}\\right) \\\\\n",
    "&= \\left(\\begin{array}{cc} -\\mathbf{A} & \\mathbf{U} \\\\ \\mathbf{O} & \\mathbf{I}+\\mathbf{V}^T\\mathbf{A}^{-1}\\mathbf{U} \\end{array}\\right)\n",
    "\\left(\\begin{array}{cc}\\mathbf{I} & \\mathbf{A}^{-1}\\mathbf{U}\\\\ \\mathbf{O} & \\mathbf{I} \\end{array}\\right) \\\\\n",
    "&= \\left(\\begin{array}{cc}-\\mathbf{A} & -\\mathbf{A}\\mathbf{A}^{-1}\\mathbf{U}+\\mathbf{U} \\\\ \\mathbf{O} & \\mathbf{I}+\\mathbf{V}^T\\mathbf{A}^{-1}\\mathbf{U}\\end{array}\\right) \\\\\n",
    "&= \\left(\\begin{array}{cc}-\\mathbf{A} & \\mathbf{O}\\\\ \\mathbf{O} & \\mathbf{I}+\\mathbf{V}^T\\mathbf{A}^{-1}\\mathbf{U}\\end{array}\\right)\n",
    "\\end{aligned}\n",
    "$$\n",
    "\n",
    "And we also have:\n",
    "$$\n",
    "\\begin{aligned}\n",
    "& \\det\\left(\\left(\\begin{array}{cc}-\\mathbf{A} & \\mathbf{O}\\\\ \\mathbf{O} & \\mathbf{I}+\\mathbf{V}^T\\mathbf{A}^{-1}\\mathbf{U}\\end{array}\\right)\\right) = \\det\\left(-\\mathbf{A}\\right) \\det\\left(\\mathbf{I}+\\mathbf{V}^T\\mathbf{A}^{-1}\\mathbf{U}\\right)\\\\\n",
    "& \\det\\left[\\left(\\begin{array}{cc}\\mathbf{I} & \\mathbf{O} \\\\ \\mathbf{V}^T\\mathbf{A}^{-1}& \\mathbf{I} \\end{array}\\right)\\left(\\begin{array}{cc} -\\mathbf{A}& \\mathbf{U}\\\\ \\mathbf{V}^T & \\mathbf{I}\\end{array}\\right)\\left(\\begin{array}{cc}\\mathbf{I} & \\mathbf{A}^{-1}\\mathbf{U}\\\\ \\mathbf{O} & \\mathbf{I} \\end{array}\\right) \\right] \\\\\n",
    "= &\\det\\left(\\left(\\begin{array}{cc}\\mathbf{I} & \\mathbf{O} \\\\ \\mathbf{V}^T\\mathbf{A}^{-1}& \\mathbf{I} \\end{array}\\right)\\right) \\det\\left(\\left(\\begin{array}{cc} -\\mathbf{A}& \\mathbf{U}\\\\ \\mathbf{V}^T & \\mathbf{I}\\end{array}\\right)\\right) \\det\\left(\\left(\\begin{array}{cc}\\mathbf{I} & \\mathbf{A}^{-1}\\mathbf{U}\\\\ \\mathbf{O} & \\mathbf{I} \\end{array}\\right)\\right) \\\\\n",
    "= &\\det\\left(\\left(\\begin{array}{cc} -\\mathbf{A}& \\mathbf{U}\\\\ \\mathbf{V}^T & \\mathbf{I}\\end{array}\\right)\\right) \\\\\n",
    "= &\\det\\left(\\mathbf{I} \\right) \\det\\left(-\\mathbf{A}-\\mathbf{U}\\mathbf{V}^T \\right)\n",
    "\\end{aligned}\n",
    "$$\n",
    "\n",
    "Thus, we have: $\\det\\left(\\mathbf{A}\\right) \\det\\left(\\mathbf{I}+\\mathbf{V}^T\\mathbf{A}^{-1}\\mathbf{U}\\right) = \\det\\left(\\mathbf{A}+\\mathbf{U}\\mathbf{V}^T \\right)$. Therefore, we have proved the theorem."
   ]
  },
  {
   "cell_type": "markdown",
   "metadata": {},
   "source": [
    "## Q6\n",
    "\n",
    "Demonstrate the following facts about triangular and orthogonal matrices in Julia (one numerical example for each fact). Mathematically curious ones are also encouraged to prove them. \n",
    "\n",
    "Note a unit triangular matrix is a triangular matrix with all diagonal entries being 1.\n",
    "\n",
    "1. The product of two upper (lower) triangular matrices is upper (lower) triangular.\n",
    "\n",
    "2. The inverse of an upper (lower) triangular matrix is upper (lower) triangular.\n",
    "\n",
    "3. The product of two unit upper (lower) triangular matrices is unit upper (lower) triangular.\n",
    "\n",
    "4. The inverse of a unit upper (lower) triangular matrix is unit upper (lower) triangular.\n",
    "\n",
    "5. An orthogonal upper (lower) triangular matrix is diagonal. (You just need to prove this.)\n",
    "\n",
    "6. The product of two orthogonal matrices is orthogonal."
   ]
  },
  {
   "attachments": {},
   "cell_type": "markdown",
   "metadata": {},
   "source": [
    "### Q6 answer\n",
    "#### Part 1"
   ]
  },
  {
   "cell_type": "code",
   "execution_count": 19,
   "metadata": {},
   "outputs": [
    {
     "data": {
      "text/plain": [
       "5×5 UpperTriangular{Float64, Matrix{Float64}}:\n",
       " 0.5526  0.27254    0.731174   0.767335  1.00107\n",
       "  ⋅      0.0769211  0.270934   0.592563  1.36721\n",
       "  ⋅       ⋅         0.0927661  0.192289  0.72793\n",
       "  ⋅       ⋅          ⋅         0.183455  1.30633\n",
       "  ⋅       ⋅          ⋅          ⋅        0.565161"
      ]
     },
     "metadata": {},
     "output_type": "display_data"
    }
   ],
   "source": [
    "using LinearAlgebra\n",
    "n = 5 # the dimension of the matrix\n",
    "U1 = UpperTriangular(rand(n, n))\n",
    "U2 = UpperTriangular(rand(n, n))\n",
    "U1 * U2"
   ]
  },
  {
   "cell_type": "code",
   "execution_count": 20,
   "metadata": {},
   "outputs": [
    {
     "data": {
      "text/plain": [
       "5×5 LowerTriangular{Float64, Matrix{Float64}}:\n",
       " 0.220983   ⋅          ⋅          ⋅         ⋅ \n",
       " 0.361827  0.0239976   ⋅          ⋅         ⋅ \n",
       " 0.39864   0.0743114  0.0423556   ⋅         ⋅ \n",
       " 0.902152  0.386261   0.615403   0.348535   ⋅ \n",
       " 1.25861   0.19189    0.759061   0.699747  0.0589041"
      ]
     },
     "metadata": {},
     "output_type": "display_data"
    }
   ],
   "source": [
    "L1 = LowerTriangular(rand(n, n))\n",
    "L2 = LowerTriangular(rand(n, n))\n",
    "L1 * L2"
   ]
  },
  {
   "attachments": {},
   "cell_type": "markdown",
   "metadata": {},
   "source": [
    "#### Part 2"
   ]
  },
  {
   "cell_type": "code",
   "execution_count": 22,
   "metadata": {},
   "outputs": [
    {
     "data": {
      "text/plain": [
       "5×5 UpperTriangular{Float64, Matrix{Float64}}:\n",
       " 1.46394  -2.97693   2.85327   3.03554     -5.25284\n",
       "  ⋅        4.7777   -6.48627  -6.07479     11.8817\n",
       "  ⋅         ⋅        1.48375  -0.00662036  -1.59506\n",
       "  ⋅         ⋅         ⋅        1.77375     -2.84652\n",
       "  ⋅         ⋅         ⋅         ⋅           1.73409"
      ]
     },
     "metadata": {},
     "output_type": "display_data"
    }
   ],
   "source": [
    "inv(U1)"
   ]
  },
  {
   "cell_type": "code",
   "execution_count": 23,
   "metadata": {},
   "outputs": [
    {
     "data": {
      "text/plain": [
       "5×5 LowerTriangular{Float64, Matrix{Float64}}:\n",
       "   2.89628      ⋅         ⋅         ⋅        ⋅ \n",
       "  -0.702072    1.0414     ⋅         ⋅        ⋅ \n",
       "  -0.365466  -10.2677   11.4142     ⋅        ⋅ \n",
       "   1.86008    10.9146  -14.7096    2.54724   ⋅ \n",
       " -30.4813    -79.393   101.324   -18.5515   9.57708"
      ]
     },
     "metadata": {},
     "output_type": "display_data"
    }
   ],
   "source": [
    "inv(L1)"
   ]
  },
  {
   "attachments": {},
   "cell_type": "markdown",
   "metadata": {},
   "source": [
    "#### Part 3"
   ]
  },
  {
   "cell_type": "code",
   "execution_count": 29,
   "metadata": {},
   "outputs": [
    {
     "data": {
      "text/plain": [
       "5×5 Matrix{Float64}:\n",
       " 1.0  1.22154  1.44527   1.19784   2.28235\n",
       " 0.0  1.0      0.514222  0.740831  1.11924\n",
       " 0.0  0.0      1.0       1.07231   1.44342\n",
       " 0.0  0.0      0.0       1.0       1.25849\n",
       " 0.0  0.0      0.0       0.0       1.0"
      ]
     },
     "metadata": {},
     "output_type": "display_data"
    }
   ],
   "source": [
    "# generate random unit triangular matrix\n",
    "U3, U4, L3, L4 = zeros(n, n), zeros(n, n), zeros(n, n), zeros(n, n)\n",
    "for i in 1:n, j in 1:n\n",
    "    if i < j\n",
    "        U3[i, j] = rand()\n",
    "        U4[i, j] = rand()\n",
    "        L3[i, j] = 0\n",
    "        L4[i, j] = 0\n",
    "    elseif i == j\n",
    "        U3[i, j] = 1\n",
    "        U4[i, j] = 1\n",
    "        L3[i, j] = 1\n",
    "        L4[i, j] = 1\n",
    "    else\n",
    "        U3[i, j] = 0\n",
    "        U4[i, j] = 0\n",
    "        L3[i, j] = rand()\n",
    "        L4[i, j] = rand()\n",
    "    end\n",
    "end\n",
    "\n",
    "# upper unit triangular matrix times upper unit triangular matrix\n",
    "U3 * U4"
   ]
  },
  {
   "cell_type": "code",
   "execution_count": 30,
   "metadata": {},
   "outputs": [
    {
     "data": {
      "text/plain": [
       "5×5 Matrix{Float64}:\n",
       " 1.0       0.0       0.0       0.0      0.0\n",
       " 0.829745  1.0       0.0       0.0      0.0\n",
       " 1.62292   1.12466   1.0       0.0      0.0\n",
       " 1.80078   0.585753  0.974408  1.0      0.0\n",
       " 2.26655   1.16391   0.67131   1.72099  1.0"
      ]
     },
     "metadata": {},
     "output_type": "display_data"
    }
   ],
   "source": [
    "# lower unit triangular matrix times lower unit triangular matrix\n",
    "L3 * L4"
   ]
  },
  {
   "attachments": {},
   "cell_type": "markdown",
   "metadata": {},
   "source": [
    "#### Part 4"
   ]
  },
  {
   "cell_type": "code",
   "execution_count": 31,
   "metadata": {},
   "outputs": [
    {
     "data": {
      "text/plain": [
       "5×5 Matrix{Float64}:\n",
       " 1.0  -0.877113  -0.260691  -0.145653  -0.159107\n",
       " 0.0   1.0       -0.247988  -0.385132   0.0520239\n",
       " 0.0   0.0        1.0       -0.583913  -0.518127\n",
       " 0.0   0.0        0.0        1.0       -0.459696\n",
       " 0.0   0.0        0.0        0.0        1.0"
      ]
     },
     "metadata": {},
     "output_type": "display_data"
    }
   ],
   "source": [
    "inv(U3)"
   ]
  },
  {
   "cell_type": "code",
   "execution_count": 32,
   "metadata": {},
   "outputs": [
    {
     "data": {
      "text/plain": [
       "5×5 Matrix{Float64}:\n",
       "  1.0        0.0        0.0        0.0       0.0\n",
       " -0.795794   1.0        0.0        0.0       0.0\n",
       " -0.249188  -0.683726   1.0        0.0       0.0\n",
       " -0.179769   0.464839  -0.882553   1.0       0.0\n",
       " -0.36013   -0.300453   0.207074  -0.821782  1.0"
      ]
     },
     "metadata": {},
     "output_type": "display_data"
    }
   ],
   "source": [
    "inv(L3)"
   ]
  },
  {
   "attachments": {},
   "cell_type": "markdown",
   "metadata": {},
   "source": [
    "#### Part 5\n",
    "Proof:\n",
    "Assuming $\\mathbf{U}$ is an upper triangular matrix, we have: $u_{ij} = 0$ when $i < j$. And, also because"
   ]
  },
  {
   "attachments": {},
   "cell_type": "markdown",
   "metadata": {},
   "source": [
    "#### Part 6"
   ]
  },
  {
   "cell_type": "markdown",
   "metadata": {},
   "source": [
    "## Q7\n",
    "\n",
    "Let the $n \\times n$ matrix `H` have elements `H[i, j] = 1 / (i + j - 1)`.  \n",
    "\n",
    "1. Write a function `h(n)` that outputs $n \\times n$ matrix `H`. Try at least 4 ways, e.g., $ij$-looping, $ji$-looping, [comprehension](https://docs.julialang.org/en/v1/manual/arrays/#man-comprehensions), and vectorization (R style). Compute and print `H` for `n = 5`.   \n",
    "\n",
    "2. Compare their efficiencies (using `BenchmarkTools`) at `n = 5000`."
   ]
  },
  {
   "attachments": {},
   "cell_type": "markdown",
   "metadata": {},
   "source": [
    "### Q7 answer\n",
    "#### Part 1"
   ]
  },
  {
   "cell_type": "code",
   "execution_count": 33,
   "metadata": {},
   "outputs": [
    {
     "data": {
      "text/plain": [
       "5×5 Matrix{Float64}:\n",
       " 1.0       0.5       0.333333  0.25      0.2\n",
       " 0.5       0.333333  0.25      0.2       0.166667\n",
       " 0.333333  0.25      0.2       0.166667  0.142857\n",
       " 0.25      0.2       0.166667  0.142857  0.125\n",
       " 0.2       0.166667  0.142857  0.125     0.111111"
      ]
     },
     "metadata": {},
     "output_type": "display_data"
    }
   ],
   "source": [
    "# i j looping\n",
    "function h1(n::Integer)\n",
    "    H = zeros(n, n)\n",
    "    for i in 1:n, j in 1:n\n",
    "        H[i, j] = 1 / (i + j - 1)\n",
    "    end\n",
    "    return H\n",
    "end\n",
    "h1(5)"
   ]
  },
  {
   "cell_type": "code",
   "execution_count": 34,
   "metadata": {},
   "outputs": [
    {
     "data": {
      "text/plain": [
       "5×5 Matrix{Float64}:\n",
       " 1.0       0.5       0.333333  0.25      0.2\n",
       " 0.5       0.333333  0.25      0.2       0.166667\n",
       " 0.333333  0.25      0.2       0.166667  0.142857\n",
       " 0.25      0.2       0.166667  0.142857  0.125\n",
       " 0.2       0.166667  0.142857  0.125     0.111111"
      ]
     },
     "metadata": {},
     "output_type": "display_data"
    }
   ],
   "source": [
    "# j i looping\n",
    "function h2(n::Integer)\n",
    "    H = zeros(n, n)\n",
    "    for j in 1:n, i in 1:n\n",
    "        H[i, j] = 1 / (i + j - 1)\n",
    "    end\n",
    "    return H\n",
    "end\n",
    "h2(5)"
   ]
  },
  {
   "cell_type": "code",
   "execution_count": 35,
   "metadata": {},
   "outputs": [
    {
     "data": {
      "text/plain": [
       "5×5 Matrix{Float64}:\n",
       " 1.0       0.5       0.333333  0.25      0.2\n",
       " 0.5       0.333333  0.25      0.2       0.166667\n",
       " 0.333333  0.25      0.2       0.166667  0.142857\n",
       " 0.25      0.2       0.166667  0.142857  0.125\n",
       " 0.2       0.166667  0.142857  0.125     0.111111"
      ]
     },
     "metadata": {},
     "output_type": "display_data"
    }
   ],
   "source": [
    "# comprehension\n",
    "function h3(n::Integer)\n",
    "    H = [1 / (i + j - 1) for i in 1:n, j in 1:n]\n",
    "    return H\n",
    "end\n",
    "h3(5)"
   ]
  },
  {
   "cell_type": "code",
   "execution_count": 40,
   "metadata": {},
   "outputs": [
    {
     "data": {
      "text/plain": [
       "5×5 Matrix{Float64}:\n",
       " 1.0       0.5       0.333333  0.25      0.2\n",
       " 0.5       0.333333  0.25      0.2       0.166667\n",
       " 0.333333  0.25      0.2       0.166667  0.142857\n",
       " 0.25      0.2       0.166667  0.142857  0.125\n",
       " 0.2       0.166667  0.142857  0.125     0.111111"
      ]
     },
     "metadata": {},
     "output_type": "display_data"
    }
   ],
   "source": [
    "# broadcasting\n",
    "function h4(n::Integer)\n",
    "    H = 1 ./ ((1:n) .+ (1:n)' .- 1)\n",
    "    return H\n",
    "end\n",
    "h4(5)"
   ]
  },
  {
   "attachments": {},
   "cell_type": "markdown",
   "metadata": {},
   "source": [
    "#### Part 2"
   ]
  },
  {
   "cell_type": "code",
   "execution_count": 41,
   "metadata": {},
   "outputs": [
    {
     "data": {
      "text/plain": [
       "BenchmarkTools.Trial: 45 samples with 1 evaluation.\n",
       " Range \u001b[90m(\u001b[39m\u001b[36m\u001b[1mmin\u001b[22m\u001b[39m … \u001b[35mmax\u001b[39m\u001b[90m):  \u001b[39m\u001b[36m\u001b[1m103.193 ms\u001b[22m\u001b[39m … \u001b[35m186.765 ms\u001b[39m  \u001b[90m┊\u001b[39m GC \u001b[90m(\u001b[39mmin … max\u001b[90m): \u001b[39m0.00% … 43.12%\n",
       " Time  \u001b[90m(\u001b[39m\u001b[34m\u001b[1mmedian\u001b[22m\u001b[39m\u001b[90m):     \u001b[39m\u001b[34m\u001b[1m108.942 ms               \u001b[22m\u001b[39m\u001b[90m┊\u001b[39m GC \u001b[90m(\u001b[39mmedian\u001b[90m):    \u001b[39m5.27%\n",
       " Time  \u001b[90m(\u001b[39m\u001b[32m\u001b[1mmean\u001b[22m\u001b[39m ± \u001b[32mσ\u001b[39m\u001b[90m):   \u001b[39m\u001b[32m\u001b[1m112.190 ms\u001b[22m\u001b[39m ± \u001b[32m 15.832 ms\u001b[39m  \u001b[90m┊\u001b[39m GC \u001b[90m(\u001b[39mmean ± σ\u001b[90m):  \u001b[39m5.84% ±  8.72%\n",
       "\n",
       "  \u001b[39m▄\u001b[39m▆\u001b[39m█\u001b[39m▂\u001b[34m \u001b[39m\u001b[39m█\u001b[39m▆\u001b[32m \u001b[39m\u001b[39m \u001b[39m \u001b[39m \u001b[39m \u001b[39m \u001b[39m \u001b[39m \u001b[39m \u001b[39m \u001b[39m \u001b[39m \u001b[39m \u001b[39m \u001b[39m \u001b[39m \u001b[39m \u001b[39m \u001b[39m \u001b[39m \u001b[39m \u001b[39m \u001b[39m \u001b[39m \u001b[39m \u001b[39m \u001b[39m \u001b[39m \u001b[39m \u001b[39m \u001b[39m \u001b[39m \u001b[39m \u001b[39m \u001b[39m \u001b[39m \u001b[39m \u001b[39m \u001b[39m \u001b[39m \u001b[39m \u001b[39m \u001b[39m \u001b[39m \u001b[39m \u001b[39m \u001b[39m \u001b[39m \u001b[39m \u001b[39m \u001b[39m \u001b[39m \u001b[39m \u001b[39m \u001b[39m \u001b[39m \n",
       "  \u001b[39m█\u001b[39m█\u001b[39m█\u001b[39m█\u001b[34m█\u001b[39m\u001b[39m█\u001b[39m█\u001b[32m▆\u001b[39m\u001b[39m▁\u001b[39m▆\u001b[39m▁\u001b[39m▄\u001b[39m▁\u001b[39m▁\u001b[39m▁\u001b[39m▁\u001b[39m▁\u001b[39m▁\u001b[39m▁\u001b[39m▁\u001b[39m▁\u001b[39m▁\u001b[39m▁\u001b[39m▁\u001b[39m▁\u001b[39m▁\u001b[39m▁\u001b[39m▁\u001b[39m▁\u001b[39m▁\u001b[39m▁\u001b[39m▁\u001b[39m▁\u001b[39m▁\u001b[39m▁\u001b[39m▁\u001b[39m▁\u001b[39m▁\u001b[39m▁\u001b[39m▁\u001b[39m▁\u001b[39m▁\u001b[39m▁\u001b[39m▁\u001b[39m▁\u001b[39m▁\u001b[39m▁\u001b[39m▁\u001b[39m▁\u001b[39m▁\u001b[39m▁\u001b[39m▁\u001b[39m▁\u001b[39m▁\u001b[39m▁\u001b[39m▄\u001b[39m▁\u001b[39m▁\u001b[39m▁\u001b[39m▁\u001b[39m▄\u001b[39m \u001b[39m▁\n",
       "  103 ms\u001b[90m           Histogram: frequency by time\u001b[39m          187 ms \u001b[0m\u001b[1m<\u001b[22m\n",
       "\n",
       " Memory estimate\u001b[90m: \u001b[39m\u001b[33m190.73 MiB\u001b[39m, allocs estimate\u001b[90m: \u001b[39m\u001b[33m2\u001b[39m."
      ]
     },
     "metadata": {},
     "output_type": "display_data"
    }
   ],
   "source": [
    "using BenchmarkTools\n",
    "@benchmark h1(5000)"
   ]
  },
  {
   "cell_type": "code",
   "execution_count": 42,
   "metadata": {},
   "outputs": [
    {
     "data": {
      "text/plain": [
       "BenchmarkTools.Trial: 139 samples with 1 evaluation.\n",
       " Range \u001b[90m(\u001b[39m\u001b[36m\u001b[1mmin\u001b[22m\u001b[39m … \u001b[35mmax\u001b[39m\u001b[90m):  \u001b[39m\u001b[36m\u001b[1m31.344 ms\u001b[22m\u001b[39m … \u001b[35m115.574 ms\u001b[39m  \u001b[90m┊\u001b[39m GC \u001b[90m(\u001b[39mmin … max\u001b[90m): \u001b[39m 0.00% … 72.04%\n",
       " Time  \u001b[90m(\u001b[39m\u001b[34m\u001b[1mmedian\u001b[22m\u001b[39m\u001b[90m):     \u001b[39m\u001b[34m\u001b[1m35.556 ms               \u001b[22m\u001b[39m\u001b[90m┊\u001b[39m GC \u001b[90m(\u001b[39mmedian\u001b[90m):    \u001b[39m11.94%\n",
       " Time  \u001b[90m(\u001b[39m\u001b[32m\u001b[1mmean\u001b[22m\u001b[39m ± \u001b[32mσ\u001b[39m\u001b[90m):   \u001b[39m\u001b[32m\u001b[1m36.142 ms\u001b[22m\u001b[39m ± \u001b[32m  9.379 ms\u001b[39m  \u001b[90m┊\u001b[39m GC \u001b[90m(\u001b[39mmean ± σ\u001b[90m):  \u001b[39m10.14% ± 10.39%\n",
       "\n",
       "  \u001b[39m█\u001b[39m▄\u001b[39m \u001b[34m \u001b[39m\u001b[32m▆\u001b[39m\u001b[39m \u001b[39m \u001b[39m \u001b[39m \u001b[39m \u001b[39m \u001b[39m \u001b[39m \u001b[39m \u001b[39m \u001b[39m \u001b[39m \u001b[39m \u001b[39m \u001b[39m \u001b[39m \u001b[39m \u001b[39m \u001b[39m \u001b[39m \u001b[39m \u001b[39m \u001b[39m \u001b[39m \u001b[39m \u001b[39m \u001b[39m \u001b[39m \u001b[39m \u001b[39m \u001b[39m \u001b[39m \u001b[39m \u001b[39m \u001b[39m \u001b[39m \u001b[39m \u001b[39m \u001b[39m \u001b[39m \u001b[39m \u001b[39m \u001b[39m \u001b[39m \u001b[39m \u001b[39m \u001b[39m \u001b[39m \u001b[39m \u001b[39m \u001b[39m \u001b[39m \u001b[39m \u001b[39m \u001b[39m \u001b[39m \u001b[39m \n",
       "  \u001b[39m█\u001b[39m█\u001b[39m▃\u001b[34m▅\u001b[39m\u001b[32m█\u001b[39m\u001b[39m█\u001b[39m▆\u001b[39m▃\u001b[39m▁\u001b[39m▁\u001b[39m▁\u001b[39m▁\u001b[39m▂\u001b[39m▁\u001b[39m▁\u001b[39m▁\u001b[39m▁\u001b[39m▁\u001b[39m▁\u001b[39m▁\u001b[39m▁\u001b[39m▁\u001b[39m▁\u001b[39m▁\u001b[39m▁\u001b[39m▁\u001b[39m▁\u001b[39m▁\u001b[39m▁\u001b[39m▁\u001b[39m▁\u001b[39m▁\u001b[39m▁\u001b[39m▁\u001b[39m▁\u001b[39m▁\u001b[39m▁\u001b[39m▁\u001b[39m▁\u001b[39m▁\u001b[39m▁\u001b[39m▁\u001b[39m▁\u001b[39m▁\u001b[39m▁\u001b[39m▁\u001b[39m▁\u001b[39m▁\u001b[39m▁\u001b[39m▁\u001b[39m▁\u001b[39m▁\u001b[39m▁\u001b[39m▁\u001b[39m▁\u001b[39m▁\u001b[39m▁\u001b[39m▁\u001b[39m▁\u001b[39m▂\u001b[39m \u001b[39m▂\n",
       "  31.3 ms\u001b[90m         Histogram: frequency by time\u001b[39m          104 ms \u001b[0m\u001b[1m<\u001b[22m\n",
       "\n",
       " Memory estimate\u001b[90m: \u001b[39m\u001b[33m190.73 MiB\u001b[39m, allocs estimate\u001b[90m: \u001b[39m\u001b[33m2\u001b[39m."
      ]
     },
     "metadata": {},
     "output_type": "display_data"
    }
   ],
   "source": [
    "@benchmark h2(5000)"
   ]
  },
  {
   "cell_type": "code",
   "execution_count": 43,
   "metadata": {},
   "outputs": [
    {
     "data": {
      "text/plain": [
       "BenchmarkTools.Trial: 171 samples with 1 evaluation.\n",
       " Range \u001b[90m(\u001b[39m\u001b[36m\u001b[1mmin\u001b[22m\u001b[39m … \u001b[35mmax\u001b[39m\u001b[90m):  \u001b[39m\u001b[36m\u001b[1m24.299 ms\u001b[22m\u001b[39m … \u001b[35m108.719 ms\u001b[39m  \u001b[90m┊\u001b[39m GC \u001b[90m(\u001b[39mmin … max\u001b[90m): \u001b[39m 0.00% … 76.66%\n",
       " Time  \u001b[90m(\u001b[39m\u001b[34m\u001b[1mmedian\u001b[22m\u001b[39m\u001b[90m):     \u001b[39m\u001b[34m\u001b[1m28.952 ms               \u001b[22m\u001b[39m\u001b[90m┊\u001b[39m GC \u001b[90m(\u001b[39mmedian\u001b[90m):    \u001b[39m14.81%\n",
       " Time  \u001b[90m(\u001b[39m\u001b[32m\u001b[1mmean\u001b[22m\u001b[39m ± \u001b[32mσ\u001b[39m\u001b[90m):   \u001b[39m\u001b[32m\u001b[1m29.405 ms\u001b[22m\u001b[39m ± \u001b[32m  8.628 ms\u001b[39m  \u001b[90m┊\u001b[39m GC \u001b[90m(\u001b[39mmean ± σ\u001b[90m):  \u001b[39m12.33% ± 11.40%\n",
       "\n",
       "  \u001b[39m \u001b[39m \u001b[39m \u001b[39m \u001b[39m \u001b[39m█\u001b[39m▆\u001b[39m▅\u001b[39m \u001b[39m \u001b[39m \u001b[39m \u001b[39m \u001b[34m \u001b[39m\u001b[39m \u001b[39m \u001b[39m \u001b[39m \u001b[39m \u001b[39m \u001b[32m \u001b[39m\u001b[39m▁\u001b[39m \u001b[39m \u001b[39m \u001b[39m \u001b[39m▁\u001b[39m \u001b[39m▂\u001b[39m▆\u001b[39m \u001b[39m \u001b[39m \u001b[39m \u001b[39m \u001b[39m \u001b[39m \u001b[39m \u001b[39m \u001b[39m \u001b[39m \u001b[39m \u001b[39m \u001b[39m \u001b[39m \u001b[39m \u001b[39m \u001b[39m \u001b[39m \u001b[39m \u001b[39m \u001b[39m \u001b[39m \u001b[39m \u001b[39m \u001b[39m \u001b[39m \u001b[39m \u001b[39m \u001b[39m \u001b[39m \u001b[39m \n",
       "  \u001b[39m▃\u001b[39m▄\u001b[39m▇\u001b[39m▇\u001b[39m█\u001b[39m█\u001b[39m█\u001b[39m█\u001b[39m▆\u001b[39m▆\u001b[39m▄\u001b[39m▁\u001b[39m▁\u001b[34m▃\u001b[39m\u001b[39m▁\u001b[39m▁\u001b[39m▁\u001b[39m▁\u001b[39m▃\u001b[39m▃\u001b[32m▄\u001b[39m\u001b[39m█\u001b[39m▅\u001b[39m▄\u001b[39m▄\u001b[39m▄\u001b[39m█\u001b[39m█\u001b[39m█\u001b[39m█\u001b[39m▇\u001b[39m▄\u001b[39m▁\u001b[39m▄\u001b[39m▃\u001b[39m▃\u001b[39m▁\u001b[39m▁\u001b[39m▁\u001b[39m▁\u001b[39m▁\u001b[39m▁\u001b[39m▃\u001b[39m▁\u001b[39m▁\u001b[39m▃\u001b[39m▁\u001b[39m▁\u001b[39m▁\u001b[39m▁\u001b[39m▁\u001b[39m▁\u001b[39m▁\u001b[39m▁\u001b[39m▁\u001b[39m▁\u001b[39m▁\u001b[39m▁\u001b[39m▁\u001b[39m▃\u001b[39m \u001b[39m▃\n",
       "  24.3 ms\u001b[90m         Histogram: frequency by time\u001b[39m         39.4 ms \u001b[0m\u001b[1m<\u001b[22m\n",
       "\n",
       " Memory estimate\u001b[90m: \u001b[39m\u001b[33m190.73 MiB\u001b[39m, allocs estimate\u001b[90m: \u001b[39m\u001b[33m2\u001b[39m."
      ]
     },
     "metadata": {},
     "output_type": "display_data"
    }
   ],
   "source": [
    "@benchmark h3(5000)"
   ]
  },
  {
   "cell_type": "code",
   "execution_count": 44,
   "metadata": {},
   "outputs": [
    {
     "data": {
      "text/plain": [
       "BenchmarkTools.Trial: 207 samples with 1 evaluation.\n",
       " Range \u001b[90m(\u001b[39m\u001b[36m\u001b[1mmin\u001b[22m\u001b[39m … \u001b[35mmax\u001b[39m\u001b[90m):  \u001b[39m\u001b[36m\u001b[1m19.113 ms\u001b[22m\u001b[39m … \u001b[35m113.431 ms\u001b[39m  \u001b[90m┊\u001b[39m GC \u001b[90m(\u001b[39mmin … max\u001b[90m): \u001b[39m 0.00% … 81.61%\n",
       " Time  \u001b[90m(\u001b[39m\u001b[34m\u001b[1mmedian\u001b[22m\u001b[39m\u001b[90m):     \u001b[39m\u001b[34m\u001b[1m23.919 ms               \u001b[22m\u001b[39m\u001b[90m┊\u001b[39m GC \u001b[90m(\u001b[39mmedian\u001b[90m):    \u001b[39m18.42%\n",
       " Time  \u001b[90m(\u001b[39m\u001b[32m\u001b[1mmean\u001b[22m\u001b[39m ± \u001b[32mσ\u001b[39m\u001b[90m):   \u001b[39m\u001b[32m\u001b[1m24.150 ms\u001b[22m\u001b[39m ± \u001b[32m  8.625 ms\u001b[39m  \u001b[90m┊\u001b[39m GC \u001b[90m(\u001b[39mmean ± σ\u001b[90m):  \u001b[39m15.02% ± 12.91%\n",
       "\n",
       "  \u001b[39m \u001b[39m▄\u001b[39m▇\u001b[39m█\u001b[39m▂\u001b[39m▄\u001b[39m▄\u001b[39m \u001b[39m \u001b[39m \u001b[39m \u001b[39m \u001b[39m \u001b[39m \u001b[39m \u001b[34m \u001b[39m\u001b[39m \u001b[32m \u001b[39m\u001b[39m▅\u001b[39m▄\u001b[39m \u001b[39m \u001b[39m \u001b[39m \u001b[39m▁\u001b[39m \u001b[39m \u001b[39m \u001b[39m▂\u001b[39m \u001b[39m \u001b[39m \u001b[39m \u001b[39m \u001b[39m \u001b[39m \u001b[39m \u001b[39m \u001b[39m \u001b[39m \u001b[39m \u001b[39m \u001b[39m \u001b[39m \u001b[39m \u001b[39m \u001b[39m \u001b[39m \u001b[39m \u001b[39m \u001b[39m \u001b[39m \u001b[39m \u001b[39m \u001b[39m \u001b[39m \u001b[39m \u001b[39m \u001b[39m \u001b[39m \u001b[39m \u001b[39m \n",
       "  \u001b[39m▆\u001b[39m█\u001b[39m█\u001b[39m█\u001b[39m█\u001b[39m█\u001b[39m█\u001b[39m▆\u001b[39m▅\u001b[39m█\u001b[39m▇\u001b[39m▄\u001b[39m▃\u001b[39m▃\u001b[39m▁\u001b[34m▃\u001b[39m\u001b[39m▆\u001b[32m█\u001b[39m\u001b[39m█\u001b[39m█\u001b[39m▆\u001b[39m▇\u001b[39m█\u001b[39m▆\u001b[39m█\u001b[39m▆\u001b[39m▆\u001b[39m▇\u001b[39m█\u001b[39m▆\u001b[39m▆\u001b[39m▄\u001b[39m▃\u001b[39m▁\u001b[39m▁\u001b[39m▁\u001b[39m▁\u001b[39m▁\u001b[39m▁\u001b[39m▁\u001b[39m▁\u001b[39m▁\u001b[39m▁\u001b[39m▁\u001b[39m▁\u001b[39m▁\u001b[39m▁\u001b[39m▁\u001b[39m▁\u001b[39m▁\u001b[39m▁\u001b[39m▁\u001b[39m▁\u001b[39m▁\u001b[39m▁\u001b[39m▁\u001b[39m▁\u001b[39m▁\u001b[39m▁\u001b[39m▃\u001b[39m \u001b[39m▄\n",
       "  19.1 ms\u001b[90m         Histogram: frequency by time\u001b[39m         36.8 ms \u001b[0m\u001b[1m<\u001b[22m\n",
       "\n",
       " Memory estimate\u001b[90m: \u001b[39m\u001b[33m190.73 MiB\u001b[39m, allocs estimate\u001b[90m: \u001b[39m\u001b[33m2\u001b[39m."
      ]
     },
     "metadata": {},
     "output_type": "display_data"
    }
   ],
   "source": [
    "@benchmark h4(5000)"
   ]
  },
  {
   "attachments": {},
   "cell_type": "markdown",
   "metadata": {},
   "source": [
    "The order of efficiency of different order is (from the most efficient to the least efficient): vectorization(broadcasting) > comprehension > $ji$-looping > $ij$-looping. The $ij$-looping is substantially slower than other methods. Please see the results above."
   ]
  }
 ],
 "metadata": {
  "jupytext": {
   "formats": "ipynb,qmd"
  },
  "kernelspec": {
   "display_name": "Julia 1.8.1",
   "language": "julia",
   "name": "julia-1.8"
  },
  "language_info": {
   "file_extension": ".jl",
   "mimetype": "application/julia",
   "name": "julia",
   "version": "1.8.1"
  },
  "toc": {
   "colors": {
    "hover_highlight": "#DAA520",
    "running_highlight": "#FF0000",
    "selected_highlight": "#FFD700"
   },
   "moveMenuLeft": true,
   "nav_menu": {
    "height": "153px",
    "width": "252px"
   },
   "navigate_menu": true,
   "number_sections": false,
   "sideBar": true,
   "skip_h1_title": true,
   "threshold": 4,
   "toc_cell": false,
   "toc_section_display": "block",
   "toc_window_display": true,
   "widenNotebook": false
  },
  "toc-autonumbering": false
 },
 "nbformat": 4,
 "nbformat_minor": 4
}
