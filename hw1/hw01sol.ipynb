{
 "cells": [
  {
   "cell_type": "raw",
   "metadata": {},
   "source": [
    "---\n",
    "title: Biostat/Biomath M257 Homework 1\n",
    "subtitle: Due Apr 14 @ 11:59PM\n",
    "author: Yuyuan Lin (804886544)\n",
    "date: today\n",
    "format:\n",
    "  html:\n",
    "    theme: cosmo\n",
    "    embed-resources: true\n",
    "    number-sections: false\n",
    "    toc: true\n",
    "    toc-depth: 4\n",
    "    toc-location: left\n",
    "---"
   ]
  },
  {
   "cell_type": "markdown",
   "metadata": {},
   "source": [
    "## Q1\n",
    "\n",
    "**No handwritten homework reports are accepted for this course.**  We work with Git/GitHub.  Efficient and abundant use of Git, e.g., **frequent and well-documented** commits, is an important criterion for grading your homework.\n",
    "\n",
    "1. If you don't have a GitHub account, apply for the [Student Developer Pack](https://education.github.com/pack) at GitHub using your UCLA email.\n",
    "\n",
    "2. Create a **private** repository `biostat-257-2023-spring` and add `Hua-Zhou` and `parsajamshidian` (TA) as your collaborators.\n",
    "\n",
    "3. Top directories of the repository should be `hw1`, `hw2`, ... You may create other branches for developing your homework solutions; but the `master` branch will be your presentation area. Put your homework submission files (Jupyter notebook `.ipynb`, html converted from notebook, all code and data set to reproduce results) in the `master` branch. \n",
    "\n",
    "4. After each homework due date, teaching assistant and instructor will check out your `master` branch for grading. Tag each of your homework submissions with tag names `hw1`, `hw2`, ...  Tagging time will be used as your submission time. That means if you tag your hw1 submission after deadline, penalty points will be deducted for late submission.  \n",
    "\n",
    "5. Read the [style guide](https://github.com/invenia/BlueStyle) for Julia programming. Following rules in the style guide will be strictly enforced when grading: (1) four space indenting rule, (2) 92 charcter rule, (3) space after comma rule, (4) no space before comma rule, (5) space around binary operator rule."
   ]
  },
  {
   "cell_type": "markdown",
   "metadata": {},
   "source": [
    "### Q1 answer\n",
    "Please refer to my [Github repo](https://github.com/yuyuan-lin/biostat-257-2023-spring) for the homework answers."
   ]
  },
  {
   "cell_type": "markdown",
   "metadata": {},
   "source": [
    "## Q2\n",
    "\n",
    "Let's check whether floating-point numbers obey certain algebraic rules. For 2-5, one counter-example suffices.\n",
    "\n",
    "1. Associative rule for addition says `(x + y) + z == x + (y + z)`. Check association rule using `x = 0.1`, `y = 0.1` and `z = 1.0` in Julia. Explain what you find.\n",
    "\n",
    "2. Do floating-point numbers obey the associative rule for multiplication: `(x * y) * z == x * (y * z)`?\n",
    "\n",
    "3. Do floating-point numbers obey the distributive rule: `a * (x + y) == a * x + a * y`?  \n",
    "\n",
    "4. Is `0 * x == 0` true for all floating-point number `x`? \n",
    "\n",
    "5. Is `x / a == x * (1 / a)` always true?"
   ]
  },
  {
   "cell_type": "markdown",
   "metadata": {},
   "source": [
    "### Q2 answer\n",
    "#### Part 1\n",
    "The association rule of addition does not always hold in Julia. The reason is that real numbers are stored as a limited number of binary codes (0/1) in the computer, and it will be rounded if the decimal part cannot be written as a sum of $1/2^i$. This rounding issue causes the imprecision of float calculation we see here."
   ]
  },
  {
   "cell_type": "code",
   "execution_count": 1,
   "metadata": {},
   "outputs": [
    {
     "name": "stdout",
     "output_type": "stream",
     "text": [
      "1.2\n",
      "1.2000000000000002\n",
      "false\n"
     ]
    }
   ],
   "source": [
    "x = 0.1; y = 0.1; z = 1\n",
    "println((x + y) + z)\n",
    "println(x + (y + z))\n",
    "println((x + y) + z == x + (y + z))"
   ]
  },
  {
   "attachments": {},
   "cell_type": "markdown",
   "metadata": {},
   "source": [
    "#### Part 2\n",
    "The association rule of multiplication does not always hold in Julia. The reason is similar (float precision)."
   ]
  },
  {
   "cell_type": "code",
   "execution_count": 3,
   "metadata": {},
   "outputs": [
    {
     "name": "stdout",
     "output_type": "stream",
     "text": [
      "0.006000000000000001\n",
      "0.006\n",
      "false\n"
     ]
    }
   ],
   "source": [
    "x = 0.1; y = 0.2; z = 0.3\n",
    "println((x * y) * z)\n",
    "println(x * (y * z))\n",
    "println((x * y) * z == x * (y * z))"
   ]
  },
  {
   "attachments": {},
   "cell_type": "markdown",
   "metadata": {},
   "source": [
    "#### Part 3\n",
    "The distributive rule does not always hold in Julia. The reason is similar (float precision)."
   ]
  },
  {
   "cell_type": "code",
   "execution_count": 4,
   "metadata": {},
   "outputs": [
    {
     "name": "stdout",
     "output_type": "stream",
     "text": [
      "0.09000000000000001\n",
      "0.09\n",
      "false\n"
     ]
    }
   ],
   "source": [
    "x = 0.1; y = 0.2; z = 0.3\n",
    "println((x + y) * z)\n",
    "println(x * z + y * z)\n",
    "println((x + y) * z == x * z + y * z)"
   ]
  },
  {
   "attachments": {},
   "cell_type": "markdown",
   "metadata": {},
   "source": [
    "#### Part 4\n",
    "Multiplying any normal float number by 0 will give a 0. However, some special values such as `NaN` and `Inf` are also stored as `Float64`. Multiplying these special float values by 0 will NOT give a 0. "
   ]
  },
  {
   "cell_type": "code",
   "execution_count": 5,
   "metadata": {},
   "outputs": [
    {
     "name": "stdout",
     "output_type": "stream",
     "text": [
      "0.0\n",
      "NaN\n",
      "NaN\n"
     ]
    }
   ],
   "source": [
    "a = rand(Float64)\n",
    "println(a * 0)\n",
    "println(Inf * 0)\n",
    "println(NaN * 0)"
   ]
  },
  {
   "attachments": {},
   "cell_type": "markdown",
   "metadata": {},
   "source": [
    "#### Part 5\n",
    "It is not always true as shown below."
   ]
  },
  {
   "cell_type": "code",
   "execution_count": 9,
   "metadata": {},
   "outputs": [
    {
     "name": "stdout",
     "output_type": "stream",
     "text": [
      "2.7819977586697\n",
      "2.7819977586697004\n",
      "false\n"
     ]
    }
   ],
   "source": [
    "a, b = rand(Float64, 2)\n",
    "println(a / b)\n",
    "println(a * (1 / b))\n",
    "println(a / b == a * (1 / b))"
   ]
  },
  {
   "cell_type": "markdown",
   "metadata": {},
   "source": [
    "## Q3\n",
    "\n",
    "Consider Julia function\n",
    "```julia\n",
    "function g(k)\n",
    "    for i in 1:10\n",
    "        k = 5k - 1\n",
    "    end\n",
    "    k\n",
    "end\n",
    "```\n",
    "1. Use `@code_llvm` to find the LLVM bitcode of compiled `g` with `Int64` input.   \n",
    "2. Use `@code_llvm` to find the LLVM bitcode of compiled `g` with `Float64` input.  \n",
    "3. Compare the bitcode from questions 1 and 2. What do you find?  \n",
    "4. Read Julia documentation on `@fastmath` and repeat the questions 1-3 on the function  \n",
    "\n",
    "```julia\n",
    "function g_fastmath(k)  \n",
    "    @fastmath for i in 1:10  \n",
    "        k = 5k - 1\n",
    "    end\n",
    "    k\n",
    "end\n",
    "```\n",
    "Explain what does the macro `@fastmath` do? And why are the bitcodes for `g` and `g_fastmath` with `Float64` input different? (Hint: Q2)"
   ]
  },
  {
   "attachments": {},
   "cell_type": "markdown",
   "metadata": {},
   "source": [
    "### Q3 answer\n",
    "#### Part 1"
   ]
  },
  {
   "cell_type": "code",
   "execution_count": 1,
   "metadata": {},
   "outputs": [
    {
     "name": "stdout",
     "output_type": "stream",
     "text": [
      "\u001b[90m;  @ /Users/yuyuanlin/Documents/UCLA_files/course_work/BIS_M257/hw/biostat-257-2023-spring/hw1/hw01sol.ipynb:1 within `g`\u001b[39m\n",
      "\u001b[95mdefine\u001b[39m \u001b[36mi64\u001b[39m \u001b[93m@julia_g_717\u001b[39m\u001b[33m(\u001b[39m\u001b[36mi64\u001b[39m \u001b[95msignext\u001b[39m \u001b[0m%0\u001b[33m)\u001b[39m \u001b[0m#0 \u001b[33m{\u001b[39m\n",
      "\u001b[91mtop:\u001b[39m\n",
      "\u001b[90m;  @ /Users/yuyuanlin/Documents/UCLA_files/course_work/BIS_M257/hw/biostat-257-2023-spring/hw1/hw01sol.ipynb:3 within `g`\u001b[39m\n",
      "\u001b[90m; ┌ @ int.jl:88 within `*`\u001b[39m\n",
      "   \u001b[0m%1 \u001b[0m= \u001b[96m\u001b[1mmul\u001b[22m\u001b[39m \u001b[36mi64\u001b[39m \u001b[0m%0\u001b[0m, \u001b[33m9765625\u001b[39m\n",
      "\u001b[90m; └\u001b[39m\n",
      "\u001b[90m; ┌ @ int.jl:86 within `-`\u001b[39m\n",
      "   \u001b[0m%2 \u001b[0m= \u001b[96m\u001b[1madd\u001b[22m\u001b[39m \u001b[36mi64\u001b[39m \u001b[0m%1\u001b[0m, \u001b[33m-2441406\u001b[39m\n",
      "\u001b[90m; └\u001b[39m\n",
      "\u001b[90m;  @ /Users/yuyuanlin/Documents/UCLA_files/course_work/BIS_M257/hw/biostat-257-2023-spring/hw1/hw01sol.ipynb:5 within `g`\u001b[39m\n",
      "  \u001b[96m\u001b[1mret\u001b[22m\u001b[39m \u001b[36mi64\u001b[39m \u001b[0m%2\n",
      "\u001b[33m}\u001b[39m\n"
     ]
    }
   ],
   "source": [
    "function g(k)\n",
    "    for i in 1:10\n",
    "        k = 5k - 1\n",
    "    end\n",
    "    k\n",
    "end\n",
    "\n",
    "@code_llvm g(1::Int64)"
   ]
  },
  {
   "attachments": {},
   "cell_type": "markdown",
   "metadata": {},
   "source": [
    "#### Part 2"
   ]
  },
  {
   "cell_type": "code",
   "execution_count": 2,
   "metadata": {},
   "outputs": [
    {
     "name": "stdout",
     "output_type": "stream",
     "text": [
      "\u001b[90m;  @ /Users/yuyuanlin/Documents/UCLA_files/course_work/BIS_M257/hw/biostat-257-2023-spring/hw1/hw01sol.ipynb:1 within `g`\u001b[39m\n",
      "\u001b[95mdefine\u001b[39m \u001b[36mdouble\u001b[39m \u001b[93m@julia_g_938\u001b[39m\u001b[33m(\u001b[39m\u001b[36mdouble\u001b[39m \u001b[0m%0\u001b[33m)\u001b[39m \u001b[0m#0 \u001b[33m{\u001b[39m\n",
      "\u001b[91mtop:\u001b[39m\n",
      "\u001b[90m;  @ /Users/yuyuanlin/Documents/UCLA_files/course_work/BIS_M257/hw/biostat-257-2023-spring/hw1/hw01sol.ipynb:3 within `g`\u001b[39m\n",
      "\u001b[90m; ┌ @ promotion.jl:389 within `*` @ float.jl:385\u001b[39m\n",
      "   \u001b[0m%1 \u001b[0m= \u001b[96m\u001b[1mfmul\u001b[22m\u001b[39m \u001b[36mdouble\u001b[39m \u001b[0m%0\u001b[0m, \u001b[33m5.000000e+00\u001b[39m\n",
      "\u001b[90m; └\u001b[39m\n",
      "\u001b[90m; ┌ @ promotion.jl:390 within `-` @ float.jl:384\u001b[39m\n",
      "   \u001b[0m%2 \u001b[0m= \u001b[96m\u001b[1mfadd\u001b[22m\u001b[39m \u001b[36mdouble\u001b[39m \u001b[0m%1\u001b[0m, \u001b[33m-1.000000e+00\u001b[39m\n",
      "\u001b[90m; └\u001b[39m\n",
      "\u001b[90m; ┌ @ promotion.jl:389 within `*` @ float.jl:385\u001b[39m\n",
      "   \u001b[0m%3 \u001b[0m= \u001b[96m\u001b[1mfmul\u001b[22m\u001b[39m \u001b[36mdouble\u001b[39m \u001b[0m%2\u001b[0m, \u001b[33m5.000000e+00\u001b[39m\n",
      "\u001b[90m; └\u001b[39m\n",
      "\u001b[90m; ┌ @ promotion.jl:390 within `-` @ float.jl:384\u001b[39m\n",
      "   \u001b[0m%4 \u001b[0m= \u001b[96m\u001b[1mfadd\u001b[22m\u001b[39m \u001b[36mdouble\u001b[39m \u001b[0m%3\u001b[0m, \u001b[33m-1.000000e+00\u001b[39m\n",
      "\u001b[90m; └\u001b[39m\n",
      "\u001b[90m; ┌ @ promotion.jl:389 within `*` @ float.jl:385\u001b[39m\n",
      "   \u001b[0m%5 \u001b[0m= \u001b[96m\u001b[1mfmul\u001b[22m\u001b[39m \u001b[36mdouble\u001b[39m \u001b[0m%4\u001b[0m, \u001b[33m5.000000e+00\u001b[39m\n",
      "\u001b[90m; └\u001b[39m\n",
      "\u001b[90m; ┌ @ promotion.jl:390 within `-` @ float.jl:384\u001b[39m\n",
      "   \u001b[0m%6 \u001b[0m= \u001b[96m\u001b[1mfadd\u001b[22m\u001b[39m \u001b[36mdouble\u001b[39m \u001b[0m%5\u001b[0m, \u001b[33m-1.000000e+00\u001b[39m\n",
      "\u001b[90m; └\u001b[39m\n",
      "\u001b[90m; ┌ @ promotion.jl:389 within `*` @ float.jl:385\u001b[39m\n",
      "   \u001b[0m%7 \u001b[0m= \u001b[96m\u001b[1mfmul\u001b[22m\u001b[39m \u001b[36mdouble\u001b[39m \u001b[0m%6\u001b[0m, \u001b[33m5.000000e+00\u001b[39m\n",
      "\u001b[90m; └\u001b[39m\n",
      "\u001b[90m; ┌ @ promotion.jl:390 within `-` @ float.jl:384\u001b[39m\n",
      "   \u001b[0m%8 \u001b[0m= \u001b[96m\u001b[1mfadd\u001b[22m\u001b[39m \u001b[36mdouble\u001b[39m \u001b[0m%7\u001b[0m, \u001b[33m-1.000000e+00\u001b[39m\n",
      "\u001b[90m; └\u001b[39m\n",
      "\u001b[90m; ┌ @ promotion.jl:389 within `*` @ float.jl:385\u001b[39m\n",
      "   \u001b[0m%9 \u001b[0m= \u001b[96m\u001b[1mfmul\u001b[22m\u001b[39m \u001b[36mdouble\u001b[39m \u001b[0m%8\u001b[0m, \u001b[33m5.000000e+00\u001b[39m\n",
      "\u001b[90m; └\u001b[39m\n",
      "\u001b[90m; ┌ @ promotion.jl:390 within `-` @ float.jl:384\u001b[39m\n",
      "   \u001b[0m%10 \u001b[0m= \u001b[96m\u001b[1mfadd\u001b[22m\u001b[39m \u001b[36mdouble\u001b[39m \u001b[0m%9\u001b[0m, \u001b[33m-1.000000e+00\u001b[39m\n",
      "\u001b[90m; └\u001b[39m\n",
      "\u001b[90m; ┌ @ promotion.jl:389 within `*` @ float.jl:385\u001b[39m\n",
      "   \u001b[0m%11 \u001b[0m= \u001b[96m\u001b[1mfmul\u001b[22m\u001b[39m \u001b[36mdouble\u001b[39m \u001b[0m%10\u001b[0m, \u001b[33m5.000000e+00\u001b[39m\n",
      "\u001b[90m; └\u001b[39m\n",
      "\u001b[90m; ┌ @ promotion.jl:390 within `-` @ float.jl:384\u001b[39m\n",
      "   \u001b[0m%12 \u001b[0m= \u001b[96m\u001b[1mfadd\u001b[22m\u001b[39m \u001b[36mdouble\u001b[39m \u001b[0m%11\u001b[0m, \u001b[33m-1.000000e+00\u001b[39m\n",
      "\u001b[90m; └\u001b[39m\n",
      "\u001b[90m; ┌ @ promotion.jl:389 within `*` @ float.jl:385\u001b[39m\n",
      "   \u001b[0m%13 \u001b[0m= \u001b[96m\u001b[1mfmul\u001b[22m\u001b[39m \u001b[36mdouble\u001b[39m \u001b[0m%12\u001b[0m, \u001b[33m5.000000e+00\u001b[39m\n",
      "\u001b[90m; └\u001b[39m\n",
      "\u001b[90m; ┌ @ promotion.jl:390 within `-` @ float.jl:384\u001b[39m\n",
      "   \u001b[0m%14 \u001b[0m= \u001b[96m\u001b[1mfadd\u001b[22m\u001b[39m \u001b[36mdouble\u001b[39m \u001b[0m%13\u001b[0m, \u001b[33m-1.000000e+00\u001b[39m\n",
      "\u001b[90m; └\u001b[39m\n",
      "\u001b[90m; ┌ @ promotion.jl:389 within `*` @ float.jl:385\u001b[39m\n",
      "   \u001b[0m%15 \u001b[0m= \u001b[96m\u001b[1mfmul\u001b[22m\u001b[39m \u001b[36mdouble\u001b[39m \u001b[0m%14\u001b[0m, \u001b[33m5.000000e+00\u001b[39m\n",
      "\u001b[90m; └\u001b[39m\n",
      "\u001b[90m; ┌ @ promotion.jl:390 within `-` @ float.jl:384\u001b[39m\n",
      "   \u001b[0m%16 \u001b[0m= \u001b[96m\u001b[1mfadd\u001b[22m\u001b[39m \u001b[36mdouble\u001b[39m \u001b[0m%15\u001b[0m, \u001b[33m-1.000000e+00\u001b[39m\n",
      "\u001b[90m; └\u001b[39m\n",
      "\u001b[90m; ┌ @ promotion.jl:389 within `*` @ float.jl:385\u001b[39m\n",
      "   \u001b[0m%17 \u001b[0m= \u001b[96m\u001b[1mfmul\u001b[22m\u001b[39m \u001b[36mdouble\u001b[39m \u001b[0m%16\u001b[0m, \u001b[33m5.000000e+00\u001b[39m\n",
      "\u001b[90m; └\u001b[39m\n",
      "\u001b[90m; ┌ @ promotion.jl:390 within `-` @ float.jl:384\u001b[39m\n",
      "   \u001b[0m%18 \u001b[0m= \u001b[96m\u001b[1mfadd\u001b[22m\u001b[39m \u001b[36mdouble\u001b[39m \u001b[0m%17\u001b[0m, \u001b[33m-1.000000e+00\u001b[39m\n",
      "\u001b[90m; └\u001b[39m\n",
      "\u001b[90m; ┌ @ promotion.jl:389 within `*` @ float.jl:385\u001b[39m\n",
      "   \u001b[0m%19 \u001b[0m= \u001b[96m\u001b[1mfmul\u001b[22m\u001b[39m \u001b[36mdouble\u001b[39m \u001b[0m%18\u001b[0m, \u001b[33m5.000000e+00\u001b[39m\n",
      "\u001b[90m; └\u001b[39m\n",
      "\u001b[90m; ┌ @ promotion.jl:390 within `-` @ float.jl:384\u001b[39m\n",
      "   \u001b[0m%20 \u001b[0m= \u001b[96m\u001b[1mfadd\u001b[22m\u001b[39m \u001b[36mdouble\u001b[39m \u001b[0m%19\u001b[0m, \u001b[33m-1.000000e+00\u001b[39m\n",
      "\u001b[90m; └\u001b[39m\n",
      "\u001b[90m;  @ /Users/yuyuanlin/Documents/UCLA_files/course_work/BIS_M257/hw/biostat-257-2023-spring/hw1/hw01sol.ipynb:5 within `g`\u001b[39m\n",
      "  \u001b[96m\u001b[1mret\u001b[22m\u001b[39m \u001b[36mdouble\u001b[39m \u001b[0m%20\n",
      "\u001b[33m}\u001b[39m\n"
     ]
    }
   ],
   "source": [
    "@code_llvm g(1.0::Float64)"
   ]
  },
  {
   "attachments": {},
   "cell_type": "markdown",
   "metadata": {},
   "source": [
    "#### Part 3\n",
    "Comparing the LLVM bitcodes from Part 1 and 2, we can see that the bitcode for `g` with `Int64` input is much simpler than that for `g` with `Float64` input. This is because the method for `Int64` input is much simpler than that for `Float64` input. "
   ]
  },
  {
   "attachments": {},
   "cell_type": "markdown",
   "metadata": {},
   "source": [
    "#### Part 4"
   ]
  },
  {
   "cell_type": "code",
   "execution_count": 3,
   "metadata": {},
   "outputs": [
    {
     "name": "stdout",
     "output_type": "stream",
     "text": [
      "\u001b[90m;  @ /Users/yuyuanlin/Documents/UCLA_files/course_work/BIS_M257/hw/biostat-257-2023-spring/hw1/hw01sol.ipynb:1 within `g_fastmath`\u001b[39m\n",
      "\u001b[95mdefine\u001b[39m \u001b[36mi64\u001b[39m \u001b[93m@julia_g_fastmath_941\u001b[39m\u001b[33m(\u001b[39m\u001b[36mi64\u001b[39m \u001b[95msignext\u001b[39m \u001b[0m%0\u001b[33m)\u001b[39m \u001b[0m#0 \u001b[33m{\u001b[39m\n",
      "\u001b[91mtop:\u001b[39m\n",
      "\u001b[90m;  @ /Users/yuyuanlin/Documents/UCLA_files/course_work/BIS_M257/hw/biostat-257-2023-spring/hw1/hw01sol.ipynb:3 within `g_fastmath`\u001b[39m\n",
      "\u001b[90m; ┌ @ fastmath.jl:270 within `mul_fast`\u001b[39m\n",
      "\u001b[90m; │┌ @ int.jl:88 within `*`\u001b[39m\n",
      "    \u001b[0m%1 \u001b[0m= \u001b[96m\u001b[1mmul\u001b[22m\u001b[39m \u001b[36mi64\u001b[39m \u001b[0m%0\u001b[0m, \u001b[33m9765625\u001b[39m\n",
      "\u001b[90m; └└\u001b[39m\n",
      "\u001b[90m; ┌ @ fastmath.jl:270 within `sub_fast`\u001b[39m\n",
      "\u001b[90m; │┌ @ int.jl:86 within `-`\u001b[39m\n",
      "    \u001b[0m%2 \u001b[0m= \u001b[96m\u001b[1madd\u001b[22m\u001b[39m \u001b[36mi64\u001b[39m \u001b[0m%1\u001b[0m, \u001b[33m-2441406\u001b[39m\n",
      "\u001b[90m; └└\u001b[39m\n",
      "\u001b[90m;  @ /Users/yuyuanlin/Documents/UCLA_files/course_work/BIS_M257/hw/biostat-257-2023-spring/hw1/hw01sol.ipynb:5 within `g_fastmath`\u001b[39m\n",
      "  \u001b[96m\u001b[1mret\u001b[22m\u001b[39m \u001b[36mi64\u001b[39m \u001b[0m%2\n",
      "\u001b[33m}\u001b[39m\n"
     ]
    }
   ],
   "source": [
    "function g_fastmath(k)  \n",
    "    @fastmath for i in 1:10  \n",
    "        k = 5k - 1\n",
    "    end\n",
    "    k\n",
    "end\n",
    "\n",
    "@code_llvm g_fastmath(1::Int64)"
   ]
  },
  {
   "cell_type": "code",
   "execution_count": 4,
   "metadata": {},
   "outputs": [
    {
     "name": "stdout",
     "output_type": "stream",
     "text": [
      "\u001b[90m;  @ /Users/yuyuanlin/Documents/UCLA_files/course_work/BIS_M257/hw/biostat-257-2023-spring/hw1/hw01sol.ipynb:1 within `g_fastmath`\u001b[39m\n",
      "\u001b[95mdefine\u001b[39m \u001b[36mdouble\u001b[39m \u001b[93m@julia_g_fastmath_943\u001b[39m\u001b[33m(\u001b[39m\u001b[36mdouble\u001b[39m \u001b[0m%0\u001b[33m)\u001b[39m \u001b[0m#0 \u001b[33m{\u001b[39m\n",
      "\u001b[91mtop:\u001b[39m\n",
      "\u001b[90m;  @ /Users/yuyuanlin/Documents/UCLA_files/course_work/BIS_M257/hw/biostat-257-2023-spring/hw1/hw01sol.ipynb:3 within `g_fastmath`\u001b[39m\n",
      "\u001b[90m; ┌ @ fastmath.jl:267 within `mul_fast` @ fastmath.jl:167\u001b[39m\n",
      "   \u001b[0m%1 \u001b[0m= \u001b[96m\u001b[1mfmul\u001b[22m\u001b[39m \u001b[95mfast\u001b[39m \u001b[36mdouble\u001b[39m \u001b[0m%0\u001b[0m, \u001b[33m0x4162A05F20000000\u001b[39m\n",
      "\u001b[90m; └\u001b[39m\n",
      "\u001b[90m; ┌ @ fastmath.jl:267 within `sub_fast` @ fastmath.jl:166\u001b[39m\n",
      "   \u001b[0m%2 \u001b[0m= \u001b[96m\u001b[1mfadd\u001b[22m\u001b[39m \u001b[95mfast\u001b[39m \u001b[36mdouble\u001b[39m \u001b[0m%1\u001b[0m, \u001b[33m0xC142A05F00000000\u001b[39m\n",
      "\u001b[90m; └\u001b[39m\n",
      "\u001b[90m;  @ /Users/yuyuanlin/Documents/UCLA_files/course_work/BIS_M257/hw/biostat-257-2023-spring/hw1/hw01sol.ipynb:5 within `g_fastmath`\u001b[39m\n",
      "  \u001b[96m\u001b[1mret\u001b[22m\u001b[39m \u001b[36mdouble\u001b[39m \u001b[0m%2\n",
      "\u001b[33m}\u001b[39m\n"
     ]
    }
   ],
   "source": [
    "@code_llvm g_fastmath(1.0::Float64)"
   ]
  },
  {
   "attachments": {},
   "cell_type": "markdown",
   "metadata": {},
   "source": [
    "The macro `@fastmath` executes a transformed version of the expression, which calls functions that may violate strict IEEE semantics. This allows the fastest possible. This may reduce the precision of float numbers, and cause numerical changes. The LLVM bitcode for `g_fastmath` with `Float64` input is as long as that for `g` or `g_fastmath` with `Int64` input, which is much simpler than that for `g` with `Float64` input."
   ]
  },
  {
   "cell_type": "markdown",
   "metadata": {},
   "source": [
    "## Q4\n",
    "\n",
    "Create the vector `x = (0.988, 0.989, 0.990, ..., 1.010, 1.011, 1.012)`.   \n",
    "\n",
    "1. Plot the polynomial `y = x^7 - 7x^6 + 21x^5 - 35x^4 + 35x^3 - 21x^2 + 7x - 1` at points `x`.  \n",
    "\n",
    "2. Plot the polynomial `y = (x - 1)^7` at points `x`.  \n",
    "\n",
    "3. Explain what you found."
   ]
  },
  {
   "attachments": {},
   "cell_type": "markdown",
   "metadata": {},
   "source": [
    "### Q4 answer\n",
    "The part 1 and 2 are shown below."
   ]
  },
  {
   "cell_type": "code",
   "execution_count": 9,
   "metadata": {},
   "outputs": [
    {
     "data": {
      "image/png": "[encoded data removed]",
      "image/svg+xml": [
       "<?xml version=\"1.0\" encoding=\"utf-8\"?>\n",
       "<svg xmlns=\"http://www.w3.org/2000/svg\" xmlns:xlink=\"http://www.w3.org/1999/xlink\" width=\"600\" height=\"400\" viewBox=\"0 0 2400 1600\">\n",
       "<defs>\n",
       "  <clipPath id=\"clip800\">\n",
       "    <rect x=\"0\" y=\"0\" width=\"2400\" height=\"1600\"/>\n",
       "  </clipPath>\n",
       "</defs>\n",
       "<path clip-path=\"url(#clip800)\" d=\"M0 1600 L2400 1600 L2400 0 L0 0  Z\" fill=\"#ffffff\" fill-rule=\"evenodd\" fill-opacity=\"1\"/>\n",
       "<defs>\n",
       "  <clipPath id=\"clip801\">\n",
       "    <rect x=\"480\" y=\"0\" width=\"1681\" height=\"1600\"/>\n",
       "  </clipPath>\n",
       "</defs>\n",
       "<path clip-path=\"url(#clip800)\" d=\"M432.293 1423.18 L2352.76 1423.18 L2352.76 47.2441 L432.293 47.2441  Z\" fill=\"#ffffff\" fill-rule=\"evenodd\" fill-opacity=\"1\"/>\n",
       "<defs>\n",
       "  <clipPath id=\"clip802\">\n",
       "    <rect x=\"432\" y=\"47\" width=\"1921\" height=\"1377\"/>\n",
       "  </clipPath>\n",
       "</defs>\n",
       "<polyline clip-path=\"url(#clip802)\" style=\"stroke:#000000; stroke-linecap:round; stroke-linejoin:round; stroke-width:2; stroke-opacity:0.1; fill:none\" points=\"637.625,1423.18 637.625,47.2441 \"/>\n",
       "<polyline clip-path=\"url(#clip802)\" style=\"stroke:#000000; stroke-linecap:round; stroke-linejoin:round; stroke-width:2; stroke-opacity:0.1; fill:none\" points=\"1015.07,1423.18 1015.07,47.2441 \"/>\n",
       "<polyline clip-path=\"url(#clip802)\" style=\"stroke:#000000; stroke-linecap:round; stroke-linejoin:round; stroke-width:2; stroke-opacity:0.1; fill:none\" points=\"1392.52,1423.18 1392.52,47.2441 \"/>\n",
       "<polyline clip-path=\"url(#clip802)\" style=\"stroke:#000000; stroke-linecap:round; stroke-linejoin:round; stroke-width:2; stroke-opacity:0.1; fill:none\" points=\"1769.97,1423.18 1769.97,47.2441 \"/>\n",
       "<polyline clip-path=\"url(#clip802)\" style=\"stroke:#000000; stroke-linecap:round; stroke-linejoin:round; stroke-width:2; stroke-opacity:0.1; fill:none\" points=\"2147.42,1423.18 2147.42,47.2441 \"/>\n",
       "<polyline clip-path=\"url(#clip800)\" style=\"stroke:#000000; stroke-linecap:round; stroke-linejoin:round; stroke-width:4; stroke-opacity:1; fill:none\" points=\"432.293,1423.18 2352.76,1423.18 \"/>\n",
       "<polyline clip-path=\"url(#clip800)\" style=\"stroke:#000000; stroke-linecap:round; stroke-linejoin:round; stroke-width:4; stroke-opacity:1; fill:none\" points=\"637.625,1423.18 637.625,1404.28 \"/>\n",
       "<polyline clip-path=\"url(#clip800)\" style=\"stroke:#000000; stroke-linecap:round; stroke-linejoin:round; stroke-width:4; stroke-opacity:1; fill:none\" points=\"1015.07,1423.18 1015.07,1404.28 \"/>\n",
       "<polyline clip-path=\"url(#clip800)\" style=\"stroke:#000000; stroke-linecap:round; stroke-linejoin:round; stroke-width:4; stroke-opacity:1; fill:none\" points=\"1392.52,1423.18 1392.52,1404.28 \"/>\n",
       "<polyline clip-path=\"url(#clip800)\" style=\"stroke:#000000; stroke-linecap:round; stroke-linejoin:round; stroke-width:4; stroke-opacity:1; fill:none\" points=\"1769.97,1423.18 1769.97,1404.28 \"/>\n",
       "<polyline clip-path=\"url(#clip800)\" style=\"stroke:#000000; stroke-linecap:round; stroke-linejoin:round; stroke-width:4; stroke-opacity:1; fill:none\" points=\"2147.42,1423.18 2147.42,1404.28 \"/>\n",
       "<path clip-path=\"url(#clip800)\" d=\"M584.848 1454.1 Q581.237 1454.1 579.408 1457.66 Q577.602 1461.2 577.602 1468.33 Q577.602 1475.44 579.408 1479.01 Q581.237 1482.55 584.848 1482.55 Q588.482 1482.55 590.288 1479.01 Q592.116 1475.44 592.116 1468.33 Q592.116 1461.2 590.288 1457.66 Q588.482 1454.1 584.848 1454.1 M584.848 1450.39 Q590.658 1450.39 593.714 1455 Q596.792 1459.58 596.792 1468.33 Q596.792 1477.06 593.714 1481.67 Q590.658 1486.25 584.848 1486.25 Q579.038 1486.25 575.959 1481.67 Q572.903 1477.06 572.903 1468.33 Q572.903 1459.58 575.959 1455 Q579.038 1450.39 584.848 1450.39 Z\" fill=\"#000000\" fill-rule=\"nonzero\" fill-opacity=\"1\" /><path clip-path=\"url(#clip800)\" d=\"M605.01 1479.7 L609.894 1479.7 L609.894 1485.58 L605.01 1485.58 L605.01 1479.7 Z\" fill=\"#000000\" fill-rule=\"nonzero\" fill-opacity=\"1\" /><path clip-path=\"url(#clip800)\" d=\"M620.218 1484.86 L620.218 1480.6 Q621.977 1481.44 623.783 1481.88 Q625.588 1482.32 627.324 1482.32 Q631.954 1482.32 634.385 1479.21 Q636.838 1476.09 637.186 1469.75 Q635.843 1471.74 633.783 1472.8 Q631.723 1473.87 629.223 1473.87 Q624.037 1473.87 621.005 1470.74 Q617.996 1467.59 617.996 1462.15 Q617.996 1456.83 621.144 1453.61 Q624.292 1450.39 629.524 1450.39 Q635.519 1450.39 638.667 1455 Q641.838 1459.58 641.838 1468.33 Q641.838 1476.51 637.949 1481.39 Q634.084 1486.25 627.533 1486.25 Q625.774 1486.25 623.968 1485.9 Q622.162 1485.56 620.218 1484.86 M629.524 1470.21 Q632.672 1470.21 634.5 1468.06 Q636.352 1465.9 636.352 1462.15 Q636.352 1458.43 634.5 1456.27 Q632.672 1454.1 629.524 1454.1 Q626.375 1454.1 624.524 1456.27 Q622.695 1458.43 622.695 1462.15 Q622.695 1465.9 624.524 1468.06 Q626.375 1470.21 629.524 1470.21 Z\" fill=\"#000000\" fill-rule=\"nonzero\" fill-opacity=\"1\" /><path clip-path=\"url(#clip800)\" d=\"M650.38 1484.86 L650.38 1480.6 Q652.139 1481.44 653.945 1481.88 Q655.75 1482.32 657.486 1482.32 Q662.116 1482.32 664.546 1479.21 Q667 1476.09 667.347 1469.75 Q666.005 1471.74 663.945 1472.8 Q661.884 1473.87 659.384 1473.87 Q654.199 1473.87 651.167 1470.74 Q648.158 1467.59 648.158 1462.15 Q648.158 1456.83 651.306 1453.61 Q654.454 1450.39 659.685 1450.39 Q665.681 1450.39 668.829 1455 Q672 1459.58 672 1468.33 Q672 1476.51 668.111 1481.39 Q664.246 1486.25 657.695 1486.25 Q655.935 1486.25 654.13 1485.9 Q652.324 1485.56 650.38 1484.86 M659.685 1470.21 Q662.834 1470.21 664.662 1468.06 Q666.514 1465.9 666.514 1462.15 Q666.514 1458.43 664.662 1456.27 Q662.834 1454.1 659.685 1454.1 Q656.537 1454.1 654.685 1456.27 Q652.857 1458.43 652.857 1462.15 Q652.857 1465.9 654.685 1468.06 Q656.537 1470.21 659.685 1470.21 Z\" fill=\"#000000\" fill-rule=\"nonzero\" fill-opacity=\"1\" /><path clip-path=\"url(#clip800)\" d=\"M690.403 1454.1 Q686.792 1454.1 684.963 1457.66 Q683.157 1461.2 683.157 1468.33 Q683.157 1475.44 684.963 1479.01 Q686.792 1482.55 690.403 1482.55 Q694.037 1482.55 695.843 1479.01 Q697.671 1475.44 697.671 1468.33 Q697.671 1461.2 695.843 1457.66 Q694.037 1454.1 690.403 1454.1 M690.403 1450.39 Q696.213 1450.39 699.269 1455 Q702.347 1459.58 702.347 1468.33 Q702.347 1477.06 699.269 1481.67 Q696.213 1486.25 690.403 1486.25 Q684.593 1486.25 681.514 1481.67 Q678.458 1477.06 678.458 1468.33 Q678.458 1459.58 681.514 1455 Q684.593 1450.39 690.403 1450.39 Z\" fill=\"#000000\" fill-rule=\"nonzero\" fill-opacity=\"1\" /><path clip-path=\"url(#clip800)\" d=\"M962.795 1454.1 Q959.184 1454.1 957.355 1457.66 Q955.55 1461.2 955.55 1468.33 Q955.55 1475.44 957.355 1479.01 Q959.184 1482.55 962.795 1482.55 Q966.429 1482.55 968.235 1479.01 Q970.064 1475.44 970.064 1468.33 Q970.064 1461.2 968.235 1457.66 Q966.429 1454.1 962.795 1454.1 M962.795 1450.39 Q968.605 1450.39 971.661 1455 Q974.739 1459.58 974.739 1468.33 Q974.739 1477.06 971.661 1481.67 Q968.605 1486.25 962.795 1486.25 Q956.985 1486.25 953.906 1481.67 Q950.851 1477.06 950.851 1468.33 Q950.851 1459.58 953.906 1455 Q956.985 1450.39 962.795 1450.39 Z\" fill=\"#000000\" fill-rule=\"nonzero\" fill-opacity=\"1\" /><path clip-path=\"url(#clip800)\" d=\"M982.957 1479.7 L987.841 1479.7 L987.841 1485.58 L982.957 1485.58 L982.957 1479.7 Z\" fill=\"#000000\" fill-rule=\"nonzero\" fill-opacity=\"1\" /><path clip-path=\"url(#clip800)\" d=\"M998.165 1484.86 L998.165 1480.6 Q999.924 1481.44 1001.73 1481.88 Q1003.54 1482.32 1005.27 1482.32 Q1009.9 1482.32 1012.33 1479.21 Q1014.79 1476.09 1015.13 1469.75 Q1013.79 1471.74 1011.73 1472.8 Q1009.67 1473.87 1007.17 1473.87 Q1001.98 1473.87 998.952 1470.74 Q995.943 1467.59 995.943 1462.15 Q995.943 1456.83 999.091 1453.61 Q1002.24 1450.39 1007.47 1450.39 Q1013.47 1450.39 1016.61 1455 Q1019.79 1459.58 1019.79 1468.33 Q1019.79 1476.51 1015.9 1481.39 Q1012.03 1486.25 1005.48 1486.25 Q1003.72 1486.25 1001.92 1485.9 Q1000.11 1485.56 998.165 1484.86 M1007.47 1470.21 Q1010.62 1470.21 1012.45 1468.06 Q1014.3 1465.9 1014.3 1462.15 Q1014.3 1458.43 1012.45 1456.27 Q1010.62 1454.1 1007.47 1454.1 Q1004.32 1454.1 1002.47 1456.27 Q1000.64 1458.43 1000.64 1462.15 Q1000.64 1465.9 1002.47 1468.06 Q1004.32 1470.21 1007.47 1470.21 Z\" fill=\"#000000\" fill-rule=\"nonzero\" fill-opacity=\"1\" /><path clip-path=\"url(#clip800)\" d=\"M1028.33 1484.86 L1028.33 1480.6 Q1030.09 1481.44 1031.89 1481.88 Q1033.7 1482.32 1035.43 1482.32 Q1040.06 1482.32 1042.49 1479.21 Q1044.95 1476.09 1045.29 1469.75 Q1043.95 1471.74 1041.89 1472.8 Q1039.83 1473.87 1037.33 1473.87 Q1032.15 1473.87 1029.11 1470.74 Q1026.1 1467.59 1026.1 1462.15 Q1026.1 1456.83 1029.25 1453.61 Q1032.4 1450.39 1037.63 1450.39 Q1043.63 1450.39 1046.78 1455 Q1049.95 1459.58 1049.95 1468.33 Q1049.95 1476.51 1046.06 1481.39 Q1042.19 1486.25 1035.64 1486.25 Q1033.88 1486.25 1032.08 1485.9 Q1030.27 1485.56 1028.33 1484.86 M1037.63 1470.21 Q1040.78 1470.21 1042.61 1468.06 Q1044.46 1465.9 1044.46 1462.15 Q1044.46 1458.43 1042.61 1456.27 Q1040.78 1454.1 1037.63 1454.1 Q1034.48 1454.1 1032.63 1456.27 Q1030.8 1458.43 1030.8 1462.15 Q1030.8 1465.9 1032.63 1468.06 Q1034.48 1470.21 1037.63 1470.21 Z\" fill=\"#000000\" fill-rule=\"nonzero\" fill-opacity=\"1\" /><path clip-path=\"url(#clip800)\" d=\"M1058.4 1451.02 L1076.75 1451.02 L1076.75 1454.96 L1062.68 1454.96 L1062.68 1463.43 Q1063.7 1463.08 1064.72 1462.92 Q1065.73 1462.73 1066.75 1462.73 Q1072.54 1462.73 1075.92 1465.9 Q1079.3 1469.08 1079.3 1474.49 Q1079.3 1480.07 1075.83 1483.17 Q1072.35 1486.25 1066.04 1486.25 Q1063.86 1486.25 1061.59 1485.88 Q1059.35 1485.51 1056.94 1484.77 L1056.94 1480.07 Q1059.02 1481.2 1061.24 1481.76 Q1063.47 1482.32 1065.94 1482.32 Q1069.95 1482.32 1072.29 1480.21 Q1074.62 1478.1 1074.62 1474.49 Q1074.62 1470.88 1072.29 1468.77 Q1069.95 1466.67 1065.94 1466.67 Q1064.07 1466.67 1062.19 1467.08 Q1060.34 1467.5 1058.4 1468.38 L1058.4 1451.02 Z\" fill=\"#000000\" fill-rule=\"nonzero\" fill-opacity=\"1\" /><path clip-path=\"url(#clip800)\" d=\"M1329.52 1481.64 L1337.15 1481.64 L1337.15 1455.28 L1328.84 1456.95 L1328.84 1452.69 L1337.11 1451.02 L1341.78 1451.02 L1341.78 1481.64 L1349.42 1481.64 L1349.42 1485.58 L1329.52 1485.58 L1329.52 1481.64 Z\" fill=\"#000000\" fill-rule=\"nonzero\" fill-opacity=\"1\" /><path clip-path=\"url(#clip800)\" d=\"M1358.87 1479.7 L1363.75 1479.7 L1363.75 1485.58 L1358.87 1485.58 L1358.87 1479.7 Z\" fill=\"#000000\" fill-rule=\"nonzero\" fill-opacity=\"1\" /><path clip-path=\"url(#clip800)\" d=\"M1383.94 1454.1 Q1380.33 1454.1 1378.5 1457.66 Q1376.69 1461.2 1376.69 1468.33 Q1376.69 1475.44 1378.5 1479.01 Q1380.33 1482.55 1383.94 1482.55 Q1387.57 1482.55 1389.38 1479.01 Q1391.2 1475.44 1391.2 1468.33 Q1391.2 1461.2 1389.38 1457.66 Q1387.57 1454.1 1383.94 1454.1 M1383.94 1450.39 Q1389.75 1450.39 1392.8 1455 Q1395.88 1459.58 1395.88 1468.33 Q1395.88 1477.06 1392.8 1481.67 Q1389.75 1486.25 1383.94 1486.25 Q1378.13 1486.25 1375.05 1481.67 Q1371.99 1477.06 1371.99 1468.33 Q1371.99 1459.58 1375.05 1455 Q1378.13 1450.39 1383.94 1450.39 Z\" fill=\"#000000\" fill-rule=\"nonzero\" fill-opacity=\"1\" /><path clip-path=\"url(#clip800)\" d=\"M1414.1 1454.1 Q1410.49 1454.1 1408.66 1457.66 Q1406.85 1461.2 1406.85 1468.33 Q1406.85 1475.44 1408.66 1479.01 Q1410.49 1482.55 1414.1 1482.55 Q1417.73 1482.55 1419.54 1479.01 Q1421.37 1475.44 1421.37 1468.33 Q1421.37 1461.2 1419.54 1457.66 Q1417.73 1454.1 1414.1 1454.1 M1414.1 1450.39 Q1419.91 1450.39 1422.96 1455 Q1426.04 1459.58 1426.04 1468.33 Q1426.04 1477.06 1422.96 1481.67 Q1419.91 1486.25 1414.1 1486.25 Q1408.29 1486.25 1405.21 1481.67 Q1402.15 1477.06 1402.15 1468.33 Q1402.15 1459.58 1405.21 1455 Q1408.29 1450.39 1414.1 1450.39 Z\" fill=\"#000000\" fill-rule=\"nonzero\" fill-opacity=\"1\" /><path clip-path=\"url(#clip800)\" d=\"M1444.26 1454.1 Q1440.65 1454.1 1438.82 1457.66 Q1437.01 1461.2 1437.01 1468.33 Q1437.01 1475.44 1438.82 1479.01 Q1440.65 1482.55 1444.26 1482.55 Q1447.89 1482.55 1449.7 1479.01 Q1451.53 1475.44 1451.53 1468.33 Q1451.53 1461.2 1449.7 1457.66 Q1447.89 1454.1 1444.26 1454.1 M1444.26 1450.39 Q1450.07 1450.39 1453.13 1455 Q1456.2 1459.58 1456.2 1468.33 Q1456.2 1477.06 1453.13 1481.67 Q1450.07 1486.25 1444.26 1486.25 Q1438.45 1486.25 1435.37 1481.67 Q1432.32 1477.06 1432.32 1468.33 Q1432.32 1459.58 1435.37 1455 Q1438.45 1450.39 1444.26 1450.39 Z\" fill=\"#000000\" fill-rule=\"nonzero\" fill-opacity=\"1\" /><path clip-path=\"url(#clip800)\" d=\"M1707.46 1481.64 L1715.1 1481.64 L1715.1 1455.28 L1706.79 1456.95 L1706.79 1452.69 L1715.06 1451.02 L1719.73 1451.02 L1719.73 1481.64 L1727.37 1481.64 L1727.37 1485.58 L1707.46 1485.58 L1707.46 1481.64 Z\" fill=\"#000000\" fill-rule=\"nonzero\" fill-opacity=\"1\" /><path clip-path=\"url(#clip800)\" d=\"M1736.81 1479.7 L1741.7 1479.7 L1741.7 1485.58 L1736.81 1485.58 L1736.81 1479.7 Z\" fill=\"#000000\" fill-rule=\"nonzero\" fill-opacity=\"1\" /><path clip-path=\"url(#clip800)\" d=\"M1761.88 1454.1 Q1758.27 1454.1 1756.44 1457.66 Q1754.64 1461.2 1754.64 1468.33 Q1754.64 1475.44 1756.44 1479.01 Q1758.27 1482.55 1761.88 1482.55 Q1765.52 1482.55 1767.32 1479.01 Q1769.15 1475.44 1769.15 1468.33 Q1769.15 1461.2 1767.32 1457.66 Q1765.52 1454.1 1761.88 1454.1 M1761.88 1450.39 Q1767.69 1450.39 1770.75 1455 Q1773.83 1459.58 1773.83 1468.33 Q1773.83 1477.06 1770.75 1481.67 Q1767.69 1486.25 1761.88 1486.25 Q1756.07 1486.25 1752.99 1481.67 Q1749.94 1477.06 1749.94 1468.33 Q1749.94 1459.58 1752.99 1455 Q1756.07 1450.39 1761.88 1450.39 Z\" fill=\"#000000\" fill-rule=\"nonzero\" fill-opacity=\"1\" /><path clip-path=\"url(#clip800)\" d=\"M1792.05 1454.1 Q1788.43 1454.1 1786.61 1457.66 Q1784.8 1461.2 1784.8 1468.33 Q1784.8 1475.44 1786.61 1479.01 Q1788.43 1482.55 1792.05 1482.55 Q1795.68 1482.55 1797.49 1479.01 Q1799.31 1475.44 1799.31 1468.33 Q1799.31 1461.2 1797.49 1457.66 Q1795.68 1454.1 1792.05 1454.1 M1792.05 1450.39 Q1797.86 1450.39 1800.91 1455 Q1803.99 1459.58 1803.99 1468.33 Q1803.99 1477.06 1800.91 1481.67 Q1797.86 1486.25 1792.05 1486.25 Q1786.24 1486.25 1783.16 1481.67 Q1780.1 1477.06 1780.1 1468.33 Q1780.1 1459.58 1783.16 1455 Q1786.24 1450.39 1792.05 1450.39 Z\" fill=\"#000000\" fill-rule=\"nonzero\" fill-opacity=\"1\" /><path clip-path=\"url(#clip800)\" d=\"M1812.25 1451.02 L1830.61 1451.02 L1830.61 1454.96 L1816.54 1454.96 L1816.54 1463.43 Q1817.55 1463.08 1818.57 1462.92 Q1819.59 1462.73 1820.61 1462.73 Q1826.4 1462.73 1829.78 1465.9 Q1833.16 1469.08 1833.16 1474.49 Q1833.16 1480.07 1829.68 1483.17 Q1826.21 1486.25 1819.89 1486.25 Q1817.72 1486.25 1815.45 1485.88 Q1813.2 1485.51 1810.8 1484.77 L1810.8 1480.07 Q1812.88 1481.2 1815.1 1481.76 Q1817.32 1482.32 1819.8 1482.32 Q1823.8 1482.32 1826.14 1480.21 Q1828.48 1478.1 1828.48 1474.49 Q1828.48 1470.88 1826.14 1468.77 Q1823.8 1466.67 1819.8 1466.67 Q1817.92 1466.67 1816.05 1467.08 Q1814.2 1467.5 1812.25 1468.38 L1812.25 1451.02 Z\" fill=\"#000000\" fill-rule=\"nonzero\" fill-opacity=\"1\" /><path clip-path=\"url(#clip800)\" d=\"M2084.41 1481.64 L2092.05 1481.64 L2092.05 1455.28 L2083.74 1456.95 L2083.74 1452.69 L2092.01 1451.02 L2096.68 1451.02 L2096.68 1481.64 L2104.32 1481.64 L2104.32 1485.58 L2084.41 1485.58 L2084.41 1481.64 Z\" fill=\"#000000\" fill-rule=\"nonzero\" fill-opacity=\"1\" /><path clip-path=\"url(#clip800)\" d=\"M2113.77 1479.7 L2118.65 1479.7 L2118.65 1485.58 L2113.77 1485.58 L2113.77 1479.7 Z\" fill=\"#000000\" fill-rule=\"nonzero\" fill-opacity=\"1\" /><path clip-path=\"url(#clip800)\" d=\"M2138.84 1454.1 Q2135.22 1454.1 2133.4 1457.66 Q2131.59 1461.2 2131.59 1468.33 Q2131.59 1475.44 2133.4 1479.01 Q2135.22 1482.55 2138.84 1482.55 Q2142.47 1482.55 2144.28 1479.01 Q2146.1 1475.44 2146.1 1468.33 Q2146.1 1461.2 2144.28 1457.66 Q2142.47 1454.1 2138.84 1454.1 M2138.84 1450.39 Q2144.65 1450.39 2147.7 1455 Q2150.78 1459.58 2150.78 1468.33 Q2150.78 1477.06 2147.7 1481.67 Q2144.65 1486.25 2138.84 1486.25 Q2133.03 1486.25 2129.95 1481.67 Q2126.89 1477.06 2126.89 1468.33 Q2126.89 1459.58 2129.95 1455 Q2133.03 1450.39 2138.84 1450.39 Z\" fill=\"#000000\" fill-rule=\"nonzero\" fill-opacity=\"1\" /><path clip-path=\"url(#clip800)\" d=\"M2159.81 1481.64 L2167.45 1481.64 L2167.45 1455.28 L2159.14 1456.95 L2159.14 1452.69 L2167.4 1451.02 L2172.08 1451.02 L2172.08 1481.64 L2179.71 1481.64 L2179.71 1485.58 L2159.81 1485.58 L2159.81 1481.64 Z\" fill=\"#000000\" fill-rule=\"nonzero\" fill-opacity=\"1\" /><path clip-path=\"url(#clip800)\" d=\"M2199.16 1454.1 Q2195.55 1454.1 2193.72 1457.66 Q2191.91 1461.2 2191.91 1468.33 Q2191.91 1475.44 2193.72 1479.01 Q2195.55 1482.55 2199.16 1482.55 Q2202.79 1482.55 2204.6 1479.01 Q2206.43 1475.44 2206.43 1468.33 Q2206.43 1461.2 2204.6 1457.66 Q2202.79 1454.1 2199.16 1454.1 M2199.16 1450.39 Q2204.97 1450.39 2208.02 1455 Q2211.1 1459.58 2211.1 1468.33 Q2211.1 1477.06 2208.02 1481.67 Q2204.97 1486.25 2199.16 1486.25 Q2193.35 1486.25 2190.27 1481.67 Q2187.21 1477.06 2187.21 1468.33 Q2187.21 1459.58 2190.27 1455 Q2193.35 1450.39 2199.16 1450.39 Z\" fill=\"#000000\" fill-rule=\"nonzero\" fill-opacity=\"1\" /><path clip-path=\"url(#clip800)\" d=\"M1409.14 1532.4 L1396.25 1549.74 L1409.81 1568.04 L1402.9 1568.04 L1392.52 1554.04 L1382.15 1568.04 L1375.24 1568.04 L1389.09 1549.39 L1376.42 1532.4 L1383.33 1532.4 L1392.78 1545.1 L1402.23 1532.4 L1409.14 1532.4 Z\" fill=\"#000000\" fill-rule=\"nonzero\" fill-opacity=\"1\" /><polyline clip-path=\"url(#clip802)\" style=\"stroke:#000000; stroke-linecap:round; stroke-linejoin:round; stroke-width:2; stroke-opacity:0.1; fill:none\" points=\"432.293,1122.33 2352.76,1122.33 \"/>\n",
       "<polyline clip-path=\"url(#clip802)\" style=\"stroke:#000000; stroke-linecap:round; stroke-linejoin:round; stroke-width:2; stroke-opacity:0.1; fill:none\" points=\"432.293,791.465 2352.76,791.465 \"/>\n",
       "<polyline clip-path=\"url(#clip802)\" style=\"stroke:#000000; stroke-linecap:round; stroke-linejoin:round; stroke-width:2; stroke-opacity:0.1; fill:none\" points=\"432.293,460.601 2352.76,460.601 \"/>\n",
       "<polyline clip-path=\"url(#clip802)\" style=\"stroke:#000000; stroke-linecap:round; stroke-linejoin:round; stroke-width:2; stroke-opacity:0.1; fill:none\" points=\"432.293,129.737 2352.76,129.737 \"/>\n",
       "<polyline clip-path=\"url(#clip800)\" style=\"stroke:#000000; stroke-linecap:round; stroke-linejoin:round; stroke-width:4; stroke-opacity:1; fill:none\" points=\"432.293,1423.18 432.293,47.2441 \"/>\n",
       "<polyline clip-path=\"url(#clip800)\" style=\"stroke:#000000; stroke-linecap:round; stroke-linejoin:round; stroke-width:4; stroke-opacity:1; fill:none\" points=\"432.293,1122.33 451.19,1122.33 \"/>\n",
       "<polyline clip-path=\"url(#clip800)\" style=\"stroke:#000000; stroke-linecap:round; stroke-linejoin:round; stroke-width:4; stroke-opacity:1; fill:none\" points=\"432.293,791.465 451.19,791.465 \"/>\n",
       "<polyline clip-path=\"url(#clip800)\" style=\"stroke:#000000; stroke-linecap:round; stroke-linejoin:round; stroke-width:4; stroke-opacity:1; fill:none\" points=\"432.293,460.601 451.19,460.601 \"/>\n",
       "<polyline clip-path=\"url(#clip800)\" style=\"stroke:#000000; stroke-linecap:round; stroke-linejoin:round; stroke-width:4; stroke-opacity:1; fill:none\" points=\"432.293,129.737 451.19,129.737 \"/>\n",
       "<path clip-path=\"url(#clip800)\" d=\"M114.26 1129.23 L143.936 1129.23 L143.936 1133.16 L114.26 1133.16 L114.26 1129.23 Z\" fill=\"#000000\" fill-rule=\"nonzero\" fill-opacity=\"1\" /><path clip-path=\"url(#clip800)\" d=\"M158.056 1142.12 L174.376 1142.12 L174.376 1146.06 L152.431 1146.06 L152.431 1142.12 Q155.093 1139.37 159.677 1134.74 Q164.283 1130.08 165.464 1128.74 Q167.709 1126.22 168.589 1124.48 Q169.491 1122.72 169.491 1121.03 Q169.491 1118.28 167.547 1116.54 Q165.626 1114.81 162.524 1114.81 Q160.325 1114.81 157.871 1115.57 Q155.44 1116.33 152.663 1117.89 L152.663 1113.16 Q155.487 1112.03 157.94 1111.45 Q160.394 1110.87 162.431 1110.87 Q167.802 1110.87 170.996 1113.56 Q174.19 1116.24 174.19 1120.73 Q174.19 1122.86 173.38 1124.78 Q172.593 1126.68 170.487 1129.27 Q169.908 1129.95 166.806 1133.16 Q163.704 1136.36 158.056 1142.12 Z\" fill=\"#000000\" fill-rule=\"nonzero\" fill-opacity=\"1\" /><path clip-path=\"url(#clip800)\" d=\"M184.19 1140.18 L189.075 1140.18 L189.075 1146.06 L184.19 1146.06 L184.19 1140.18 Z\" fill=\"#000000\" fill-rule=\"nonzero\" fill-opacity=\"1\" /><path clip-path=\"url(#clip800)\" d=\"M209.26 1114.58 Q205.649 1114.58 203.82 1118.14 Q202.014 1121.68 202.014 1128.81 Q202.014 1135.92 203.82 1139.48 Q205.649 1143.02 209.26 1143.02 Q212.894 1143.02 214.699 1139.48 Q216.528 1135.92 216.528 1128.81 Q216.528 1121.68 214.699 1118.14 Q212.894 1114.58 209.26 1114.58 M209.26 1110.87 Q215.07 1110.87 218.125 1115.48 Q221.204 1120.06 221.204 1128.81 Q221.204 1137.54 218.125 1142.14 Q215.07 1146.73 209.26 1146.73 Q203.449 1146.73 200.371 1142.14 Q197.315 1137.54 197.315 1128.81 Q197.315 1120.06 200.371 1115.48 Q203.449 1110.87 209.26 1110.87 Z\" fill=\"#000000\" fill-rule=\"nonzero\" fill-opacity=\"1\" /><path clip-path=\"url(#clip800)\" d=\"M257.593 1120.59 L247.014 1131.22 L257.593 1141.8 L254.838 1144.6 L244.213 1133.97 L233.588 1144.6 L230.857 1141.8 L241.412 1131.22 L230.857 1120.59 L233.588 1117.79 L244.213 1128.42 L254.838 1117.79 L257.593 1120.59 Z\" fill=\"#000000\" fill-rule=\"nonzero\" fill-opacity=\"1\" /><path clip-path=\"url(#clip800)\" d=\"M269.954 1142.12 L277.593 1142.12 L277.593 1115.76 L269.282 1117.42 L269.282 1113.16 L277.546 1111.5 L282.222 1111.5 L282.222 1142.12 L289.861 1142.12 L289.861 1146.06 L269.954 1146.06 L269.954 1142.12 Z\" fill=\"#000000\" fill-rule=\"nonzero\" fill-opacity=\"1\" /><path clip-path=\"url(#clip800)\" d=\"M309.305 1114.58 Q305.694 1114.58 303.866 1118.14 Q302.06 1121.68 302.06 1128.81 Q302.06 1135.92 303.866 1139.48 Q305.694 1143.02 309.305 1143.02 Q312.94 1143.02 314.745 1139.48 Q316.574 1135.92 316.574 1128.81 Q316.574 1121.68 314.745 1118.14 Q312.94 1114.58 309.305 1114.58 M309.305 1110.87 Q315.116 1110.87 318.171 1115.48 Q321.25 1120.06 321.25 1128.81 Q321.25 1137.54 318.171 1142.14 Q315.116 1146.73 309.305 1146.73 Q303.495 1146.73 300.417 1142.14 Q297.361 1137.54 297.361 1128.81 Q297.361 1120.06 300.417 1115.48 Q303.495 1110.87 309.305 1110.87 Z\" fill=\"#000000\" fill-rule=\"nonzero\" fill-opacity=\"1\" /><path clip-path=\"url(#clip800)\" d=\"M321.25 1104.97 L345.361 1104.97 L345.361 1108.17 L321.25 1108.17 L321.25 1104.97 Z\" fill=\"#000000\" fill-rule=\"nonzero\" fill-opacity=\"1\" /><path clip-path=\"url(#clip800)\" d=\"M354.22 1115.45 L360.426 1115.45 L360.426 1094.03 L353.674 1095.38 L353.674 1091.92 L360.389 1090.57 L364.188 1090.57 L364.188 1115.45 L370.394 1115.45 L370.394 1118.65 L354.22 1118.65 L354.22 1115.45 Z\" fill=\"#000000\" fill-rule=\"nonzero\" fill-opacity=\"1\" /><path clip-path=\"url(#clip800)\" d=\"M388.506 1093.88 L378.914 1108.87 L388.506 1108.87 L388.506 1093.88 M387.51 1090.57 L392.287 1090.57 L392.287 1108.87 L396.293 1108.87 L396.293 1112.03 L392.287 1112.03 L392.287 1118.65 L388.506 1118.65 L388.506 1112.03 L375.83 1112.03 L375.83 1108.36 L387.51 1090.57 Z\" fill=\"#000000\" fill-rule=\"nonzero\" fill-opacity=\"1\" /><path clip-path=\"url(#clip800)\" d=\"M384.348 777.264 Q380.737 777.264 378.909 780.829 Q377.103 784.37 377.103 791.5 Q377.103 798.606 378.909 802.171 Q380.737 805.713 384.348 805.713 Q387.983 805.713 389.788 802.171 Q391.617 798.606 391.617 791.5 Q391.617 784.37 389.788 780.829 Q387.983 777.264 384.348 777.264 M384.348 773.56 Q390.159 773.56 393.214 778.167 Q396.293 782.75 396.293 791.5 Q396.293 800.227 393.214 804.833 Q390.159 809.416 384.348 809.416 Q378.538 809.416 375.46 804.833 Q372.404 800.227 372.404 791.5 Q372.404 782.75 375.46 778.167 Q378.538 773.56 384.348 773.56 Z\" fill=\"#000000\" fill-rule=\"nonzero\" fill-opacity=\"1\" /><path clip-path=\"url(#clip800)\" d=\"M158.056 480.393 L174.376 480.393 L174.376 484.329 L152.431 484.329 L152.431 480.393 Q155.093 477.639 159.677 473.009 Q164.283 468.356 165.464 467.014 Q167.709 464.491 168.589 462.755 Q169.491 460.995 169.491 459.306 Q169.491 456.551 167.547 454.815 Q165.626 453.079 162.524 453.079 Q160.325 453.079 157.871 453.843 Q155.44 454.606 152.663 456.157 L152.663 451.435 Q155.487 450.301 157.94 449.722 Q160.394 449.144 162.431 449.144 Q167.802 449.144 170.996 451.829 Q174.19 454.514 174.19 459.005 Q174.19 461.134 173.38 463.056 Q172.593 464.954 170.487 467.546 Q169.908 468.218 166.806 471.435 Q163.704 474.63 158.056 480.393 Z\" fill=\"#000000\" fill-rule=\"nonzero\" fill-opacity=\"1\" /><path clip-path=\"url(#clip800)\" d=\"M184.19 478.449 L189.075 478.449 L189.075 484.329 L184.19 484.329 L184.19 478.449 Z\" fill=\"#000000\" fill-rule=\"nonzero\" fill-opacity=\"1\" /><path clip-path=\"url(#clip800)\" d=\"M209.26 452.847 Q205.649 452.847 203.82 456.412 Q202.014 459.954 202.014 467.083 Q202.014 474.19 203.82 477.754 Q205.649 481.296 209.26 481.296 Q212.894 481.296 214.699 477.754 Q216.528 474.19 216.528 467.083 Q216.528 459.954 214.699 456.412 Q212.894 452.847 209.26 452.847 M209.26 449.144 Q215.07 449.144 218.125 453.75 Q221.204 458.333 221.204 467.083 Q221.204 475.81 218.125 480.417 Q215.07 485 209.26 485 Q203.449 485 200.371 480.417 Q197.315 475.81 197.315 467.083 Q197.315 458.333 200.371 453.75 Q203.449 449.144 209.26 449.144 Z\" fill=\"#000000\" fill-rule=\"nonzero\" fill-opacity=\"1\" /><path clip-path=\"url(#clip800)\" d=\"M257.593 458.866 L247.014 469.491 L257.593 480.069 L254.838 482.87 L244.213 472.245 L233.588 482.87 L230.857 480.069 L241.412 469.491 L230.857 458.866 L233.588 456.065 L244.213 466.69 L254.838 456.065 L257.593 458.866 Z\" fill=\"#000000\" fill-rule=\"nonzero\" fill-opacity=\"1\" /><path clip-path=\"url(#clip800)\" d=\"M269.954 480.393 L277.593 480.393 L277.593 454.028 L269.282 455.694 L269.282 451.435 L277.546 449.769 L282.222 449.769 L282.222 480.393 L289.861 480.393 L289.861 484.329 L269.954 484.329 L269.954 480.393 Z\" fill=\"#000000\" fill-rule=\"nonzero\" fill-opacity=\"1\" /><path clip-path=\"url(#clip800)\" d=\"M309.305 452.847 Q305.694 452.847 303.866 456.412 Q302.06 459.954 302.06 467.083 Q302.06 474.19 303.866 477.754 Q305.694 481.296 309.305 481.296 Q312.94 481.296 314.745 477.754 Q316.574 474.19 316.574 467.083 Q316.574 459.954 314.745 456.412 Q312.94 452.847 309.305 452.847 M309.305 449.144 Q315.116 449.144 318.171 453.75 Q321.25 458.333 321.25 467.083 Q321.25 475.81 318.171 480.417 Q315.116 485 309.305 485 Q303.495 485 300.417 480.417 Q297.361 475.81 297.361 467.083 Q297.361 458.333 300.417 453.75 Q303.495 449.144 309.305 449.144 Z\" fill=\"#000000\" fill-rule=\"nonzero\" fill-opacity=\"1\" /><path clip-path=\"url(#clip800)\" d=\"M321.25 443.245 L345.361 443.245 L345.361 446.442 L321.25 446.442 L321.25 443.245 Z\" fill=\"#000000\" fill-rule=\"nonzero\" fill-opacity=\"1\" /><path clip-path=\"url(#clip800)\" d=\"M354.22 453.721 L360.426 453.721 L360.426 432.299 L353.674 433.653 L353.674 430.192 L360.389 428.838 L364.188 428.838 L364.188 453.721 L370.394 453.721 L370.394 456.918 L354.22 456.918 L354.22 453.721 Z\" fill=\"#000000\" fill-rule=\"nonzero\" fill-opacity=\"1\" /><path clip-path=\"url(#clip800)\" d=\"M388.506 432.148 L378.914 447.138 L388.506 447.138 L388.506 432.148 M387.51 428.838 L392.287 428.838 L392.287 447.138 L396.293 447.138 L396.293 450.298 L392.287 450.298 L392.287 456.918 L388.506 456.918 L388.506 450.298 L375.83 450.298 L375.83 446.63 L387.51 428.838 Z\" fill=\"#000000\" fill-rule=\"nonzero\" fill-opacity=\"1\" /><path clip-path=\"url(#clip800)\" d=\"M166.876 122.978 L155.07 141.427 L166.876 141.427 L166.876 122.978 M165.649 118.904 L171.528 118.904 L171.528 141.427 L176.459 141.427 L176.459 145.316 L171.528 145.316 L171.528 153.464 L166.876 153.464 L166.876 145.316 L151.274 145.316 L151.274 140.802 L165.649 118.904 Z\" fill=\"#000000\" fill-rule=\"nonzero\" fill-opacity=\"1\" /><path clip-path=\"url(#clip800)\" d=\"M184.19 147.585 L189.075 147.585 L189.075 153.464 L184.19 153.464 L184.19 147.585 Z\" fill=\"#000000\" fill-rule=\"nonzero\" fill-opacity=\"1\" /><path clip-path=\"url(#clip800)\" d=\"M209.26 121.983 Q205.649 121.983 203.82 125.548 Q202.014 129.089 202.014 136.219 Q202.014 143.325 203.82 146.89 Q205.649 150.432 209.26 150.432 Q212.894 150.432 214.699 146.89 Q216.528 143.325 216.528 136.219 Q216.528 129.089 214.699 125.548 Q212.894 121.983 209.26 121.983 M209.26 118.279 Q215.07 118.279 218.125 122.886 Q221.204 127.469 221.204 136.219 Q221.204 144.946 218.125 149.552 Q215.07 154.136 209.26 154.136 Q203.449 154.136 200.371 149.552 Q197.315 144.946 197.315 136.219 Q197.315 127.469 200.371 122.886 Q203.449 118.279 209.26 118.279 Z\" fill=\"#000000\" fill-rule=\"nonzero\" fill-opacity=\"1\" /><path clip-path=\"url(#clip800)\" d=\"M257.593 128.002 L247.014 138.626 L257.593 149.205 L254.838 152.006 L244.213 141.381 L233.588 152.006 L230.857 149.205 L241.412 138.626 L230.857 128.002 L233.588 125.201 L244.213 135.826 L254.838 125.201 L257.593 128.002 Z\" fill=\"#000000\" fill-rule=\"nonzero\" fill-opacity=\"1\" /><path clip-path=\"url(#clip800)\" d=\"M269.954 149.529 L277.593 149.529 L277.593 123.164 L269.282 124.83 L269.282 120.571 L277.546 118.904 L282.222 118.904 L282.222 149.529 L289.861 149.529 L289.861 153.464 L269.954 153.464 L269.954 149.529 Z\" fill=\"#000000\" fill-rule=\"nonzero\" fill-opacity=\"1\" /><path clip-path=\"url(#clip800)\" d=\"M309.305 121.983 Q305.694 121.983 303.866 125.548 Q302.06 129.089 302.06 136.219 Q302.06 143.325 303.866 146.89 Q305.694 150.432 309.305 150.432 Q312.94 150.432 314.745 146.89 Q316.574 143.325 316.574 136.219 Q316.574 129.089 314.745 125.548 Q312.94 121.983 309.305 121.983 M309.305 118.279 Q315.116 118.279 318.171 122.886 Q321.25 127.469 321.25 136.219 Q321.25 144.946 318.171 149.552 Q315.116 154.136 309.305 154.136 Q303.495 154.136 300.417 149.552 Q297.361 144.946 297.361 136.219 Q297.361 127.469 300.417 122.886 Q303.495 118.279 309.305 118.279 Z\" fill=\"#000000\" fill-rule=\"nonzero\" fill-opacity=\"1\" /><path clip-path=\"url(#clip800)\" d=\"M321.25 112.381 L345.361 112.381 L345.361 115.578 L321.25 115.578 L321.25 112.381 Z\" fill=\"#000000\" fill-rule=\"nonzero\" fill-opacity=\"1\" /><path clip-path=\"url(#clip800)\" d=\"M354.22 122.857 L360.426 122.857 L360.426 101.435 L353.674 102.789 L353.674 99.3281 L360.389 97.9739 L364.188 97.9739 L364.188 122.857 L370.394 122.857 L370.394 126.054 L354.22 126.054 L354.22 122.857 Z\" fill=\"#000000\" fill-rule=\"nonzero\" fill-opacity=\"1\" /><path clip-path=\"url(#clip800)\" d=\"M388.506 101.284 L378.914 116.274 L388.506 116.274 L388.506 101.284 M387.51 97.9739 L392.287 97.9739 L392.287 116.274 L396.293 116.274 L396.293 119.434 L392.287 119.434 L392.287 126.054 L388.506 126.054 L388.506 119.434 L375.83 119.434 L375.83 115.766 L387.51 97.9739 Z\" fill=\"#000000\" fill-rule=\"nonzero\" fill-opacity=\"1\" /><path clip-path=\"url(#clip800)\" d=\"M67.3143 733.525 Q73.68 736.008 75.6216 738.363 Q77.5631 740.718 77.5631 744.665 L77.5631 749.344 L72.6615 749.344 L72.6615 745.906 Q72.6615 743.487 71.5157 742.151 Q70.3699 740.814 66.1048 739.191 L63.4312 738.14 L28.3562 752.559 L28.3562 746.352 L56.238 735.212 L28.3562 724.072 L28.3562 717.865 L67.3143 733.525 Z\" fill=\"#000000\" fill-rule=\"nonzero\" fill-opacity=\"1\" /><polyline clip-path=\"url(#clip802)\" style=\"stroke:#009af9; stroke-linecap:round; stroke-linejoin:round; stroke-width:4; stroke-opacity:1; fill:none\" points=\"486.646,1379.2 504.946,1246.96 523.247,1305.73 541.547,1173.49 559.848,1100.02 578.148,1026.56 596.449,953.092 614.75,997.172 633.05,923.705 651.351,850.238 669.651,953.092 687.952,997.172 706.253,806.158 724.553,850.238 742.854,835.545 761.154,820.852 779.455,864.932 797.755,732.692 816.056,791.465 834.357,835.545 852.657,879.625 870.958,806.158 889.258,732.692 907.559,835.545 925.859,820.852 944.16,806.158 962.461,732.692 980.761,894.318 999.062,820.852 1017.36,806.158 1035.66,732.692 1053.96,894.318 1072.26,762.078 1090.56,806.158 1108.87,806.158 1127.17,673.919 1145.47,835.545 1163.77,762.078 1182.07,688.612 1200.37,673.919 1218.67,776.772 1236.97,703.305 1255.27,923.705 1273.57,850.238 1291.87,717.999 1310.17,703.305 1328.47,747.385 1346.77,732.692 1365.07,717.999 1383.37,762.078 1401.67,820.852 1419.98,688.612 1438.28,732.692 1456.58,717.999 1474.88,879.625 1493.18,806.158 1511.48,909.012 1529.78,835.545 1548.08,762.078 1566.38,747.385 1584.68,732.692 1602.98,835.545 1621.28,820.852 1639.58,688.612 1657.88,791.465 1676.18,835.545 1694.48,835.545 1712.78,879.625 1731.09,806.158 1749.39,732.692 1767.69,894.318 1785.99,879.625 1804.29,747.385 1822.59,850.238 1840.89,776.772 1859.19,879.625 1877.49,747.385 1895.79,850.238 1914.09,659.225 1932.39,938.398 1950.69,688.612 1968.99,791.465 1987.29,791.465 2005.59,717.999 2023.89,644.532 2042.2,688.612 2060.5,673.919 2078.8,717.999 2097.1,703.305 2115.4,688.612 2133.7,615.145 2152,659.225 2170.3,644.532 2188.6,629.839 2206.9,438.825 2225.2,541.679 2243.5,409.439 2261.8,335.972 2280.1,277.199 2298.4,86.1857 \"/>\n",
       "<polyline clip-path=\"url(#clip802)\" style=\"stroke:#e26f46; stroke-linecap:round; stroke-linejoin:round; stroke-width:4; stroke-opacity:1; fill:none\" points=\"486.646,1384.24 504.946,1305.32 523.247,1235.59 541.547,1174.13 559.848,1120.11 578.148,1072.77 596.449,1031.39 614.75,995.345 633.05,964.044 651.351,936.957 669.651,913.598 687.952,893.53 706.253,876.358 724.553,861.724 742.854,849.308 761.154,838.822 779.455,830.01 797.755,822.642 816.056,816.516 834.357,811.452 852.657,807.292 870.958,803.898 889.258,801.147 907.559,798.936 925.859,797.172 944.16,795.778 962.461,794.687 980.761,793.842 999.062,793.194 1017.36,792.704 1035.66,792.338 1053.96,792.069 1072.26,791.874 1090.56,791.736 1108.87,791.64 1127.17,791.575 1145.47,791.532 1163.77,791.504 1182.07,791.487 1200.37,791.477 1218.67,791.471 1236.97,791.468 1255.27,791.466 1273.57,791.466 1291.87,791.465 1310.17,791.465 1328.47,791.465 1346.77,791.465 1365.07,791.465 1383.37,791.465 1401.67,791.465 1419.98,791.465 1438.28,791.465 1456.58,791.465 1474.88,791.465 1493.18,791.465 1511.48,791.465 1529.78,791.464 1548.08,791.463 1566.38,791.459 1584.68,791.454 1602.98,791.443 1621.28,791.426 1639.58,791.399 1657.88,791.355 1676.18,791.29 1694.48,791.194 1712.78,791.056 1731.09,790.861 1749.39,790.592 1767.69,790.227 1785.99,789.736 1804.29,789.089 1822.59,788.243 1840.89,787.152 1859.19,785.758 1877.49,783.994 1895.79,781.783 1914.09,779.032 1932.39,775.638 1950.69,771.478 1968.99,766.414 1987.29,760.288 2005.59,752.92 2023.89,744.108 2042.2,733.622 2060.5,721.206 2078.8,706.572 2097.1,689.4 2115.4,669.332 2133.7,645.974 2152,618.886 2170.3,587.585 2188.6,551.539 2206.9,510.164 2225.2,462.816 2243.5,408.797 2261.8,347.338 2280.1,277.606 2298.4,198.692 \"/>\n",
       "<path clip-path=\"url(#clip800)\" d=\"M496.308 248.629 L740.785 248.629 L740.785 93.1086 L496.308 93.1086  Z\" fill=\"#ffffff\" fill-rule=\"evenodd\" fill-opacity=\"1\"/>\n",
       "<polyline clip-path=\"url(#clip800)\" style=\"stroke:#000000; stroke-linecap:round; stroke-linejoin:round; stroke-width:4; stroke-opacity:1; fill:none\" points=\"496.308,248.629 740.785,248.629 740.785,93.1086 496.308,93.1086 496.308,248.629 \"/>\n",
       "<polyline clip-path=\"url(#clip800)\" style=\"stroke:#009af9; stroke-linecap:round; stroke-linejoin:round; stroke-width:4; stroke-opacity:1; fill:none\" points=\"517.647,144.949 645.678,144.949 \"/>\n",
       "<path clip-path=\"url(#clip800)\" d=\"M680.859 164.636 Q679.053 169.266 677.34 170.678 Q675.627 172.09 672.757 172.09 L669.354 172.09 L669.354 168.525 L671.854 168.525 Q673.613 168.525 674.585 167.692 Q675.558 166.858 676.738 163.756 L677.502 161.812 L667.016 136.303 L671.53 136.303 L679.632 156.581 L687.734 136.303 L692.247 136.303 L680.859 164.636 Z\" fill=\"#000000\" fill-rule=\"nonzero\" fill-opacity=\"1\" /><path clip-path=\"url(#clip800)\" d=\"M699.539 158.293 L707.178 158.293 L707.178 131.928 L698.868 133.595 L698.868 129.335 L707.132 127.669 L711.807 127.669 L711.807 158.293 L719.446 158.293 L719.446 162.229 L699.539 162.229 L699.539 158.293 Z\" fill=\"#000000\" fill-rule=\"nonzero\" fill-opacity=\"1\" /><polyline clip-path=\"url(#clip800)\" style=\"stroke:#e26f46; stroke-linecap:round; stroke-linejoin:round; stroke-width:4; stroke-opacity:1; fill:none\" points=\"517.647,196.789 645.678,196.789 \"/>\n",
       "<path clip-path=\"url(#clip800)\" d=\"M680.859 216.476 Q679.053 221.106 677.34 222.518 Q675.627 223.93 672.757 223.93 L669.354 223.93 L669.354 220.365 L671.854 220.365 Q673.613 220.365 674.585 219.532 Q675.558 218.698 676.738 215.596 L677.502 213.652 L667.016 188.143 L671.53 188.143 L679.632 208.421 L687.734 188.143 L692.247 188.143 L680.859 216.476 Z\" fill=\"#000000\" fill-rule=\"nonzero\" fill-opacity=\"1\" /><path clip-path=\"url(#clip800)\" d=\"M702.757 210.133 L719.076 210.133 L719.076 214.069 L697.132 214.069 L697.132 210.133 Q699.794 207.379 704.377 202.749 Q708.983 198.096 710.164 196.754 Q712.409 194.231 713.289 192.495 Q714.192 190.735 714.192 189.046 Q714.192 186.291 712.247 184.555 Q710.326 182.819 707.224 182.819 Q705.025 182.819 702.571 183.583 Q700.141 184.347 697.363 185.897 L697.363 181.175 Q700.187 180.041 702.641 179.462 Q705.095 178.884 707.132 178.884 Q712.502 178.884 715.696 181.569 Q718.891 184.254 718.891 188.745 Q718.891 190.874 718.081 192.796 Q717.294 194.694 715.187 197.286 Q714.608 197.958 711.507 201.175 Q708.405 204.37 702.757 210.133 Z\" fill=\"#000000\" fill-rule=\"nonzero\" fill-opacity=\"1\" /></svg>\n"
      ],
      "text/html": [
       "<?xml version=\"1.0\" encoding=\"utf-8\"?>\n",
       "<svg xmlns=\"http://www.w3.org/2000/svg\" xmlns:xlink=\"http://www.w3.org/1999/xlink\" width=\"600\" height=\"400\" viewBox=\"0 0 2400 1600\">\n",
       "<defs>\n",
       "  <clipPath id=\"clip850\">\n",
       "    <rect x=\"0\" y=\"0\" width=\"2400\" height=\"1600\"/>\n",
       "  </clipPath>\n",
       "</defs>\n",
       "<path clip-path=\"url(#clip850)\" d=\"M0 1600 L2400 1600 L2400 0 L0 0  Z\" fill=\"#ffffff\" fill-rule=\"evenodd\" fill-opacity=\"1\"/>\n",
       "<defs>\n",
       "  <clipPath id=\"clip851\">\n",
       "    <rect x=\"480\" y=\"0\" width=\"1681\" height=\"1600\"/>\n",
       "  </clipPath>\n",
       "</defs>\n",
       "<path clip-path=\"url(#clip850)\" d=\"M432.293 1423.18 L2352.76 1423.18 L2352.76 47.2441 L432.293 47.2441  Z\" fill=\"#ffffff\" fill-rule=\"evenodd\" fill-opacity=\"1\"/>\n",
       "<defs>\n",
       "  <clipPath id=\"clip852\">\n",
       "    <rect x=\"432\" y=\"47\" width=\"1921\" height=\"1377\"/>\n",
       "  </clipPath>\n",
       "</defs>\n",
       "<polyline clip-path=\"url(#clip852)\" style=\"stroke:#000000; stroke-linecap:round; stroke-linejoin:round; stroke-width:2; stroke-opacity:0.1; fill:none\" points=\"637.625,1423.18 637.625,47.2441 \"/>\n",
       "<polyline clip-path=\"url(#clip852)\" style=\"stroke:#000000; stroke-linecap:round; stroke-linejoin:round; stroke-width:2; stroke-opacity:0.1; fill:none\" points=\"1015.07,1423.18 1015.07,47.2441 \"/>\n",
       "<polyline clip-path=\"url(#clip852)\" style=\"stroke:#000000; stroke-linecap:round; stroke-linejoin:round; stroke-width:2; stroke-opacity:0.1; fill:none\" points=\"1392.52,1423.18 1392.52,47.2441 \"/>\n",
       "<polyline clip-path=\"url(#clip852)\" style=\"stroke:#000000; stroke-linecap:round; stroke-linejoin:round; stroke-width:2; stroke-opacity:0.1; fill:none\" points=\"1769.97,1423.18 1769.97,47.2441 \"/>\n",
       "<polyline clip-path=\"url(#clip852)\" style=\"stroke:#000000; stroke-linecap:round; stroke-linejoin:round; stroke-width:2; stroke-opacity:0.1; fill:none\" points=\"2147.42,1423.18 2147.42,47.2441 \"/>\n",
       "<polyline clip-path=\"url(#clip850)\" style=\"stroke:#000000; stroke-linecap:round; stroke-linejoin:round; stroke-width:4; stroke-opacity:1; fill:none\" points=\"432.293,1423.18 2352.76,1423.18 \"/>\n",
       "<polyline clip-path=\"url(#clip850)\" style=\"stroke:#000000; stroke-linecap:round; stroke-linejoin:round; stroke-width:4; stroke-opacity:1; fill:none\" points=\"637.625,1423.18 637.625,1404.28 \"/>\n",
       "<polyline clip-path=\"url(#clip850)\" style=\"stroke:#000000; stroke-linecap:round; stroke-linejoin:round; stroke-width:4; stroke-opacity:1; fill:none\" points=\"1015.07,1423.18 1015.07,1404.28 \"/>\n",
       "<polyline clip-path=\"url(#clip850)\" style=\"stroke:#000000; stroke-linecap:round; stroke-linejoin:round; stroke-width:4; stroke-opacity:1; fill:none\" points=\"1392.52,1423.18 1392.52,1404.28 \"/>\n",
       "<polyline clip-path=\"url(#clip850)\" style=\"stroke:#000000; stroke-linecap:round; stroke-linejoin:round; stroke-width:4; stroke-opacity:1; fill:none\" points=\"1769.97,1423.18 1769.97,1404.28 \"/>\n",
       "<polyline clip-path=\"url(#clip850)\" style=\"stroke:#000000; stroke-linecap:round; stroke-linejoin:round; stroke-width:4; stroke-opacity:1; fill:none\" points=\"2147.42,1423.18 2147.42,1404.28 \"/>\n",
       "<path clip-path=\"url(#clip850)\" d=\"M584.848 1454.1 Q581.237 1454.1 579.408 1457.66 Q577.602 1461.2 577.602 1468.33 Q577.602 1475.44 579.408 1479.01 Q581.237 1482.55 584.848 1482.55 Q588.482 1482.55 590.288 1479.01 Q592.116 1475.44 592.116 1468.33 Q592.116 1461.2 590.288 1457.66 Q588.482 1454.1 584.848 1454.1 M584.848 1450.39 Q590.658 1450.39 593.714 1455 Q596.792 1459.58 596.792 1468.33 Q596.792 1477.06 593.714 1481.67 Q590.658 1486.25 584.848 1486.25 Q579.038 1486.25 575.959 1481.67 Q572.903 1477.06 572.903 1468.33 Q572.903 1459.58 575.959 1455 Q579.038 1450.39 584.848 1450.39 Z\" fill=\"#000000\" fill-rule=\"nonzero\" fill-opacity=\"1\" /><path clip-path=\"url(#clip850)\" d=\"M605.01 1479.7 L609.894 1479.7 L609.894 1485.58 L605.01 1485.58 L605.01 1479.7 Z\" fill=\"#000000\" fill-rule=\"nonzero\" fill-opacity=\"1\" /><path clip-path=\"url(#clip850)\" d=\"M620.218 1484.86 L620.218 1480.6 Q621.977 1481.44 623.783 1481.88 Q625.588 1482.32 627.324 1482.32 Q631.954 1482.32 634.385 1479.21 Q636.838 1476.09 637.186 1469.75 Q635.843 1471.74 633.783 1472.8 Q631.723 1473.87 629.223 1473.87 Q624.037 1473.87 621.005 1470.74 Q617.996 1467.59 617.996 1462.15 Q617.996 1456.83 621.144 1453.61 Q624.292 1450.39 629.524 1450.39 Q635.519 1450.39 638.667 1455 Q641.838 1459.58 641.838 1468.33 Q641.838 1476.51 637.949 1481.39 Q634.084 1486.25 627.533 1486.25 Q625.774 1486.25 623.968 1485.9 Q622.162 1485.56 620.218 1484.86 M629.524 1470.21 Q632.672 1470.21 634.5 1468.06 Q636.352 1465.9 636.352 1462.15 Q636.352 1458.43 634.5 1456.27 Q632.672 1454.1 629.524 1454.1 Q626.375 1454.1 624.524 1456.27 Q622.695 1458.43 622.695 1462.15 Q622.695 1465.9 624.524 1468.06 Q626.375 1470.21 629.524 1470.21 Z\" fill=\"#000000\" fill-rule=\"nonzero\" fill-opacity=\"1\" /><path clip-path=\"url(#clip850)\" d=\"M650.38 1484.86 L650.38 1480.6 Q652.139 1481.44 653.945 1481.88 Q655.75 1482.32 657.486 1482.32 Q662.116 1482.32 664.546 1479.21 Q667 1476.09 667.347 1469.75 Q666.005 1471.74 663.945 1472.8 Q661.884 1473.87 659.384 1473.87 Q654.199 1473.87 651.167 1470.74 Q648.158 1467.59 648.158 1462.15 Q648.158 1456.83 651.306 1453.61 Q654.454 1450.39 659.685 1450.39 Q665.681 1450.39 668.829 1455 Q672 1459.58 672 1468.33 Q672 1476.51 668.111 1481.39 Q664.246 1486.25 657.695 1486.25 Q655.935 1486.25 654.13 1485.9 Q652.324 1485.56 650.38 1484.86 M659.685 1470.21 Q662.834 1470.21 664.662 1468.06 Q666.514 1465.9 666.514 1462.15 Q666.514 1458.43 664.662 1456.27 Q662.834 1454.1 659.685 1454.1 Q656.537 1454.1 654.685 1456.27 Q652.857 1458.43 652.857 1462.15 Q652.857 1465.9 654.685 1468.06 Q656.537 1470.21 659.685 1470.21 Z\" fill=\"#000000\" fill-rule=\"nonzero\" fill-opacity=\"1\" /><path clip-path=\"url(#clip850)\" d=\"M690.403 1454.1 Q686.792 1454.1 684.963 1457.66 Q683.157 1461.2 683.157 1468.33 Q683.157 1475.44 684.963 1479.01 Q686.792 1482.55 690.403 1482.55 Q694.037 1482.55 695.843 1479.01 Q697.671 1475.44 697.671 1468.33 Q697.671 1461.2 695.843 1457.66 Q694.037 1454.1 690.403 1454.1 M690.403 1450.39 Q696.213 1450.39 699.269 1455 Q702.347 1459.58 702.347 1468.33 Q702.347 1477.06 699.269 1481.67 Q696.213 1486.25 690.403 1486.25 Q684.593 1486.25 681.514 1481.67 Q678.458 1477.06 678.458 1468.33 Q678.458 1459.58 681.514 1455 Q684.593 1450.39 690.403 1450.39 Z\" fill=\"#000000\" fill-rule=\"nonzero\" fill-opacity=\"1\" /><path clip-path=\"url(#clip850)\" d=\"M962.795 1454.1 Q959.184 1454.1 957.355 1457.66 Q955.55 1461.2 955.55 1468.33 Q955.55 1475.44 957.355 1479.01 Q959.184 1482.55 962.795 1482.55 Q966.429 1482.55 968.235 1479.01 Q970.064 1475.44 970.064 1468.33 Q970.064 1461.2 968.235 1457.66 Q966.429 1454.1 962.795 1454.1 M962.795 1450.39 Q968.605 1450.39 971.661 1455 Q974.739 1459.58 974.739 1468.33 Q974.739 1477.06 971.661 1481.67 Q968.605 1486.25 962.795 1486.25 Q956.985 1486.25 953.906 1481.67 Q950.851 1477.06 950.851 1468.33 Q950.851 1459.58 953.906 1455 Q956.985 1450.39 962.795 1450.39 Z\" fill=\"#000000\" fill-rule=\"nonzero\" fill-opacity=\"1\" /><path clip-path=\"url(#clip850)\" d=\"M982.957 1479.7 L987.841 1479.7 L987.841 1485.58 L982.957 1485.58 L982.957 1479.7 Z\" fill=\"#000000\" fill-rule=\"nonzero\" fill-opacity=\"1\" /><path clip-path=\"url(#clip850)\" d=\"M998.165 1484.86 L998.165 1480.6 Q999.924 1481.44 1001.73 1481.88 Q1003.54 1482.32 1005.27 1482.32 Q1009.9 1482.32 1012.33 1479.21 Q1014.79 1476.09 1015.13 1469.75 Q1013.79 1471.74 1011.73 1472.8 Q1009.67 1473.87 1007.17 1473.87 Q1001.98 1473.87 998.952 1470.74 Q995.943 1467.59 995.943 1462.15 Q995.943 1456.83 999.091 1453.61 Q1002.24 1450.39 1007.47 1450.39 Q1013.47 1450.39 1016.61 1455 Q1019.79 1459.58 1019.79 1468.33 Q1019.79 1476.51 1015.9 1481.39 Q1012.03 1486.25 1005.48 1486.25 Q1003.72 1486.25 1001.92 1485.9 Q1000.11 1485.56 998.165 1484.86 M1007.47 1470.21 Q1010.62 1470.21 1012.45 1468.06 Q1014.3 1465.9 1014.3 1462.15 Q1014.3 1458.43 1012.45 1456.27 Q1010.62 1454.1 1007.47 1454.1 Q1004.32 1454.1 1002.47 1456.27 Q1000.64 1458.43 1000.64 1462.15 Q1000.64 1465.9 1002.47 1468.06 Q1004.32 1470.21 1007.47 1470.21 Z\" fill=\"#000000\" fill-rule=\"nonzero\" fill-opacity=\"1\" /><path clip-path=\"url(#clip850)\" d=\"M1028.33 1484.86 L1028.33 1480.6 Q1030.09 1481.44 1031.89 1481.88 Q1033.7 1482.32 1035.43 1482.32 Q1040.06 1482.32 1042.49 1479.21 Q1044.95 1476.09 1045.29 1469.75 Q1043.95 1471.74 1041.89 1472.8 Q1039.83 1473.87 1037.33 1473.87 Q1032.15 1473.87 1029.11 1470.74 Q1026.1 1467.59 1026.1 1462.15 Q1026.1 1456.83 1029.25 1453.61 Q1032.4 1450.39 1037.63 1450.39 Q1043.63 1450.39 1046.78 1455 Q1049.95 1459.58 1049.95 1468.33 Q1049.95 1476.51 1046.06 1481.39 Q1042.19 1486.25 1035.64 1486.25 Q1033.88 1486.25 1032.08 1485.9 Q1030.27 1485.56 1028.33 1484.86 M1037.63 1470.21 Q1040.78 1470.21 1042.61 1468.06 Q1044.46 1465.9 1044.46 1462.15 Q1044.46 1458.43 1042.61 1456.27 Q1040.78 1454.1 1037.63 1454.1 Q1034.48 1454.1 1032.63 1456.27 Q1030.8 1458.43 1030.8 1462.15 Q1030.8 1465.9 1032.63 1468.06 Q1034.48 1470.21 1037.63 1470.21 Z\" fill=\"#000000\" fill-rule=\"nonzero\" fill-opacity=\"1\" /><path clip-path=\"url(#clip850)\" d=\"M1058.4 1451.02 L1076.75 1451.02 L1076.75 1454.96 L1062.68 1454.96 L1062.68 1463.43 Q1063.7 1463.08 1064.72 1462.92 Q1065.73 1462.73 1066.75 1462.73 Q1072.54 1462.73 1075.92 1465.9 Q1079.3 1469.08 1079.3 1474.49 Q1079.3 1480.07 1075.83 1483.17 Q1072.35 1486.25 1066.04 1486.25 Q1063.86 1486.25 1061.59 1485.88 Q1059.35 1485.51 1056.94 1484.77 L1056.94 1480.07 Q1059.02 1481.2 1061.24 1481.76 Q1063.47 1482.32 1065.94 1482.32 Q1069.95 1482.32 1072.29 1480.21 Q1074.62 1478.1 1074.62 1474.49 Q1074.62 1470.88 1072.29 1468.77 Q1069.95 1466.67 1065.94 1466.67 Q1064.07 1466.67 1062.19 1467.08 Q1060.34 1467.5 1058.4 1468.38 L1058.4 1451.02 Z\" fill=\"#000000\" fill-rule=\"nonzero\" fill-opacity=\"1\" /><path clip-path=\"url(#clip850)\" d=\"M1329.52 1481.64 L1337.15 1481.64 L1337.15 1455.28 L1328.84 1456.95 L1328.84 1452.69 L1337.11 1451.02 L1341.78 1451.02 L1341.78 1481.64 L1349.42 1481.64 L1349.42 1485.58 L1329.52 1485.58 L1329.52 1481.64 Z\" fill=\"#000000\" fill-rule=\"nonzero\" fill-opacity=\"1\" /><path clip-path=\"url(#clip850)\" d=\"M1358.87 1479.7 L1363.75 1479.7 L1363.75 1485.58 L1358.87 1485.58 L1358.87 1479.7 Z\" fill=\"#000000\" fill-rule=\"nonzero\" fill-opacity=\"1\" /><path clip-path=\"url(#clip850)\" d=\"M1383.94 1454.1 Q1380.33 1454.1 1378.5 1457.66 Q1376.69 1461.2 1376.69 1468.33 Q1376.69 1475.44 1378.5 1479.01 Q1380.33 1482.55 1383.94 1482.55 Q1387.57 1482.55 1389.38 1479.01 Q1391.2 1475.44 1391.2 1468.33 Q1391.2 1461.2 1389.38 1457.66 Q1387.57 1454.1 1383.94 1454.1 M1383.94 1450.39 Q1389.75 1450.39 1392.8 1455 Q1395.88 1459.58 1395.88 1468.33 Q1395.88 1477.06 1392.8 1481.67 Q1389.75 1486.25 1383.94 1486.25 Q1378.13 1486.25 1375.05 1481.67 Q1371.99 1477.06 1371.99 1468.33 Q1371.99 1459.58 1375.05 1455 Q1378.13 1450.39 1383.94 1450.39 Z\" fill=\"#000000\" fill-rule=\"nonzero\" fill-opacity=\"1\" /><path clip-path=\"url(#clip850)\" d=\"M1414.1 1454.1 Q1410.49 1454.1 1408.66 1457.66 Q1406.85 1461.2 1406.85 1468.33 Q1406.85 1475.44 1408.66 1479.01 Q1410.49 1482.55 1414.1 1482.55 Q1417.73 1482.55 1419.54 1479.01 Q1421.37 1475.44 1421.37 1468.33 Q1421.37 1461.2 1419.54 1457.66 Q1417.73 1454.1 1414.1 1454.1 M1414.1 1450.39 Q1419.91 1450.39 1422.96 1455 Q1426.04 1459.58 1426.04 1468.33 Q1426.04 1477.06 1422.96 1481.67 Q1419.91 1486.25 1414.1 1486.25 Q1408.29 1486.25 1405.21 1481.67 Q1402.15 1477.06 1402.15 1468.33 Q1402.15 1459.58 1405.21 1455 Q1408.29 1450.39 1414.1 1450.39 Z\" fill=\"#000000\" fill-rule=\"nonzero\" fill-opacity=\"1\" /><path clip-path=\"url(#clip850)\" d=\"M1444.26 1454.1 Q1440.65 1454.1 1438.82 1457.66 Q1437.01 1461.2 1437.01 1468.33 Q1437.01 1475.44 1438.82 1479.01 Q1440.65 1482.55 1444.26 1482.55 Q1447.89 1482.55 1449.7 1479.01 Q1451.53 1475.44 1451.53 1468.33 Q1451.53 1461.2 1449.7 1457.66 Q1447.89 1454.1 1444.26 1454.1 M1444.26 1450.39 Q1450.07 1450.39 1453.13 1455 Q1456.2 1459.58 1456.2 1468.33 Q1456.2 1477.06 1453.13 1481.67 Q1450.07 1486.25 1444.26 1486.25 Q1438.45 1486.25 1435.37 1481.67 Q1432.32 1477.06 1432.32 1468.33 Q1432.32 1459.58 1435.37 1455 Q1438.45 1450.39 1444.26 1450.39 Z\" fill=\"#000000\" fill-rule=\"nonzero\" fill-opacity=\"1\" /><path clip-path=\"url(#clip850)\" d=\"M1707.46 1481.64 L1715.1 1481.64 L1715.1 1455.28 L1706.79 1456.95 L1706.79 1452.69 L1715.06 1451.02 L1719.73 1451.02 L1719.73 1481.64 L1727.37 1481.64 L1727.37 1485.58 L1707.46 1485.58 L1707.46 1481.64 Z\" fill=\"#000000\" fill-rule=\"nonzero\" fill-opacity=\"1\" /><path clip-path=\"url(#clip850)\" d=\"M1736.81 1479.7 L1741.7 1479.7 L1741.7 1485.58 L1736.81 1485.58 L1736.81 1479.7 Z\" fill=\"#000000\" fill-rule=\"nonzero\" fill-opacity=\"1\" /><path clip-path=\"url(#clip850)\" d=\"M1761.88 1454.1 Q1758.27 1454.1 1756.44 1457.66 Q1754.64 1461.2 1754.64 1468.33 Q1754.64 1475.44 1756.44 1479.01 Q1758.27 1482.55 1761.88 1482.55 Q1765.52 1482.55 1767.32 1479.01 Q1769.15 1475.44 1769.15 1468.33 Q1769.15 1461.2 1767.32 1457.66 Q1765.52 1454.1 1761.88 1454.1 M1761.88 1450.39 Q1767.69 1450.39 1770.75 1455 Q1773.83 1459.58 1773.83 1468.33 Q1773.83 1477.06 1770.75 1481.67 Q1767.69 1486.25 1761.88 1486.25 Q1756.07 1486.25 1752.99 1481.67 Q1749.94 1477.06 1749.94 1468.33 Q1749.94 1459.58 1752.99 1455 Q1756.07 1450.39 1761.88 1450.39 Z\" fill=\"#000000\" fill-rule=\"nonzero\" fill-opacity=\"1\" /><path clip-path=\"url(#clip850)\" d=\"M1792.05 1454.1 Q1788.43 1454.1 1786.61 1457.66 Q1784.8 1461.2 1784.8 1468.33 Q1784.8 1475.44 1786.61 1479.01 Q1788.43 1482.55 1792.05 1482.55 Q1795.68 1482.55 1797.49 1479.01 Q1799.31 1475.44 1799.31 1468.33 Q1799.31 1461.2 1797.49 1457.66 Q1795.68 1454.1 1792.05 1454.1 M1792.05 1450.39 Q1797.86 1450.39 1800.91 1455 Q1803.99 1459.58 1803.99 1468.33 Q1803.99 1477.06 1800.91 1481.67 Q1797.86 1486.25 1792.05 1486.25 Q1786.24 1486.25 1783.16 1481.67 Q1780.1 1477.06 1780.1 1468.33 Q1780.1 1459.58 1783.16 1455 Q1786.24 1450.39 1792.05 1450.39 Z\" fill=\"#000000\" fill-rule=\"nonzero\" fill-opacity=\"1\" /><path clip-path=\"url(#clip850)\" d=\"M1812.25 1451.02 L1830.61 1451.02 L1830.61 1454.96 L1816.54 1454.96 L1816.54 1463.43 Q1817.55 1463.08 1818.57 1462.92 Q1819.59 1462.73 1820.61 1462.73 Q1826.4 1462.73 1829.78 1465.9 Q1833.16 1469.08 1833.16 1474.49 Q1833.16 1480.07 1829.68 1483.17 Q1826.21 1486.25 1819.89 1486.25 Q1817.72 1486.25 1815.45 1485.88 Q1813.2 1485.51 1810.8 1484.77 L1810.8 1480.07 Q1812.88 1481.2 1815.1 1481.76 Q1817.32 1482.32 1819.8 1482.32 Q1823.8 1482.32 1826.14 1480.21 Q1828.48 1478.1 1828.48 1474.49 Q1828.48 1470.88 1826.14 1468.77 Q1823.8 1466.67 1819.8 1466.67 Q1817.92 1466.67 1816.05 1467.08 Q1814.2 1467.5 1812.25 1468.38 L1812.25 1451.02 Z\" fill=\"#000000\" fill-rule=\"nonzero\" fill-opacity=\"1\" /><path clip-path=\"url(#clip850)\" d=\"M2084.41 1481.64 L2092.05 1481.64 L2092.05 1455.28 L2083.74 1456.95 L2083.74 1452.69 L2092.01 1451.02 L2096.68 1451.02 L2096.68 1481.64 L2104.32 1481.64 L2104.32 1485.58 L2084.41 1485.58 L2084.41 1481.64 Z\" fill=\"#000000\" fill-rule=\"nonzero\" fill-opacity=\"1\" /><path clip-path=\"url(#clip850)\" d=\"M2113.77 1479.7 L2118.65 1479.7 L2118.65 1485.58 L2113.77 1485.58 L2113.77 1479.7 Z\" fill=\"#000000\" fill-rule=\"nonzero\" fill-opacity=\"1\" /><path clip-path=\"url(#clip850)\" d=\"M2138.84 1454.1 Q2135.22 1454.1 2133.4 1457.66 Q2131.59 1461.2 2131.59 1468.33 Q2131.59 1475.44 2133.4 1479.01 Q2135.22 1482.55 2138.84 1482.55 Q2142.47 1482.55 2144.28 1479.01 Q2146.1 1475.44 2146.1 1468.33 Q2146.1 1461.2 2144.28 1457.66 Q2142.47 1454.1 2138.84 1454.1 M2138.84 1450.39 Q2144.65 1450.39 2147.7 1455 Q2150.78 1459.58 2150.78 1468.33 Q2150.78 1477.06 2147.7 1481.67 Q2144.65 1486.25 2138.84 1486.25 Q2133.03 1486.25 2129.95 1481.67 Q2126.89 1477.06 2126.89 1468.33 Q2126.89 1459.58 2129.95 1455 Q2133.03 1450.39 2138.84 1450.39 Z\" fill=\"#000000\" fill-rule=\"nonzero\" fill-opacity=\"1\" /><path clip-path=\"url(#clip850)\" d=\"M2159.81 1481.64 L2167.45 1481.64 L2167.45 1455.28 L2159.14 1456.95 L2159.14 1452.69 L2167.4 1451.02 L2172.08 1451.02 L2172.08 1481.64 L2179.71 1481.64 L2179.71 1485.58 L2159.81 1485.58 L2159.81 1481.64 Z\" fill=\"#000000\" fill-rule=\"nonzero\" fill-opacity=\"1\" /><path clip-path=\"url(#clip850)\" d=\"M2199.16 1454.1 Q2195.55 1454.1 2193.72 1457.66 Q2191.91 1461.2 2191.91 1468.33 Q2191.91 1475.44 2193.72 1479.01 Q2195.55 1482.55 2199.16 1482.55 Q2202.79 1482.55 2204.6 1479.01 Q2206.43 1475.44 2206.43 1468.33 Q2206.43 1461.2 2204.6 1457.66 Q2202.79 1454.1 2199.16 1454.1 M2199.16 1450.39 Q2204.97 1450.39 2208.02 1455 Q2211.1 1459.58 2211.1 1468.33 Q2211.1 1477.06 2208.02 1481.67 Q2204.97 1486.25 2199.16 1486.25 Q2193.35 1486.25 2190.27 1481.67 Q2187.21 1477.06 2187.21 1468.33 Q2187.21 1459.58 2190.27 1455 Q2193.35 1450.39 2199.16 1450.39 Z\" fill=\"#000000\" fill-rule=\"nonzero\" fill-opacity=\"1\" /><path clip-path=\"url(#clip850)\" d=\"M1409.14 1532.4 L1396.25 1549.74 L1409.81 1568.04 L1402.9 1568.04 L1392.52 1554.04 L1382.15 1568.04 L1375.24 1568.04 L1389.09 1549.39 L1376.42 1532.4 L1383.33 1532.4 L1392.78 1545.1 L1402.23 1532.4 L1409.14 1532.4 Z\" fill=\"#000000\" fill-rule=\"nonzero\" fill-opacity=\"1\" /><polyline clip-path=\"url(#clip852)\" style=\"stroke:#000000; stroke-linecap:round; stroke-linejoin:round; stroke-width:2; stroke-opacity:0.1; fill:none\" points=\"432.293,1122.33 2352.76,1122.33 \"/>\n",
       "<polyline clip-path=\"url(#clip852)\" style=\"stroke:#000000; stroke-linecap:round; stroke-linejoin:round; stroke-width:2; stroke-opacity:0.1; fill:none\" points=\"432.293,791.465 2352.76,791.465 \"/>\n",
       "<polyline clip-path=\"url(#clip852)\" style=\"stroke:#000000; stroke-linecap:round; stroke-linejoin:round; stroke-width:2; stroke-opacity:0.1; fill:none\" points=\"432.293,460.601 2352.76,460.601 \"/>\n",
       "<polyline clip-path=\"url(#clip852)\" style=\"stroke:#000000; stroke-linecap:round; stroke-linejoin:round; stroke-width:2; stroke-opacity:0.1; fill:none\" points=\"432.293,129.737 2352.76,129.737 \"/>\n",
       "<polyline clip-path=\"url(#clip850)\" style=\"stroke:#000000; stroke-linecap:round; stroke-linejoin:round; stroke-width:4; stroke-opacity:1; fill:none\" points=\"432.293,1423.18 432.293,47.2441 \"/>\n",
       "<polyline clip-path=\"url(#clip850)\" style=\"stroke:#000000; stroke-linecap:round; stroke-linejoin:round; stroke-width:4; stroke-opacity:1; fill:none\" points=\"432.293,1122.33 451.19,1122.33 \"/>\n",
       "<polyline clip-path=\"url(#clip850)\" style=\"stroke:#000000; stroke-linecap:round; stroke-linejoin:round; stroke-width:4; stroke-opacity:1; fill:none\" points=\"432.293,791.465 451.19,791.465 \"/>\n",
       "<polyline clip-path=\"url(#clip850)\" style=\"stroke:#000000; stroke-linecap:round; stroke-linejoin:round; stroke-width:4; stroke-opacity:1; fill:none\" points=\"432.293,460.601 451.19,460.601 \"/>\n",
       "<polyline clip-path=\"url(#clip850)\" style=\"stroke:#000000; stroke-linecap:round; stroke-linejoin:round; stroke-width:4; stroke-opacity:1; fill:none\" points=\"432.293,129.737 451.19,129.737 \"/>\n",
       "<path clip-path=\"url(#clip850)\" d=\"M114.26 1129.23 L143.936 1129.23 L143.936 1133.16 L114.26 1133.16 L114.26 1129.23 Z\" fill=\"#000000\" fill-rule=\"nonzero\" fill-opacity=\"1\" /><path clip-path=\"url(#clip850)\" d=\"M158.056 1142.12 L174.376 1142.12 L174.376 1146.06 L152.431 1146.06 L152.431 1142.12 Q155.093 1139.37 159.677 1134.74 Q164.283 1130.08 165.464 1128.74 Q167.709 1126.22 168.589 1124.48 Q169.491 1122.72 169.491 1121.03 Q169.491 1118.28 167.547 1116.54 Q165.626 1114.81 162.524 1114.81 Q160.325 1114.81 157.871 1115.57 Q155.44 1116.33 152.663 1117.89 L152.663 1113.16 Q155.487 1112.03 157.94 1111.45 Q160.394 1110.87 162.431 1110.87 Q167.802 1110.87 170.996 1113.56 Q174.19 1116.24 174.19 1120.73 Q174.19 1122.86 173.38 1124.78 Q172.593 1126.68 170.487 1129.27 Q169.908 1129.95 166.806 1133.16 Q163.704 1136.36 158.056 1142.12 Z\" fill=\"#000000\" fill-rule=\"nonzero\" fill-opacity=\"1\" /><path clip-path=\"url(#clip850)\" d=\"M184.19 1140.18 L189.075 1140.18 L189.075 1146.06 L184.19 1146.06 L184.19 1140.18 Z\" fill=\"#000000\" fill-rule=\"nonzero\" fill-opacity=\"1\" /><path clip-path=\"url(#clip850)\" d=\"M209.26 1114.58 Q205.649 1114.58 203.82 1118.14 Q202.014 1121.68 202.014 1128.81 Q202.014 1135.92 203.82 1139.48 Q205.649 1143.02 209.26 1143.02 Q212.894 1143.02 214.699 1139.48 Q216.528 1135.92 216.528 1128.81 Q216.528 1121.68 214.699 1118.14 Q212.894 1114.58 209.26 1114.58 M209.26 1110.87 Q215.07 1110.87 218.125 1115.48 Q221.204 1120.06 221.204 1128.81 Q221.204 1137.54 218.125 1142.14 Q215.07 1146.73 209.26 1146.73 Q203.449 1146.73 200.371 1142.14 Q197.315 1137.54 197.315 1128.81 Q197.315 1120.06 200.371 1115.48 Q203.449 1110.87 209.26 1110.87 Z\" fill=\"#000000\" fill-rule=\"nonzero\" fill-opacity=\"1\" /><path clip-path=\"url(#clip850)\" d=\"M257.593 1120.59 L247.014 1131.22 L257.593 1141.8 L254.838 1144.6 L244.213 1133.97 L233.588 1144.6 L230.857 1141.8 L241.412 1131.22 L230.857 1120.59 L233.588 1117.79 L244.213 1128.42 L254.838 1117.79 L257.593 1120.59 Z\" fill=\"#000000\" fill-rule=\"nonzero\" fill-opacity=\"1\" /><path clip-path=\"url(#clip850)\" d=\"M269.954 1142.12 L277.593 1142.12 L277.593 1115.76 L269.282 1117.42 L269.282 1113.16 L277.546 1111.5 L282.222 1111.5 L282.222 1142.12 L289.861 1142.12 L289.861 1146.06 L269.954 1146.06 L269.954 1142.12 Z\" fill=\"#000000\" fill-rule=\"nonzero\" fill-opacity=\"1\" /><path clip-path=\"url(#clip850)\" d=\"M309.305 1114.58 Q305.694 1114.58 303.866 1118.14 Q302.06 1121.68 302.06 1128.81 Q302.06 1135.92 303.866 1139.48 Q305.694 1143.02 309.305 1143.02 Q312.94 1143.02 314.745 1139.48 Q316.574 1135.92 316.574 1128.81 Q316.574 1121.68 314.745 1118.14 Q312.94 1114.58 309.305 1114.58 M309.305 1110.87 Q315.116 1110.87 318.171 1115.48 Q321.25 1120.06 321.25 1128.81 Q321.25 1137.54 318.171 1142.14 Q315.116 1146.73 309.305 1146.73 Q303.495 1146.73 300.417 1142.14 Q297.361 1137.54 297.361 1128.81 Q297.361 1120.06 300.417 1115.48 Q303.495 1110.87 309.305 1110.87 Z\" fill=\"#000000\" fill-rule=\"nonzero\" fill-opacity=\"1\" /><path clip-path=\"url(#clip850)\" d=\"M321.25 1104.97 L345.361 1104.97 L345.361 1108.17 L321.25 1108.17 L321.25 1104.97 Z\" fill=\"#000000\" fill-rule=\"nonzero\" fill-opacity=\"1\" /><path clip-path=\"url(#clip850)\" d=\"M354.22 1115.45 L360.426 1115.45 L360.426 1094.03 L353.674 1095.38 L353.674 1091.92 L360.389 1090.57 L364.188 1090.57 L364.188 1115.45 L370.394 1115.45 L370.394 1118.65 L354.22 1118.65 L354.22 1115.45 Z\" fill=\"#000000\" fill-rule=\"nonzero\" fill-opacity=\"1\" /><path clip-path=\"url(#clip850)\" d=\"M388.506 1093.88 L378.914 1108.87 L388.506 1108.87 L388.506 1093.88 M387.51 1090.57 L392.287 1090.57 L392.287 1108.87 L396.293 1108.87 L396.293 1112.03 L392.287 1112.03 L392.287 1118.65 L388.506 1118.65 L388.506 1112.03 L375.83 1112.03 L375.83 1108.36 L387.51 1090.57 Z\" fill=\"#000000\" fill-rule=\"nonzero\" fill-opacity=\"1\" /><path clip-path=\"url(#clip850)\" d=\"M384.348 777.264 Q380.737 777.264 378.909 780.829 Q377.103 784.37 377.103 791.5 Q377.103 798.606 378.909 802.171 Q380.737 805.713 384.348 805.713 Q387.983 805.713 389.788 802.171 Q391.617 798.606 391.617 791.5 Q391.617 784.37 389.788 780.829 Q387.983 777.264 384.348 777.264 M384.348 773.56 Q390.159 773.56 393.214 778.167 Q396.293 782.75 396.293 791.5 Q396.293 800.227 393.214 804.833 Q390.159 809.416 384.348 809.416 Q378.538 809.416 375.46 804.833 Q372.404 800.227 372.404 791.5 Q372.404 782.75 375.46 778.167 Q378.538 773.56 384.348 773.56 Z\" fill=\"#000000\" fill-rule=\"nonzero\" fill-opacity=\"1\" /><path clip-path=\"url(#clip850)\" d=\"M158.056 480.393 L174.376 480.393 L174.376 484.329 L152.431 484.329 L152.431 480.393 Q155.093 477.639 159.677 473.009 Q164.283 468.356 165.464 467.014 Q167.709 464.491 168.589 462.755 Q169.491 460.995 169.491 459.306 Q169.491 456.551 167.547 454.815 Q165.626 453.079 162.524 453.079 Q160.325 453.079 157.871 453.843 Q155.44 454.606 152.663 456.157 L152.663 451.435 Q155.487 450.301 157.94 449.722 Q160.394 449.144 162.431 449.144 Q167.802 449.144 170.996 451.829 Q174.19 454.514 174.19 459.005 Q174.19 461.134 173.38 463.056 Q172.593 464.954 170.487 467.546 Q169.908 468.218 166.806 471.435 Q163.704 474.63 158.056 480.393 Z\" fill=\"#000000\" fill-rule=\"nonzero\" fill-opacity=\"1\" /><path clip-path=\"url(#clip850)\" d=\"M184.19 478.449 L189.075 478.449 L189.075 484.329 L184.19 484.329 L184.19 478.449 Z\" fill=\"#000000\" fill-rule=\"nonzero\" fill-opacity=\"1\" /><path clip-path=\"url(#clip850)\" d=\"M209.26 452.847 Q205.649 452.847 203.82 456.412 Q202.014 459.954 202.014 467.083 Q202.014 474.19 203.82 477.754 Q205.649 481.296 209.26 481.296 Q212.894 481.296 214.699 477.754 Q216.528 474.19 216.528 467.083 Q216.528 459.954 214.699 456.412 Q212.894 452.847 209.26 452.847 M209.26 449.144 Q215.07 449.144 218.125 453.75 Q221.204 458.333 221.204 467.083 Q221.204 475.81 218.125 480.417 Q215.07 485 209.26 485 Q203.449 485 200.371 480.417 Q197.315 475.81 197.315 467.083 Q197.315 458.333 200.371 453.75 Q203.449 449.144 209.26 449.144 Z\" fill=\"#000000\" fill-rule=\"nonzero\" fill-opacity=\"1\" /><path clip-path=\"url(#clip850)\" d=\"M257.593 458.866 L247.014 469.491 L257.593 480.069 L254.838 482.87 L244.213 472.245 L233.588 482.87 L230.857 480.069 L241.412 469.491 L230.857 458.866 L233.588 456.065 L244.213 466.69 L254.838 456.065 L257.593 458.866 Z\" fill=\"#000000\" fill-rule=\"nonzero\" fill-opacity=\"1\" /><path clip-path=\"url(#clip850)\" d=\"M269.954 480.393 L277.593 480.393 L277.593 454.028 L269.282 455.694 L269.282 451.435 L277.546 449.769 L282.222 449.769 L282.222 480.393 L289.861 480.393 L289.861 484.329 L269.954 484.329 L269.954 480.393 Z\" fill=\"#000000\" fill-rule=\"nonzero\" fill-opacity=\"1\" /><path clip-path=\"url(#clip850)\" d=\"M309.305 452.847 Q305.694 452.847 303.866 456.412 Q302.06 459.954 302.06 467.083 Q302.06 474.19 303.866 477.754 Q305.694 481.296 309.305 481.296 Q312.94 481.296 314.745 477.754 Q316.574 474.19 316.574 467.083 Q316.574 459.954 314.745 456.412 Q312.94 452.847 309.305 452.847 M309.305 449.144 Q315.116 449.144 318.171 453.75 Q321.25 458.333 321.25 467.083 Q321.25 475.81 318.171 480.417 Q315.116 485 309.305 485 Q303.495 485 300.417 480.417 Q297.361 475.81 297.361 467.083 Q297.361 458.333 300.417 453.75 Q303.495 449.144 309.305 449.144 Z\" fill=\"#000000\" fill-rule=\"nonzero\" fill-opacity=\"1\" /><path clip-path=\"url(#clip850)\" d=\"M321.25 443.245 L345.361 443.245 L345.361 446.442 L321.25 446.442 L321.25 443.245 Z\" fill=\"#000000\" fill-rule=\"nonzero\" fill-opacity=\"1\" /><path clip-path=\"url(#clip850)\" d=\"M354.22 453.721 L360.426 453.721 L360.426 432.299 L353.674 433.653 L353.674 430.192 L360.389 428.838 L364.188 428.838 L364.188 453.721 L370.394 453.721 L370.394 456.918 L354.22 456.918 L354.22 453.721 Z\" fill=\"#000000\" fill-rule=\"nonzero\" fill-opacity=\"1\" /><path clip-path=\"url(#clip850)\" d=\"M388.506 432.148 L378.914 447.138 L388.506 447.138 L388.506 432.148 M387.51 428.838 L392.287 428.838 L392.287 447.138 L396.293 447.138 L396.293 450.298 L392.287 450.298 L392.287 456.918 L388.506 456.918 L388.506 450.298 L375.83 450.298 L375.83 446.63 L387.51 428.838 Z\" fill=\"#000000\" fill-rule=\"nonzero\" fill-opacity=\"1\" /><path clip-path=\"url(#clip850)\" d=\"M166.876 122.978 L155.07 141.427 L166.876 141.427 L166.876 122.978 M165.649 118.904 L171.528 118.904 L171.528 141.427 L176.459 141.427 L176.459 145.316 L171.528 145.316 L171.528 153.464 L166.876 153.464 L166.876 145.316 L151.274 145.316 L151.274 140.802 L165.649 118.904 Z\" fill=\"#000000\" fill-rule=\"nonzero\" fill-opacity=\"1\" /><path clip-path=\"url(#clip850)\" d=\"M184.19 147.585 L189.075 147.585 L189.075 153.464 L184.19 153.464 L184.19 147.585 Z\" fill=\"#000000\" fill-rule=\"nonzero\" fill-opacity=\"1\" /><path clip-path=\"url(#clip850)\" d=\"M209.26 121.983 Q205.649 121.983 203.82 125.548 Q202.014 129.089 202.014 136.219 Q202.014 143.325 203.82 146.89 Q205.649 150.432 209.26 150.432 Q212.894 150.432 214.699 146.89 Q216.528 143.325 216.528 136.219 Q216.528 129.089 214.699 125.548 Q212.894 121.983 209.26 121.983 M209.26 118.279 Q215.07 118.279 218.125 122.886 Q221.204 127.469 221.204 136.219 Q221.204 144.946 218.125 149.552 Q215.07 154.136 209.26 154.136 Q203.449 154.136 200.371 149.552 Q197.315 144.946 197.315 136.219 Q197.315 127.469 200.371 122.886 Q203.449 118.279 209.26 118.279 Z\" fill=\"#000000\" fill-rule=\"nonzero\" fill-opacity=\"1\" /><path clip-path=\"url(#clip850)\" d=\"M257.593 128.002 L247.014 138.626 L257.593 149.205 L254.838 152.006 L244.213 141.381 L233.588 152.006 L230.857 149.205 L241.412 138.626 L230.857 128.002 L233.588 125.201 L244.213 135.826 L254.838 125.201 L257.593 128.002 Z\" fill=\"#000000\" fill-rule=\"nonzero\" fill-opacity=\"1\" /><path clip-path=\"url(#clip850)\" d=\"M269.954 149.529 L277.593 149.529 L277.593 123.164 L269.282 124.83 L269.282 120.571 L277.546 118.904 L282.222 118.904 L282.222 149.529 L289.861 149.529 L289.861 153.464 L269.954 153.464 L269.954 149.529 Z\" fill=\"#000000\" fill-rule=\"nonzero\" fill-opacity=\"1\" /><path clip-path=\"url(#clip850)\" d=\"M309.305 121.983 Q305.694 121.983 303.866 125.548 Q302.06 129.089 302.06 136.219 Q302.06 143.325 303.866 146.89 Q305.694 150.432 309.305 150.432 Q312.94 150.432 314.745 146.89 Q316.574 143.325 316.574 136.219 Q316.574 129.089 314.745 125.548 Q312.94 121.983 309.305 121.983 M309.305 118.279 Q315.116 118.279 318.171 122.886 Q321.25 127.469 321.25 136.219 Q321.25 144.946 318.171 149.552 Q315.116 154.136 309.305 154.136 Q303.495 154.136 300.417 149.552 Q297.361 144.946 297.361 136.219 Q297.361 127.469 300.417 122.886 Q303.495 118.279 309.305 118.279 Z\" fill=\"#000000\" fill-rule=\"nonzero\" fill-opacity=\"1\" /><path clip-path=\"url(#clip850)\" d=\"M321.25 112.381 L345.361 112.381 L345.361 115.578 L321.25 115.578 L321.25 112.381 Z\" fill=\"#000000\" fill-rule=\"nonzero\" fill-opacity=\"1\" /><path clip-path=\"url(#clip850)\" d=\"M354.22 122.857 L360.426 122.857 L360.426 101.435 L353.674 102.789 L353.674 99.3281 L360.389 97.9739 L364.188 97.9739 L364.188 122.857 L370.394 122.857 L370.394 126.054 L354.22 126.054 L354.22 122.857 Z\" fill=\"#000000\" fill-rule=\"nonzero\" fill-opacity=\"1\" /><path clip-path=\"url(#clip850)\" d=\"M388.506 101.284 L378.914 116.274 L388.506 116.274 L388.506 101.284 M387.51 97.9739 L392.287 97.9739 L392.287 116.274 L396.293 116.274 L396.293 119.434 L392.287 119.434 L392.287 126.054 L388.506 126.054 L388.506 119.434 L375.83 119.434 L375.83 115.766 L387.51 97.9739 Z\" fill=\"#000000\" fill-rule=\"nonzero\" fill-opacity=\"1\" /><path clip-path=\"url(#clip850)\" d=\"M67.3143 733.525 Q73.68 736.008 75.6216 738.363 Q77.5631 740.718 77.5631 744.665 L77.5631 749.344 L72.6615 749.344 L72.6615 745.906 Q72.6615 743.487 71.5157 742.151 Q70.3699 740.814 66.1048 739.191 L63.4312 738.14 L28.3562 752.559 L28.3562 746.352 L56.238 735.212 L28.3562 724.072 L28.3562 717.865 L67.3143 733.525 Z\" fill=\"#000000\" fill-rule=\"nonzero\" fill-opacity=\"1\" /><polyline clip-path=\"url(#clip852)\" style=\"stroke:#009af9; stroke-linecap:round; stroke-linejoin:round; stroke-width:4; stroke-opacity:1; fill:none\" points=\"486.646,1379.2 504.946,1246.96 523.247,1305.73 541.547,1173.49 559.848,1100.02 578.148,1026.56 596.449,953.092 614.75,997.172 633.05,923.705 651.351,850.238 669.651,953.092 687.952,997.172 706.253,806.158 724.553,850.238 742.854,835.545 761.154,820.852 779.455,864.932 797.755,732.692 816.056,791.465 834.357,835.545 852.657,879.625 870.958,806.158 889.258,732.692 907.559,835.545 925.859,820.852 944.16,806.158 962.461,732.692 980.761,894.318 999.062,820.852 1017.36,806.158 1035.66,732.692 1053.96,894.318 1072.26,762.078 1090.56,806.158 1108.87,806.158 1127.17,673.919 1145.47,835.545 1163.77,762.078 1182.07,688.612 1200.37,673.919 1218.67,776.772 1236.97,703.305 1255.27,923.705 1273.57,850.238 1291.87,717.999 1310.17,703.305 1328.47,747.385 1346.77,732.692 1365.07,717.999 1383.37,762.078 1401.67,820.852 1419.98,688.612 1438.28,732.692 1456.58,717.999 1474.88,879.625 1493.18,806.158 1511.48,909.012 1529.78,835.545 1548.08,762.078 1566.38,747.385 1584.68,732.692 1602.98,835.545 1621.28,820.852 1639.58,688.612 1657.88,791.465 1676.18,835.545 1694.48,835.545 1712.78,879.625 1731.09,806.158 1749.39,732.692 1767.69,894.318 1785.99,879.625 1804.29,747.385 1822.59,850.238 1840.89,776.772 1859.19,879.625 1877.49,747.385 1895.79,850.238 1914.09,659.225 1932.39,938.398 1950.69,688.612 1968.99,791.465 1987.29,791.465 2005.59,717.999 2023.89,644.532 2042.2,688.612 2060.5,673.919 2078.8,717.999 2097.1,703.305 2115.4,688.612 2133.7,615.145 2152,659.225 2170.3,644.532 2188.6,629.839 2206.9,438.825 2225.2,541.679 2243.5,409.439 2261.8,335.972 2280.1,277.199 2298.4,86.1857 \"/>\n",
       "<polyline clip-path=\"url(#clip852)\" style=\"stroke:#e26f46; stroke-linecap:round; stroke-linejoin:round; stroke-width:4; stroke-opacity:1; fill:none\" points=\"486.646,1384.24 504.946,1305.32 523.247,1235.59 541.547,1174.13 559.848,1120.11 578.148,1072.77 596.449,1031.39 614.75,995.345 633.05,964.044 651.351,936.957 669.651,913.598 687.952,893.53 706.253,876.358 724.553,861.724 742.854,849.308 761.154,838.822 779.455,830.01 797.755,822.642 816.056,816.516 834.357,811.452 852.657,807.292 870.958,803.898 889.258,801.147 907.559,798.936 925.859,797.172 944.16,795.778 962.461,794.687 980.761,793.842 999.062,793.194 1017.36,792.704 1035.66,792.338 1053.96,792.069 1072.26,791.874 1090.56,791.736 1108.87,791.64 1127.17,791.575 1145.47,791.532 1163.77,791.504 1182.07,791.487 1200.37,791.477 1218.67,791.471 1236.97,791.468 1255.27,791.466 1273.57,791.466 1291.87,791.465 1310.17,791.465 1328.47,791.465 1346.77,791.465 1365.07,791.465 1383.37,791.465 1401.67,791.465 1419.98,791.465 1438.28,791.465 1456.58,791.465 1474.88,791.465 1493.18,791.465 1511.48,791.465 1529.78,791.464 1548.08,791.463 1566.38,791.459 1584.68,791.454 1602.98,791.443 1621.28,791.426 1639.58,791.399 1657.88,791.355 1676.18,791.29 1694.48,791.194 1712.78,791.056 1731.09,790.861 1749.39,790.592 1767.69,790.227 1785.99,789.736 1804.29,789.089 1822.59,788.243 1840.89,787.152 1859.19,785.758 1877.49,783.994 1895.79,781.783 1914.09,779.032 1932.39,775.638 1950.69,771.478 1968.99,766.414 1987.29,760.288 2005.59,752.92 2023.89,744.108 2042.2,733.622 2060.5,721.206 2078.8,706.572 2097.1,689.4 2115.4,669.332 2133.7,645.974 2152,618.886 2170.3,587.585 2188.6,551.539 2206.9,510.164 2225.2,462.816 2243.5,408.797 2261.8,347.338 2280.1,277.606 2298.4,198.692 \"/>\n",
       "<path clip-path=\"url(#clip850)\" d=\"M496.308 248.629 L740.785 248.629 L740.785 93.1086 L496.308 93.1086  Z\" fill=\"#ffffff\" fill-rule=\"evenodd\" fill-opacity=\"1\"/>\n",
       "<polyline clip-path=\"url(#clip850)\" style=\"stroke:#000000; stroke-linecap:round; stroke-linejoin:round; stroke-width:4; stroke-opacity:1; fill:none\" points=\"496.308,248.629 740.785,248.629 740.785,93.1086 496.308,93.1086 496.308,248.629 \"/>\n",
       "<polyline clip-path=\"url(#clip850)\" style=\"stroke:#009af9; stroke-linecap:round; stroke-linejoin:round; stroke-width:4; stroke-opacity:1; fill:none\" points=\"517.647,144.949 645.678,144.949 \"/>\n",
       "<path clip-path=\"url(#clip850)\" d=\"M680.859 164.636 Q679.053 169.266 677.34 170.678 Q675.627 172.09 672.757 172.09 L669.354 172.09 L669.354 168.525 L671.854 168.525 Q673.613 168.525 674.585 167.692 Q675.558 166.858 676.738 163.756 L677.502 161.812 L667.016 136.303 L671.53 136.303 L679.632 156.581 L687.734 136.303 L692.247 136.303 L680.859 164.636 Z\" fill=\"#000000\" fill-rule=\"nonzero\" fill-opacity=\"1\" /><path clip-path=\"url(#clip850)\" d=\"M699.539 158.293 L707.178 158.293 L707.178 131.928 L698.868 133.595 L698.868 129.335 L707.132 127.669 L711.807 127.669 L711.807 158.293 L719.446 158.293 L719.446 162.229 L699.539 162.229 L699.539 158.293 Z\" fill=\"#000000\" fill-rule=\"nonzero\" fill-opacity=\"1\" /><polyline clip-path=\"url(#clip850)\" style=\"stroke:#e26f46; stroke-linecap:round; stroke-linejoin:round; stroke-width:4; stroke-opacity:1; fill:none\" points=\"517.647,196.789 645.678,196.789 \"/>\n",
       "<path clip-path=\"url(#clip850)\" d=\"M680.859 216.476 Q679.053 221.106 677.34 222.518 Q675.627 223.93 672.757 223.93 L669.354 223.93 L669.354 220.365 L671.854 220.365 Q673.613 220.365 674.585 219.532 Q675.558 218.698 676.738 215.596 L677.502 213.652 L667.016 188.143 L671.53 188.143 L679.632 208.421 L687.734 188.143 L692.247 188.143 L680.859 216.476 Z\" fill=\"#000000\" fill-rule=\"nonzero\" fill-opacity=\"1\" /><path clip-path=\"url(#clip850)\" d=\"M702.757 210.133 L719.076 210.133 L719.076 214.069 L697.132 214.069 L697.132 210.133 Q699.794 207.379 704.377 202.749 Q708.983 198.096 710.164 196.754 Q712.409 194.231 713.289 192.495 Q714.192 190.735 714.192 189.046 Q714.192 186.291 712.247 184.555 Q710.326 182.819 707.224 182.819 Q705.025 182.819 702.571 183.583 Q700.141 184.347 697.363 185.897 L697.363 181.175 Q700.187 180.041 702.641 179.462 Q705.095 178.884 707.132 178.884 Q712.502 178.884 715.696 181.569 Q718.891 184.254 718.891 188.745 Q718.891 190.874 718.081 192.796 Q717.294 194.694 715.187 197.286 Q714.608 197.958 711.507 201.175 Q708.405 204.37 702.757 210.133 Z\" fill=\"#000000\" fill-rule=\"nonzero\" fill-opacity=\"1\" /></svg>\n"
      ]
     },
     "metadata": {},
     "output_type": "display_data"
    }
   ],
   "source": [
    "# generate the data\n",
    "x = range(start = 0.988, stop = 1.012, length = 100)\n",
    "y1 = x.^7 .- 7x.^6 .+ 21x.^5 .- 35x.^4 .+ 35x.^3 .- 21x.^2 .+ 7x .- 1\n",
    "y2 = (x .- 1).^7\n",
    "\n",
    "# plot\n",
    "using Plots\n",
    "plot(x, y1, xlabel = \"x\", ylabel = \"y\", legend =:topleft)\n",
    "plot!(x, y2)"
   ]
  },
  {
   "attachments": {},
   "cell_type": "markdown",
   "metadata": {},
   "source": [
    "#### Part 3\n",
    "As shown above, these two function are mathematically equivalent. However, the plots are not the same, as the first function shows a noisy pattern and the second function plot is more stable. This is because the first function is much more sensitive to the precision of float numbers. "
   ]
  },
  {
   "cell_type": "markdown",
   "metadata": {},
   "source": [
    "## Q5\n",
    "\n",
    "1. Show the **Sherman-Morrison formula**\n",
    "$$\n",
    "\t(\\mathbf{A} + \\mathbf{u} \\mathbf{u}^T)^{-1} = \\mathbf{A}^{-1} - \\frac{1}{1 + \\mathbf{u}^T \\mathbf{A}^{-1} \\mathbf{u}} \\mathbf{A}^{-1} \\mathbf{u} \\mathbf{u}^T \\mathbf{A}^{-1},\n",
    "$$\n",
    "where $\\mathbf{A} \\in \\mathbb{R}^{n \\times n}$ is nonsingular and $\\mathbf{u} \\in \\mathbb{R}^n$. This formula supplies the inverse of the symmetric, rank-one  perturbation of $\\mathbf{A}$.\n",
    "\n",
    "2. Show the **Woodbury formula**\n",
    "$$\n",
    "\t(\\mathbf{A} + \\mathbf{U} \\mathbf{V}^T)^{-1} = \\mathbf{A}^{-1} - \\mathbf{A}^{-1} \\mathbf{U} (\\mathbf{I}_m + \\mathbf{V}^T \\mathbf{A}^{-1} \\mathbf{U})^{-1} \\mathbf{V}^T \\mathbf{A}^{-1},\n",
    "$$\n",
    "where $\\mathbf{A} \\in \\mathbb{R}^{n \\times n}$ is nonsingular, $\\mathbf{U}, \\mathbf{V} \\in \\mathbb{R}^{n \\times m}$, and $\\mathbf{I}_m$ is the $m \\times m$ identity matrix. In many applications $m$ is much smaller than $n$. Woodbury formula generalizes Sherman-Morrison and is valuable because the smaller matrix $\\mathbf{I}_m + \\mathbf{V}^T \\mathbf{A}^{-1} \\mathbf{U}$ is cheaper to invert than the larger matrix $\\mathbf{A} + \\mathbf{U} \\mathbf{V}^T$.\n",
    "\n",
    "3. Show the **binomial inversion formula**\n",
    "$$\n",
    "\t(\\mathbf{A} + \\mathbf{U} \\mathbf{B} \\mathbf{V}^T)^{-1} = \\mathbf{A}^{-1} - \\mathbf{A}^{-1} \\mathbf{U} (\\mathbf{B}^{-1} + \\mathbf{V}^T \\mathbf{A}^{-1} \\mathbf{U})^{-1} \\mathbf{V}^T \\mathbf{A}^{-1},\n",
    "$$\n",
    "where $\\mathbf{A}$ and $\\mathbf{B}$ are nonsingular.\n",
    "\n",
    "4. Show the identity\n",
    "$$\n",
    "\t\\text{det}(\\mathbf{A} + \\mathbf{U} \\mathbf{V}^T) = \\text{det}(\\mathbf{A}) \\text{det}(\\mathbf{I}_m + \\mathbf{V}^T \\mathbf{A}^{-1} \\mathbf{U}).\n",
    "$$\n",
    "This formula is useful for evaluating the density of a multivariate normal with covariance matrix $\\mathbf{A} + \\mathbf{U} \\mathbf{V}^T$.\n",
    "\n",
    "**Hint**: 1 and 2 are special cases of 3. For 4, show that\n",
    "$$\n",
    "\\begin{pmatrix}\n",
    "- \\mathbf{A} & \\mathbf{O} \\\\\n",
    "\\mathbf{O} & \\mathbf{I} + \\mathbf{V}^T \\mathbf{A}^{-1} \\mathbf{U}\n",
    "\\end{pmatrix} = \\begin{pmatrix}\n",
    "\\mathbf{I} & \\mathbf{O} \\\\\n",
    "\\mathbf{V}^T \\mathbf{A}^{-1} & \\mathbf{I}\n",
    "\\end{pmatrix} \\begin{pmatrix}\n",
    "- \\mathbf{A} & \\mathbf{U} \\\\\n",
    "\\mathbf{V}^T & \\mathbf{I}\n",
    "\\end{pmatrix} \\begin{pmatrix}\n",
    "\\mathbf{I} & \\mathbf{A}^{-1} \\mathbf{U} \\\\\n",
    "\\mathbf{O} & \\mathbf{I}\n",
    "\\end{pmatrix}.\n",
    "$$"
   ]
  },
  {
   "cell_type": "markdown",
   "metadata": {},
   "source": [
    "## Q6\n",
    "\n",
    "Demonstrate the following facts about triangular and orthogonal matrices in Julia (one numerical example for each fact). Mathematically curious ones are also encouraged to prove them. \n",
    "\n",
    "Note a unit triangular matrix is a triangular matrix with all diagonal entries being 1.\n",
    "\n",
    "1. The product of two upper (lower) triangular matrices is upper (lower) triangular.\n",
    "\n",
    "2. The inverse of an upper (lower) triangular matrix is upper (lower) triangular.\n",
    "\n",
    "3. The product of two unit upper (lower) triangular matrices is unit upper (lower) triangular.\n",
    "\n",
    "4. The inverse of a unit upper (lower) triangular matrix is unit upper (lower) triangular.\n",
    "\n",
    "5. An orthogonal upper (lower) triangular matrix is diagonal. (You just need to prove this.)\n",
    "\n",
    "6. The product of two orthogonal matrices is orthogonal."
   ]
  },
  {
   "cell_type": "markdown",
   "metadata": {},
   "source": [
    "## Q7\n",
    "\n",
    "Let the $n \\times n$ matrix `H` have elements `H[i, j] = 1 / (i + j - 1)`.  \n",
    "\n",
    "1. Write a function `h(n)` that outputs $n \\times n$ matrix `H`. Try at least 4 ways, e.g., $ij$-looping, $ji$-looping, [comprehension](https://docs.julialang.org/en/v1/manual/arrays/#man-comprehensions), and vectorization (R style). Compute and print `H` for `n = 5`.   \n",
    "\n",
    "2. Compare their efficiencies (using `BenchmarkTools`) at `n = 5000`."
   ]
  }
 ],
 "metadata": {
  "jupytext": {
   "formats": "ipynb,qmd"
  },
  "kernelspec": {
   "display_name": "Julia 1.8.1",
   "language": "julia",
   "name": "julia-1.8"
  },
  "language_info": {
   "file_extension": ".jl",
   "mimetype": "application/julia",
   "name": "julia",
   "version": "1.8.1"
  },
  "toc": {
   "colors": {
    "hover_highlight": "#DAA520",
    "running_highlight": "#FF0000",
    "selected_highlight": "#FFD700"
   },
   "moveMenuLeft": true,
   "nav_menu": {
    "height": "153px",
    "width": "252px"
   },
   "navigate_menu": true,
   "number_sections": false,
   "sideBar": true,
   "skip_h1_title": true,
   "threshold": 4,
   "toc_cell": false,
   "toc_section_display": "block",
   "toc_window_display": true,
   "widenNotebook": false
  },
  "toc-autonumbering": false
 },
 "nbformat": 4,
 "nbformat_minor": 4
}
