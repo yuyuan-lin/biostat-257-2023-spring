{
 "cells": [
  {
   "cell_type": "raw",
   "metadata": {},
   "source": [
    "---\n",
    "title: Biostat/Biomath M257 Homework 7\n",
    "subtitle: 'Due June 16 @ 11:59PM'\n",
    "author: Yuyuan Lin (804886544)\n",
    "date: today\n",
    "format:\n",
    "  html:\n",
    "    theme: cosmo\n",
    "    embed-resources: true\n",
    "    number-sections: true\n",
    "    toc: true\n",
    "    toc-depth: 4\n",
    "    toc-location: left\n",
    "editor:\n",
    "  render-on-save: false\n",
    "---"
   ]
  },
  {
   "attachments": {},
   "cell_type": "markdown",
   "metadata": {},
   "source": [
    "System information (for reproducibility):"
   ]
  },
  {
   "cell_type": "code",
   "execution_count": 1,
   "metadata": {
    "tags": []
   },
   "outputs": [
    {
     "name": "stdout",
     "output_type": "stream",
     "text": [
      "Julia Version 1.9.0\n",
      "Commit 8e630552924 (2023-05-07 11:25 UTC)\n",
      "Platform Info:\n",
      "  OS: macOS (arm64-apple-darwin22.4.0)\n",
      "  CPU: 8 × Apple M1 Pro\n",
      "  WORD_SIZE: 64\n",
      "  LIBM: libopenlibm\n",
      "  LLVM: libLLVM-14.0.6 (ORCJIT, apple-m1)\n",
      "  Threads: 6 on 6 virtual cores\n",
      "Environment:\n",
      "  JULIA_EDITOR = code\n",
      "  JULIA_NUM_THREADS = 6\n"
     ]
    }
   ],
   "source": [
    "versioninfo()"
   ]
  },
  {
   "attachments": {},
   "cell_type": "markdown",
   "metadata": {},
   "source": [
    "Load packages:"
   ]
  },
  {
   "cell_type": "code",
   "execution_count": 2,
   "metadata": {
    "tags": []
   },
   "outputs": [
    {
     "name": "stderr",
     "output_type": "stream",
     "text": [
      "\u001b[32m\u001b[1m  Activating\u001b[22m\u001b[39m project at `~/Documents/UCLA_files/course_work/BIS_M257/hw/biostat-257-2023-spring/hw7`\n"
     ]
    },
    {
     "name": "stdout",
     "output_type": "stream",
     "text": [
      "\u001b[32m\u001b[1mStatus\u001b[22m\u001b[39m `~/Documents/UCLA_files/course_work/BIS_M257/hw/biostat-257-2023-spring/hw7/Project.toml`\n",
      "  \u001b[90m[6e4b80f9] \u001b[39mBenchmarkTools v1.3.2\n",
      "  \u001b[90m[31c24e10] \u001b[39mDistributions v0.25.95\n",
      "  \u001b[90m[37e2e46d] \u001b[39mLinearAlgebra\n",
      "  \u001b[90m[9a3f8284] \u001b[39mRandom\n"
     ]
    }
   ],
   "source": [
    "using Pkg\n",
    "\n",
    "Pkg.activate(pwd())\n",
    "Pkg.instantiate()\n",
    "Pkg.status()"
   ]
  },
  {
   "attachments": {},
   "cell_type": "markdown",
   "metadata": {},
   "source": [
    "Again we continue with the linear mixed effects model (LMM)\n",
    "$$\n",
    "    \\mathbf{Y}_i = \\mathbf{X}_i \\boldsymbol{\\beta} + \\mathbf{Z}_i \\boldsymbol{\\gamma}_i + \\boldsymbol{\\epsilon}_i, \\quad i=1,\\ldots,n,\n",
    "$$\n",
    "where   \n",
    "- $\\mathbf{Y}_i \\in \\mathbb{R}^{n_i}$ is the response vector of $i$-th individual,  \n",
    "- $\\mathbf{X}_i \\in \\mathbb{R}^{n_i \\times p}$ is the fixed effects predictor matrix of $i$-th individual,  \n",
    "- $\\mathbf{Z}_i \\in \\mathbb{R}^{n_i \\times q}$ is the random effects predictor matrix of $i$-th individual,  \n",
    "- $\\boldsymbol{\\epsilon}_i \\in \\mathbb{R}^{n_i}$ are multivariate normal $N(\\mathbf{0}_{n_i},\\sigma^2 \\mathbf{I}_{n_i})$,  \n",
    "- $\\boldsymbol{\\beta} \\in \\mathbb{R}^p$ are fixed effects, and  \n",
    "- $\\boldsymbol{\\gamma}_i \\in \\mathbb{R}^q$ are random effects assumed to be $N(\\mathbf{0}_q, \\boldsymbol{\\Sigma}_{q \\times q}$) independent of $\\boldsymbol{\\epsilon}_i$.\n",
    "\n",
    "The log-likelihood of the $i$-th datum $(\\mathbf{y}_i, \\mathbf{X}_i, \\mathbf{Z}_i)$ is \n",
    "$$\n",
    "    \\ell_i(\\boldsymbol{\\beta}, \\mathbf{L}, \\sigma_0^2) = - \\frac{n_i}{2} \\log (2\\pi) - \\frac{1}{2} \\log \\det \\boldsymbol{\\Omega}_i - \\frac{1}{2} (\\mathbf{y} - \\mathbf{X}_i \\boldsymbol{\\beta})^T \\boldsymbol{\\Omega}_i^{-1} (\\mathbf{y} - \\mathbf{X}_i \\boldsymbol{\\beta}),\n",
    "$$\n",
    "where\n",
    "$$\n",
    "    \\boldsymbol{\\Omega}_i = \\sigma^2 \\mathbf{I}_{n_i} + \\mathbf{Z}_i \\boldsymbol{\\Sigma} \\mathbf{Z}_i^T.\n",
    "$$\n",
    "Given $m$ independent data points $(\\mathbf{y}_i, \\mathbf{X}_i, \\mathbf{Z}_i)$, $i=1,\\ldots,m$, we seek the maximum likelihood estimate (MLE) by maximizing the log-likelihood\n",
    "$$\n",
    "\\ell(\\boldsymbol{\\beta}, \\boldsymbol{\\Sigma}, \\sigma_0^2) = \\sum_{i=1}^m \\ell_i(\\boldsymbol{\\beta}, \\boldsymbol{\\Sigma}, \\sigma_0^2).\n",
    "$$\n",
    "\n",
    "In HW6, we used the nonlinear programming (NLP) approach (Newton type algorithms) for optimization. In this assignment, we derive and implement an expectation-maximization (EM) algorithm for the same problem."
   ]
  },
  {
   "cell_type": "code",
   "execution_count": 3,
   "metadata": {
    "tags": []
   },
   "outputs": [],
   "source": [
    "# load necessary packages; make sure install them first\n",
    "using BenchmarkTools, Distributions, LinearAlgebra, Random"
   ]
  },
  {
   "attachments": {},
   "cell_type": "markdown",
   "metadata": {},
   "source": [
    "## Q1. (10 pts) Refresher on normal-normal model\n",
    "\n",
    "Assume the conditional distribution\n",
    "$$\n",
    "\\mathbf{y} \\mid \\boldsymbol{\\gamma} \\sim N(\\mathbf{X} \\boldsymbol{\\beta} + \\mathbf{Z} \\boldsymbol{\\gamma}, \\sigma^2 \\mathbf{I}_n)\n",
    "$$\n",
    "and the prior distribution\n",
    "$$\n",
    "\\boldsymbol{\\gamma} \\sim N(\\mathbf{0}_q, \\boldsymbol{\\Sigma}).\n",
    "$$\n",
    "By the Bayes theorem, the posterior distribution is\n",
    "\\begin{align*}\n",
    "f(\\boldsymbol{\\gamma} \\mid \\mathbf{y}) &=& \\frac{f(\\mathbf{y} \\mid \\boldsymbol{\\gamma}) \\times f(\\boldsymbol{\\gamma})}{f(\\mathbf{y})} \n",
    "\\end{align*}\n",
    "where $f$ denotes corresponding density. \n",
    "\n",
    "Show that the posterior distribution of random effects $\\boldsymbol{\\gamma}$ is a multivariate normal with mean\n",
    "\\begin{align*}\n",
    "\\mathbb{E} (\\boldsymbol{\\gamma} \\mid \\mathbf{y}) &= \\sigma^{-2} (\\sigma^{-2} \\mathbf{Z}^T \\mathbf{Z} + \\boldsymbol{\\Sigma}^{-1})^{-1 } \\mathbf{Z}^T (\\mathbf{y} - \\mathbf{X} \\boldsymbol{\\beta}) \\\\\n",
    "&= \\boldsymbol{\\Sigma} \\mathbf{Z}^T (\\mathbf{Z} \\boldsymbol{\\Sigma} \\mathbf{Z}^T + \\sigma^2 \\mathbf{I})^{-1} (\\mathbf{y} - \\mathbf{X} \\boldsymbol{\\beta})\n",
    "\\end{align*}\n",
    "and covariance\n",
    "$$\n",
    "\\begin{align}\n",
    "\\text{Var} (\\boldsymbol{\\gamma} \\mid \\mathbf{y}) &= (\\sigma^{-2} \\mathbf{Z}^T \\mathbf{Z} + \\boldsymbol{\\Sigma}^{-1})^{-1} \\\\\n",
    "&= \\boldsymbol{\\Sigma} - \\boldsymbol{\\Sigma} \\mathbf{Z}^T (\\mathbf{Z} \\boldsymbol{\\Sigma} \\mathbf{Z}^T + \\sigma^2 \\mathbf{I})^{-1} \\mathbf{Z} \\boldsymbol{\\Sigma}.\n",
    "\\end{align}\n",
    "$$"
   ]
  },
  {
   "attachments": {},
   "cell_type": "markdown",
   "metadata": {},
   "source": [
    "### Q1 Answer\n",
    "#### Part 1\n",
    "Considering that both $\\mathbf{y}$ and $\\boldsymbol{\\gamma}$ are multivariate normal, the joint distribution of $\\mathbf{y}$ and $\\boldsymbol{\\gamma}$ is also multivariate normal. Therefore, we have the following conclusion for the conditional distribution of $\\boldsymbol{\\gamma}$ given $\\mathbf{y}$:\n",
    "$$\n",
    "\\begin{aligned}\n",
    "\\mathbb{E} (\\boldsymbol{\\gamma} \\mid \\mathbf{y}) &= \n",
    "\\mathbb{E} (\\boldsymbol{\\gamma}) + \\operatorname{Cov}(\\boldsymbol{\\gamma}, \\mathbf{y}) [\\operatorname{Var}(\\mathbf{y})]^{-1}[\\mathbf{y} - \\mathbb{E}(\\mathbf{y})]\\\\\n",
    "\\text{And we have:}\\quad \\mathbb{E} (\\boldsymbol{\\gamma}) &= \\mathbf{0}_q\\\\\n",
    "\\mathbb{E} (\\mathbf{y}) &= \\mathbf{X} \\boldsymbol{\\beta} + \\mathbf{Z} \\mathbb{E}(\\boldsymbol{\\gamma}) = \\mathbf{X} \\boldsymbol{\\beta}\\\\\n",
    "\\operatorname{Var}(\\mathbf{y}) &= \\mathbf{Z}\\mathbf{\\Sigma}\\mathbf{Z}^T + \\sigma^2 \\mathbf{I}_n \\\\\n",
    "\\operatorname{Cov}(\\boldsymbol{\\gamma}, \\mathbf{y}) &= \\mathbb{E}\\left[(\\boldsymbol{\\gamma} -\\mathbb{E}(\\boldsymbol{\\gamma}))((\\boldsymbol{y} -\\mathbb{E}(\\boldsymbol{y}))^T\\right] \\\\\n",
    "&= \\mathbb{E}\\left[\\boldsymbol{\\gamma}(\\boldsymbol{y} -\\mathbb{E}(\\boldsymbol{y}))^T\\right] \\\\\n",
    "&= \\mathbb{E}(\\boldsymbol{\\gamma} \\boldsymbol{y}^T) - \\mathbb{E}(\\boldsymbol{\\gamma})(\\mathbf{X}\\boldsymbol{\\beta})^T \\\\\n",
    "&= \\mathbb{E}(\\boldsymbol{\\gamma} \\boldsymbol{y}^T) \\\\\n",
    "&= \\mathbb{E}\\left[\\boldsymbol{\\gamma} \\mathbb{E}(\\boldsymbol{y} \\mid \\boldsymbol{\\gamma})^T\\right] \\\\\n",
    "&= \\mathbb{E}(\\boldsymbol{\\gamma} (\\mathbf{X} \\boldsymbol{\\beta} + \\mathbf{Z} \\boldsymbol{\\gamma})^T) \\\\\n",
    "&= \\mathbb{E}(\\boldsymbol{\\gamma}\\boldsymbol{\\gamma}^T\\mathbf{Z}^T) \\\\\n",
    "&= \\mathbf{\\Sigma}\\mathbf{Z}^T \\\\\n",
    "\\text{Therefore}\\quad \\mathbb{E} (\\boldsymbol{\\gamma} \\mid \\mathbf{y}) &= \\mathbf{0}_q + \\mathbf{\\Sigma}\\mathbf{Z}^T (\\mathbf{Z}\\mathbf{\\Sigma}\\mathbf{Z}^T + \\sigma^2 \\mathbf{I}_n)^{-1}(\\mathbf{y} - \\mathbf{X} \\boldsymbol{\\beta}) \\\\\n",
    "&= \\mathbf{\\Sigma}\\mathbf{Z}^T (\\mathbf{Z}\\mathbf{\\Sigma}\\mathbf{Z}^T + \\sigma^2 \\mathbf{I}_n)^{-1}(\\mathbf{y} - \\mathbf{X} \\boldsymbol{\\beta})\n",
    "\\end{aligned}\n",
    "$$"
   ]
  },
  {
   "attachments": {},
   "cell_type": "markdown",
   "metadata": {},
   "source": [
    "#### Part 2\n",
    "$$\n",
    "\\begin{aligned}\n",
    "\\operatorname{Var}(\\boldsymbol{\\gamma}\\mid \\mathbf{y}) &= \\operatorname{Var}(\\boldsymbol{\\gamma}) - \\operatorname{Cov}(\\boldsymbol{\\gamma}, \\mathbf{y}) [\\operatorname{Var}(\\mathbf{y})]^{-1}\\operatorname{Cov}(\\boldsymbol{\\gamma}, \\mathbf{y})^T \\\\\n",
    "&= \\mathbf{\\Sigma} - \\mathbf{\\Sigma}\\mathbf{Z}^T (\\mathbf{Z}\\mathbf{\\Sigma}\\mathbf{Z}^T + \\sigma^2 \\mathbf{I}_n)^{-1}\\mathbf{Z}\\mathbf{\\Sigma} \\\\\n",
    "\\end{aligned}\n",
    "$$"
   ]
  },
  {
   "attachments": {},
   "cell_type": "markdown",
   "metadata": {},
   "source": [
    "## Q2. (20 pts) Derive EM algorithm\n",
    "\n",
    "1. Write down the complete log-likelihood\n",
    "$$\n",
    "\\sum_{i=1}^m \\log f(\\mathbf{y}_i, \\boldsymbol{\\gamma}_i \\mid \\boldsymbol{\\beta}, \\boldsymbol{\\Sigma}, \\sigma^2)\n",
    "$$\n",
    "\n",
    "2. Derive the $Q$ function (E-step).\n",
    "$$\n",
    "Q(\\boldsymbol{\\beta}, \\boldsymbol{\\Sigma}, \\sigma^2 \\mid \\boldsymbol{\\beta}^{(t)}, \\boldsymbol{\\Sigma}^{(t)}, \\sigma^{2(t)}).\n",
    "$$\n",
    "\n",
    "3. Derive the EM (or ECM) update of $\\boldsymbol{\\beta}$, $\\boldsymbol{\\Sigma}$, and $\\sigma^2$ (M-step). "
   ]
  },
  {
   "attachments": {},
   "cell_type": "markdown",
   "metadata": {},
   "source": [
    "### Q2 Answer\n",
    "#### Part 1\n",
    "Considering that $\\log f(\\mathbf{y}_i, \\boldsymbol{\\gamma}_i \\mid \\boldsymbol{\\beta}, \\boldsymbol{\\Sigma}, \\sigma^2)$, the following steps omit the subscript $i$ for simplicity:\n",
    "$$\n",
    "\\begin{aligned}\n",
    "\\log f(\\mathbf{y}, \\boldsymbol{\\gamma} \\mid \\boldsymbol{\\beta}, \\boldsymbol{\\Sigma}, \\sigma^2) =& \\log \\left[ f(\\mathbf{y} \\mid \\boldsymbol{\\gamma}, \\boldsymbol{\\beta}, \\boldsymbol{\\Sigma}, \\sigma^2)f( \\boldsymbol{\\gamma}\\mid \\boldsymbol{\\beta}, \\boldsymbol{\\Sigma}, \\sigma^2) \\right] \\\\\n",
    "=& \\log  \\left[f(\\mathbf{y} \\mid \\boldsymbol{\\beta}, \\boldsymbol{\\gamma}, \\sigma^2) f(\\boldsymbol{\\gamma}\\mid \\boldsymbol{\\Sigma})\\right] \\\\\n",
    "=& \\log f(\\mathbf{y} \\mid \\boldsymbol{\\beta}, \\boldsymbol{\\gamma}, \\sigma^2) + \\log f(\\boldsymbol{\\gamma}\\mid \\boldsymbol{\\Sigma}) \\\\\n",
    "=& -\\frac{n}{2}\\log(2\\pi) -\\frac{1}{2}\\log\\det(\\sigma^2\\mathbf{I_n}) -\\frac{1}{2}(\\mathbf{y}-\\mathbf{X}\\boldsymbol{\\beta}-\\mathbf{Z}\\boldsymbol{\\gamma})^T(\\sigma^2\\mathbf{I_n})^{-1}(\\mathbf{y}-\\mathbf{X}\\boldsymbol{\\beta}-\\mathbf{Z}\\boldsymbol{\\gamma})\\\\\n",
    "&+ -\\frac{q}{2}\\log(2\\pi) -\\frac{1}{2}\\log\\det(\\mathbf{\\Sigma}) -\\frac{1}{2}\\boldsymbol{\\gamma}^T\\mathbf{\\Sigma}^{-1}\\boldsymbol{\\gamma} \\\\\n",
    "=& -\\frac{n}{2}\\log(2\\pi) -\\frac{n}{2}\\log(\\sigma^2) -\\frac{1}{2\\sigma^2}(\\mathbf{y}-\\mathbf{X}\\boldsymbol{\\beta}-\\mathbf{Z}\\boldsymbol{\\gamma})^T(\\mathbf{y}-\\mathbf{X}\\boldsymbol{\\beta}-\\mathbf{Z}\\boldsymbol{\\gamma})\\\\\n",
    "& -\\frac{q}{2}\\log(2\\pi) -\\frac{1}{2}\\log\\det(\\mathbf{\\Sigma}) -\\frac{1}{2}\\boldsymbol{\\gamma}^T\\mathbf{\\Sigma}^{-1}\\boldsymbol{\\gamma} \\\\\n",
    "\\end{aligned}\n",
    "$$\n",
    "\n",
    "Get it summed over the entire data set (i.e., summing over $i$):\n",
    "\n",
    "$$\n",
    "\\begin{aligned}\n",
    "\\sum_{i=1}^{m}\\log f(\\mathbf{y}_i, \\boldsymbol{\\gamma}_i \\mid \\boldsymbol{\\beta}, \\boldsymbol{\\Sigma}, \\sigma^2)\n",
    "=& -\\frac{\\sum_{i=1}^{m} n_i}{2}\\log(2\\pi) -\\frac{\\sum_{i=1}^{m} n_i}{2}\\log(\\sigma^2) -\\frac{1}{2\\sigma^2}\\sum_{i=1}^{m}(\\mathbf{y_i}-\\mathbf{X}_i\\boldsymbol{\\beta}-\\mathbf{Z}\\boldsymbol{\\gamma}_i)^T(\\mathbf{y_i}-\\mathbf{X}_i\\boldsymbol{\\beta}-\\mathbf{Z}\\boldsymbol{\\gamma}_i)\\\\\n",
    "& -\\frac{qm}{2}\\log(2\\pi) -\\frac{m}{2}\\log\\det(\\mathbf{\\Sigma}) -\\frac{1}{2}\\sum_{i=1}^{m}\\boldsymbol{\\gamma}_i^T\\mathbf{\\Sigma}^{-1}\\boldsymbol{\\gamma}_i \\\\\n",
    "\\end{aligned}\n",
    "$$"
   ]
  },
  {
   "attachments": {},
   "cell_type": "markdown",
   "metadata": {},
   "source": [
    "#### Part 2\n",
    "$$\n",
    "\\begin{aligned}\n",
    "& Q(\\boldsymbol{\\theta}|\\boldsymbol{\\theta}^{(t)}) \\\\\n",
    "=&\\mathbb{E}_{\\boldsymbol{\\gamma}|\\mathbf{y},\\boldsymbol{\\theta}^{(t)}}\\left[\\log f(\\mathbf{y}, \\boldsymbol{\\gamma} \\mid \\boldsymbol{\\beta}, \\boldsymbol{\\Sigma}, \\sigma^2)\\right] \\\\\n",
    "=& -\\frac{\\sum_{i=1}^{m} n_i}{2}\\log(2\\pi) -\\frac{\\sum_{i=1}^{m} n_i}{2}\\log(\\sigma^2) -\\frac{qm}{2}\\log(2\\pi) -\\frac{m}{2}\\log\\det(\\mathbf{\\Sigma}) \\\\\n",
    "&  -\\frac{1}{2}\\sum_{i=1}^{m}\\mathbb{E}_{\\boldsymbol{\\gamma}_i|\\mathbf{y}_i,\\boldsymbol{\\theta}^{(t)}} (\\boldsymbol{\\gamma}_i^T\\mathbf{\\Sigma}^{-1}\\boldsymbol{\\gamma}_i \\mid  \\mathbf{y}_i, \\boldsymbol{\\theta}^{(t)}) -\\frac{1}{2\\sigma^2}\\sum_{i=1}^{m}\\mathbb{E}_{\\boldsymbol{\\gamma}_i|\\mathbf{y}_i,\\boldsymbol{\\theta}^{(t)}}\\left[(\\mathbf{y_i}-\\mathbf{X}_i\\boldsymbol{\\beta}-\\mathbf{Z}\\boldsymbol{\\gamma}_i)^T(\\mathbf{y_i}-\\mathbf{X}_i\\boldsymbol{\\beta}-\\mathbf{Z}\\boldsymbol{\\gamma}_i)\\mid \\mathbf{y}_i,\\boldsymbol{\\theta}^{(t)} \\right]\\\\\n",
    "\\end{aligned}\n",
    "$$\n",
    "\n",
    "Considering the two components of the expectation, we have:\n",
    "$$\n",
    "\\begin{aligned}\n",
    "& \\mathbb{E}_{\\boldsymbol{\\gamma}_i|\\mathbf{y}_i,\\boldsymbol{\\theta}^{(t)}} (\\boldsymbol{\\gamma}_i^T\\mathbf{\\Sigma}^{-1}\\boldsymbol{\\gamma}_i \\mid  \\mathbf{y}_i, \\boldsymbol{\\theta}^{(t)}) \\\\\n",
    "=& \\operatorname{tr}(\\mathbf{\\Sigma}^{-1}\\mathbb{V}_{\\boldsymbol{\\gamma}_i}) + \\mathbb{E}_{\\boldsymbol{\\gamma}_i}^T\\mathbf{\\Sigma}^{-1}\\mathbb{E}_{\\boldsymbol{\\gamma}_i} \\\\\n",
    "& \\mathbb{E}_{\\boldsymbol{\\gamma}_i|\\mathbf{y}_i,\\boldsymbol{\\theta}^{(t)}}\\left[(\\mathbf{y_i}-\\mathbf{X}_i\\boldsymbol{\\beta}-\\mathbf{Z}\\boldsymbol{\\gamma}_i)^T(\\mathbf{y_i}-\\mathbf{X}_i\\boldsymbol{\\beta}-\\mathbf{Z}\\boldsymbol{\\gamma}_i)\\mid \\mathbf{y}_i,\\boldsymbol{\\theta}^{(t)} \\right] \\\\\n",
    "=& (\\mathbf{y_i}-\\mathbf{X}_i\\boldsymbol{\\beta})^T(\\mathbf{y_i}-\\mathbf{X}_i\\boldsymbol{\\beta}) - 2(\\mathbf{y_i}-\\mathbf{X}_i\\boldsymbol{\\beta})^T\\mathbf{Z}\\mathbb{E}_{\\boldsymbol{\\gamma}_i|\\mathbf{y}_i,\\boldsymbol{\\theta}^{(t)}}\\left[\\boldsymbol{\\gamma}_i\\mid \\mathbf{y}_i,\\boldsymbol{\\theta}^{(t)} \\right] + \\mathbb{E}_{\\boldsymbol{\\gamma}_i|\\mathbf{y}_i,\\boldsymbol{\\theta}^{(t)}}\\left[\\boldsymbol{\\gamma}_i^T\\mathbf{Z}^T\\mathbf{Z}\\boldsymbol{\\gamma}_i\\mid \\mathbf{y}_i,\\boldsymbol{\\theta}^{(t)} \\right] \\\\\n",
    "=& (\\mathbf{y_i}-\\mathbf{X}_i\\boldsymbol{\\beta})^T(\\mathbf{y_i}-\\mathbf{X}_i\\boldsymbol{\\beta}) - 2(\\mathbf{y_i}-\\mathbf{X}_i\\boldsymbol{\\beta})^T\\mathbf{Z}\\mathbb{E}_{\\boldsymbol{\\gamma}_i} + \\operatorname{tr}(\\mathbf{Z}^T\\mathbf{Z}\\mathbb{V}_{\\boldsymbol{\\gamma}_i}) + \\mathbb{E}_{\\boldsymbol{\\gamma}_i}^T\\mathbf{Z}^T\\mathbf{Z}\\mathbb{E}_{\\boldsymbol{\\gamma}_i} \\\\\n",
    "\\end{aligned}\n",
    "$$\n",
    "\n",
    "Where $\\mathbb{V}_{\\boldsymbol{\\gamma}_i}$ is the conditional covariance matrix of $\\boldsymbol{\\gamma}_i$ given $\\mathbf{y}_i$ and $\\boldsymbol{\\theta}^{(t)}$ and $\\mathbb{E}_{\\boldsymbol{\\gamma}_i}$ is the conditional expectation of $\\boldsymbol{\\gamma}_i$. The formula is given in Question 1 (the upper script of $\\mathbf{\\Sigma},\\ \\boldsymbol{\\beta},\\ \\sigma$ are omitted for simplicity).:\n",
    "\n",
    "$$\n",
    "\\begin{aligned}\n",
    "\\mathbb{V}_{\\boldsymbol{\\gamma}_i} &= \\mathbf{\\Sigma} - \\mathbf{\\Sigma}\\mathbf{Z}^T (\\mathbf{Z}\\mathbf{\\Sigma}\\mathbf{Z}^T + \\sigma^2 \\mathbf{I}_n)^{-1}\\mathbf{Z}\\mathbf{\\Sigma} \\\\  \n",
    "\\mathbb{E}_{\\boldsymbol{\\gamma}_i} &= \\mathbf{\\Sigma}\\mathbf{Z}^T (\\mathbf{Z}\\mathbf{\\Sigma}\\mathbf{Z}^T + \\sigma^2 \\mathbf{I}_n)^{-1}(\\mathbf{y}_i - \\mathbf{X}_i\\boldsymbol{\\beta}) \\\\\n",
    "\\end{aligned}\n",
    "$$\n",
    "\n",
    "Put everything together (maybe too long to show):\n",
    "\n",
    "$$\n",
    "\\begin{aligned}\n",
    "& Q(\\boldsymbol{\\theta}|\\boldsymbol{\\theta}^{(t)}) \\\\\n",
    "=& \\sum_{i=1}^m\\left\\{\n",
    "    -\\frac{n_i}{2}\\log(2\\pi) \n",
    "    -\\frac{n_i}{2}\\log(\\sigma^2) \n",
    "    -\\frac{q}{2}\\log(2\\pi) \n",
    "    -\\frac{1}{2}\\log\\det(\\mathbf{\\Sigma}) \n",
    "    -\\frac{1}{2\\sigma^2}\\left[(\\mathbf{y_i}-\\mathbf{X}_i\\boldsymbol{\\beta})^T(\\mathbf{y_i}-\\mathbf{X}_i\\boldsymbol{\\beta}) - 2(\\mathbf{y_i}-\\mathbf{X}_i\\boldsymbol{\\beta})^T\\mathbf{Z}\\mathbb{E}_{\\boldsymbol{\\gamma}_i} + \\operatorname{tr}(\\mathbf{Z}^T\\mathbf{Z}\\mathbb{V}_{\\boldsymbol{\\gamma}_i}) + \\mathbb{E}_{\\boldsymbol{\\gamma}_i}^T\\mathbf{Z}^T\\mathbf{Z}\\mathbb{E}_{\\boldsymbol{\\gamma}_i} \n",
    "                              \\right]\n",
    "    -\\frac{1}{2}\\left[ \\operatorname{tr}(\\mathbf{\\Sigma}^{-1}\\mathbb{V}_{\\boldsymbol{\\gamma}_i}) + \\mathbb{E}_{\\boldsymbol{\\gamma}_i}^T\\mathbf{\\Sigma}^{-1}\\mathbb{E}_{\\boldsymbol{\\gamma}_i}\n",
    "                      \\right] \n",
    "    \\right\\}\n",
    "\\end{aligned}\n",
    "$$"
   ]
  },
  {
   "attachments": {},
   "cell_type": "markdown",
   "metadata": {},
   "source": [
    "#### Part 3\n",
    "$\\boldsymbol{\\theta}^{(t+1)} = \\operatorname{argmax}_{\\boldsymbol{\\theta}} Q(\\boldsymbol{\\theta} \\mid \\boldsymbol{\\theta}^{(t)})$. So, we take derivative of $Q(\\boldsymbol{\\theta} \\mid \\boldsymbol{\\theta}^{(t)})$ with respect to $\\boldsymbol{\\theta}$ and set it to zero.\n",
    "\n",
    "For $\\boldsymbol{\\beta}$:\n",
    "Everything containing $\\boldsymbol{\\beta}$ is shown in $Q_{\\boldsymbol{\\beta}}$:\n",
    "\n",
    "$$\n",
    "\\begin{aligned}\n",
    "Q_{\\boldsymbol{\\beta}} &= \\sum_{i=1}^m \\left\\{\n",
    "    -\\frac{1}{2\\sigma^2}\\left[(\\mathbf{y_i}-\\mathbf{X}_i\\boldsymbol{\\beta})^T(\\mathbf{y_i}-\\mathbf{X}_i\\boldsymbol{\\beta}) - 2(\\mathbf{y_i}-\\mathbf{X}_i\\boldsymbol{\\beta})^T\\mathbf{Z}\\mathbb{E}_{\\boldsymbol{\\gamma}_i}\n",
    "                              \\right]\n",
    "    \\right\\} \\\\\n",
    "\\frac{\\partial Q}{\\partial \\boldsymbol{\\beta}} &=\n",
    "    \\sum_{i=1}^m \\left\\{\n",
    "    - \\frac{1}{\\sigma^2}\\left[\\mathbf{X}_i^T\\mathbf{X}_i\\boldsymbol{\\beta} - \\mathbf{X}_i^T\\mathbf{y}_i + \\mathbf{X}_i^T\\mathbf{Z}\\mathbb{E}_{\\boldsymbol{\\gamma}_i} \\right] \\right\\} \\\\\n",
    "    &= -\\frac{1}{\\sigma^2} \\sum_{i=1}^m \\left(\\mathbf{X}_i^T\\mathbf{X}_i\\boldsymbol{\\beta} \\right) + \\frac{1}{\\sigma^2} \\sum_{i=1}^m \\left(\\mathbf{X}_i^T\\mathbf{y}_i - \\mathbf{X}_i^T\\mathbf{Z}\\mathbb{E}_{\\boldsymbol{\\gamma}_i} \\right) \\\\\n",
    "\\text{Thus}\\quad \\boldsymbol{\\beta}^{(t+1)} &=  \\left[\\sum_{i=1}^m \\left(\\mathbf{X}_i^T\\mathbf{X}_i\\right)\\right]^{-1}\\sum_{i=1}^m \\left(\\mathbf{X}_i^T\\mathbf{y}_i - \\mathbf{X}_i^T\\mathbf{Z}\\mathbb{E}^{(t)}_{\\boldsymbol{\\gamma}_i} \\right) \n",
    "\\end{aligned} \n",
    "$$\n",
    "\n",
    "For $\\sigma^2$:\n",
    "\n",
    "$$\n",
    "\\begin{aligned}\n",
    "Q_{\\sigma^2} &= \\sum_{i=1}^m \\left\\{-\\frac{n_i}{2}\\log(\\sigma^2) -\\frac{1}{2\\sigma^2}\\left[(\\mathbf{y_i}-\\mathbf{X}_i\\boldsymbol{\\beta})^T(\\mathbf{y_i}-\\mathbf{X}_i\\boldsymbol{\\beta}) - 2(\\mathbf{y_i}-\\mathbf{X}_i\\boldsymbol{\\beta})^T\\mathbf{Z}\\mathbb{E}_{\\boldsymbol{\\gamma}_i} + \\operatorname{tr}(\\mathbf{Z}^T\\mathbf{Z}\\mathbb{V}_{\\boldsymbol{\\gamma}_i}) + \\mathbb{E}_{\\boldsymbol{\\gamma}_i}^T\\mathbf{Z}^T\\mathbf{Z}\\mathbb{E}_{\\boldsymbol{\\gamma}_i}\\right] \\right\\} \\\\\n",
    "\\frac{\\partial Q}{\\partial \\sigma^2}& = -\\frac{1}{\\sigma^2} \\sum_{i=1}^m \\frac{n_i}{2} + \\frac{1}{2(\\sigma^2)^2} \\sum_{i=1}^m \\left[(\\mathbf{y_i}-\\mathbf{X}_i\\boldsymbol{\\beta})^T(\\mathbf{y_i}-\\mathbf{X}_i\\boldsymbol{\\beta}) - 2(\\mathbf{y_i}-\\mathbf{X}_i\\boldsymbol{\\beta})^T\\mathbf{Z}\\mathbb{E}_{\\boldsymbol{\\gamma}_i} + \\operatorname{tr}(\\mathbf{Z}^T\\mathbf{Z}\\mathbb{V}_{\\boldsymbol{\\gamma}_i}) + \\mathbb{E}_{\\boldsymbol{\\gamma}_i}^T\\mathbf{Z}^T\\mathbf{Z}\\mathbb{E}_{\\boldsymbol{\\gamma}_i}\\right] \\\\\n",
    "\\text{Thus}\\quad {\\sigma^2}^{(t+1)} &= \\frac{1}{\\sum_{i=1}^m n_i} \\sum_{i=1}^m \\left[(\\mathbf{y_i}-\\mathbf{X}_i\\boldsymbol{\\beta}^{(t)})^T(\\mathbf{y_i}-\\mathbf{X}_i\\boldsymbol{\\beta}^{(t)}) - 2(\\mathbf{y_i}-\\mathbf{X}_i\\boldsymbol{\\beta}^{(t)})^T\\mathbf{Z}\\mathbb{E}^{(t)}_{\\boldsymbol{\\gamma}_i} + \\operatorname{tr}(\\mathbf{Z}^T\\mathbf{Z}\\mathbb{V}^{(t)}_{\\boldsymbol{\\gamma}_i}) + \\mathbb{E}_{\\boldsymbol{\\gamma}_i}^{(t)T}\\mathbf{Z}^T\\mathbf{Z}\\mathbb{E}^{(t)}_{\\boldsymbol{\\gamma}_i}\\right]\n",
    "\\end{aligned}\n",
    "$$\n",
    "\n",
    "For $\\mathbf{\\Sigma}$:\n",
    "\n",
    "$$\n",
    "\\begin{aligned}\n",
    "Q_{\\mathbf{\\Sigma}} &= \\sum_{i=1}^m \\left\\{-\\frac{1}{2}\\log\\det(\\mathbf{\\Sigma}) -\\frac{1}{2}\\left[ \\operatorname{tr}(\\mathbf{\\Sigma}^{-1}\\mathbb{V}_{\\boldsymbol{\\gamma}_i}) + \\mathbb{E}_{\\boldsymbol{\\gamma}_i}^T\\mathbf{\\Sigma}^{-1}\\mathbb{E}_{\\boldsymbol{\\gamma}_i} \\right] \\right\\} \\\\ \n",
    "&= \\sum_{i=1}^m \\left\\{-\\frac{1}{2}\\log\\det(\\mathbf{\\Sigma}) \n",
    "                       -\\frac{1}{2}\\left[ \\operatorname{tr}(\\mathbf{\\Sigma}^{-1}\\mathbb{V}_{\\boldsymbol{\\gamma}_i}) + \\operatorname{tr}(\\mathbb{E}_{\\boldsymbol{\\gamma}_i}^T\\mathbf{\\Sigma}^{-1}\\mathbb{E}_{\\boldsymbol{\\gamma}_i})\\right] \\right\\} \\\\ \n",
    "&= \\sum_{i=1}^m \\left\\{-\\frac{1}{2}\\log\\det(\\mathbf{\\Sigma}) \n",
    "                       -\\frac{1}{2} \\operatorname{tr}\\left[ \\mathbf{\\Sigma}^{-1}(\\mathbb{V}_{\\boldsymbol{\\gamma}_i} + \\mathbb{E}_{\\boldsymbol{\\gamma}_i}\\mathbb{E}_{\\boldsymbol{\\gamma}_i}^T)\\right] \\right\\} \\\\ \n",
    "\\frac{\\partial Q}{\\partial \\mathbf{\\Sigma}} &= -\\frac{1}{2}\\sum_{i=1}^m \\left\\{ \\mathbf{\\Sigma}^{-1} - \\mathbf{\\Sigma}^{-1}(\\mathbb{V}_{\\boldsymbol{\\gamma}_i} + \\mathbb{E}_{\\boldsymbol{\\gamma}_i}\\mathbb{E}_{\\boldsymbol{\\gamma}_i}^T)\\mathbf{\\Sigma}^{-1} \\right\\} \\\\\n",
    "\\mathbf{\\Sigma}^{(t+1)} &= \\frac{1}{m} \\sum_{1}^{m} \\left(\\mathbb{V}_{\\boldsymbol{\\gamma}_i}^{(t)} + \\mathbb{E}_{\\boldsymbol{\\gamma}_i}^{(t)}\\mathbb{E}_{\\boldsymbol{\\gamma}_i}^{(t)T}\\right)\n",
    "\\end{aligned}\n",
    "$$"
   ]
  },
  {
   "attachments": {},
   "cell_type": "markdown",
   "metadata": {},
   "source": [
    "## Q3. (20 pts) Objective of a single datum\n",
    "\n",
    "We modify the code from HW6 to evaluate the objective, the conditional mean of $\\boldsymbol{\\gamma}$, and the conditional variance of $\\boldsymbol{\\gamma}$. Start-up code is provided below. You do _not_ have to use this code."
   ]
  },
  {
   "cell_type": "code",
   "execution_count": 80,
   "metadata": {},
   "outputs": [
    {
     "data": {
      "text/plain": [
       "logl!"
      ]
     },
     "metadata": {},
     "output_type": "display_data"
    }
   ],
   "source": [
    "# define a type that holds an LMM datum\n",
    "struct LmmObs{T <: AbstractFloat}\n",
    "    # data\n",
    "    y          :: Vector{T}\n",
    "    X          :: Matrix{T}\n",
    "    Z          :: Matrix{T}\n",
    "    # posterior mean and variance of random effects γ\n",
    "    μγ         :: Vector{T} # posterior mean of random effects\n",
    "    νγ         :: Matrix{T} # posterior variance of random effects\n",
    "    # TODO: add whatever intermediate arrays you may want to pre-allocate\n",
    "    yty        :: T\n",
    "    rtr        :: Vector{T}\n",
    "    xty        :: Vector{T}\n",
    "    zty        :: Vector{T}\n",
    "    ztr        :: Vector{T}\n",
    "    ltztr      :: Vector{T}\n",
    "    xtr        :: Vector{T}\n",
    "    storage_p  :: Vector{T}\n",
    "    storage_q  :: Vector{T}\n",
    "    storage_q2 :: Vector{T}\n",
    "    xtx        :: Matrix{T}\n",
    "    ztx        :: Matrix{T}\n",
    "    ztz        :: Matrix{T}\n",
    "    ltztzl     :: Matrix{T}\n",
    "    storage_qq :: Matrix{T}\n",
    "    storage_qq2:: Matrix{T}\n",
    "    storage_qq3:: Matrix{T}\n",
    "end\n",
    "\n",
    "\"\"\"\n",
    "    LmmObs(y::Vector, X::Matrix, Z::Matrix)\n",
    "\n",
    "Create an LMM datum of type `LmmObs`.\n",
    "\"\"\"\n",
    "function LmmObs(\n",
    "    y::Vector{T}, \n",
    "    X::Matrix{T}, \n",
    "    Z::Matrix{T}) where T <: AbstractFloat\n",
    "    n, p, q = size(X, 1), size(X, 2), size(Z, 2)\n",
    "    μγ         = Vector{T}(undef, q)\n",
    "    νγ         = Matrix{T}(undef, q, q)\n",
    "    yty        = abs2(norm(y))\n",
    "    rtr        = Vector{T}(undef, 1)\n",
    "    xty        = transpose(X) * y\n",
    "    zty        = transpose(Z) * y\n",
    "    ztr        = similar(zty)\n",
    "    ltztr      = similar(zty)\n",
    "    xtr        = Vector{T}(undef, p)\n",
    "    storage_p  = similar(xtr)\n",
    "    storage_q  = Vector{T}(undef, q)\n",
    "    storage_q2 = similar(storage_q)\n",
    "    xtx        = transpose(X) * X\n",
    "    ztx        = transpose(Z) * X\n",
    "    ztz        = transpose(Z) * Z\n",
    "    ltztzl     = similar(ztz)\n",
    "    storage_qq = similar(ztz)\n",
    "    storage_qq2= similar(ztz)\n",
    "    storage_qq3= similar(ztz)\n",
    "    LmmObs(y, X, Z, μγ, νγ, \n",
    "        yty, rtr, xty, zty, ztr, ltztr, xtr,\n",
    "        storage_p, storage_q, storage_q2,\n",
    "        xtx, ztx, ztz, ltztzl, storage_qq, storage_qq2, storage_qq3)\n",
    "end\n",
    "\n",
    "\"\"\"\n",
    "    logl!(obs::LmmObs, β, Σ, L, σ², updater = false)\n",
    "\n",
    "Evaluate the log-likelihood of a single LMM datum at parameter values `β`, `Σ`, \n",
    "and `σ²`. The lower triangular Cholesky factor `L` of `Σ` must be supplied too.\n",
    "The fields `obs.μγ` and `obs.νγ` are overwritten by the posterior mean and \n",
    "posterior variance of random effects. If `updater==true`, fields `obs.ztr`, \n",
    "`obs.xtr`, and `obs.rtr` are updated according to input parameter values. \n",
    "Otherwise, it assumes these three fields are pre-computed. \n",
    "\"\"\"\n",
    "function logl!(\n",
    "        obs     :: LmmObs{T}, \n",
    "        β       :: Vector{T}, \n",
    "        Σ       :: Matrix{T},\n",
    "        L       :: Matrix{T},\n",
    "        σ²      :: T,\n",
    "        updater :: Bool = false\n",
    "        ) where T <: AbstractFloat\n",
    "    n, p, q = size(obs.X, 1), size(obs.X, 2), size(obs.Z, 2)\n",
    "    σ²inv   = inv(σ²)\n",
    "    ####################\n",
    "    # Evaluate objective\n",
    "    ####################\n",
    "    # form the q-by-q matrix: Lt Zt Z L\n",
    "    copy!(obs.ltztzl, obs.ztz)\n",
    "    BLAS.trmm!('L', 'L', 'T', 'N', T(1), L, obs.ltztzl) # O(q^3)\n",
    "    BLAS.trmm!('R', 'L', 'N', 'N', T(1), L, obs.ltztzl) # O(q^3)        \n",
    "    # form the q-by-q matrix: M = σ² I + Lt Zt Z L\n",
    "    copy!(obs.storage_qq, obs.ltztzl)\n",
    "    @inbounds for j in 1:q\n",
    "        obs.storage_qq[j, j] += σ²\n",
    "    end\n",
    "    LAPACK.potrf!('U', obs.storage_qq) # O(q^3)\n",
    "    # Zt * res\n",
    "    updater && BLAS.gemv!('N', T(-1), obs.ztx, β, T(1), copy!(obs.ztr, obs.zty)) # O(pq)\n",
    "    # Lt * (Zt * res)\n",
    "    BLAS.trmv!('L', 'T', 'N', L, copy!(obs.ltztr, obs.ztr))    # O(q^2)\n",
    "    # storage_q = (Mchol.U') \\ (Lt * (Zt * res))\n",
    "    BLAS.trsv!('U', 'T', 'N', obs.storage_qq, copy!(obs.storage_q, obs.ltztr)) # O(q^3)\n",
    "    # Xt * res = Xt * y - Xt * X * β\n",
    "    updater && BLAS.gemv!('N', T(-1), obs.xtx, β, T(1), copy!(obs.xtr, obs.xty))\n",
    "    # l2 norm of residual vector\n",
    "    updater && (obs.rtr[1] = obs.yty - dot(obs.xty, β) - dot(obs.xtr, β))\n",
    "    # assemble pieces\n",
    "    logl::T = n * log(2π) + (n - q) * log(σ²) # constant term\n",
    "    @inbounds for j in 1:q # log det term\n",
    "        logl += 2log(obs.storage_qq[j, j])\n",
    "    end\n",
    "    qf    = abs2(norm(obs.storage_q)) # quadratic form term\n",
    "    logl += (obs.rtr[1] - qf) * σ²inv \n",
    "    logl /= -2\n",
    "    ######################################\n",
    "    # Evaluate posterior mean and variance\n",
    "    ######################################    \n",
    "    # posterior variance\n",
    "    if false     # form 1 causing monotonicity issue\n",
    "        copy!(obs.storage_qq2, L)\n",
    "        BLAS.trsm!('R', 'U', 'N', 'N', T(1), obs.storage_qq, obs.storage_qq2)  # L Chol(M)^-1\n",
    "        mul!(obs.storage_qq3, obs.ztz, obs.storage_qq2)  # Z'ZL Chol(M)^-1\n",
    "        mul!(obs.storage_qq2, Σ, obs.storage_qq3)  # ΣZ'ZL Chol(M)^-1\n",
    "        mul!(obs.storage_qq3, obs.storage_qq2, obs.storage_qq2')  # ΣZ'ZLM^-1L'Z'ZΣ\n",
    "        copy!(obs.νγ, obs.storage_qq3)\n",
    "        obs.νγ ./= σ²\n",
    "        mul!(obs.storage_qq2, obs.ztz, Σ)\n",
    "        mul!(obs.storage_qq3, Σ, obs.storage_qq2)  # ΣZ'ZΣ\n",
    "        obs.storage_qq3 ./= σ²\n",
    "        obs.νγ .-= obs.storage_qq3\n",
    "        obs.νγ .+= Σ\n",
    "    end \n",
    "    \n",
    "    if true     # form 2 works well\n",
    "        copy!(obs.storage_qq2, L)\n",
    "        LAPACK.trtri!('L', 'N', obs.storage_qq2) # inverse triangular L^-1\n",
    "        mul!(obs.storage_qq3, \n",
    "             UpperTriangular(obs.storage_qq2'),\n",
    "             LowerTriangular(obs.storage_qq2))   # Σ^-1\n",
    "        obs.storage_qq2 .= 1 / σ² .* obs.ztz .+ obs.storage_qq3 # σ^2Z'Z + σ^2Σ^-1\n",
    "        \n",
    "        LAPACK.potrf!('U', obs.storage_qq2)  # Cholesky decompsion\n",
    "        # obs.storage_qq3 .= I(q)  # cause memory allocation!!\n",
    "        # BLAS.trsm!('R', 'U', 'N', 'N', T(1), obs.storage_qq2, obs.storage_qq3) \n",
    "        # mul!(obs.νγ, obs.storage_qq3, obs.storage_qq3')\n",
    "        LAPACK.potri!('U', obs.storage_qq2)  # inverse of PD (upper triangular)\n",
    "        obs.νγ .= obs.storage_qq2\n",
    "        @inbounds for i in 1:q, j in 1:i\n",
    "            obs.νγ[i, j] = obs.νγ[j, i]\n",
    "        end\n",
    "    end\n",
    "    \n",
    "    # posterior mean\n",
    "    # E = σ^-2 (VZ'y - VZ'Xβ)\n",
    "    mul!(obs.μγ, obs.νγ, obs.zty)\n",
    "    mul!(obs.storage_q, obs.ztx, β)\n",
    "    mul!(obs.storage_q2, obs.νγ, obs.storage_q)\n",
    "    obs.μγ .-= obs.storage_q2\n",
    "    obs.μγ ./= σ²\n",
    "    \n",
    "    ###################\n",
    "    # Return\n",
    "    ###################        \n",
    "    return logl\n",
    "end\n"
   ]
  },
  {
   "attachments": {},
   "cell_type": "markdown",
   "metadata": {},
   "source": [
    "It is a good idea to test correctness and efficiency of the single datum objective/posterior mean/var evaluator here. It's the same test datum as in HW3 and HW6."
   ]
  },
  {
   "cell_type": "code",
   "execution_count": 81,
   "metadata": {},
   "outputs": [],
   "source": [
    "Random.seed!(257)\n",
    "\n",
    "# dimension\n",
    "n, p, q = 2000, 5, 3\n",
    "# predictors\n",
    "X = [ones(n) randn(n, p - 1)]\n",
    "Z = [ones(n) randn(n, q - 1)]\n",
    "# parameter values\n",
    "β  = [2.0; -1.0; rand(p - 2)]\n",
    "σ² = 1.5\n",
    "Σ  = fill(0.1, q, q) + 0.9I # compound symmetry \n",
    "L  = Matrix(cholesky(Symmetric(Σ)).L)\n",
    "# generate y\n",
    "y  = X * β + Z * rand(MvNormal(Σ)) + sqrt(σ²) * randn(n)\n",
    "\n",
    "# form the LmmObs object\n",
    "obs = LmmObs(y, X, Z);"
   ]
  },
  {
   "attachments": {},
   "cell_type": "markdown",
   "metadata": {},
   "source": [
    "### Correctness"
   ]
  },
  {
   "cell_type": "code",
   "execution_count": 82,
   "metadata": {},
   "outputs": [
    {
     "name": "stdout",
     "output_type": "stream",
     "text": [
      "logl = logl!(obs, β, Σ, L, σ², true) = -3256.1793358058376\n",
      "obs.μγ = [0.10608689301332763, -0.2510419060257252, -1.465397940985037]\n",
      "obs.νγ = [0.0007494356395786613 -1.2183420464422369e-6 -2.176783682941746e-6; -1.2183420464422369e-6 0.0007542331466357765 2.1553464612468773e-5; -2.176783682941746e-6 2.1553464612468773e-5 0.0007465271344917232]\n"
     ]
    }
   ],
   "source": [
    "@show logl = logl!(obs, β, Σ, L, σ², true)\n",
    "@show obs.μγ\n",
    "@show obs.νγ;"
   ]
  },
  {
   "attachments": {},
   "cell_type": "markdown",
   "metadata": {},
   "source": [
    "You will lose all 20 points if following statement throws `AssertionError`."
   ]
  },
  {
   "cell_type": "code",
   "execution_count": 83,
   "metadata": {},
   "outputs": [],
   "source": [
    "@assert abs(logl - (-3256.1793358058258)) < 1e-4\n",
    "@assert norm(obs.μγ - [0.10608689301333621, \n",
    "        -0.25104190602577225, -1.4653979409855415]) < 1e-4\n",
    "@assert norm(obs.νγ - [\n",
    "        0.0007494356395909563 -1.2183420093769967e-6 -2.176783643112221e-6; \n",
    "        -1.2183420282298223e-6 0.0007542331467601107 2.1553464632686345e-5; \n",
    "        -2.1767836636008638e-6 2.1553464641863096e-5 0.0007465271342535443\n",
    "        ]) < 1e-4"
   ]
  },
  {
   "attachments": {},
   "cell_type": "markdown",
   "metadata": {},
   "source": [
    "### Efficiency"
   ]
  },
  {
   "attachments": {},
   "cell_type": "markdown",
   "metadata": {},
   "source": [
    "Benchmark for efficiency."
   ]
  },
  {
   "cell_type": "code",
   "execution_count": 85,
   "metadata": {},
   "outputs": [
    {
     "data": {
      "text/plain": [
       "BenchmarkTools.Trial: 10000 samples with 10 evaluations.\n",
       " Range \u001b[90m(\u001b[39m\u001b[36m\u001b[1mmin\u001b[22m\u001b[39m … \u001b[35mmax\u001b[39m\u001b[90m):  \u001b[39m\u001b[36m\u001b[1m1.083 μs\u001b[22m\u001b[39m … \u001b[35m  9.613 μs\u001b[39m  \u001b[90m┊\u001b[39m GC \u001b[90m(\u001b[39mmin … max\u001b[90m): \u001b[39m0.00% … 0.00%\n",
       " Time  \u001b[90m(\u001b[39m\u001b[34m\u001b[1mmedian\u001b[22m\u001b[39m\u001b[90m):     \u001b[39m\u001b[34m\u001b[1m1.167 μs               \u001b[22m\u001b[39m\u001b[90m┊\u001b[39m GC \u001b[90m(\u001b[39mmedian\u001b[90m):    \u001b[39m0.00%\n",
       " Time  \u001b[90m(\u001b[39m\u001b[32m\u001b[1mmean\u001b[22m\u001b[39m ± \u001b[32mσ\u001b[39m\u001b[90m):   \u001b[39m\u001b[32m\u001b[1m1.176 μs\u001b[22m\u001b[39m ± \u001b[32m176.752 ns\u001b[39m  \u001b[90m┊\u001b[39m GC \u001b[90m(\u001b[39mmean ± σ\u001b[90m):  \u001b[39m0.00% ± 0.00%\n",
       "\n",
       "  \u001b[39m \u001b[39m \u001b[39m \u001b[39m \u001b[39m \u001b[39m \u001b[39m▁\u001b[39m▅\u001b[39m \u001b[39m▁\u001b[39m \u001b[39m \u001b[39m \u001b[39m▂\u001b[39m \u001b[39m▃\u001b[39m▆\u001b[39m \u001b[39m▂\u001b[39m▂\u001b[34m \u001b[39m\u001b[39m \u001b[32m▃\u001b[39m\u001b[39m \u001b[39m▃\u001b[39m█\u001b[39m \u001b[39m▁\u001b[39m▄\u001b[39m \u001b[39m \u001b[39m \u001b[39m \u001b[39m \u001b[39m \u001b[39m \u001b[39m \u001b[39m \u001b[39m \u001b[39m \u001b[39m \u001b[39m \u001b[39m \u001b[39m \u001b[39m \u001b[39m \u001b[39m \u001b[39m \u001b[39m \u001b[39m \u001b[39m \u001b[39m \u001b[39m \u001b[39m \u001b[39m \u001b[39m \u001b[39m \u001b[39m \u001b[39m \u001b[39m \u001b[39m \n",
       "  \u001b[39m▁\u001b[39m▁\u001b[39m▂\u001b[39m▃\u001b[39m▇\u001b[39m▅\u001b[39m█\u001b[39m█\u001b[39m▇\u001b[39m█\u001b[39m█\u001b[39m▄\u001b[39m▅\u001b[39m█\u001b[39m▆\u001b[39m█\u001b[39m█\u001b[39m█\u001b[39m█\u001b[39m█\u001b[34m▅\u001b[39m\u001b[39m▇\u001b[32m█\u001b[39m\u001b[39m▇\u001b[39m█\u001b[39m█\u001b[39m▇\u001b[39m█\u001b[39m█\u001b[39m▅\u001b[39m▇\u001b[39m█\u001b[39m▄\u001b[39m▅\u001b[39m▆\u001b[39m▄\u001b[39m▃\u001b[39m▃\u001b[39m▂\u001b[39m▂\u001b[39m▂\u001b[39m▁\u001b[39m▂\u001b[39m▁\u001b[39m▁\u001b[39m▁\u001b[39m▁\u001b[39m▁\u001b[39m▁\u001b[39m▁\u001b[39m▁\u001b[39m▁\u001b[39m▁\u001b[39m▁\u001b[39m▁\u001b[39m▁\u001b[39m▁\u001b[39m▁\u001b[39m▁\u001b[39m \u001b[39m▃\n",
       "  1.08 μs\u001b[90m         Histogram: frequency by time\u001b[39m        1.33 μs \u001b[0m\u001b[1m<\u001b[22m\n",
       "\n",
       " Memory estimate\u001b[90m: \u001b[39m\u001b[33m0 bytes\u001b[39m, allocs estimate\u001b[90m: \u001b[39m\u001b[33m0\u001b[39m."
      ]
     },
     "metadata": {},
     "output_type": "display_data"
    }
   ],
   "source": [
    "bm_obj = @benchmark logl!($obs, $β, $Σ, $L, $σ², true)"
   ]
  },
  {
   "attachments": {},
   "cell_type": "markdown",
   "metadata": {},
   "source": [
    "My median runt time is 800ns. You will get full credit if the median run time is within 10μs. The points you will get are"
   ]
  },
  {
   "cell_type": "code",
   "execution_count": 86,
   "metadata": {},
   "outputs": [
    {
     "data": {
      "text/plain": [
       "10.0"
      ]
     },
     "metadata": {},
     "output_type": "display_data"
    }
   ],
   "source": [
    "clamp(10 / (median(bm_obj).time / 1e3) * 10, 0, 10)"
   ]
  },
  {
   "cell_type": "code",
   "execution_count": 30,
   "metadata": {},
   "outputs": [],
   "source": [
    "# # check for type stability\n",
    "# @code_warntype logl!(obs, β, Σ, L, σ²)"
   ]
  },
  {
   "cell_type": "code",
   "execution_count": null,
   "metadata": {},
   "outputs": [],
   "source": [
    "# using Profile\n",
    "\n",
    "# Profile.clear()\n",
    "# @profile for i in 1:10000; logl!(obs, β, Σ, L, σ²); end\n",
    "# Profile.print(format=:flat)"
   ]
  },
  {
   "attachments": {},
   "cell_type": "markdown",
   "metadata": {},
   "source": [
    "## Q4. LmmModel type\n",
    "\n",
    "We modify the `LmmModel` type in HW6 to hold all data points, model parameters, and intermediate arrays."
   ]
  },
  {
   "cell_type": "code",
   "execution_count": 87,
   "metadata": {},
   "outputs": [
    {
     "data": {
      "text/plain": [
       "LmmModel"
      ]
     },
     "metadata": {},
     "output_type": "display_data"
    }
   ],
   "source": [
    "# define a type that holds LMM model (data + parameters)\n",
    "struct LmmModel{T <: AbstractFloat}\n",
    "    # data\n",
    "    data :: Vector{LmmObs{T}}\n",
    "    # parameters\n",
    "    β      :: Vector{T}\n",
    "    Σ      :: Matrix{T}\n",
    "    L      :: Matrix{T}\n",
    "    σ²     :: Vector{T}    \n",
    "    # TODO: add whatever intermediate arrays you may want to pre-allocate\n",
    "    xty    :: Vector{T}\n",
    "    xtr    :: Vector{T}\n",
    "    ztr2   :: Vector{T}\n",
    "    xtxinv :: Matrix{T}\n",
    "    ztz2   :: Matrix{T}\n",
    "    storage_p :: Vector{T}\n",
    "end\n",
    "\n",
    "\"\"\"\n",
    "    LmmModel(data::Vector{LmmObs})\n",
    "\n",
    "Create an LMM model that contains data and parameters.\n",
    "\"\"\"\n",
    "function LmmModel(obsvec::Vector{LmmObs{T}}) where T <: AbstractFloat\n",
    "    # dims\n",
    "    p      = size(obsvec[1].X, 2)\n",
    "    q      = size(obsvec[1].Z, 2)\n",
    "    # parameters\n",
    "    β      = Vector{T}(undef, p)\n",
    "    Σ      = Matrix{T}(undef, q, q)\n",
    "    L      = Matrix{T}(undef, q, q)\n",
    "    σ²     = Vector{T}(undef, 1)    \n",
    "    # intermediate arrays\n",
    "    xty    = zeros(T, p)\n",
    "    xtr    = similar(xty)\n",
    "    ztr2   = Vector{T}(undef, abs2(q))\n",
    "    xtxinv = zeros(T, p, p)\n",
    "    storage_p = Vector{T}(undef, p)\n",
    "    # pre-calculate \\sum_i Xi^T Xi and \\sum_i Xi^T y_i\n",
    "    @inbounds for i in eachindex(obsvec)\n",
    "        obs = obsvec[i]\n",
    "        BLAS.axpy!(T(1), obs.xtx, xtxinv)\n",
    "        BLAS.axpy!(T(1), obs.xty, xty)\n",
    "    end\n",
    "    # invert X'X\n",
    "    LAPACK.potrf!('U', xtxinv)\n",
    "    LAPACK.potri!('U', xtxinv)\n",
    "    LinearAlgebra.copytri!(xtxinv, 'U')\n",
    "    ztz2   = Matrix{T}(undef, abs2(q), abs2(q))\n",
    "    LmmModel(obsvec, β, Σ, L, σ², xty, xtr, ztr2, xtxinv, ztz2, \n",
    "             storage_p)\n",
    "end"
   ]
  },
  {
   "attachments": {},
   "cell_type": "markdown",
   "metadata": {},
   "source": [
    "## Q5. Implement EM update\n",
    "\n",
    "Let's write the key function `update_em!` that performs one iteration of EM update."
   ]
  },
  {
   "cell_type": "code",
   "execution_count": 88,
   "metadata": {},
   "outputs": [
    {
     "data": {
      "text/plain": [
       "update_em!"
      ]
     },
     "metadata": {},
     "output_type": "display_data"
    }
   ],
   "source": [
    "\"\"\"\n",
    "    update_em!(m::LmmModel, updater::Bool = false)\n",
    "\n",
    "Perform one iteration of EM update. It returns the log-likelihood calculated \n",
    "from input `m.β`, `m.Σ`, `m.L`, and `m.σ²`. These fields are then overwritten \n",
    "by the next EM iterate. The fields `m.data[i].xtr`, `m.data[i].ztr`, and \n",
    "`m.data[i]` are updated according to the resultant `m.β`. If `updater==true`, \n",
    "the function first updates `m.data[i].xtr`, `m.data[i].ztr`, and \n",
    "`m.data[i].rtr` according to `m.β`. If `updater==false`, it assumes these fields \n",
    "are pre-computed.\n",
    "\"\"\"\n",
    "function update_em!(m::LmmModel{T}, updater::Bool = false) where T <: AbstractFloat\n",
    "    logl = zero(T)\n",
    "    # calculate log-likelihood\n",
    "    @inbounds for i in eachindex(m.data)\n",
    "        obs = m.data[i]\n",
    "        logl += logl!(obs, m.β, m.Σ, m.L, m.σ²[1], updater)\n",
    "    end\n",
    "    \n",
    "    # TODO: update m.β  \n",
    "    fill!(m.storage_p, zero(T))\n",
    "    @inbounds for i in eachindex(m.data)\n",
    "        obs = m.data[i]\n",
    "        mul!(obs.storage_p, obs.ztx', obs.μγ)  # Zt * μγ\n",
    "        BLAS.axpy!(T(1), obs.storage_p, m.storage_p) # sum XtZ * μγ\n",
    "    end\n",
    "    m.storage_p .= m.xty .- m.storage_p\n",
    "    mul!(m.β, m.xtxinv, m.storage_p) \n",
    "    \n",
    "    # TODO: update m.data[i].ztr, m.data[i].xtr, m.data[i].rtr\n",
    "    @inbounds for i in eachindex(m.data)\n",
    "        obs = m.data[i]\n",
    "        # Zt * res\n",
    "        BLAS.gemv!('N', T(-1), obs.ztx, m.β, T(1), copy!(obs.ztr, obs.zty)) \n",
    "        # Xt * res = Xt * y - Xt * X * β\n",
    "        BLAS.gemv!('N', T(-1), obs.xtx, m.β, T(1), copy!(obs.xtr, obs.xty))\n",
    "        # l2 norm of residual vector\n",
    "        obs.rtr[1] = obs.yty - dot(obs.xty, m.β) - dot(obs.xtr, m.β)\n",
    "    end\n",
    "    \n",
    "    # TODO: update m.σ²\n",
    "    m.σ²[1] = zero(T)\n",
    "    N = zero(T)\n",
    "    @inbounds for i in eachindex(m.data)\n",
    "        obs = m.data[i]\n",
    "        N += size(obs.X, 1)  # total sample size\n",
    "        mul!(obs.storage_qq, obs.ztz, obs.νγ)  # Z'ZV\n",
    "        m.σ²[1] += tr(obs.storage_qq)  # tr(Z'ZV)\n",
    "        mul!(obs.storage_q, obs.ztz, obs.μγ)  # Z'Zμ\n",
    "        m.σ²[1] += dot(obs.storage_q, obs.μγ)  # μ'Z'Zμ\n",
    "        m.σ²[1] -= 2 * dot(obs.ztr, obs.μγ)  # -2r'Zμ\n",
    "        m.σ²[1] += obs.rtr[1]\n",
    "    end\n",
    "    m.σ²[1] /= N\n",
    "    \n",
    "    # update m.Σ and m.L\n",
    "    fill!(m.Σ, zero(T))\n",
    "    @inbounds for i in eachindex(m.data)\n",
    "        obs = m.data[i]\n",
    "        mul!(obs.storage_qq, obs.μγ, obs.μγ')  # μμ'\n",
    "        obs.storage_qq .+= obs.νγ  # μμ' + V\n",
    "        m.Σ .+= obs.storage_qq\n",
    "    end\n",
    "    m.Σ ./= length(m.data)\n",
    "    copy!(m.L, m.Σ)\n",
    "    LAPACK.potrf!('L', m.L)\n",
    "    m.L .= LowerTriangular(m.L)\n",
    "    # m.L .= Matrix(cholesky(Symmetric(m.Σ)).L) # not work for some reason\n",
    "    \n",
    "    logl\n",
    "end"
   ]
  },
  {
   "attachments": {},
   "cell_type": "markdown",
   "metadata": {},
   "source": [
    "## Q6. (30 pts) Test data\n",
    "\n",
    "Let's generate a synthetic longitudinal data set (same as HW6) to test our algorithm."
   ]
  },
  {
   "cell_type": "code",
   "execution_count": 89,
   "metadata": {},
   "outputs": [],
   "source": [
    "Random.seed!(257)\n",
    "\n",
    "# dimension\n",
    "m      = 1000 # number of individuals\n",
    "ns     = rand(1500:2000, m) # numbers of observations per individual\n",
    "p      = 5 # number of fixed effects, including intercept\n",
    "q      = 3 # number of random effects, including intercept\n",
    "obsvec = Vector{LmmObs{Float64}}(undef, m)\n",
    "# true parameter values\n",
    "βtrue  = [0.1; 6.5; -3.5; 1.0; 5]\n",
    "σ²true = 1.5\n",
    "σtrue  = sqrt(σ²true)\n",
    "Σtrue  = Matrix(Diagonal([2.0; 1.2; 1.0]))\n",
    "Ltrue  = Matrix(cholesky(Symmetric(Σtrue)).L)\n",
    "# generate data\n",
    "for i in 1:m\n",
    "    # first column intercept, remaining entries iid std normal\n",
    "    X = Matrix{Float64}(undef, ns[i], p)\n",
    "    X[:, 1] .= 1\n",
    "    @views Distributions.rand!(Normal(), X[:, 2:p])\n",
    "    # first column intercept, remaining entries iid std normal\n",
    "    Z = Matrix{Float64}(undef, ns[i], q)\n",
    "    Z[:, 1] .= 1\n",
    "    @views Distributions.rand!(Normal(), Z[:, 2:q])\n",
    "    # generate y\n",
    "    y = X * βtrue .+ Z * (Ltrue * randn(q)) .+ σtrue * randn(ns[i])\n",
    "    # form a LmmObs instance\n",
    "    obsvec[i] = LmmObs(y, X, Z)\n",
    "end\n",
    "# form a LmmModel instance\n",
    "lmm = LmmModel(obsvec);"
   ]
  },
  {
   "attachments": {},
   "cell_type": "markdown",
   "metadata": {},
   "source": [
    "### Correctness\n",
    "\n",
    "Evaluate log-likelihood and gradient at the true parameter values."
   ]
  },
  {
   "cell_type": "code",
   "execution_count": 90,
   "metadata": {},
   "outputs": [
    {
     "name": "stdout",
     "output_type": "stream",
     "text": [
      "obj1 = update_em!(lmm, true) = -2.8400684383699736e6\n",
      "lmm.β = [0.10003613673625013, 6.500382871080181, -3.499864634211224, 0.9997124657606651, 4.999230851463544]\n",
      "lmm.Σ = [1.9903882760455316 0.06862095707037434 0.053472901794726614; 0.06862095707037434 1.2813220461216903 -0.09044913324906328; 0.053472901794726614 -0.09044913324906328 0.9435400745724166]\n",
      "lmm.L = [1.4108112120498375 0.0 0.0; 0.04863936186803587 1.1309094829378523 0.0; 0.037902237619045556 -0.0816092492747239 0.9671832429217857]\n",
      "lmm.σ² = [1.4987367279243704]\n",
      "\n",
      "obj2 = update_em!(lmm, false) = -2.8400604605420595e6\n",
      "lmm.β = [0.10007136571174427, 6.500383550631511, -3.4998642980415435, 0.9997119269497639, 4.999229480978786]\n",
      "lmm.Σ = [1.9903775380783681 0.06870107683947126 0.05354351750443929; 0.06870107683947126 1.281440921371172 -0.09059223997463756; 0.05354351750443929 -0.09059223997463756 0.9434431688085722]\n",
      "lmm.L = [1.4108074064443978 0.0 0.0; 0.04869628308276029 1.1309595896339955 0.0; 0.037952393260666885 -0.08173623647370377 0.9671204538740118]\n",
      "lmm.σ² = [1.498734554416028]\n"
     ]
    },
    {
     "data": {
      "text/plain": [
       "1-element Vector{Float64}:\n",
       " 1.498734554416028"
      ]
     },
     "metadata": {},
     "output_type": "display_data"
    }
   ],
   "source": [
    "copy!(lmm.β, βtrue)\n",
    "copy!(lmm.Σ, Σtrue)\n",
    "copy!(lmm.L, Ltrue)\n",
    "lmm.σ²[1] = σ²true\n",
    "@show obj1 = update_em!(lmm, true)\n",
    "@show lmm.β\n",
    "@show lmm.Σ\n",
    "@show lmm.L\n",
    "@show lmm.σ²\n",
    "println()\n",
    "@show obj2 = update_em!(lmm, false)\n",
    "@show lmm.β\n",
    "@show lmm.Σ\n",
    "@show lmm.L\n",
    "@show lmm.σ²"
   ]
  },
  {
   "attachments": {},
   "cell_type": "markdown",
   "metadata": {},
   "source": [
    "Test correctness. You will loss all 30 points if following code throws `AssertError`."
   ]
  },
  {
   "cell_type": "code",
   "execution_count": 91,
   "metadata": {},
   "outputs": [],
   "source": [
    "@assert abs(obj1 - (-2.840068438369969e6)) < 1e-4\n",
    "@assert abs(obj2 - (-2.84006046054206e6)) < 1e-4"
   ]
  },
  {
   "attachments": {},
   "cell_type": "markdown",
   "metadata": {},
   "source": [
    "### Efficiency\n",
    "\n",
    "Test efficiency of EM update."
   ]
  },
  {
   "cell_type": "code",
   "execution_count": 92,
   "metadata": {},
   "outputs": [
    {
     "data": {
      "text/plain": [
       "BenchmarkTools.Trial: 3326 samples with 1 evaluation.\n",
       " Range \u001b[90m(\u001b[39m\u001b[36m\u001b[1mmin\u001b[22m\u001b[39m … \u001b[35mmax\u001b[39m\u001b[90m):  \u001b[39m\u001b[36m\u001b[1m1.456 ms\u001b[22m\u001b[39m … \u001b[35m 3.030 ms\u001b[39m  \u001b[90m┊\u001b[39m GC \u001b[90m(\u001b[39mmin … max\u001b[90m): \u001b[39m0.00% … 0.00%\n",
       " Time  \u001b[90m(\u001b[39m\u001b[34m\u001b[1mmedian\u001b[22m\u001b[39m\u001b[90m):     \u001b[39m\u001b[34m\u001b[1m1.490 ms              \u001b[22m\u001b[39m\u001b[90m┊\u001b[39m GC \u001b[90m(\u001b[39mmedian\u001b[90m):    \u001b[39m0.00%\n",
       " Time  \u001b[90m(\u001b[39m\u001b[32m\u001b[1mmean\u001b[22m\u001b[39m ± \u001b[32mσ\u001b[39m\u001b[90m):   \u001b[39m\u001b[32m\u001b[1m1.502 ms\u001b[22m\u001b[39m ± \u001b[32m53.940 μs\u001b[39m  \u001b[90m┊\u001b[39m GC \u001b[90m(\u001b[39mmean ± σ\u001b[90m):  \u001b[39m0.00% ± 0.00%\n",
       "\n",
       "  \u001b[39m \u001b[39m \u001b[39m▁\u001b[39m▄\u001b[39m▆\u001b[39m█\u001b[39m▇\u001b[34m▅\u001b[39m\u001b[39m▃\u001b[39m▂\u001b[32m▁\u001b[39m\u001b[39m \u001b[39m \u001b[39m \u001b[39m \u001b[39m \u001b[39m \u001b[39m \u001b[39m \u001b[39m \u001b[39m \u001b[39m \u001b[39m \u001b[39m \u001b[39m \u001b[39m \u001b[39m \u001b[39m \u001b[39m \u001b[39m \u001b[39m \u001b[39m \u001b[39m \u001b[39m \u001b[39m \u001b[39m \u001b[39m \u001b[39m \u001b[39m \u001b[39m \u001b[39m \u001b[39m \u001b[39m \u001b[39m \u001b[39m \u001b[39m \u001b[39m \u001b[39m \u001b[39m \u001b[39m \u001b[39m \u001b[39m \u001b[39m \u001b[39m \u001b[39m \u001b[39m \u001b[39m \u001b[39m \u001b[39m \u001b[39m \n",
       "  \u001b[39m▃\u001b[39m▅\u001b[39m█\u001b[39m█\u001b[39m█\u001b[39m█\u001b[39m█\u001b[34m█\u001b[39m\u001b[39m█\u001b[39m█\u001b[32m█\u001b[39m\u001b[39m▇\u001b[39m▆\u001b[39m▅\u001b[39m▄\u001b[39m▄\u001b[39m▄\u001b[39m▄\u001b[39m▃\u001b[39m▃\u001b[39m▃\u001b[39m▃\u001b[39m▃\u001b[39m▂\u001b[39m▂\u001b[39m▂\u001b[39m▂\u001b[39m▂\u001b[39m▂\u001b[39m▂\u001b[39m▂\u001b[39m▂\u001b[39m▂\u001b[39m▂\u001b[39m▁\u001b[39m▂\u001b[39m▂\u001b[39m▂\u001b[39m▂\u001b[39m▂\u001b[39m▂\u001b[39m▂\u001b[39m▂\u001b[39m▂\u001b[39m▂\u001b[39m▂\u001b[39m▂\u001b[39m▂\u001b[39m▂\u001b[39m▂\u001b[39m▂\u001b[39m▂\u001b[39m▂\u001b[39m▂\u001b[39m▁\u001b[39m▂\u001b[39m▁\u001b[39m▂\u001b[39m \u001b[39m▃\n",
       "  1.46 ms\u001b[90m        Histogram: frequency by time\u001b[39m        1.73 ms \u001b[0m\u001b[1m<\u001b[22m\n",
       "\n",
       " Memory estimate\u001b[90m: \u001b[39m\u001b[33m0 bytes\u001b[39m, allocs estimate\u001b[90m: \u001b[39m\u001b[33m0\u001b[39m."
      ]
     },
     "metadata": {},
     "output_type": "display_data"
    }
   ],
   "source": [
    "bm_emupdate = @benchmark update_em!($lmm, true) setup=(\n",
    "    copy!(lmm.β, βtrue);\n",
    "    copy!(lmm.Σ, Σtrue);\n",
    "    copy!(lmm.L, Ltrue);\n",
    "    lmm.σ²[1] = σ²true)"
   ]
  },
  {
   "attachments": {},
   "cell_type": "markdown",
   "metadata": {},
   "source": [
    "My median run time is 1ms. You will get full credit if your median run time is within 10ms. The points you will get are"
   ]
  },
  {
   "cell_type": "code",
   "execution_count": 93,
   "metadata": {},
   "outputs": [
    {
     "data": {
      "text/plain": [
       "10.0"
      ]
     },
     "metadata": {},
     "output_type": "display_data"
    }
   ],
   "source": [
    "clamp(10 / (median(bm_emupdate).time / 1e6) * 10, 0, 10)"
   ]
  },
  {
   "attachments": {},
   "cell_type": "markdown",
   "metadata": {},
   "source": [
    "### Memory\n",
    "\n",
    "You will lose 1 point for each 100 bytes memory allocation. So the points you will get is"
   ]
  },
  {
   "cell_type": "code",
   "execution_count": 94,
   "metadata": {},
   "outputs": [
    {
     "data": {
      "text/plain": [
       "10.0"
      ]
     },
     "metadata": {},
     "output_type": "display_data"
    }
   ],
   "source": [
    "clamp(10 - median(bm_emupdate).memory / 100, 0, 10)"
   ]
  },
  {
   "attachments": {},
   "cell_type": "markdown",
   "metadata": {},
   "source": [
    "## Q7. Starting point\n",
    "\n",
    "We use the same least squares estimates as in HW6 as starting point. "
   ]
  },
  {
   "cell_type": "code",
   "execution_count": 95,
   "metadata": {},
   "outputs": [
    {
     "data": {
      "text/plain": [
       "kron_axpy!"
      ]
     },
     "metadata": {},
     "output_type": "display_data"
    }
   ],
   "source": [
    "\"\"\"\n",
    "    init_ls!(m::LmmModel)\n",
    "\n",
    "Initialize parameters of a `LmmModel` object from the least squares estimate. \n",
    "`m.β`, `m.L`, and `m.σ²` are overwritten with the least squares estimates.\n",
    "\"\"\"\n",
    "function init_ls!(m::LmmModel{T}) where T <: AbstractFloat\n",
    "    p, q = size(m.data[1].X, 2), size(m.data[1].Z, 2)\n",
    "    # LS estimate for β\n",
    "    mul!(m.β, m.xtxinv, m.xty)\n",
    "    # LS etimate for σ2 and Σ\n",
    "    rss, ntotal = zero(T), 0\n",
    "    fill!(m.ztz2, 0)\n",
    "    fill!(m.ztr2, 0)    \n",
    "    @inbounds for i in eachindex(m.data)\n",
    "        obs = m.data[i]\n",
    "        ntotal += length(obs.y)\n",
    "        # update Xt * res\n",
    "        BLAS.gemv!('N', T(-1), obs.xtx, m.β, T(1), copy!(obs.xtr, obs.xty))\n",
    "        # rss of i-th individual\n",
    "        rss += obs.yty - dot(obs.xty, m.β) - dot(obs.xtr, m.β)\n",
    "        # update Zi' * res\n",
    "        BLAS.gemv!('N', T(-1), obs.ztx, m.β, T(1), copy!(obs.ztr, obs.zty))\n",
    "        # Zi'Zi ⊗ Zi'Zi\n",
    "        kron_axpy!(obs.ztz, obs.ztz, m.ztz2)\n",
    "        # Zi'res ⊗ Zi'res\n",
    "        kron_axpy!(obs.ztr, obs.ztr, m.ztr2)\n",
    "    end\n",
    "    m.σ²[1] = rss / ntotal\n",
    "    # LS estimate for Σ = LLt\n",
    "    LAPACK.potrf!('U', m.ztz2)\n",
    "    BLAS.trsv!('U', 'T', 'N', m.ztz2, m.ztr2)\n",
    "    BLAS.trsv!('U', 'N', 'N', m.ztz2, m.ztr2)\n",
    "    copyto!(m.Σ, m.ztr2)\n",
    "    copy!(m.L, m.Σ)\n",
    "    LAPACK.potrf!('L', m.L)\n",
    "    for j in 2:q, i in 1:j-1\n",
    "        m.L[i, j] = 0\n",
    "    end\n",
    "    m\n",
    "end\n",
    "\n",
    "\"\"\"\n",
    "    kron_axpy!(A, X, Y)\n",
    "\n",
    "Overwrite `Y` with `A ⊗ X + Y`. Same as `Y += kron(A, X)` but\n",
    "more memory efficient.\n",
    "\"\"\"\n",
    "function kron_axpy!(\n",
    "        A::AbstractVecOrMat{T},\n",
    "        X::AbstractVecOrMat{T},\n",
    "        Y::AbstractVecOrMat{T}\n",
    "        ) where T <: Real\n",
    "    m, n = size(A, 1), size(A, 2)\n",
    "    p, q = size(X, 1), size(X, 2)\n",
    "    @assert size(Y, 1) == m * p\n",
    "    @assert size(Y, 2) == n * q\n",
    "    @inbounds for j in 1:n\n",
    "        coffset = (j - 1) * q\n",
    "        for i in 1:m\n",
    "            a = A[i, j]\n",
    "            roffset = (i - 1) * p            \n",
    "            for l in 1:q\n",
    "                r = roffset + 1\n",
    "                c = coffset + l\n",
    "                for k in 1:p                \n",
    "                    Y[r, c] += a * X[k, l]\n",
    "                    r += 1\n",
    "                end\n",
    "            end\n",
    "        end\n",
    "    end\n",
    "    Y\n",
    "end"
   ]
  },
  {
   "cell_type": "code",
   "execution_count": 96,
   "metadata": {},
   "outputs": [
    {
     "name": "stdout",
     "output_type": "stream",
     "text": [
      "lmm.β = [0.18207934611476326, 6.50048070099372, -3.4979107842091595, 1.0011132962297953, 5.0002519857919285]\n",
      "lmm.Σ = [1.9794302836685058 0.07258461003916691 0.05717147035274022; 0.07258461003916693 1.2840385734767714 -0.07707942768978564; 0.05717147035274022 -0.07707942768978564 0.9509885905046899]\n",
      "lmm.L = [1.4069222734993236 0.0 0.0; 0.05159105901325531 1.1319792118703693 0.0; 0.04063584138912114 -0.06994463586493145 0.9718256360134827]\n",
      "lmm.σ² = [5.709004733413668]\n"
     ]
    },
    {
     "data": {
      "text/plain": [
       "1-element Vector{Float64}:\n",
       " 5.709004733413668"
      ]
     },
     "metadata": {},
     "output_type": "display_data"
    }
   ],
   "source": [
    "init_ls!(lmm)\n",
    "@show lmm.β\n",
    "@show lmm.Σ\n",
    "@show lmm.L\n",
    "@show lmm.σ²"
   ]
  },
  {
   "attachments": {},
   "cell_type": "markdown",
   "metadata": {},
   "source": [
    "## Q8. Estimation by EM\n",
    "\n",
    "We write a function `fit!` that implements the EM algorithm for estimating LMM."
   ]
  },
  {
   "cell_type": "code",
   "execution_count": 97,
   "metadata": {},
   "outputs": [
    {
     "data": {
      "text/plain": [
       "fit!"
      ]
     },
     "metadata": {},
     "output_type": "display_data"
    }
   ],
   "source": [
    "\"\"\"\n",
    "    fit!(m::LmmModel)\n",
    "\n",
    "Fit an `LmmModel` object by MLE using a EM algorithm. Start point \n",
    "should be provided in `m.β`, `m.σ²`, `m.L`.\n",
    "\"\"\"\n",
    "function fit!(\n",
    "        m       :: LmmModel;\n",
    "        maxiter :: Integer       = 10_000,\n",
    "        ftolrel :: AbstractFloat = 1e-12,\n",
    "        prtfreq :: Integer       = 0\n",
    "    )\n",
    "    obj = update_em!(m, true)\n",
    "    for iter in 0:maxiter\n",
    "        obj_old = obj\n",
    "        # EM update\n",
    "        obj = update_em!(m, false)\n",
    "        # print obj\n",
    "        prtfreq > 0 && rem(iter, prtfreq) == 0 && println(\"iter=$iter, obj=$obj\")\n",
    "        # check monotonicity\n",
    "        obj < obj_old && (@warn \"monotoniciy violated\")\n",
    "        # check convergence criterion\n",
    "        (obj - obj_old) < ftolrel * (abs(obj_old) + 1) && break\n",
    "        # warning about non-convergence\n",
    "        iter == maxiter && (@warn \"maximum iterations reached\")\n",
    "    end\n",
    "    m\n",
    "end\n"
   ]
  },
  {
   "attachments": {},
   "cell_type": "markdown",
   "metadata": {},
   "source": [
    "## Q9. (20 pts) Test drive\n",
    "\n",
    "Now we can run our EM algorithm to compute the MLE."
   ]
  },
  {
   "cell_type": "code",
   "execution_count": 98,
   "metadata": {},
   "outputs": [
    {
     "name": "stdout",
     "output_type": "stream",
     "text": [
      "iter=0, obj=-2.8400688821783797e6\n",
      "iter=1, obj=-2.8400587867556894e6\n",
      "iter=2, obj=-2.840058786725548e6\n",
      "iter=3, obj=-2.840058786725478e6\n",
      "  0.025193 seconds (17.18 k allocations: 1.211 MiB, 69.26% compilation time)\n"
     ]
    },
    {
     "name": "stdout",
     "output_type": "stream",
     "text": [
      "objective value at solution: -2.8400587867254117e6\n",
      "\n",
      "solution values:\n",
      "lmm.β = [0.18207855803149206, 6.500383547392576, -3.499864296224195, 0.9997119252318636, 4.999229481214088]\n",
      "lmm.σ² = [1.498734551919432]\n",
      "lmm.L * transpose(lmm.L) = [1.983631984277848 0.06575202041811087 0.05528837687885904; 0.06575202041811087 1.2814409879932709 -0.09059254193517799; 0.05528837687885904 -0.09059254193517799 0.9434430471656207]\n"
     ]
    },
    {
     "data": {
      "text/plain": [
       "3×3 Matrix{Float64}:\n",
       " 1.98363     0.065752    0.0552884\n",
       " 0.065752    1.28144    -0.0905925\n",
       " 0.0552884  -0.0905925   0.943443"
      ]
     },
     "metadata": {},
     "output_type": "display_data"
    }
   ],
   "source": [
    "# initialize from least squares\n",
    "init_ls!(lmm)\n",
    "\n",
    "@time fit!(lmm, ftolrel = 1e-12, prtfreq = 1);\n",
    "\n",
    "println(\"objective value at solution: \", update_em!(lmm)); println()\n",
    "println(\"solution values:\")\n",
    "@show lmm.β\n",
    "@show lmm.σ²\n",
    "@show lmm.L * transpose(lmm.L)"
   ]
  },
  {
   "attachments": {},
   "cell_type": "markdown",
   "metadata": {},
   "source": [
    "### Correctness\n",
    "\n",
    "You get 10 points if the following code does not throw `AssertError`."
   ]
  },
  {
   "cell_type": "code",
   "execution_count": 99,
   "metadata": {},
   "outputs": [],
   "source": [
    "# objective at solution should be close enough to the optimal\n",
    "@assert update_em!(lmm) > -2.840059e6"
   ]
  },
  {
   "attachments": {},
   "cell_type": "markdown",
   "metadata": {},
   "source": [
    "### Efficiency\n",
    "\n",
    "My median run time 5ms. You get 10 points if your median run time is within 1s."
   ]
  },
  {
   "cell_type": "code",
   "execution_count": 100,
   "metadata": {},
   "outputs": [
    {
     "data": {
      "text/plain": [
       "BenchmarkTools.Trial: 674 samples with 1 evaluation.\n",
       " Range \u001b[90m(\u001b[39m\u001b[36m\u001b[1mmin\u001b[22m\u001b[39m … \u001b[35mmax\u001b[39m\u001b[90m):  \u001b[39m\u001b[36m\u001b[1m6.884 ms\u001b[22m\u001b[39m … \u001b[35m  8.460 ms\u001b[39m  \u001b[90m┊\u001b[39m GC \u001b[90m(\u001b[39mmin … max\u001b[90m): \u001b[39m0.00% … 0.00%\n",
       " Time  \u001b[90m(\u001b[39m\u001b[34m\u001b[1mmedian\u001b[22m\u001b[39m\u001b[90m):     \u001b[39m\u001b[34m\u001b[1m7.067 ms               \u001b[22m\u001b[39m\u001b[90m┊\u001b[39m GC \u001b[90m(\u001b[39mmedian\u001b[90m):    \u001b[39m0.00%\n",
       " Time  \u001b[90m(\u001b[39m\u001b[32m\u001b[1mmean\u001b[22m\u001b[39m ± \u001b[32mσ\u001b[39m\u001b[90m):   \u001b[39m\u001b[32m\u001b[1m7.145 ms\u001b[22m\u001b[39m ± \u001b[32m225.059 μs\u001b[39m  \u001b[90m┊\u001b[39m GC \u001b[90m(\u001b[39mmean ± σ\u001b[90m):  \u001b[39m0.00% ± 0.00%\n",
       "\n",
       "  \u001b[39m \u001b[39m \u001b[39m \u001b[39m▁\u001b[39m▄\u001b[39m▅\u001b[39m█\u001b[39m▆\u001b[39m█\u001b[39m▂\u001b[34m▃\u001b[39m\u001b[39m▂\u001b[39m \u001b[39m \u001b[39m \u001b[32m \u001b[39m\u001b[39m \u001b[39m \u001b[39m \u001b[39m \u001b[39m \u001b[39m \u001b[39m \u001b[39m \u001b[39m \u001b[39m \u001b[39m \u001b[39m \u001b[39m \u001b[39m \u001b[39m \u001b[39m \u001b[39m \u001b[39m \u001b[39m \u001b[39m \u001b[39m \u001b[39m \u001b[39m \u001b[39m \u001b[39m \u001b[39m \u001b[39m \u001b[39m \u001b[39m \u001b[39m \u001b[39m \u001b[39m \u001b[39m \u001b[39m \u001b[39m \u001b[39m \u001b[39m \u001b[39m \u001b[39m \u001b[39m \u001b[39m \u001b[39m \u001b[39m \u001b[39m \u001b[39m \n",
       "  \u001b[39m▄\u001b[39m▃\u001b[39m▇\u001b[39m█\u001b[39m█\u001b[39m█\u001b[39m█\u001b[39m█\u001b[39m█\u001b[39m█\u001b[34m█\u001b[39m\u001b[39m█\u001b[39m█\u001b[39m█\u001b[39m▆\u001b[32m▆\u001b[39m\u001b[39m▆\u001b[39m▅\u001b[39m▄\u001b[39m▆\u001b[39m▄\u001b[39m▅\u001b[39m▅\u001b[39m▃\u001b[39m▃\u001b[39m▅\u001b[39m▅\u001b[39m▅\u001b[39m▄\u001b[39m▃\u001b[39m▃\u001b[39m▄\u001b[39m▃\u001b[39m▃\u001b[39m▄\u001b[39m▂\u001b[39m▁\u001b[39m▃\u001b[39m▃\u001b[39m▁\u001b[39m▂\u001b[39m▃\u001b[39m▃\u001b[39m▃\u001b[39m▃\u001b[39m▃\u001b[39m▂\u001b[39m▃\u001b[39m▃\u001b[39m▃\u001b[39m▂\u001b[39m▃\u001b[39m▃\u001b[39m▃\u001b[39m▂\u001b[39m▁\u001b[39m▁\u001b[39m▂\u001b[39m▃\u001b[39m \u001b[39m▄\n",
       "  6.88 ms\u001b[90m         Histogram: frequency by time\u001b[39m        7.93 ms \u001b[0m\u001b[1m<\u001b[22m\n",
       "\n",
       " Memory estimate\u001b[90m: \u001b[39m\u001b[33m0 bytes\u001b[39m, allocs estimate\u001b[90m: \u001b[39m\u001b[33m0\u001b[39m."
      ]
     },
     "metadata": {},
     "output_type": "display_data"
    }
   ],
   "source": [
    "bm_em = @benchmark fit!($lmm) setup = (init_ls!(lmm))"
   ]
  },
  {
   "cell_type": "code",
   "execution_count": 101,
   "metadata": {},
   "outputs": [
    {
     "data": {
      "text/plain": [
       "10.0"
      ]
     },
     "metadata": {},
     "output_type": "display_data"
    }
   ],
   "source": [
    "# this is the points you get\n",
    "clamp(1 / (median(bm_em).time / 1e9) * 10, 0, 10)"
   ]
  },
  {
   "attachments": {},
   "cell_type": "markdown",
   "metadata": {},
   "source": [
    "## Q10. (10 pts) EM vs Newton type algorithms\n",
    "\n",
    "Contrast EM algorithm to the Newton type algorithms (gradient free, gradient based, using Hessian) in HW6, in terms of the stability, convergence rate (how fast the algorithm is converging),  final objective value, total run time, derivation, and implementation efforts. "
   ]
  },
  {
   "attachments": {},
   "cell_type": "markdown",
   "metadata": {},
   "source": [
    "### Q10 Answer\n",
    "Comparing the results from last homework, EM algorithm is quicker in total run time and convergence rate than Newton type algorithms. They got similar final results with a objective function $\\approx -2840059$. The Mathematical derivation for EM is easier than Newton type algorithms (Newton type algorithms require complex matrix derivatives). However, for the coding part, my personal feeling is that EM is more difficult than Newton type algorithms because we have handy solvers for the Newton type algorithm, which saved us a lot of effort. "
   ]
  }
 ],
 "metadata": {
  "@webio": {
   "lastCommId": null,
   "lastKernelId": null
  },
  "jupytext": {
   "formats": "ipynb,qmd"
  },
  "kernelspec": {
   "display_name": "Julia 1.9.0",
   "language": "julia",
   "name": "julia-1.9"
  },
  "language_info": {
   "file_extension": ".jl",
   "mimetype": "application/julia",
   "name": "julia",
   "version": "1.9.0"
  },
  "toc": {
   "colors": {
    "hover_highlight": "#DAA520",
    "running_highlight": "#FF0000",
    "selected_highlight": "#FFD700"
   },
   "moveMenuLeft": true,
   "nav_menu": {
    "height": "87px",
    "width": "252px"
   },
   "navigate_menu": true,
   "number_sections": true,
   "sideBar": true,
   "skip_h1_title": true,
   "threshold": 4,
   "toc_cell": false,
   "toc_section_display": "block",
   "toc_window_display": false,
   "widenNotebook": false
  }
 },
 "nbformat": 4,
 "nbformat_minor": 4
}
