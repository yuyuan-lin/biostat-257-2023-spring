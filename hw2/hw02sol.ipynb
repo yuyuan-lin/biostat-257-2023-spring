{
 "cells": [
  {
   "cell_type": "raw",
   "metadata": {},
   "source": [
    "---\n",
    "title: Biostat/Biomath M257 Homework 2\n",
    "subtitle: 'Due Apr 28 @ 11:59PM'\n",
    "author: Yuyuan Lin (804886544)\n",
    "date: today\n",
    "format:\n",
    "  html:\n",
    "    theme: cosmo\n",
    "    embed-resources: true\n",
    "    number-sections: true\n",
    "    toc: true\n",
    "    toc-depth: 4\n",
    "    toc-location: left\n",
    "---"
   ]
  },
  {
   "cell_type": "markdown",
   "metadata": {},
   "source": [
    "System information (for reproducibility):"
   ]
  },
  {
   "cell_type": "code",
   "execution_count": 1,
   "metadata": {
    "tags": []
   },
   "outputs": [
    {
     "name": "stdout",
     "output_type": "stream",
     "text": [
      "Julia Version 1.8.5\n",
      "Commit 17cfb8e65ea (2023-01-08 06:45 UTC)\n",
      "Platform Info:\n",
      "  OS: macOS (arm64-apple-darwin21.5.0)\n",
      "  CPU: 8 × Apple M1 Pro\n",
      "  WORD_SIZE: 64\n",
      "  LIBM: libopenlibm\n",
      "  LLVM: libLLVM-13.0.1 (ORCJIT, apple-m1)\n",
      "  Threads: 6 on 6 virtual cores\n"
     ]
    }
   ],
   "source": [
    "versioninfo()"
   ]
  },
  {
   "cell_type": "markdown",
   "metadata": {},
   "source": [
    "Load packages:"
   ]
  },
  {
   "cell_type": "code",
   "execution_count": 2,
   "metadata": {
    "tags": []
   },
   "outputs": [],
   "source": [
    "# load libraries\n",
    "using BenchmarkTools, DelimitedFiles, Images, LinearAlgebra, LoopVectorization\n",
    "using Profile, Random"
   ]
  },
  {
   "cell_type": "markdown",
   "metadata": {},
   "source": [
    "## Q1. Nonnegative Matrix Factorization\n",
    "\n",
    "Nonnegative matrix factorization (NNMF) was introduced by [Lee and Seung (1999)](https://www.nature.com/articles/44565) as an alternative to principal components and vector quantization with applications in data compression, clustering, and deconvolution. In this homework we consider algorithms for fitting NNMF and (optionally) high performance computing using graphical processing units (GPUs).\n",
    "\n",
    "<img src=\"./nnmf.png\" width=\"500\" align=\"center\"/>\n",
    "\n",
    "In mathematical terms, one approximates a data matrix $\\mathbf{X} \\in \\mathbb{R}^{m \\times n}$ with nonnegative entries $x_{ij}$ by a product of two low-rank matrices $\\mathbf{V} \\in \\mathbb{R}^{m \\times r}$ and $\\mathbf{W} \\in \\mathbb{R}^{r \\times n}$ with nonnegative entries $v_{ik}$ and $w_{kj}$. Consider minimization of the squared Frobenius norm\n",
    "$$\n",
    "L(\\mathbf{V}, \\mathbf{W}) = \\|\\mathbf{X} - \\mathbf{V} \\mathbf{W}\\|_{\\text{F}}^2 = \\sum_i \\sum_j \\left(x_{ij} - \\sum_k v_{ik} w_{kj} \\right)^2, \\quad v_{ik} \\ge 0, w_{kj} \\ge 0,\n",
    "$$\n",
    "which should lead to a good factorization. Lee and Seung suggest an iterative algorithm with multiplicative updates\n",
    "$$\n",
    "v_{ik}^{(t+1)} = v_{ik}^{(t)} \\frac{\\sum_j x_{ij} w_{kj}^{(t)}}{\\sum_j b_{ij}^{(t)} w_{kj}^{(t)}}, \\quad \\text{where } b_{ij}^{(t)} = \\sum_k v_{ik}^{(t)} w_{kj}^{(t)},\n",
    "$$\n",
    "$$\n",
    "w_{kj}^{(t+1)} = w_{kj}^{(t)} \\frac{\\sum_i x_{ij} v_{ik}^{(t+1)}}{\\sum_i b_{ij}^{(t+1/2)} v_{ik}^{(t+1)}}, \\quad \\text{where } b_{ij}^{(t+1/2)} = \\sum_k v_{ik}^{(t+1)} w_{kj}^{(t)}\n",
    "$$\n",
    "that will drive the objective $L^{(t)} = L(\\mathbf{V}^{(t)}, \\mathbf{W}^{(t)})$ downhill. Superscript $t$ indicates the iteration number. In following questions, efficiency (both speed and memory) will be the most important criterion when grading this problem."
   ]
  },
  {
   "attachments": {},
   "cell_type": "markdown",
   "metadata": {},
   "source": [
    "### Q1.1 Develop code\n",
    "\n",
    "Implement the algorithm with arguments: $\\mathbf{X}$ (data, each row is a vectorized image), rank $r$, convergence tolerance, and optional starting point.\n",
    "\n",
    "#### Q1.1 Solution:"
   ]
  },
  {
   "cell_type": "code",
   "execution_count": 3,
   "metadata": {
    "tags": []
   },
   "outputs": [
    {
     "data": {
      "text/plain": [
       "nnmf (generic function with 1 method)"
      ]
     },
     "metadata": {},
     "output_type": "display_data"
    }
   ],
   "source": [
    "function nnmf(\n",
    "    # positional arguments\n",
    "    X       :: AbstractMatrix{T}, \n",
    "    r       :: Integer;\n",
    "    # kw arguments\n",
    "    maxiter :: Integer = 1000, \n",
    "    tolfun  :: Number = 1e-4,\n",
    "    V       :: AbstractMatrix{T} = Random.rand!(similar(X, size(X, 1), r)),\n",
    "    W       :: AbstractMatrix{T} = Random.rand!(similar(X, r, size(X, 2))),\n",
    "    ) where T <: AbstractFloat\n",
    "    # implementation\n",
    "    ## initialization and preallocation\n",
    "    obj0, obj, niter = 0.0, 1.0, 0\n",
    "    m, n = size(X)\n",
    "    XWt = Array{Float64}(undef, m, r)\n",
    "    VtX = Array{Float64}(undef, r, n)\n",
    "    WWt = W * transpose(W)\n",
    "    VtV = Array{Float64}(undef, r, r)\n",
    "    VWWt = Array{Float64}(undef, m, r)\n",
    "    VtVW = Array{Float64}(undef, r, n)\n",
    "    trXtX = norm(X, 2)^2\n",
    "    WtVtX = Array{Float64}(undef, n, n)\n",
    "    WWtVtV = Array{Float64}(undef, r, r)\n",
    "    \n",
    "    ## main loop\n",
    "    while (abs(obj - obj0)) / (abs(obj0 + 1)) >= tolfun && niter < maxiter\n",
    "        # update V\n",
    "        mul!(XWt, X, transpose(W))\n",
    "        mul!(VWWt, V, WWt) # WWt was updated later in the loop\n",
    "        V .= V .* XWt ./ VWWt\n",
    "        # update W\n",
    "        mul!(VtX, transpose(V), X)\n",
    "        mul!(VtV, transpose(V), V)\n",
    "        mul!(VtVW, VtV, W)\n",
    "        W .= W .* VtX ./ VtVW\n",
    "        # update niter and obj\n",
    "        obj0 = obj\n",
    "        mul!(WWt, W, transpose(W))\n",
    "        mul!(WtVtX, transpose(W), VtX)\n",
    "        mul!(WWtVtV, WWt, VtV)\n",
    "        obj = trXtX - 2 * tr(WtVtX) + tr(WWtVtV)\n",
    "        niter += 1\n",
    "    end\n",
    "    \n",
    "    # Output\n",
    "    V, W, obj, niter\n",
    "end"
   ]
  },
  {
   "cell_type": "markdown",
   "metadata": {},
   "source": [
    "### Q1.2 Data\n",
    "\n",
    "Database 1 from the [MIT Center for Biological and Computational Learning (CBCL)](http://cbcl.mit.edu/software-datasets/FaceData2.html) reduces to a matrix $\\mathbf{X}$ containing $m = 2,429$ gray-scale face images with $n = 19 \\times 19 = 361$ pixels per face. Each image (row) is scaled to have mean and standard deviation 0.25.  \n",
    "\n",
    "Read in the [`nnmf-2429-by-361-face.txt`](https://raw.githubusercontent.com/ucla-biostat-257/2023spring/master/hw/hw2/nnmf-2429-by-361-face.txt) file, e.g., using [`readdlm`](https://docs.julialang.org/en/v1/stdlib/DelimitedFiles/#Delimited-Files) function, and display a couple of sample images, e.g., using the [Images.jl](https://juliaimages.org/stable/) package."
   ]
  },
  {
   "cell_type": "code",
   "execution_count": 4,
   "metadata": {
    "tags": []
   },
   "outputs": [
    {
     "data": {
      "image/png": "[encoded data removed]",
      "text/html": [
       "<img src=\"data:image/png;base64,iVBORw0KGgoAAAANSUhEUgAAAHIAAAByCAAAAACqttqhAAAABGdBTUEAALGPC/xhBQAAAAFzUkdCAK7OHOkAAAAgY0hSTQAAeiYAAICEAAD6AAAAgOgAAHUwAADqYAAAOpgAABdwnLpRPAAAAydJREFUaAW9wTFr3AUcx+EPyfc40oZrSogNh1JCQzlaQiQURdxcRHDwPbg7ODv5IsQX4OYglIK4SKGUaildQksJxnA2hMbjb45wzXmcCfKZ/lA6/54nN9Et9D4aoC6aojV0Da3SOkb30Sv0GDXoJtpFMzREoVwoF8qFcqFcDtAcnaInaA816CO0gm6iLXSIvqa1gsZolzd1USgXyoVyoVwolwV0iA7QBjqgdQ99hu6hL9B3tNZRQ2sZTVAXzVAoF8qFcqFcKJcZb/oSfYMGaIaeo2X0M/oX7aCP0bfoKprQmqEFFMqFcqFcKBfKZQ2NaH2PtlEH7aPL6IzWFfQANWiC+ugETWl1USgXyoVyoVwolw7qoVM0pTVBPXQD7aMFtERriO6iFbSMztCEVigXyoVyoVwol0/RI7SN+miGrqC/UR/9hUZoiHpoFe2gPmrQErpPK5QL5UK5UC6Uyw00RAN0HfXRHN1FY3SOOmgVnaItWhtoDY3QOlpFoVwoF8qFcqFcRuhzdIT6aBFdoD7aRRdogIa0eugW6qAtdILO0WsUyoVyoVwoF8rlFB2gd1EH9dAGOkO/oAG6jX5FHbSKPkTnaIymqEMrlAvlQrlQLpTLCK2iI3SBVtAAvYOOUR+toG30AzpCW+h3NEcNGqMjFMqFcqFcKBfK5QyN0BJq0Bw9RItoAT1AX6E9NEdj9BPaRGPUoAUUFMqFcqFcKBfKpYeCZqiPNtAYvUTvoSE6QMu0XqIf0Q66gy6hGa1QLpQL5UK5UC6HqIsW0RQ9Ro/QM3QJbaOr6BxtoT30FL1AD9EdNEHHKJQL5UK5UC6UyxCtoT56ie6jMdpEAzRAi+gE9dAMnaFDdI56aAMNUSgXyoVyoVwolzFq0FV0gP5DE7SLdtES2kR/oClv9xpdQ6eoQaFcKBfKhXKhXC6j52gdraGnvN0UvUBz3vQJmqITdBs9oBXKhXKhXCgXyuU1mqMRuoE2UBddQmfoOlpAY9RBe2gN/YNm6BX6k1YoF8qFcqFcKJc5rSfoGdpEH6ARalCDJqiLGnQH7aN1dIJ+Q/u0QrlQLpQL5UK5/wFd2bFZ/j51mAAAAABJRU5ErkJg\">"
      ],
      "text/plain": [
       "19×19 reinterpret(reshape, Gray{Float64}, ::Matrix{Float64}) with eltype Gray{Float64}:\n",
       " Gray{Float64}(0.14815)   …  Gray{Float64}(0.0)\n",
       " Gray{Float64}(0.018294)     Gray{Float64}(0.027569)\n",
       " Gray{Float64}(0.027569)     Gray{Float64}(0.0)\n",
       " Gray{Float64}(0.0)          Gray{Float64}(0.0090181)\n",
       " Gray{Float64}(0.083222)     Gray{Float64}(0.036844)\n",
       " Gray{Float64}(0.10177)   …  Gray{Float64}(0.064671)\n",
       " Gray{Float64}(0.38004)      Gray{Float64}(0.13887)\n",
       " Gray{Float64}(0.51917)      Gray{Float64}(0.30583)\n",
       " Gray{Float64}(0.43569)      Gray{Float64}(0.37076)\n",
       " Gray{Float64}(0.38004)      Gray{Float64}(0.37076)\n",
       " Gray{Float64}(0.29656)   …  Gray{Float64}(0.26873)\n",
       " Gray{Float64}(0.25946)      Gray{Float64}(0.28728)\n",
       " Gray{Float64}(0.31511)      Gray{Float64}(0.28728)\n",
       " Gray{Float64}(0.2038)       Gray{Float64}(0.19453)\n",
       " Gray{Float64}(0.083222)     Gray{Float64}(0.073946)\n",
       " Gray{Float64}(0.018294)  …  Gray{Float64}(0.0)\n",
       " Gray{Float64}(0.064671)     Gray{Float64}(0.0)\n",
       " Gray{Float64}(0.018294)     Gray{Float64}(0.0)\n",
       " Gray{Float64}(0.0)          Gray{Float64}(0.0)"
      ]
     },
     "metadata": {},
     "output_type": "display_data"
    }
   ],
   "source": [
    "X = readdlm(\"nnmf-2429-by-361-face.txt\")\n",
    "colorview(Gray, reshape(X[1, :], 19, 19))"
   ]
  },
  {
   "cell_type": "code",
   "execution_count": 5,
   "metadata": {
    "tags": []
   },
   "outputs": [
    {
     "data": {
      "image/png": "[encoded data removed]",
      "text/html": [
       "<img src=\"data:image/png;base64,iVBORw0KGgoAAAANSUhEUgAAAHIAAAByCAAAAACqttqhAAAABGdBTUEAALGPC/xhBQAAAAFzUkdCAK7OHOkAAAAgY0hSTQAAeiYAAICEAAD6AAAAgOgAAHUwAADqYAAAOpgAABdwnLpRPAAAAvNJREFUaAW9wUFrmwUcx/Fvn/6aNIkxTTWmdq4yEYXJDp58FR59mV49+hbEi4gIEyvMbY40jWm7p2kq31weKMPj//MJO4/RB2iCBmiKJmiIxqih00eHqIf20RY16BZdoVAulAvlQrlQLsco6A36g84UfYLO0Bb1UQ816BY1aI9Og+7QAQrlQrlQLpQL5dJH52jDQxfoOZ2n6Gs0QdfoN/QTukJ7aB/N0TMUyoVyoVwoF8olvNseuuehX1CLnqDn6E/U0hmjE7RAP6JQLpQL5UK5UC4T9Bpt6Nzzf95Dx2gP/c5Dl+gGTdEchXKhXCgXyoVyGaDw0BG6QHvons4MPUU/o2O0QGN0iQ7RWzRBoVwoF8qFcqFchugMLdES9dGn6CW6QT20jzZojM5QHw3RF+iEzgiFcqFcKBfKhXIZoS36GG3RFt2gBi3QAbpDN6iPvkKn6BodoCmaoxEK5UK5UC6UC+XSoBYN0DGdC7RGLRqgPrpF92iE5miAggaoh7YolAvlQrlQLpRLg5Z0GhS0obOlM0YNOkBLNEFDdIBCZ4NCuVAulAvlQrk8Q7+iBeqhoBVaojfoBVqhIdpHT9Bb9CUao5bOCoVyoVwoF8qFcmHnETpH12gfXaJr1NJ5iYZogw7RMfobtWiINmiJQrlQLpQL5UK5fINeoxW6Qj10TecINWiMZugUjdAUrdE/aIpatEChXCgXyoVyoVy+RT+gY/QvukIt2kdHaI5mqEEfoVu0QA0KukFLtEahXCgXyoVyoVzYadD7qEELdEdnhdZoixq0RB/SuUUbOmvUolAulAvlQrlQLux8jl6hGXqFLlHLQy94txn6DM1QUIuCQrlQLpQL5UK5sDNDLZqgARqjc7RBQXM0orNGp+gROkAbFDRCoVwoF8qFcqFc2PkOfY/6aIxWaI5WaIQmaIRmaIbGqEFLtEINCgrlQrlQLpQL5cJOHwVt0Qy9Rj3UR7foL3SCHqMpCrpCW7RBQdcolAvlQrlQLpT7DxQjibc/vHJgAAAAAElFTkSuQmCC\">"
      ],
      "text/plain": [
       "19×19 reinterpret(reshape, Gray{Float64}, ::Matrix{Float64}) with eltype Gray{Float64}:\n",
       " Gray{Float64}(0.0)       Gray{Float64}(0.1135)    …  Gray{Float64}(0.54206)\n",
       " Gray{Float64}(0.069167)  Gray{Float64}(0.12828)      Gray{Float64}(0.54206)\n",
       " Gray{Float64}(0.098722)  Gray{Float64}(0.017445)     Gray{Float64}(0.28344)\n",
       " Gray{Float64}(0.1135)    Gray{Float64}(0.017445)     Gray{Float64}(0.024834)\n",
       " Gray{Float64}(0.17261)   Gray{Float64}(0.032222)     Gray{Float64}(0.1135)\n",
       " Gray{Float64}(0.20956)   Gray{Float64}(0.047)     …  Gray{Float64}(0.15044)\n",
       " Gray{Float64}(0.2465)    Gray{Float64}(0.16522)      Gray{Float64}(0.34256)\n",
       " Gray{Float64}(0.29083)   Gray{Float64}(0.23911)      Gray{Float64}(0.49772)\n",
       " Gray{Float64}(0.29822)   Gray{Float64}(0.21694)      Gray{Float64}(0.54944)\n",
       " Gray{Float64}(0.30561)   Gray{Float64}(0.15783)      Gray{Float64}(0.53467)\n",
       " Gray{Float64}(0.48294)   Gray{Float64}(0.15044)   …  Gray{Float64}(0.48294)\n",
       " Gray{Float64}(0.48294)   Gray{Float64}(0.25389)      Gray{Float64}(0.42383)\n",
       " Gray{Float64}(0.69722)   Gray{Float64}(0.40167)      Gray{Float64}(0.35733)\n",
       " Gray{Float64}(1.0)       Gray{Float64}(0.40906)      Gray{Float64}(0.313)\n",
       " Gray{Float64}(1.0)       Gray{Float64}(0.41644)      Gray{Float64}(0.29083)\n",
       " Gray{Float64}(1.0)       Gray{Float64}(0.55683)   …  Gray{Float64}(0.30561)\n",
       " Gray{Float64}(1.0)       Gray{Float64}(0.63811)      Gray{Float64}(0.34994)\n",
       " Gray{Float64}(1.0)       Gray{Float64}(0.97061)      Gray{Float64}(0.36472)\n",
       " Gray{Float64}(1.0)       Gray{Float64}(1.0)          Gray{Float64}(0.32778)"
      ]
     },
     "metadata": {},
     "output_type": "display_data"
    }
   ],
   "source": [
    "colorview(Gray, reshape(X[10, :], 19, 19))"
   ]
  },
  {
   "cell_type": "markdown",
   "metadata": {},
   "source": [
    "### Q1.3 Correctness and efficiency\n",
    "\n",
    "Report the run times, using `@btime`, of your function for fitting NNMF on the MIT CBCL face data set at ranks $r=10, 20, 30, 40, 50$. For ease of comparison (and grading), please start your algorithm with the provided $\\mathbf{V}^{(0)}$ (first $r$ columns of [`V0.txt`](https://raw.githubusercontent.com/ucla-biostat-257/2023spring/master/hw/hw2/V0.txt)) and $\\mathbf{W}^{(0)}$ (first $r$ rows of [`W0.txt`](https://raw.githubusercontent.com/ucla-biostat-257/2023spring/master/hw/hw2/W0.txt)) and stopping criterion\n",
    "$$\n",
    "\\frac{|L^{(t+1)} - L^{(t)}|}{|L^{(t)}| + 1} \\le 10^{-4}.\n",
    "$$\n",
    "\n",
    "**Hint**: When I run the following code using my own implementation of `nnmf`\n",
    "```julia\n",
    "# provided start point\n",
    "V0full = readdlm(\"V0.txt\", ' ', Float64)\n",
    "W0full = readdlm(\"W0.txt\", ' ', Float64);\n",
    "\n",
    "# benchmarking\n",
    "for r in [10, 20, 30, 40, 50]\n",
    "    println(\"r=$r\")\n",
    "    V0 = V0full[:, 1:r]\n",
    "    W0 = W0full[1:r, :]\n",
    "    _, _, obj, niter = nnmf(X, r, V = V0, W = W0)\n",
    "    @btime nnmf($X, $r, V = $V0, W = $W0) setup=(\n",
    "        copyto!(V0, V0full[:, 1:r]), \n",
    "        copyto!(W0, W0full[1:r, :])\n",
    "        )\n",
    "    println(\"obj=$obj, niter=$niter\")\n",
    "end\n",
    "```\n",
    "the output is\n",
    "```\n",
    "r=10\n",
    "  162.662 ms (9 allocations: 437.19 KiB)\n",
    "obj=11730.866905748058, niter=239\n",
    "r=20\n",
    "  234.293 ms (9 allocations: 875.44 KiB)\n",
    "obj=8497.605595863002, niter=394\n",
    "r=30\n",
    "  259.524 ms (9 allocations: 1.28 MiB)\n",
    "obj=6621.94596847528, niter=482\n",
    "r=40\n",
    "  289.918 ms (9 allocations: 1.72 MiB)\n",
    "obj=5256.866299829562, niter=581\n",
    "r=50\n",
    "  397.511 ms (10 allocations: 2.15 MiB)\n",
    "obj=4430.362097310877, niter=698\n",
    "```\n",
    "Due to machine differences, your run times can be different from mine but certainly can not be order of magnitude longer. Your memory allocation should be less or equal to mine."
   ]
  },
  {
   "attachments": {},
   "cell_type": "markdown",
   "metadata": {},
   "source": [
    "#### Q1.3 Solution:"
   ]
  },
  {
   "cell_type": "code",
   "execution_count": 6,
   "metadata": {},
   "outputs": [
    {
     "name": "stdout",
     "output_type": "stream",
     "text": [
      "Initial V0 and W0 are loaded!\n"
     ]
    }
   ],
   "source": [
    "# provided start point\n",
    "V0full = readdlm(\"V0.txt\", ' ', Float64)\n",
    "W0full = readdlm(\"W0.txt\", ' ', Float64)\n",
    "println(\"Initial V0 and W0 are loaded!\")"
   ]
  },
  {
   "cell_type": "code",
   "execution_count": 7,
   "metadata": {},
   "outputs": [
    {
     "name": "stdout",
     "output_type": "stream",
     "text": [
      "r=10\n"
     ]
    },
    {
     "name": "stdout",
     "output_type": "stream",
     "text": [
      "  222.447 ms (13 allocations: 1.42 MiB)\n",
      "obj=11730.388009852482, niter=239\n",
      "r=20\n"
     ]
    },
    {
     "name": "stdout",
     "output_type": "stream",
     "text": [
      "  543.636 ms (13 allocations: 1.86 MiB)\n",
      "obj=8497.222317847947, niter=394\n",
      "r=30\n"
     ]
    },
    {
     "name": "stdout",
     "output_type": "stream",
     "text": [
      "  1.070 s (13 allocations: 2.29 MiB)\n",
      "obj=6621.627345483881, niter=482\n",
      "r=40\n"
     ]
    },
    {
     "name": "stdout",
     "output_type": "stream",
     "text": [
      "  1.417 s (13 allocations: 2.73 MiB)\n",
      "obj=5256.663870561242, niter=581\n",
      "r=50\n"
     ]
    },
    {
     "name": "stdout",
     "output_type": "stream",
     "text": [
      "  1.873 s (16 allocations: 3.18 MiB)\n",
      "obj=4430.201581695044, niter=698\n"
     ]
    }
   ],
   "source": [
    "# benchmarking\n",
    "for r in [10, 20, 30, 40, 50]\n",
    "    println(\"r=$r\")\n",
    "    V0 = V0full[:, 1:r]\n",
    "    W0 = W0full[1:r, :]\n",
    "    _, _, obj, niter = nnmf(X, r, V = V0, W = W0)\n",
    "    @btime nnmf($X, $r, V = $V0, W = $W0) setup=(\n",
    "        copyto!($V0, $V0full[:, 1:$r]), \n",
    "        copyto!($W0, $W0full[1:$r, :])\n",
    "        )\n",
    "    println(\"obj=$obj, niter=$niter\")\n",
    "end"
   ]
  },
  {
   "cell_type": "markdown",
   "metadata": {},
   "source": [
    "### Q1.4 Non-uniqueness\n",
    "\n",
    "Choose an $r \\in \\{10, 20, 30, 40, 50\\}$ and start your algorithm from a different $\\mathbf{V}^{(0)}$ and $\\mathbf{W}^{(0)}$. Do you obtain the same objective value and $(\\mathbf{V}, \\mathbf{W})$? Explain what you find."
   ]
  },
  {
   "attachments": {},
   "cell_type": "markdown",
   "metadata": {},
   "source": [
    "#### Q1.4 solution:\n",
    "Choose r = 10 and compare the results from the previous and another random initial $\\mathbf{V}^{(0)}$ and $\\mathbf{W}^{(0)}$:"
   ]
  },
  {
   "cell_type": "code",
   "execution_count": 8,
   "metadata": {},
   "outputs": [
    {
     "name": "stdout",
     "output_type": "stream",
     "text": [
      "obj=11730.388009852482, niter=239\n"
     ]
    }
   ],
   "source": [
    "# 1. results from given start point\n",
    "r = 10\n",
    "V0 = V0full[:, 1:r]\n",
    "W0 = W0full[1:r, :]\n",
    "V1, W1, obj1, niter1 = nnmf(X, r, V = V0, W = W0)\n",
    "println(\"obj=$obj1, niter=$niter1\")"
   ]
  },
  {
   "cell_type": "code",
   "execution_count": 9,
   "metadata": {},
   "outputs": [
    {
     "name": "stdout",
     "output_type": "stream",
     "text": [
      "obj=11664.751247646724, niter=225\n"
     ]
    }
   ],
   "source": [
    "# 2. results from a random start point\n",
    "using Random\n",
    "Random.seed!(257)\n",
    "V2, W2, obj2, niter2 = nnmf(X, r)\n",
    "println(\"obj=$obj2, niter=$niter2\")"
   ]
  },
  {
   "cell_type": "code",
   "execution_count": 10,
   "metadata": {},
   "outputs": [
    {
     "name": "stdout",
     "output_type": "stream",
     "text": [
      "V1 == V2: false, W1 == W2: false\n"
     ]
    }
   ],
   "source": [
    "# comparing the V and W\n",
    "println(\"V1 == V2: \", V1 == V2, \", W1 == W2: \", W1 == W2)"
   ]
  },
  {
   "attachments": {},
   "cell_type": "markdown",
   "metadata": {},
   "source": [
    "See above, the results ($\\mathbf{V}$ and $\\mathbf{W}$, the objective function, and the number of iterations) were different if we used a different initial $\\mathbf{V}^{(0)}$ and $\\mathbf{W}^{(0)}$. This means the algorithm is not unique (not guaranteed to converge to a unique solution). "
   ]
  },
  {
   "cell_type": "markdown",
   "metadata": {},
   "source": [
    "### Q1.5 Fixed point\n",
    "\n",
    "For the same $r$, start your algorithm from $v_{ik}^{(0)} = w_{kj}^{(0)} = 1$ for all $i,j,k$. Do you obtain the same objective value and $(\\mathbf{V}, \\mathbf{W})$? Explain what you find."
   ]
  },
  {
   "attachments": {},
   "cell_type": "markdown",
   "metadata": {},
   "source": [
    "#### Q1.5 solution:"
   ]
  },
  {
   "cell_type": "code",
   "execution_count": 11,
   "metadata": {},
   "outputs": [
    {
     "name": "stdout",
     "output_type": "stream",
     "text": [
      "obj=25297.01651107958, niter=3\n"
     ]
    }
   ],
   "source": [
    "# create the matrice V0 and W0 with all entries equal to 1\n",
    "V0 = ones(size(X, 1), r)\n",
    "W0 = ones(r, size(X, 2))\n",
    "V3, W3, obj3, niter3 = nnmf(X, r, V = V0, W = W0)\n",
    "println(\"obj=$obj3, niter=$niter3\")"
   ]
  },
  {
   "cell_type": "code",
   "execution_count": 12,
   "metadata": {},
   "outputs": [
    {
     "name": "stdout",
     "output_type": "stream",
     "text": [
      "V1 == V3: false, W1 == W3: false\n"
     ]
    }
   ],
   "source": [
    "# comparing the V and W\n",
    "println(\"V1 == V3: \", V1 == V3, \", W1 == W3: \", W1 == W3)"
   ]
  },
  {
   "attachments": {},
   "cell_type": "markdown",
   "metadata": {},
   "source": [
    "We did not achieve the same result as the given initial $\\mathbf{V}^{(0)}$ and $\\mathbf{W}^{(0)}$. The objective function of this part is larger (`obj = 25297`) compared to the objective function in the last part. The number of iterations is small (`niter = 3`), which hints that the algorithm was trapped in a local minimum and did not converge to the global minimum. "
   ]
  },
  {
   "cell_type": "markdown",
   "metadata": {},
   "source": [
    "### Q1.6 Interpret NNMF result\n",
    "\n",
    "Plot the basis images (rows of $\\mathbf{W}$) at rank $r=50$. What do you find?"
   ]
  },
  {
   "attachments": {},
   "cell_type": "markdown",
   "metadata": {},
   "source": [
    "#### Q1.6 solution:"
   ]
  },
  {
   "cell_type": "code",
   "execution_count": 13,
   "metadata": {},
   "outputs": [
    {
     "name": "stdout",
     "output_type": "stream",
     "text": [
      "NNMF is done!\n"
     ]
    }
   ],
   "source": [
    "r = 50\n",
    "V0 = V0full[:, 1:r]\n",
    "W0 = W0full[1:r, :]\n",
    "V, W, _, _ = nnmf(X, r, V = V0, W = W0)\n",
    "println(\"NNMF is done!\")"
   ]
  },
  {
   "cell_type": "code",
   "execution_count": 14,
   "metadata": {},
   "outputs": [
    {
     "data": {
      "image/png": "[encoded data removed]",
      "text/html": [
       "<img src=\"data:image/png;base64,iVBORw0KGgoAAAANSUhEUgAAAHIAAAByCAAAAACqttqhAAAABGdBTUEAALGPC/xhBQAAAAFzUkdCAK7OHOkAAAAgY0hSTQAAeiYAAICEAAD6AAAAgOgAAHUwAADqYAAAOpgAABdwnLpRPAAAAghJREFUaAW9wcGLjHEAxvHvu/toZdPaiyLREknu8h+g9uKssSd3Z0X+BU72oAm5saWVXJ3lpF1qk71IOciBZZl59Zx+09u7szPT9nw+YkwVNoX1mISIE3EiTsSJODGRPqOqsJpCxIk4ESfiRJwY035sAfuA9RmmpknEiTgRJ+JEnBjTFrbG5ESciBNxIk7EiT01jfUYRsSJOBEn4kSc2FM9difiRJyIE3EiTkxkGpvHLmAvGZWIE3EiTsSJOLGDCjuCfaFpHvtG8Qk7RdHBtrBZ7A0m4kSciBNxIk4d7BE2hZ3HrmI1dpemXzSdxGqKV9g6xTYm4kSciBNxIk7XsCfYYWwRu4Pdo+kMdp/dXcZmsKfYDCbiRJyIE3EiTttYH/uDvcMWsVWaPjLMd2wGO4CdxW5hC5iIE3EiTsSJOH2lOIrNYs9oV2E17Y5hB7EudokmESfiRJyIE3Faoehjf7Hj2CbtKoqa4ifFD9qJOBEn4kSciNNrinXsItbB3mMrtKsZZo52Ik7EiTgRJ+L0j6aHWBe7jd3E1rDn2ByTWMFEnIgTcSJOxIkdLGFLNB2iOIF9ZlSPMREn4kSciBNxYkCF1YxqE6toV9P0AhNxIk7EiTgRJwZcxzawt9hv2t3AHmAb2GmKc7TrYSJOxIk4ESfixIAuo1rGlmnah12haZVCxIk4ESfiRNx/e6RIUXeUsCQAAAAASUVORK5C\">"
      ],
      "text/plain": [
       "19×19 reinterpret(reshape, Gray{Float64}, ::Matrix{Float64}) with eltype Gray{Float64}:\n",
       " Gray{Float64}(1.98839e-64)  …  Gray{Float64}(2.48462e-38)\n",
       " Gray{Float64}(1.24767e-53)     Gray{Float64}(1.37279e-24)\n",
       " Gray{Float64}(4.23683e-37)     Gray{Float64}(1.10396e-21)\n",
       " Gray{Float64}(4.18452e-53)     Gray{Float64}(3.92605e-28)\n",
       " Gray{Float64}(1.36685e-60)     Gray{Float64}(5.8582e-30)\n",
       " Gray{Float64}(3.68341e-42)  …  Gray{Float64}(2.50681e-23)\n",
       " Gray{Float64}(1.44121e-18)     Gray{Float64}(9.88283e-12)\n",
       " Gray{Float64}(8.26647e-6)      Gray{Float64}(0.134432)\n",
       " Gray{Float64}(0.368834)        Gray{Float64}(0.354807)\n",
       " Gray{Float64}(0.730839)        Gray{Float64}(0.382191)\n",
       " Gray{Float64}(0.706065)     …  Gray{Float64}(1.00823)\n",
       " Gray{Float64}(0.610767)        Gray{Float64}(1.755)\n",
       " Gray{Float64}(0.294331)        Gray{Float64}(1.90719)\n",
       " Gray{Float64}(0.016579)        Gray{Float64}(1.37447)\n",
       " Gray{Float64}(1.53265e-13)     Gray{Float64}(0.684247)\n",
       " Gray{Float64}(1.67756e-16)  …  Gray{Float64}(0.317117)\n",
       " Gray{Float64}(9.62891e-13)     Gray{Float64}(0.0110806)\n",
       " Gray{Float64}(2.31583e-8)      Gray{Float64}(2.73192e-14)\n",
       " Gray{Float64}(4.80407e-23)     Gray{Float64}(8.87992e-65)"
      ]
     },
     "metadata": {},
     "output_type": "display_data"
    }
   ],
   "source": [
    "colorview(Gray, reshape(W[1, :], 19, 19))"
   ]
  },
  {
   "cell_type": "code",
   "execution_count": 15,
   "metadata": {},
   "outputs": [
    {
     "data": {
      "image/png": "[encoded data removed]",
      "text/html": [
       "<img src=\"data:image/png;base64,iVBORw0KGgoAAAANSUhEUgAAAHIAAAByCAAAAACqttqhAAAABGdBTUEAALGPC/xhBQAAAAFzUkdCAK7OHOkAAAAgY0hSTQAAeiYAAICEAAD6AAAAgOgAAHUwAADqYAAAOpgAABdwnLpRPAAAAihJREFUaAW9wb+LzgEAx/H3cz5lkFIkkoVcujpJzim3WKQrZWO4bDYzBn+AwWAwKImyUcp8k2Lws+vS3aBnIvcDdwYD57qvPt/lq+899zzf59Tn9RKNtbCC/yXiRJyIE3EiTjS2CztB5RA2iL3D7tObiBNxIk7EiTjR2FfsE3YVu4Bdxh7SlIgTcSJOxIk4sc5BrE1n09gEdglboz8iTsSJOBEn4sQ6bZpaYzNEnIgTcSJOxInSDmwAW6JuN7ZIZQR7w2aIOBEn4kSciBOlZZpqYa+xQewj/RFxIk7EiTgRpwH6c4zKI+wkdhO7gj3H2lgbe4zNYSJOxIk4ESfiNEZTR7BpKqNUrmPXsHHqbmOnMREn4kSciBNxmqG3FnaDzo5iU9hebI66L9hnTMSJOBEn4kScvmHD2C3sFLaduuN0NoJNYfNYC9uDrWA/sRVMxIk4ESfiRJwofcDO0s15+jNPZyJOxIk4ESfixAaEDWIz9LYVO4AtYQtYC9uCrWIiTsSJOBEn4kRpCJvFCmwV24fN0NsfbJa6AhvCpjERJ+JEnIgTcaJ0BhvDnmDL2CRNrdHNAhURJ+JEnIgTcaL0CxvHHtDNTuww9hb7TW+LVESciBNxIk7EidJdbBFbpZvv2Ev6U1ARcSJOxIk4ESf+8ZTKKLYNe4EV2DBWYFNYQeUeth+7iP2gTsSJOBEn4kSc2MArOntPXQt7hp2jMoHdoU7EiTgRJ+JE3F9UTVE6ZkEJngAAAABJRU5ErkJg\">"
      ],
      "text/plain": [
       "19×19 reinterpret(reshape, Gray{Float64}, ::Matrix{Float64}) with eltype Gray{Float64}:\n",
       " Gray{Float64}(5.00853e-27)  …  Gray{Float64}(2.32139e-39)\n",
       " Gray{Float64}(2.38036e-26)     Gray{Float64}(3.10055e-31)\n",
       " Gray{Float64}(4.80741e-15)     Gray{Float64}(1.16514e-20)\n",
       " Gray{Float64}(3.11053e-45)     Gray{Float64}(8.45741e-14)\n",
       " Gray{Float64}(8.76393e-65)     Gray{Float64}(4.64543e-24)\n",
       " Gray{Float64}(4.71373e-35)  …  Gray{Float64}(8.85769e-18)\n",
       " Gray{Float64}(1.85815e-10)     Gray{Float64}(4.66434e-15)\n",
       " Gray{Float64}(0.00708575)      Gray{Float64}(0.0012253)\n",
       " Gray{Float64}(0.244784)        Gray{Float64}(0.249053)\n",
       " Gray{Float64}(0.0770498)       Gray{Float64}(0.140574)\n",
       " Gray{Float64}(2.45931e-5)   …  Gray{Float64}(0.000185005)\n",
       " Gray{Float64}(6.2644e-10)      Gray{Float64}(4.6893e-10)\n",
       " Gray{Float64}(1.18071e-7)      Gray{Float64}(4.03298e-10)\n",
       " Gray{Float64}(0.00036484)      Gray{Float64}(7.37624e-9)\n",
       " Gray{Float64}(6.25083e-9)      Gray{Float64}(7.44394e-7)\n",
       " Gray{Float64}(2.26938e-10)  …  Gray{Float64}(7.90897e-8)\n",
       " Gray{Float64}(6.60362e-16)     Gray{Float64}(8.5099e-13)\n",
       " Gray{Float64}(4.42074e-7)      Gray{Float64}(2.00588e-32)\n",
       " Gray{Float64}(3.74624e-20)     Gray{Float64}(4.48034e-61)"
      ]
     },
     "metadata": {},
     "output_type": "display_data"
    }
   ],
   "source": [
    "colorview(Gray, reshape(W[2, :], 19, 19))"
   ]
  },
  {
   "attachments": {},
   "cell_type": "markdown",
   "metadata": {},
   "source": [
    "The contrast of the image is higher than original image. Actually these images in $\\mathbb{W}$ matrix are capturing the \"features\" of human faces. So, it looks like parts of human faces. "
   ]
  },
  {
   "cell_type": "markdown",
   "metadata": {},
   "source": [
    "### Q1.7 GPU (optional)\n",
    "\n",
    "Investigate the GPU capabilities of Julia. Report the speed gain of your GPU code over CPU code at ranks $r=10, 20, 30, 40, 50$. Make sure to use the same starting point as in Q1.3."
   ]
  },
  {
   "attachments": {},
   "cell_type": "markdown",
   "metadata": {},
   "source": [
    "#### Q1.7 solution:\n",
    "The machine I use is a Macbook Pro with M1 pro (Apple silicon). Due to the better support for single precision floating point operations, I used `Float32` instead of `Float64` in the GPU function `nnmfgpu`. Also, I reconstruct a new `nnmfsp` function for CPU with single precision to make a fair comparison."
   ]
  },
  {
   "cell_type": "code",
   "execution_count": 16,
   "metadata": {},
   "outputs": [
    {
     "name": "stdout",
     "output_type": "stream",
     "text": [
      "macOS 13.3.1, Darwin 21.5.0\n",
      "\n",
      "Toolchain:\n",
      "- Julia: 1.8.5\n",
      "- LLVM: 13.0.1\n",
      "\n",
      "1 device:\n",
      "- Apple M1 Pro (64.000 KiB allocated)\n"
     ]
    }
   ],
   "source": [
    "using Metal\n",
    "Metal.versioninfo()"
   ]
  },
  {
   "cell_type": "code",
   "execution_count": 17,
   "metadata": {},
   "outputs": [
    {
     "data": {
      "text/plain": [
       "nnmfgpu (generic function with 1 method)"
      ]
     },
     "metadata": {},
     "output_type": "display_data"
    }
   ],
   "source": [
    "# write a function with single precision for GPU\n",
    "function nnmfgpu(\n",
    "    # positional arguments\n",
    "    X       :: AbstractMatrix{T}, \n",
    "    r       :: Integer;\n",
    "    # kw arguments\n",
    "    maxiter :: Integer = 1000, \n",
    "    tolfun  :: Number = 0.0001f0,\n",
    "    V       :: AbstractMatrix{T} = Random.rand!(similar(X, size(X, 1), r)),\n",
    "    W       :: AbstractMatrix{T} = Random.rand!(similar(X, r, size(X, 2))),\n",
    "    ) where T <: AbstractFloat\n",
    "    # implementation\n",
    "    ## initialization and preallocation\n",
    "    obj0, obj, niter = 0.0f0, 1.0f0, 0\n",
    "    m, n = size(X)\n",
    "    XWt = MtlArray{Float32}(undef, m, r)\n",
    "    VtX = MtlArray{Float32}(undef, r, n)\n",
    "    WWt = W * transpose(W)\n",
    "    VtV = MtlArray{Float32}(undef, r, r)\n",
    "    VWWt = MtlArray{Float32}(undef, m, r)\n",
    "    VtVW = MtlArray{Float32}(undef, r, n)\n",
    "    trXtX = norm(X, 2)^2\n",
    "    WtVtX = MtlArray{Float32}(undef, n, n)\n",
    "    WWtVtV = MtlArray{Float32}(undef, r, r)\n",
    "    \n",
    "    ## main loop\n",
    "    while (abs(obj - obj0)) / (abs(obj0 + 1)) >= tolfun && niter < maxiter\n",
    "        # update V\n",
    "        mul!(XWt, X, transpose(W))\n",
    "        mul!(VWWt, V, WWt) # WWt was updated later in the loop\n",
    "        V .= V .* XWt ./ VWWt\n",
    "        # update W\n",
    "        mul!(VtX, transpose(V), X)\n",
    "        mul!(VtV, transpose(V), V)\n",
    "        mul!(VtVW, VtV, W)\n",
    "        W .= W .* VtX ./ VtVW\n",
    "        # update niter and obj\n",
    "        obj0 = obj\n",
    "        mul!(WWt, W, transpose(W))\n",
    "        mul!(WtVtX, transpose(W), VtX)\n",
    "        mul!(WWtVtV, WWt, VtV)\n",
    "        obj = trXtX - 2 * tr(WtVtX) + tr(WWtVtV)\n",
    "        niter += 1\n",
    "    end\n",
    "    \n",
    "    # Output\n",
    "    V, W, obj, niter\n",
    "end"
   ]
  },
  {
   "cell_type": "code",
   "execution_count": 18,
   "metadata": {},
   "outputs": [
    {
     "data": {
      "text/plain": [
       "nnmfsp (generic function with 1 method)"
      ]
     },
     "metadata": {},
     "output_type": "display_data"
    }
   ],
   "source": [
    "# write a function with single precision for CPU to compare\n",
    "function nnmfsp(\n",
    "    # positional arguments\n",
    "    X       :: AbstractMatrix{T}, \n",
    "    r       :: Integer;\n",
    "    # kw arguments\n",
    "    maxiter :: Integer = 1000, \n",
    "    tolfun  :: Number = 0.0001f0,\n",
    "    V       :: AbstractMatrix{T} = Random.rand!(similar(X, size(X, 1), r)),\n",
    "    W       :: AbstractMatrix{T} = Random.rand!(similar(X, r, size(X, 2))),\n",
    "    ) where T <: AbstractFloat\n",
    "    # implementation\n",
    "    ## initialization and preallocation\n",
    "    obj0, obj, niter = 0.0f0, 1.0f0, 0\n",
    "    m, n = size(X)\n",
    "    XWt = Array{Float32}(undef, m, r)\n",
    "    VtX = Array{Float32}(undef, r, n)\n",
    "    WWt = W * transpose(W)\n",
    "    VtV = Array{Float32}(undef, r, r)\n",
    "    VWWt = Array{Float32}(undef, m, r)\n",
    "    VtVW = Array{Float32}(undef, r, n)\n",
    "    trXtX = norm(X, 2)^2\n",
    "    WtVtX = Array{Float32}(undef, n, n)\n",
    "    WWtVtV = Array{Float32}(undef, r, r)\n",
    "    \n",
    "    ## main loop\n",
    "    while (abs(obj - obj0)) / (abs(obj0 + 1)) >= tolfun && niter < maxiter\n",
    "        # update V\n",
    "        mul!(XWt, X, transpose(W))\n",
    "        mul!(VWWt, V, WWt) # WWt was updated later in the loop\n",
    "        V .= V .* XWt ./ VWWt\n",
    "        # update W\n",
    "        mul!(VtX, transpose(V), X)\n",
    "        mul!(VtV, transpose(V), V)\n",
    "        mul!(VtVW, VtV, W)\n",
    "        W .= W .* VtX ./ VtVW\n",
    "        # update niter and obj\n",
    "        obj0 = obj\n",
    "        mul!(WWt, W, transpose(W))\n",
    "        mul!(WtVtX, transpose(W), VtX)\n",
    "        mul!(WWtVtV, WWt, VtV)\n",
    "        obj = trXtX - 2 * tr(WtVtX) + tr(WWtVtV)\n",
    "        niter += 1\n",
    "    end\n",
    "    \n",
    "    # Output\n",
    "    V, W, obj, niter\n",
    "end"
   ]
  },
  {
   "cell_type": "code",
   "execution_count": 20,
   "metadata": {},
   "outputs": [
    {
     "name": "stdout",
     "output_type": "stream",
     "text": [
      "r=10\n",
      "GPU performance: \n"
     ]
    },
    {
     "name": "stdout",
     "output_type": "stream",
     "text": [
      "  11.532 ms"
     ]
    },
    {
     "name": "stdout",
     "output_type": "stream",
     "text": [
      " (9349 allocations: 215.52 KiB)\n",
      "CPU performance (single precision): \n"
     ]
    },
    {
     "name": "stdout",
     "output_type": "stream",
     "text": [
      "  3.046 ms (11 allocations: 729.09 KiB)\n",
      "CPU performance (double precision): \n"
     ]
    },
    {
     "name": "stdout",
     "output_type": "stream",
     "text": [
      "  3.343 ms (13 allocations: 1.42 MiB)\n",
      "r=20\n",
      "GPU performance: \n"
     ]
    },
    {
     "name": "stdout",
     "output_type": "stream",
     "text": [
      "  10.436 ms"
     ]
    },
    {
     "name": "stdout",
     "output_type": "stream",
     "text": [
      " (9358 allocations: 215.66 KiB)\n",
      "CPU performance (single precision): \n"
     ]
    },
    {
     "name": "stdout",
     "output_type": "stream",
     "text": [
      "  3.859 ms (13 allocations: 950.78 KiB)\n",
      "CPU performance (double precision): \n"
     ]
    },
    {
     "name": "stdout",
     "output_type": "stream",
     "text": [
      "  4.314 ms (13 allocations: 1.86 MiB)\n",
      "r=30\n",
      "GPU performance: \n"
     ]
    },
    {
     "name": "stdout",
     "output_type": "stream",
     "text": [
      "  15.610 ms"
     ]
    },
    {
     "name": "stdout",
     "output_type": "stream",
     "text": [
      " (9368 allocations: 215.82 KiB)\n",
      "CPU performance (single precision): \n"
     ]
    },
    {
     "name": "stdout",
     "output_type": "stream",
     "text": [
      "  4.299 ms (13 allocations: 1.15 MiB)\n",
      "CPU performance (double precision): \n"
     ]
    },
    {
     "name": "stdout",
     "output_type": "stream",
     "text": [
      "  5.548 ms (13 allocations: 2.29 MiB)\n",
      "r=40\n",
      "GPU performance: \n"
     ]
    },
    {
     "name": "stdout",
     "output_type": "stream",
     "text": [
      "  16.618 ms"
     ]
    },
    {
     "name": "stdout",
     "output_type": "stream",
     "text": [
      " (9368 allocations: 215.82 KiB)\n",
      "CPU performance (single precision): \n"
     ]
    },
    {
     "name": "stdout",
     "output_type": "stream",
     "text": [
      "  4.995 ms (13 allocations: 1.37 MiB)\n",
      "CPU performance (double precision): \n"
     ]
    },
    {
     "name": "stdout",
     "output_type": "stream",
     "text": [
      "  6.052 ms (13 allocations: 2.73 MiB)\n",
      "r=50\n",
      "GPU performance: \n"
     ]
    },
    {
     "name": "stdout",
     "output_type": "stream",
     "text": [
      "  20.469 ms"
     ]
    },
    {
     "name": "stdout",
     "output_type": "stream",
     "text": [
      " (9368 allocations: 215.82 KiB)\n",
      "CPU performance (single precision): \n"
     ]
    },
    {
     "name": "stdout",
     "output_type": "stream",
     "text": [
      "  4.779 ms (13 allocations: 1.59 MiB)\n",
      "CPU performance (double precision): \n"
     ]
    },
    {
     "name": "stdout",
     "output_type": "stream",
     "text": [
      "  6.574 ms (16 allocations: 3.18 MiB)\n",
      "FINISH"
     ]
    }
   ],
   "source": [
    "# convert X as single precision matrix and transfer to GPU\n",
    "Xsp = convert(Array{Float32}, X)\n",
    "Xd = MtlArray(Xsp)\n",
    "# benchmark on GPU\n",
    "for r in [10, 20, 30, 40, 50]\n",
    "    println(\"r=$r\")\n",
    "    V0 = V0full[:, 1:r]\n",
    "    W0 = W0full[1:r, :]\n",
    "    V0sp = convert(Array{Float32}, V0)\n",
    "    W0sp = convert(Array{Float32}, W0)\n",
    "    V0d = MtlArray(V0sp)\n",
    "    W0d = MtlArray(W0sp)\n",
    "    println(\"GPU performance: \")\n",
    "    @btime nnmfgpu($Xd, $r, V = $V0d, W = $W0d) \n",
    "    println(\"CPU performance (single precision): \")\n",
    "    @btime nnmfsp($Xsp, $r, V = $V0sp, W = $W0sp) \n",
    "    println(\"CPU performance (double precision): \")\n",
    "    @btime nnmf($X, $r, V = $V0, W = $W0) \n",
    "end\n",
    "print(\"FINISH\")"
   ]
  },
  {
   "cell_type": "code",
   "execution_count": 21,
   "metadata": {},
   "outputs": [
    {
     "data": {
      "text/plain": [
       "BenchmarkTools.Trial: 306 samples with 1 evaluation.\n",
       " Range \u001b[90m(\u001b[39m\u001b[36m\u001b[1mmin\u001b[22m\u001b[39m … \u001b[35mmax\u001b[39m\u001b[90m):  \u001b[39m\u001b[36m\u001b[1m 8.531 ms\u001b[22m\u001b[39m … \u001b[35m18.654 ms\u001b[39m  \u001b[90m┊\u001b[39m GC \u001b[90m(\u001b[39mmin … max\u001b[90m): \u001b[39m0.00% … 0.00%\n",
       " Time  \u001b[90m(\u001b[39m\u001b[34m\u001b[1mmedian\u001b[22m\u001b[39m\u001b[90m):     \u001b[39m\u001b[34m\u001b[1m16.682 ms              \u001b[22m\u001b[39m\u001b[90m┊\u001b[39m GC \u001b[90m(\u001b[39mmedian\u001b[90m):    \u001b[39m0.00%\n",
       " Time  \u001b[90m(\u001b[39m\u001b[32m\u001b[1mmean\u001b[22m\u001b[39m ± \u001b[32mσ\u001b[39m\u001b[90m):   \u001b[39m\u001b[32m\u001b[1m16.338 ms\u001b[22m\u001b[39m ± \u001b[32m 1.618 ms\u001b[39m  \u001b[90m┊\u001b[39m GC \u001b[90m(\u001b[39mmean ± σ\u001b[90m):  \u001b[39m0.00% ± 0.00%\n",
       "\n",
       "  \u001b[39m \u001b[39m \u001b[39m \u001b[39m \u001b[39m \u001b[39m \u001b[39m \u001b[39m \u001b[39m \u001b[39m \u001b[39m \u001b[39m \u001b[39m \u001b[39m \u001b[39m \u001b[39m \u001b[39m \u001b[39m \u001b[39m \u001b[39m \u001b[39m \u001b[39m \u001b[39m \u001b[39m \u001b[39m \u001b[39m \u001b[39m \u001b[39m \u001b[39m \u001b[39m \u001b[39m \u001b[39m \u001b[39m \u001b[39m \u001b[39m \u001b[39m \u001b[39m \u001b[39m \u001b[39m \u001b[39m \u001b[39m \u001b[39m \u001b[39m \u001b[39m \u001b[39m \u001b[39m \u001b[39m \u001b[32m▂\u001b[39m\u001b[39m▆\u001b[34m█\u001b[39m\u001b[39m \u001b[39m▅\u001b[39m▆\u001b[39m \u001b[39m▁\u001b[39m \u001b[39m \u001b[39m \u001b[39m \u001b[39m \u001b[39m \n",
       "  \u001b[39m▃\u001b[39m▃\u001b[39m▁\u001b[39m▂\u001b[39m▁\u001b[39m▁\u001b[39m▁\u001b[39m▁\u001b[39m▁\u001b[39m▁\u001b[39m▁\u001b[39m▁\u001b[39m▂\u001b[39m▁\u001b[39m▂\u001b[39m▁\u001b[39m▁\u001b[39m▁\u001b[39m▁\u001b[39m▁\u001b[39m▂\u001b[39m▁\u001b[39m▁\u001b[39m▁\u001b[39m▁\u001b[39m▂\u001b[39m▁\u001b[39m▁\u001b[39m▂\u001b[39m▂\u001b[39m▁\u001b[39m▁\u001b[39m▄\u001b[39m▂\u001b[39m▄\u001b[39m▃\u001b[39m▃\u001b[39m▃\u001b[39m▃\u001b[39m▄\u001b[39m▆\u001b[39m▆\u001b[39m▄\u001b[39m▆\u001b[39m█\u001b[39m▇\u001b[39m█\u001b[32m█\u001b[39m\u001b[39m█\u001b[34m█\u001b[39m\u001b[39m█\u001b[39m█\u001b[39m█\u001b[39m█\u001b[39m█\u001b[39m▅\u001b[39m▄\u001b[39m▆\u001b[39m▄\u001b[39m \u001b[39m▃\n",
       "  8.53 ms\u001b[90m         Histogram: frequency by time\u001b[39m        18.3 ms \u001b[0m\u001b[1m<\u001b[22m\n",
       "\n",
       " Memory estimate\u001b[90m: \u001b[39m\u001b[33m215.52 KiB\u001b[39m, allocs estimate\u001b[90m: \u001b[39m\u001b[33m9349\u001b[39m."
      ]
     },
     "metadata": {},
     "output_type": "display_data"
    }
   ],
   "source": [
    "# extra benchmark to compare the performance of GPU and CPU when r=10\n",
    "V0 = V0full[:, 1:10]\n",
    "W0 = W0full[1:10, :]\n",
    "V0sp = convert(Array{Float32}, V0)\n",
    "W0sp = convert(Array{Float32}, W0)\n",
    "V0d = MtlArray(V0sp)\n",
    "W0d = MtlArray(W0sp)\n",
    "@benchmark nnmfgpu($Xd, 10, V = $V0d, W = $W0d) "
   ]
  },
  {
   "cell_type": "code",
   "execution_count": 22,
   "metadata": {},
   "outputs": [
    {
     "data": {
      "text/plain": [
       "BenchmarkTools.Trial: 312 samples with 1 evaluation.\n",
       " Range \u001b[90m(\u001b[39m\u001b[36m\u001b[1mmin\u001b[22m\u001b[39m … \u001b[35mmax\u001b[39m\u001b[90m):  \u001b[39m\u001b[36m\u001b[1m 8.614 ms\u001b[22m\u001b[39m … \u001b[35m25.080 ms\u001b[39m  \u001b[90m┊\u001b[39m GC \u001b[90m(\u001b[39mmin … max\u001b[90m): \u001b[39m0.00% … 0.00%\n",
       " Time  \u001b[90m(\u001b[39m\u001b[34m\u001b[1mmedian\u001b[22m\u001b[39m\u001b[90m):     \u001b[39m\u001b[34m\u001b[1m16.648 ms              \u001b[22m\u001b[39m\u001b[90m┊\u001b[39m GC \u001b[90m(\u001b[39mmedian\u001b[90m):    \u001b[39m0.00%\n",
       " Time  \u001b[90m(\u001b[39m\u001b[32m\u001b[1mmean\u001b[22m\u001b[39m ± \u001b[32mσ\u001b[39m\u001b[90m):   \u001b[39m\u001b[32m\u001b[1m16.019 ms\u001b[22m\u001b[39m ± \u001b[32m 2.188 ms\u001b[39m  \u001b[90m┊\u001b[39m GC \u001b[90m(\u001b[39mmean ± σ\u001b[90m):  \u001b[39m0.00% ± 0.00%\n",
       "\n",
       "  \u001b[39m \u001b[39m \u001b[39m \u001b[39m \u001b[39m \u001b[39m \u001b[39m \u001b[39m \u001b[39m \u001b[39m \u001b[39m \u001b[39m \u001b[39m \u001b[39m \u001b[39m \u001b[39m \u001b[39m \u001b[39m \u001b[39m \u001b[39m \u001b[39m \u001b[39m \u001b[39m \u001b[39m \u001b[39m \u001b[39m \u001b[39m \u001b[39m \u001b[39m \u001b[39m \u001b[39m \u001b[39m \u001b[39m \u001b[39m \u001b[39m \u001b[39m \u001b[32m▄\u001b[39m\u001b[39m \u001b[39m▂\u001b[34m█\u001b[39m\u001b[39m█\u001b[39m▃\u001b[39m▆\u001b[39m█\u001b[39m▃\u001b[39m \u001b[39m \u001b[39m \u001b[39m \u001b[39m \u001b[39m \u001b[39m \u001b[39m \u001b[39m \u001b[39m \u001b[39m \u001b[39m \u001b[39m \u001b[39m \u001b[39m \u001b[39m \n",
       "  \u001b[39m▂\u001b[39m▅\u001b[39m▁\u001b[39m▁\u001b[39m▁\u001b[39m▃\u001b[39m▂\u001b[39m▂\u001b[39m▁\u001b[39m▂\u001b[39m▃\u001b[39m▂\u001b[39m▄\u001b[39m▄\u001b[39m▂\u001b[39m▃\u001b[39m▂\u001b[39m▃\u001b[39m▁\u001b[39m▃\u001b[39m▁\u001b[39m▃\u001b[39m▂\u001b[39m▂\u001b[39m▁\u001b[39m▄\u001b[39m▄\u001b[39m▄\u001b[39m▄\u001b[39m▄\u001b[39m▅\u001b[39m▆\u001b[39m▇\u001b[39m▆\u001b[39m▆\u001b[39m▇\u001b[32m█\u001b[39m\u001b[39m▇\u001b[39m█\u001b[34m█\u001b[39m\u001b[39m█\u001b[39m█\u001b[39m█\u001b[39m█\u001b[39m█\u001b[39m▆\u001b[39m▄\u001b[39m▄\u001b[39m▂\u001b[39m▁\u001b[39m▁\u001b[39m▁\u001b[39m▁\u001b[39m▁\u001b[39m▁\u001b[39m▂\u001b[39m▁\u001b[39m▁\u001b[39m▂\u001b[39m \u001b[39m▄\n",
       "  8.61 ms\u001b[90m         Histogram: frequency by time\u001b[39m        20.7 ms \u001b[0m\u001b[1m<\u001b[22m\n",
       "\n",
       " Memory estimate\u001b[90m: \u001b[39m\u001b[33m215.87 KiB\u001b[39m, allocs estimate\u001b[90m: \u001b[39m\u001b[33m9366\u001b[39m."
      ]
     },
     "metadata": {},
     "output_type": "display_data"
    }
   ],
   "source": [
    "@benchmark Metal.@sync nnmfgpu($Xd, 10, V = $V0d, W = $W0d) "
   ]
  },
  {
   "cell_type": "code",
   "execution_count": 23,
   "metadata": {},
   "outputs": [
    {
     "data": {
      "text/plain": [
       "BenchmarkTools.Trial: 1443 samples with 1 evaluation.\n",
       " Range \u001b[90m(\u001b[39m\u001b[36m\u001b[1mmin\u001b[22m\u001b[39m … \u001b[35mmax\u001b[39m\u001b[90m):  \u001b[39m\u001b[36m\u001b[1m3.062 ms\u001b[22m\u001b[39m … \u001b[35m27.829 ms\u001b[39m  \u001b[90m┊\u001b[39m GC \u001b[90m(\u001b[39mmin … max\u001b[90m): \u001b[39m0.00% … 0.00%\n",
       " Time  \u001b[90m(\u001b[39m\u001b[34m\u001b[1mmedian\u001b[22m\u001b[39m\u001b[90m):     \u001b[39m\u001b[34m\u001b[1m3.171 ms              \u001b[22m\u001b[39m\u001b[90m┊\u001b[39m GC \u001b[90m(\u001b[39mmedian\u001b[90m):    \u001b[39m0.00%\n",
       " Time  \u001b[90m(\u001b[39m\u001b[32m\u001b[1mmean\u001b[22m\u001b[39m ± \u001b[32mσ\u001b[39m\u001b[90m):   \u001b[39m\u001b[32m\u001b[1m3.464 ms\u001b[22m\u001b[39m ± \u001b[32m 1.389 ms\u001b[39m  \u001b[90m┊\u001b[39m GC \u001b[90m(\u001b[39mmean ± σ\u001b[90m):  \u001b[39m0.98% ± 4.71%\n",
       "\n",
       "  \u001b[39m█\u001b[34m▆\u001b[39m\u001b[39m▄\u001b[39m▂\u001b[32m▂\u001b[39m\u001b[39m▁\u001b[39m \u001b[39m \u001b[39m \u001b[39m \u001b[39m \u001b[39m \u001b[39m \u001b[39m \u001b[39m \u001b[39m \u001b[39m \u001b[39m \u001b[39m \u001b[39m \u001b[39m \u001b[39m \u001b[39m \u001b[39m \u001b[39m \u001b[39m \u001b[39m \u001b[39m \u001b[39m \u001b[39m \u001b[39m \u001b[39m \u001b[39m \u001b[39m \u001b[39m \u001b[39m \u001b[39m \u001b[39m \u001b[39m \u001b[39m \u001b[39m \u001b[39m \u001b[39m \u001b[39m \u001b[39m \u001b[39m \u001b[39m \u001b[39m \u001b[39m \u001b[39m \u001b[39m \u001b[39m \u001b[39m \u001b[39m \u001b[39m \u001b[39m \u001b[39m \u001b[39m \u001b[39m \u001b[39m \n",
       "  \u001b[39m█\u001b[34m█\u001b[39m\u001b[39m█\u001b[39m█\u001b[32m█\u001b[39m\u001b[39m█\u001b[39m█\u001b[39m▇\u001b[39m▇\u001b[39m▇\u001b[39m▇\u001b[39m▅\u001b[39m▇\u001b[39m▅\u001b[39m▄\u001b[39m▆\u001b[39m▅\u001b[39m▅\u001b[39m▅\u001b[39m▅\u001b[39m▆\u001b[39m▅\u001b[39m▅\u001b[39m▃\u001b[39m▃\u001b[39m▃\u001b[39m▅\u001b[39m▃\u001b[39m▁\u001b[39m▁\u001b[39m▃\u001b[39m▁\u001b[39m▄\u001b[39m▃\u001b[39m▁\u001b[39m▁\u001b[39m▃\u001b[39m▁\u001b[39m▁\u001b[39m▁\u001b[39m▁\u001b[39m▁\u001b[39m▃\u001b[39m▁\u001b[39m▃\u001b[39m▁\u001b[39m▃\u001b[39m▄\u001b[39m▁\u001b[39m▃\u001b[39m▃\u001b[39m▁\u001b[39m▁\u001b[39m▁\u001b[39m▁\u001b[39m▁\u001b[39m▁\u001b[39m▄\u001b[39m \u001b[39m█\n",
       "  3.06 ms\u001b[90m      \u001b[39m\u001b[90mHistogram: \u001b[39m\u001b[90m\u001b[1mlog(\u001b[22m\u001b[39m\u001b[90mfrequency\u001b[39m\u001b[90m\u001b[1m)\u001b[22m\u001b[39m\u001b[90m by time\u001b[39m     9.68 ms \u001b[0m\u001b[1m<\u001b[22m\n",
       "\n",
       " Memory estimate\u001b[90m: \u001b[39m\u001b[33m729.09 KiB\u001b[39m, allocs estimate\u001b[90m: \u001b[39m\u001b[33m11\u001b[39m."
      ]
     },
     "metadata": {},
     "output_type": "display_data"
    }
   ],
   "source": [
    "@benchmark nnmfsp($Xsp, 10, V = $V0sp, W = $W0sp)"
   ]
  },
  {
   "cell_type": "code",
   "execution_count": 24,
   "metadata": {},
   "outputs": [
    {
     "data": {
      "text/plain": [
       "BenchmarkTools.Trial: 1206 samples with 1 evaluation.\n",
       " Range \u001b[90m(\u001b[39m\u001b[36m\u001b[1mmin\u001b[22m\u001b[39m … \u001b[35mmax\u001b[39m\u001b[90m):  \u001b[39m\u001b[36m\u001b[1m3.307 ms\u001b[22m\u001b[39m … \u001b[35m35.178 ms\u001b[39m  \u001b[90m┊\u001b[39m GC \u001b[90m(\u001b[39mmin … max\u001b[90m): \u001b[39m0.00% … 0.00%\n",
       " Time  \u001b[90m(\u001b[39m\u001b[34m\u001b[1mmedian\u001b[22m\u001b[39m\u001b[90m):     \u001b[39m\u001b[34m\u001b[1m3.674 ms              \u001b[22m\u001b[39m\u001b[90m┊\u001b[39m GC \u001b[90m(\u001b[39mmedian\u001b[90m):    \u001b[39m0.00%\n",
       " Time  \u001b[90m(\u001b[39m\u001b[32m\u001b[1mmean\u001b[22m\u001b[39m ± \u001b[32mσ\u001b[39m\u001b[90m):   \u001b[39m\u001b[32m\u001b[1m4.143 ms\u001b[22m\u001b[39m ± \u001b[32m 1.868 ms\u001b[39m  \u001b[90m┊\u001b[39m GC \u001b[90m(\u001b[39mmean ± σ\u001b[90m):  \u001b[39m1.31% ± 5.68%\n",
       "\n",
       "  \u001b[39m▂\u001b[39m▇\u001b[34m█\u001b[39m\u001b[39m▅\u001b[39m▄\u001b[32m▂\u001b[39m\u001b[39m▁\u001b[39m \u001b[39m \u001b[39m \u001b[39m \u001b[39m \u001b[39m \u001b[39m \u001b[39m \u001b[39m \u001b[39m \u001b[39m \u001b[39m \u001b[39m \u001b[39m \u001b[39m \u001b[39m \u001b[39m \u001b[39m \u001b[39m \u001b[39m \u001b[39m \u001b[39m \u001b[39m \u001b[39m \u001b[39m \u001b[39m \u001b[39m \u001b[39m \u001b[39m \u001b[39m \u001b[39m \u001b[39m \u001b[39m \u001b[39m \u001b[39m \u001b[39m \u001b[39m \u001b[39m \u001b[39m \u001b[39m \u001b[39m \u001b[39m \u001b[39m \u001b[39m \u001b[39m \u001b[39m \u001b[39m \u001b[39m \u001b[39m \u001b[39m \u001b[39m \u001b[39m \u001b[39m \n",
       "  \u001b[39m█\u001b[39m█\u001b[34m█\u001b[39m\u001b[39m█\u001b[39m█\u001b[32m█\u001b[39m\u001b[39m█\u001b[39m▇\u001b[39m▇\u001b[39m▅\u001b[39m▇\u001b[39m▇\u001b[39m▆\u001b[39m█\u001b[39m▅\u001b[39m▆\u001b[39m▆\u001b[39m▅\u001b[39m▆\u001b[39m▅\u001b[39m▆\u001b[39m▅\u001b[39m▄\u001b[39m▅\u001b[39m▅\u001b[39m▅\u001b[39m▄\u001b[39m▄\u001b[39m▄\u001b[39m▅\u001b[39m▄\u001b[39m▄\u001b[39m▄\u001b[39m▄\u001b[39m▄\u001b[39m▅\u001b[39m▁\u001b[39m▄\u001b[39m▄\u001b[39m▁\u001b[39m▅\u001b[39m▄\u001b[39m▁\u001b[39m▄\u001b[39m▅\u001b[39m▁\u001b[39m▄\u001b[39m▄\u001b[39m▅\u001b[39m▁\u001b[39m▁\u001b[39m▄\u001b[39m▁\u001b[39m▁\u001b[39m▁\u001b[39m▄\u001b[39m▄\u001b[39m▄\u001b[39m \u001b[39m█\n",
       "  3.31 ms\u001b[90m      \u001b[39m\u001b[90mHistogram: \u001b[39m\u001b[90m\u001b[1mlog(\u001b[22m\u001b[39m\u001b[90mfrequency\u001b[39m\u001b[90m\u001b[1m)\u001b[22m\u001b[39m\u001b[90m by time\u001b[39m     12.4 ms \u001b[0m\u001b[1m<\u001b[22m\n",
       "\n",
       " Memory estimate\u001b[90m: \u001b[39m\u001b[33m1.42 MiB\u001b[39m, allocs estimate\u001b[90m: \u001b[39m\u001b[33m13\u001b[39m."
      ]
     },
     "metadata": {},
     "output_type": "display_data"
    }
   ],
   "source": [
    "@benchmark nnmf($X, 10, V = $V0, W = $W0)"
   ]
  }
 ],
 "metadata": {
  "@webio": {
   "lastCommId": null,
   "lastKernelId": null
  },
  "kernelspec": {
   "display_name": "Julia 1.8.5",
   "language": "julia",
   "name": "julia-1.8"
  },
  "language_info": {
   "file_extension": ".jl",
   "mimetype": "application/julia",
   "name": "julia",
   "version": "1.8.5"
  },
  "toc": {
   "colors": {
    "hover_highlight": "#DAA520",
    "running_highlight": "#FF0000",
    "selected_highlight": "#FFD700"
   },
   "moveMenuLeft": true,
   "nav_menu": {
    "height": "87px",
    "width": "252px"
   },
   "navigate_menu": true,
   "number_sections": true,
   "sideBar": true,
   "skip_h1_title": true,
   "threshold": 4,
   "toc_cell": false,
   "toc_section_display": "block",
   "toc_window_display": false,
   "widenNotebook": false
  }
 },
 "nbformat": 4,
 "nbformat_minor": 4
}
