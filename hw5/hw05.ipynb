{
 "cells": [
  {
   "cell_type": "raw",
   "metadata": {},
   "source": [
    "---\n",
    "title: Biostat/Biomath M257 Homework 5\n",
    "subtitle: 'Due May 26 @ 11:59PM'\n",
    "author: Yuyuan Lin (804886544)\n",
    "date: today\n",
    "format:\n",
    "  html:\n",
    "    theme: cosmo\n",
    "    embed-resources: true\n",
    "    number-sections: true\n",
    "    toc: true\n",
    "    toc-depth: 4\n",
    "    toc-location: left\n",
    "---"
   ]
  },
  {
   "cell_type": "markdown",
   "metadata": {},
   "source": [
    "System information (for reproducibility):"
   ]
  },
  {
   "cell_type": "code",
   "execution_count": 1,
   "metadata": {
    "tags": []
   },
   "outputs": [
    {
     "name": "stdout",
     "output_type": "stream",
     "text": [
      "Julia Version 1.9.0\n",
      "Commit 8e630552924 (2023-05-07 11:25 UTC)\n",
      "Platform Info:\n",
      "  OS: macOS (arm64-apple-darwin22.4.0)\n",
      "  CPU: 8 × Apple M1 Pro\n",
      "  WORD_SIZE: 64\n",
      "  LIBM: libopenlibm\n",
      "  LLVM: libLLVM-14.0.6 (ORCJIT, apple-m1)\n",
      "  Threads: 6 on 6 virtual cores\n",
      "Environment:\n",
      "  JULIA_EDITOR = code\n",
      "  JULIA_NUM_THREADS = 6\n"
     ]
    }
   ],
   "source": [
    "versioninfo()"
   ]
  },
  {
   "cell_type": "markdown",
   "metadata": {},
   "source": [
    "Load packages:"
   ]
  },
  {
   "cell_type": "code",
   "execution_count": 2,
   "metadata": {
    "tags": []
   },
   "outputs": [
    {
     "name": "stderr",
     "output_type": "stream",
     "text": [
      "\u001b[32m\u001b[1m  Activating\u001b[22m\u001b[39m project at `~/Documents/UCLA_files/course_work/BIS_M257/hw/biostat-257-2023-spring/hw5`\n"
     ]
    },
    {
     "name": "stdout",
     "output_type": "stream",
     "text": [
      "\u001b[32m\u001b[1mStatus\u001b[22m\u001b[39m `~/Documents/UCLA_files/course_work/BIS_M257/hw/biostat-257-2023-spring/hw5/Project.toml`\n",
      "  \u001b[90m[1e616198] \u001b[39mCOSMO v0.8.7\n",
      "  \u001b[90m[f65535da] \u001b[39mConvex v0.15.3\n",
      "  \u001b[90m[a93c6f00] \u001b[39mDataFrames v1.5.0\n",
      "  \u001b[90m[87dc4568] \u001b[39mHiGHS v1.5.1\n",
      "\u001b[32m⌃\u001b[39m \u001b[90m[b99e6be6] \u001b[39mHypatia v0.7.2\n",
      "\u001b[32m⌃\u001b[39m \u001b[90m[4076af6c] \u001b[39mJuMP v1.11.0\n",
      "  \u001b[90m[2f354839] \u001b[39mPajarito v0.8.2\n",
      "  \u001b[90m[08abe8d2] \u001b[39mPrettyTables v2.2.4\n",
      "  \u001b[90m[3eaba693] \u001b[39mStatsModels v0.7.2\n",
      "\u001b[36m\u001b[1mInfo\u001b[22m\u001b[39m Packages marked with \u001b[32m⌃\u001b[39m have new versions available and may be upgradable.\n"
     ]
    }
   ],
   "source": [
    "using Pkg\n",
    "\n",
    "Pkg.activate(pwd())\n",
    "Pkg.instantiate()\n",
    "Pkg.status()"
   ]
  },
  {
   "attachments": {},
   "cell_type": "markdown",
   "metadata": {},
   "source": [
    "In this exercise, we practice using disciplined convex programming (SDP in particular) to solve optimal design problems.\n",
    "\n",
    "## Introduction to Optimal design\n",
    "\n",
    "Consider a linear model\n",
    "\\begin{align*}\n",
    "\ty_i = \\mathbf{x}_i^T \\boldsymbol{\\beta} + \\epsilon_i, \\quad i = 1,\\ldots, n,\n",
    "\\end{align*}\n",
    "where $\\epsilon_i$ are independent Gaussian noises with common variance $\\sigma^2$. It is well known that the least squares estimate $\\hat{\\boldsymbol{\\beta}}$ is unbiased and has covariance $\\sigma^2 (\\sum_{i=1}^n \\mathbf{x}_i \\mathbf{x}_i^T)^{-1}$. \n",
    "\n",
    "In **exact optimal design**, given total number of $n$ allowable experiments, we want to choose among a list of $m$ candidate design points $\\{\\mathbf{x}_1, \\ldots, \\mathbf{x}_m\\}$ such that the covariance matrix is minimized in some sense. In mathematical terms, we want to find an integer vector $\\mathbf{n} = (n_1, \\ldots, n_m)$ such that $n_i \\ge 0$, $\\sum_{i=1}^m n_i = n$, and the matrix $\\mathbf{V} = \\left( \\sum_{i=1}^m n_i \\mathbf{x}_i \\mathbf{x}_i^T \\right)^{-1}$ is \"small\".\n",
    "\n",
    "In **approximate optimal design**,  we want to find a probability vector $\\mathbf{p} = (p_1, \\ldots, p_m)$ such that $p_i \\ge 0$, $\\sum_{i=1}^m p_i = 1$, and the matrix $\\mathbf{V} = \\left( \\sum_{i=1}^m p_i \\mathbf{x}_i \\mathbf{x}_i^T \\right)^{-1}$ is \"small\".\n",
    "\n",
    "Commonly used optimal design criteria include:\n",
    "\n",
    "- In **$D$-optimal design**, we minimize the determinant of $\\mathbf{V}$\n",
    "\n",
    "\\begin{align*}\n",
    "\t&\\text{minimize}& \\det \\left( \\sum_{i=1}^m p_i \\mathbf{x}_i \\mathbf{x}_i^T \\right)^{-1} \\\\\n",
    "\t&\\text{subject to}& p_i \\ge 0, \\sum_{i=1}^m p_i = 1.\n",
    "\\end{align*}\n",
    "\n",
    "- In **$E$-optimal design**, we minimize the spectral norm, i.e., the maximum eigenvalue of $\\mathbf{V}$\n",
    "\\begin{align*}\n",
    "\t&\\text{minimize}& \\lambda_{\\text{max}} \\left( \\sum_{i=1}^m p_i \\mathbf{x}_i \\mathbf{x}_i^T \\right)^{-1} \\\\\n",
    "\t&\\text{subject to}& p_i \\ge 0, \\sum_{i=1}^m p_i = 1.\t\n",
    "\\end{align*}\n",
    "Statistically we are minimizing the maximum variance of $\\sum_{j=1}^p a_j \\text{var}(\\hat \\beta_j)$ over all vectors $\\mathbf{a}$ with unit norm.\n",
    "\n",
    "- In **$A$-optimal design**, we minimize the trace of $\\mathbf{V}$\n",
    "\\begin{align*}\n",
    "\t&\\text{minimize}& \\text{tr} \\left( \\sum_{i=1}^m p_i \\mathbf{x}_i \\mathbf{x}_i^T \\right)^{-1} \\\\\n",
    "\t&\\text{subject to}& p_i \\ge 0, \\sum_{i=1}^m p_i = 1.\n",
    "\\end{align*}\n",
    "Statistically we are minimizing the total variance $\\sum_{j=1}^p \\text{var}(\\hat \\beta_j)$.\n",
    "\n",
    "## Q1 (10 pts) 3x4 factorial design\n",
    "\n",
    "A drug company ask you to help design a two factor clinical trial, in which treatment A has three levels (A1, A2, and A3) and treatment B has four levels (B1, B2, B3, and B4). Drug company also tells you that the treatment combination A3:B4 has undesirable side effects so we ignore this design point. \n",
    "\n",
    "Using dummy coding with A1 and B1 as the baseline levels, find the matrix $C$ with each row a unique design point."
   ]
  },
  {
   "cell_type": "code",
   "execution_count": 27,
   "metadata": {},
   "outputs": [
    {
     "data": {
      "text/plain": [
       "11×6 Matrix{Int64}:\n",
       " 1  0  0  0  0  0\n",
       " 1  1  0  0  0  0\n",
       " 1  0  1  0  0  0\n",
       " 1  0  0  1  0  0\n",
       " 1  1  0  1  0  0\n",
       " 1  0  1  1  0  0\n",
       " 1  0  0  0  1  0\n",
       " 1  1  0  0  1  0\n",
       " 1  0  1  0  1  0\n",
       " 1  0  0  0  0  1\n",
       " 1  1  0  0  0  1"
      ]
     },
     "metadata": {},
     "output_type": "display_data"
    }
   ],
   "source": [
    "lv_A = [\"A1\", \"A2\", \"A3\"]\n",
    "lv_B = [\"B1\", \"B2\", \"B3\", \"B4\"]\n",
    "ref_A = \"A1\"; ref_B = \"B1\"\n",
    "lv_design = [(a, b) for a in lv_A, b in lv_B if !(a == \"A3\" && b == \"B4\")]\n",
    "\n",
    "row  = zeros(Int, length(lv_A) + length(lv_B) - 2)\n",
    "nrow = length(lv_design)\n",
    "C = zeros(Int, nrow, length(row))\n",
    "\n",
    "for i in 1:nrow\n",
    "    # reset row\n",
    "    row .= zeros(Int, length(lv_A) + length(lv_B) - 2)\n",
    "    \n",
    "    # dummy coding for A\n",
    "    if lv_design[i][1] == ref_A \n",
    "        row[1:length(lv_A) - 1] .= 0\n",
    "    else\n",
    "        row[findfirst(x -> x == lv_design[i][1], lv_A[2:3])] = 1\n",
    "    end\n",
    "    \n",
    "    # dummy coding for B\n",
    "    if lv_design[i][2] == ref_B\n",
    "        row[length(lv_A):end] .= 0\n",
    "    else\n",
    "        row[findfirst(x -> x == lv_design[i][2], lv_B[2:4]) + length(lv_A) - 1] = 1\n",
    "    end\n",
    "    \n",
    "    C[i, :] = row\n",
    "end\n",
    "\n",
    "# add intercepts\n",
    "C = [ones(Int, nrow) C]"
   ]
  },
  {
   "cell_type": "markdown",
   "metadata": {},
   "source": [
    "## Q2 (30 pts) Find approximate optimal designs\n",
    "\n",
    "Using semidefinite programming (SDP) software to find the approximate D-, E-, and A-optimal designs for this clinical trial.\n",
    "\n",
    "Hint: This is what I got, which may or may not be correct.\n",
    "\n",
    "```\n",
    "Approximate Optimal Design\n",
    "┌───────────┬─────────┬─────────┬─────────┬─────────┬─────────┬─────────┐\n",
    "│ design_pt │   D_opt │   E_opt │   A_opt │ D_opt_n │ E_opt_n │ A_opt_n │\n",
    "│    String │ Float64 │ Float64 │ Float64 │ Float64 │ Float64 │ Float64 │\n",
    "├───────────┼─────────┼─────────┼─────────┼─────────┼─────────┼─────────┤\n",
    "│      A1B1 │   0.082 │   0.272 │   0.200 │       8 │      27 │      20 │\n",
    "│      A2B1 │   0.082 │   0.152 │   0.101 │       8 │      15 │      10 │\n",
    "│      A3B1 │   0.097 │   0.114 │   0.104 │      10 │      11 │      10 │\n",
    "│      A1B2 │   0.082 │   0.057 │   0.086 │       8 │       6 │       9 │\n",
    "│      A2B2 │   0.082 │   0.039 │   0.051 │       8 │       4 │       5 │\n",
    "│      A3B2 │   0.097 │   0.057 │   0.068 │      10 │       6 │       7 │\n",
    "│      A1B3 │   0.082 │   0.057 │   0.086 │       8 │       6 │       9 │\n",
    "│      A2B3 │   0.082 │   0.039 │   0.051 │       8 │       4 │       5 │\n",
    "│      A3B3 │   0.097 │   0.057 │   0.068 │      10 │       6 │       7 │\n",
    "│      A1B4 │   0.109 │   0.081 │   0.106 │      11 │       8 │      11 │\n",
    "│      A2B4 │   0.109 │   0.073 │   0.080 │      11 │       7 │       8 │\n",
    "└───────────┴─────────┴─────────┴─────────┴─────────┴─────────┴─────────┘\n",
    "```"
   ]
  },
  {
   "cell_type": "code",
   "execution_count": 35,
   "metadata": {},
   "outputs": [
    {
     "data": {
      "text/plain": [
       "2-element Vector{Constraint}:\n",
       " == constraint (affine)\n",
       "├─ sum (affine; real)\n",
       "│  └─ 11-element real variable (id: 105…948)\n",
       "└─ 1\n",
       " >= constraint (affine)\n",
       "├─ 11-element real variable (id: 105…948)\n",
       "└─ 0"
      ]
     },
     "metadata": {},
     "output_type": "display_data"
    }
   ],
   "source": [
    "# define the optimization problem\n",
    "using Convex, LinearAlgebra\n",
    "\n",
    "p̂ = Variable(length(lv_design))   # proportions of each design to be estimated\n",
    "problemD = maximize(logdet(C' * diagm(p̂) * C))       # objective function\n",
    "problemD.constraints += sum(p̂) == 1 # problem constraints\n",
    "problemD.constraints += p̂ > 0      # problem constraints"
   ]
  },
  {
   "cell_type": "code",
   "execution_count": 36,
   "metadata": {},
   "outputs": [
    {
     "name": "stdout",
     "output_type": "stream",
     "text": [
      "------------------------------------------------------------------\n",
      "          COSMO v0.8.7 - A Quadratic Objective Conic Solver\n",
      "                         Michael Garstka\n",
      "                University of Oxford, 2017 - 2022\n",
      "------------------------------------------------------------------\n",
      "\n",
      "Problem:  x ∈ R^{93},\n",
      "          constraints: A ∈ R^{262x93} (283 nnz),\n",
      "          matrix size to factor: 355x355,\n",
      "          Floating-point precision: Float64\n",
      "Sets:     ZeroSet of dim: 134\n",
      "          DensePsdConeTriangle of dim: 78 (12x12)\n",
      "          PsdConeTriangle of dim: 15 (5x5)\n",
      "          Nonnegatives of dim: 11\n",
      "          PsdConeTriangle of dim: 6 (3x3)\n",
      "          ... and 6 more\n",
      "Decomp:   Num of original PSD cones: 2\n",
      "          Num decomposable PSD cones: 1\n",
      "          Num PSD cones after decomposition: 3\n",
      "          Merge Strategy: CliqueGraphMerge\n",
      "Settings: ϵ_abs = 1.0e-05, ϵ_rel = 1.0e-05,\n",
      "          ϵ_prim_inf = 1.0e-04, ϵ_dual_inf = 1.0e-04,\n",
      "          ρ = 0.1, σ = 1e-06, α = 1.6,\n",
      "          max_iter = 5000,\n",
      "          scaling iter = 10 (on),\n",
      "          check termination every 25 iter,\n",
      "          check infeasibility every 40 iter,\n",
      "          KKT system solver: QDLDL\n",
      "Acc:      Anderson Type2{QRDecomp},\n",
      "          Memory size = 15, RestartedMemory,\t\n",
      "          Safeguarded: true, tol: 2.0\n",
      "Setup Time: 0.18ms\n",
      "\n",
      "Iter:\tObjective:\tPrimal Res:\tDual Res:\tRho:\n",
      "1\t-9.6009e+01\t1.4121e+01\t5.9990e-01\t1.0000e-01\n"
     ]
    },
    {
     "name": "stdout",
     "output_type": "stream",
     "text": [
      "25\t 8.5879e-01\t1.6876e-01\t1.2584e-02\t1.0000e-01\n",
      "50\t 3.4329e+00\t7.7133e-02\t1.8690e-03\t1.0000e-01\n",
      "75\t 5.8342e+00\t3.9683e-02\t3.6902e-03\t1.0000e-01\n",
      "100\t 6.6247e+00\t2.4936e-02\t4.2324e-04\t1.0000e-01\n",
      "125\t 6.6701e+00\t2.5509e-02\t1.2895e-03\t1.0000e-01\n",
      "150\t 6.8668e+00\t2.1209e-02\t7.3481e-04\t1.0000e-01\n",
      "175\t 7.7755e+00\t1.1744e-02\t1.9629e-04\t1.0000e-01\n",
      "200\t 7.8205e+00\t1.2082e-02\t4.4003e-05\t1.0000e-01\n",
      "225\t 8.0483e+00\t9.1542e-03\t4.8153e-04\t1.0000e-01\n",
      "250\t 8.0970e+00\t9.3261e-03\t1.0911e-03\t5.9439e-01\n",
      "275\t 8.6568e+00\t7.2422e-03\t7.8998e-03\t5.9439e-01\n",
      "300\t 8.8174e+00\t5.4036e-03\t1.5872e-03\t5.9439e-01\n",
      "325\t 9.0007e+00\t2.7150e-03\t1.8441e-03\t5.9439e-01\n",
      "350\t 9.0698e+00\t1.4463e-03\t2.1541e-04\t5.9439e-01\n",
      "375\t 9.0439e+00\t1.0052e-03\t2.2881e-03\t5.9439e-01\n",
      "400\t 9.0212e+00\t6.3932e-04\t3.4514e-04\t5.9439e-01\n",
      "425\t 9.0006e+00\t5.6167e-04\t3.3039e-04\t5.9439e-01\n",
      "450\t 8.9950e+00\t4.3984e-04\t1.0361e-04\t5.9439e-01\n",
      "475\t 8.9942e+00\t3.5602e-04\t4.1576e-04\t5.9439e-01\n",
      "500\t 8.9946e+00\t2.9082e-04\t1.0906e-04\t5.9439e-01\n",
      "525\t 8.9944e+00\t2.1802e-04\t5.5301e-04\t5.9439e-01\n",
      "550\t 8.9931e+00\t1.6503e-04\t1.4654e-03\t5.9439e-01\n",
      "575\t 8.9893e+00\t1.6856e-04\t6.4776e-04\t5.9439e-01\n",
      "600\t 8.9873e+00\t8.8042e-05\t1.1744e-03\t5.9439e-01\n",
      "625\t 8.9862e+00\t5.7349e-05\t1.2307e-05\t5.9439e-01\n",
      "650\t 8.9850e+00\t5.7349e-05\t1.6296e-05\t5.9439e-01\n",
      "675\t 8.9847e+00\t4.8150e-05\t2.0397e-04\t5.9439e-01\n",
      "700\t 8.9846e+00\t3.5048e-05\t4.8543e-05\t5.9439e-01\n",
      "725\t 8.9849e+00\t2.4662e-05\t9.4032e-05\t5.9439e-01\n",
      "750\t 8.9853e+00\t2.8224e-05\t1.8968e-04\t5.9439e-01\n",
      "775\t 8.9860e+00\t2.4904e-05\t2.6302e-05\t5.9439e-01\n",
      "800\t 8.9869e+00\t1.3387e-05\t1.5322e-05\t5.9439e-01\n",
      "\n",
      "------------------------------------------------------------------\n",
      ">>> Results\n",
      "Status: \u001b[32mSolved\u001b[39m\n",
      "Iterations: 826 (incl. 26 safeguarding iter)\n",
      "Optimal objective: 8.987\n",
      "Runtime: 0.075s (75.23ms)\n",
      "\n"
     ]
    }
   ],
   "source": [
    "using COSMO\n",
    "\n",
    "solver = COSMO.Optimizer()\n",
    "# MOI.set(solver, MOI.RawOptimizerAttribute(\"max_iter\"), 5000)\n",
    "\n",
    "solve!(problemD, solver)"
   ]
  },
  {
   "cell_type": "code",
   "execution_count": 37,
   "metadata": {},
   "outputs": [
    {
     "name": "stdout",
     "output_type": "stream",
     "text": [
      "problemD.status = MathOptInterface.OPTIMAL\n"
     ]
    },
    {
     "data": {
      "text/plain": [
       "11×1 Matrix{Float64}:\n",
       " 0.08198367711225783\n",
       " 0.0819519977897672\n",
       " 0.09679368618602704\n",
       " 0.08195112396292145\n",
       " 0.0819656232427522\n",
       " 0.09682788824260888\n",
       " 0.08193513776281283\n",
       " 0.0819376761598751\n",
       " 0.09680687898486838\n",
       " 0.1089113098093264\n",
       " 0.10893491129540801"
      ]
     },
     "metadata": {},
     "output_type": "display_data"
    }
   ],
   "source": [
    "@show problemD.status\n",
    "p̂.value"
   ]
  },
  {
   "attachments": {},
   "cell_type": "markdown",
   "metadata": {},
   "source": [
    "I got the same answer as Dr. Zhou's suggested results for D-optimal design."
   ]
  },
  {
   "cell_type": "code",
   "execution_count": 38,
   "metadata": {},
   "outputs": [
    {
     "data": {
      "text/plain": [
       "2-element Vector{Constraint}:\n",
       " == constraint (affine)\n",
       "├─ sum (affine; real)\n",
       "│  └─ 11-element real variable (id: 105…948)\n",
       "└─ 1\n",
       " >= constraint (affine)\n",
       "├─ 11-element real variable (id: 105…948)\n",
       "└─ 0"
      ]
     },
     "metadata": {},
     "output_type": "display_data"
    }
   ],
   "source": [
    "problemE = maximize(eigmin(C' * diagm(p̂) * C))       # objective function\n",
    "problemE.constraints += sum(p̂) == 1 # problem constraints\n",
    "problemE.constraints += p̂ > 0      # problem constraints"
   ]
  },
  {
   "cell_type": "code",
   "execution_count": 39,
   "metadata": {},
   "outputs": [
    {
     "name": "stdout",
     "output_type": "stream",
     "text": [
      "------------------------------------------------------------------\n",
      "          COSMO v0.8.7 - A Quadratic Objective Conic Solver\n",
      "                         Michael Garstka\n",
      "                University of Oxford, 2017 - 2022\n",
      "------------------------------------------------------------------\n",
      "\n",
      "Problem:  x ∈ R^{16},\n",
      "          constraints: A ∈ R^{49x16} (82 nnz),\n",
      "          matrix size to factor: 65x65,\n",
      "          Floating-point precision: Float64\n",
      "Sets:     ZeroSet of dim: 17\n",
      "          PsdConeTriangle of dim: 15 (5x5)\n",
      "          Nonnegatives of dim: 11\n",
      "          PsdConeTriangle of dim: 6 (3x3)\n",
      "Decomp:   Num of original PSD cones: 1\n",
      "          Num decomposable PSD cones: 1\n",
      "          Num PSD cones after decomposition: 2\n",
      "          Merge Strategy: CliqueGraphMerge\n",
      "Settings: ϵ_abs = 1.0e-05, ϵ_rel = 1.0e-05,\n",
      "          ϵ_prim_inf = 1.0e-04, ϵ_dual_inf = 1.0e-04,\n",
      "          ρ = 0.1, σ = 1e-06, α = 1.6,\n",
      "          max_iter = 5000,\n",
      "          scaling iter = 10 (on),\n",
      "          check termination every 25 iter,\n",
      "          check infeasibility every 40 iter,\n",
      "          KKT system solver: QDLDL\n",
      "Acc:      Anderson Type2{QRDecomp},\n",
      "          Memory size = 15, RestartedMemory,\t\n",
      "          Safeguarded: true, tol: 2.0\n",
      "Setup Time: 0.09ms\n",
      "\n",
      "Iter:\tObjective:\tPrimal Res:\tDual Res:\tRho:\n",
      "1\t-4.8225e+00\t3.8887e+00\t6.0000e-01\t1.0000e-01\n",
      "25\t-1.0003e-01\t4.4615e-02\t1.7584e-03\t1.0000e-01\n",
      "50\t-9.5027e-02\t1.9434e-02\t1.1796e-03\t8.2662e-01\n",
      "75\t-7.7273e-02\t4.8219e-04\t6.2029e-03\t8.2662e-01\n",
      "100\t-7.6922e-02\t1.0472e-05\t4.3632e-04\t8.2662e-01\n",
      "125\t-7.6923e-02\t3.1216e-09\t8.2053e-01\t1.4835e-01\n",
      "150\t-7.6923e-02\t7.1194e-11\t1.1298e-09\t1.4835e-01\n",
      "\n",
      "------------------------------------------------------------------\n",
      ">>> Results\n",
      "Status: \u001b[32mSolved\u001b[39m\n",
      "Iterations: 159 (incl. 9 safeguarding iter)\n",
      "Optimal objective: -0.07692\n",
      "Runtime: 0.003s (3.31ms)\n",
      "\n"
     ]
    }
   ],
   "source": [
    "solver = COSMO.Optimizer()\n",
    "solve!(problemE, solver)\n"
   ]
  },
  {
   "cell_type": "code",
   "execution_count": 46,
   "metadata": {},
   "outputs": [
    {
     "name": "stdout",
     "output_type": "stream",
     "text": [
      "problemE.status = MathOptInterface.OPTIMAL\n",
      "eigmax = 1 / problemE.optval = 12.999999990016665\n"
     ]
    },
    {
     "data": {
      "text/plain": [
       "11×1 Matrix{Float64}:\n",
       " 0.3104287228983093\n",
       " 0.11303832307063377\n",
       " 0.1149944925719544\n",
       " 0.0824744597181178\n",
       " 0.013874447817003251\n",
       " 0.057497246293577824\n",
       " 0.0824744597181007\n",
       " 0.013874447817011186\n",
       " 0.05749724629358936\n",
       " 0.06855672612885096\n",
       " 0.08528942769691288"
      ]
     },
     "metadata": {},
     "output_type": "display_data"
    }
   ],
   "source": [
    "@show problemE.status\n",
    "@show eigmax = 1 / problemE.optval\n",
    "p̂.value"
   ]
  },
  {
   "attachments": {},
   "cell_type": "markdown",
   "metadata": {},
   "source": [
    "I got a different answer for the E-optimal design, but the max eigenvalue is the same so the reason for that is E-optimal gives multiple optimal solutions."
   ]
  },
  {
   "cell_type": "code",
   "execution_count": null,
   "metadata": {},
   "outputs": [],
   "source": []
  },
  {
   "cell_type": "markdown",
   "metadata": {},
   "source": [
    "## Q3 (30 pts) Find exact optimal designs\n",
    "\n",
    "Using mixed-integer semidefinite programming (SDP) software to find the exact D-, E-, and A-optimal designs for this clinical trial.\n",
    "\n",
    "Hint: This is what I got. Apparently I haven't got the E-optimal design right yet.\n",
    "\n",
    "```\n",
    "Exact Optimal Design\n",
    "┌───────────┬───────┬───────┬───────┐\n",
    "│ design_pt │ D_opt │ E_opt │ A_opt │\n",
    "│    String │ Int64 │ Int64 │ Int64 │\n",
    "├───────────┼───────┼───────┼───────┤\n",
    "│      A1B1 │     8 │    90 │    20 │\n",
    "│      A2B1 │     8 │     1 │    10 │\n",
    "│      A3B1 │    10 │     1 │    10 │\n",
    "│      A1B2 │     8 │     1 │     9 │\n",
    "│      A2B2 │     8 │     1 │     5 │\n",
    "│      A3B2 │    10 │     1 │     7 │\n",
    "│      A1B3 │     8 │     1 │     9 │\n",
    "│      A2B3 │     8 │     1 │     5 │\n",
    "│      A3B3 │    10 │     1 │     7 │\n",
    "│      A1B4 │    11 │     1 │    10 │\n",
    "│      A2B4 │    11 │     1 │     8 │\n",
    "└───────────┴───────┴───────┴───────┘\n",
    "```"
   ]
  },
  {
   "cell_type": "markdown",
   "metadata": {},
   "source": [
    "## Q4 (30 bonus points) Optimal design with nuisance parameters\n",
    "\n",
    "Suppose the regression coefficients of linear model $\\boldsymbol{\\beta}$ is partitioned as $\\boldsymbol{\\beta} = (\\boldsymbol{\\beta}_0^T, \\boldsymbol{\\beta}_1^T)^T$, where $\\boldsymbol{\\beta}_0$ are nuisance parameters and $\\boldsymbol{\\beta}_1$ are parameters of primary interest. Given an approximate design $\\mathbf{p} = (p_1, \\ldots, p_m)$, let the information matrix be partitioned accordingly\n",
    "$$\n",
    "\\mathbf{I}(\\mathbf{p}) = \\sum_{i=1}^m p_i \\mathbf{x}_i \\mathbf{x}_i^T =  \\begin{pmatrix}\n",
    "\\mathbf{I}_{00} & \\mathbf{I}_{01} \\\\\n",
    "\\mathbf{I}_{10} & \\mathbf{I}_{11}\n",
    "\\end{pmatrix}.\n",
    "$$\n",
    "Then the information matrix for $\\boldsymbol{\\beta}_1$ adjusted for nuisance parameter $\\boldsymbol{\\beta}_0$ is\n",
    "$$\n",
    "\\mathbf{I}_{1 \\mid 0}(\\mathbf{p}) = \\mathbf{I}_{11} - \\mathbf{I}_{10} \\mathbf{I}_{00}^{-1} \\mathbf{I}_{01}.\n",
    "$$\n",
    "\n",
    "Revisiting the 3x4 factorial design problem in Q1, suppose the drug company only cares about the estimation of A treatment effects. Find the approximate D-, E-, and A-optimal designs."
   ]
  },
  {
   "cell_type": "markdown",
   "metadata": {},
   "source": []
  }
 ],
 "metadata": {
  "@webio": {
   "lastCommId": null,
   "lastKernelId": null
  },
  "jupytext": {
   "formats": "ipynb,qmd"
  },
  "kernelspec": {
   "display_name": "Julia 1.9.0",
   "language": "julia",
   "name": "julia-1.9"
  },
  "language_info": {
   "file_extension": ".jl",
   "mimetype": "application/julia",
   "name": "julia",
   "version": "1.9.0"
  },
  "toc": {
   "colors": {
    "hover_highlight": "#DAA520",
    "running_highlight": "#FF0000",
    "selected_highlight": "#FFD700"
   },
   "moveMenuLeft": true,
   "nav_menu": {
    "height": "87px",
    "width": "252px"
   },
   "navigate_menu": true,
   "number_sections": false,
   "sideBar": true,
   "skip_h1_title": true,
   "threshold": 4,
   "toc_cell": false,
   "toc_section_display": "block",
   "toc_window_display": true,
   "widenNotebook": false
  }
 },
 "nbformat": 4,
 "nbformat_minor": 4
}
