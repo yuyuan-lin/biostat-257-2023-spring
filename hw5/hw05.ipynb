{
 "cells": [
  {
   "cell_type": "raw",
   "metadata": {},
   "source": [
    "---\n",
    "title: Biostat/Biomath M257 Homework 5\n",
    "subtitle: 'Due May 26 @ 11:59PM'\n",
    "author: Yuyuan Lin (804886544)\n",
    "date: today\n",
    "format:\n",
    "  html:\n",
    "    theme: cosmo\n",
    "    embed-resources: true\n",
    "    number-sections: true\n",
    "    toc: true\n",
    "    toc-depth: 4\n",
    "    toc-location: left\n",
    "---"
   ]
  },
  {
   "cell_type": "markdown",
   "metadata": {},
   "source": [
    "System information (for reproducibility):"
   ]
  },
  {
   "cell_type": "code",
   "execution_count": 1,
   "metadata": {
    "tags": []
   },
   "outputs": [
    {
     "name": "stdout",
     "output_type": "stream",
     "text": [
      "Julia Version 1.9.0\n",
      "Commit 8e630552924 (2023-05-07 11:25 UTC)\n",
      "Platform Info:\n",
      "  OS: macOS (arm64-apple-darwin22.4.0)\n",
      "  CPU: 8 × Apple M1 Pro\n",
      "  WORD_SIZE: 64\n",
      "  LIBM: libopenlibm\n",
      "  LLVM: libLLVM-14.0.6 (ORCJIT, apple-m1)\n",
      "  Threads: 6 on 6 virtual cores\n",
      "Environment:\n",
      "  JULIA_EDITOR = code\n",
      "  JULIA_NUM_THREADS = 6\n"
     ]
    }
   ],
   "source": [
    "versioninfo()"
   ]
  },
  {
   "cell_type": "markdown",
   "metadata": {},
   "source": [
    "Load packages:"
   ]
  },
  {
   "cell_type": "code",
   "execution_count": 2,
   "metadata": {
    "tags": []
   },
   "outputs": [
    {
     "name": "stderr",
     "output_type": "stream",
     "text": [
      "\u001b[32m\u001b[1m  Activating\u001b[22m\u001b[39m project at `~/Documents/UCLA_files/course_work/BIS_M257/hw/biostat-257-2023-spring/hw5`\n"
     ]
    },
    {
     "name": "stdout",
     "output_type": "stream",
     "text": [
      "\u001b[32m\u001b[1mStatus\u001b[22m\u001b[39m `~/Documents/UCLA_files/course_work/BIS_M257/hw/biostat-257-2023-spring/hw5/Project.toml`\n",
      "  \u001b[90m[1e616198] \u001b[39mCOSMO v0.8.7\n",
      "  \u001b[90m[f65535da] \u001b[39mConvex v0.15.3\n",
      "  \u001b[90m[a93c6f00] \u001b[39mDataFrames v1.5.0\n",
      "  \u001b[90m[87dc4568] \u001b[39mHiGHS v1.5.1\n",
      "\u001b[32m⌃\u001b[39m \u001b[90m[b99e6be6] \u001b[39mHypatia v0.7.2\n",
      "\u001b[32m⌃\u001b[39m \u001b[90m[4076af6c] \u001b[39mJuMP v1.11.0\n",
      "  \u001b[90m[2f354839] \u001b[39mPajarito v0.8.2\n",
      "  \u001b[90m[08abe8d2] \u001b[39mPrettyTables v2.2.4\n",
      "  \u001b[90m[3eaba693] \u001b[39mStatsModels v0.7.2\n",
      "\u001b[36m\u001b[1mInfo\u001b[22m\u001b[39m Packages marked with \u001b[32m⌃\u001b[39m have new versions available and may be upgradable.\n"
     ]
    }
   ],
   "source": [
    "using Pkg\n",
    "\n",
    "Pkg.activate(pwd())\n",
    "Pkg.instantiate()\n",
    "Pkg.status()"
   ]
  },
  {
   "attachments": {},
   "cell_type": "markdown",
   "metadata": {},
   "source": [
    "In this exercise, we practice using disciplined convex programming (SDP in particular) to solve optimal design problems.\n",
    "\n",
    "## Introduction to Optimal design\n",
    "\n",
    "Consider a linear model\n",
    "\\begin{align*}\n",
    "\ty_i = \\mathbf{x}_i^T \\boldsymbol{\\beta} + \\epsilon_i, \\quad i = 1,\\ldots, n,\n",
    "\\end{align*}\n",
    "where $\\epsilon_i$ are independent Gaussian noises with common variance $\\sigma^2$. It is well known that the least squares estimate $\\hat{\\boldsymbol{\\beta}}$ is unbiased and has covariance $\\sigma^2 (\\sum_{i=1}^n \\mathbf{x}_i \\mathbf{x}_i^T)^{-1}$. \n",
    "\n",
    "In **exact optimal design**, given total number of $n$ allowable experiments, we want to choose among a list of $m$ candidate design points $\\{\\mathbf{x}_1, \\ldots, \\mathbf{x}_m\\}$ such that the covariance matrix is minimized in some sense. In mathematical terms, we want to find an integer vector $\\mathbf{n} = (n_1, \\ldots, n_m)$ such that $n_i \\ge 0$, $\\sum_{i=1}^m n_i = n$, and the matrix $\\mathbf{V} = \\left( \\sum_{i=1}^m n_i \\mathbf{x}_i \\mathbf{x}_i^T \\right)^{-1}$ is \"small\".\n",
    "\n",
    "In **approximate optimal design**,  we want to find a probability vector $\\mathbf{p} = (p_1, \\ldots, p_m)$ such that $p_i \\ge 0$, $\\sum_{i=1}^m p_i = 1$, and the matrix $\\mathbf{V} = \\left( \\sum_{i=1}^m p_i \\mathbf{x}_i \\mathbf{x}_i^T \\right)^{-1}$ is \"small\".\n",
    "\n",
    "Commonly used optimal design criteria include:\n",
    "\n",
    "- In **$D$-optimal design**, we minimize the determinant of $\\mathbf{V}$\n",
    "\n",
    "\\begin{align*}\n",
    "\t&\\text{minimize}& \\det \\left( \\sum_{i=1}^m p_i \\mathbf{x}_i \\mathbf{x}_i^T \\right)^{-1} \\\\\n",
    "\t&\\text{subject to}& p_i \\ge 0, \\sum_{i=1}^m p_i = 1.\n",
    "\\end{align*}\n",
    "\n",
    "- In **$E$-optimal design**, we minimize the spectral norm, i.e., the maximum eigenvalue of $\\mathbf{V}$\n",
    "\\begin{align*}\n",
    "\t&\\text{minimize}& \\lambda_{\\text{max}} \\left( \\sum_{i=1}^m p_i \\mathbf{x}_i \\mathbf{x}_i^T \\right)^{-1} \\\\\n",
    "\t&\\text{subject to}& p_i \\ge 0, \\sum_{i=1}^m p_i = 1.\t\n",
    "\\end{align*}\n",
    "Statistically we are minimizing the maximum variance of $\\sum_{j=1}^p a_j \\text{var}(\\hat \\beta_j)$ over all vectors $\\mathbf{a}$ with unit norm.\n",
    "\n",
    "- In **$A$-optimal design**, we minimize the trace of $\\mathbf{V}$\n",
    "\\begin{align*}\n",
    "\t&\\text{minimize}& \\text{tr} \\left( \\sum_{i=1}^m p_i \\mathbf{x}_i \\mathbf{x}_i^T \\right)^{-1} \\\\\n",
    "\t&\\text{subject to}& p_i \\ge 0, \\sum_{i=1}^m p_i = 1.\n",
    "\\end{align*}\n",
    "Statistically we are minimizing the total variance $\\sum_{j=1}^p \\text{var}(\\hat \\beta_j)$.\n",
    "\n",
    "## Q1 (10 pts) 3x4 factorial design\n",
    "\n",
    "A drug company ask you to help design a two factor clinical trial, in which treatment A has three levels (A1, A2, and A3) and treatment B has four levels (B1, B2, B3, and B4). Drug company also tells you that the treatment combination A3:B4 has undesirable side effects so we ignore this design point. \n",
    "\n",
    "Using dummy coding with A1 and B1 as the baseline levels, find the matrix $C$ with each row a unique design point."
   ]
  },
  {
   "cell_type": "code",
   "execution_count": 3,
   "metadata": {},
   "outputs": [
    {
     "data": {
      "text/plain": [
       "11×5 Matrix{Int64}:\n",
       " 0  0  0  0  0\n",
       " 1  0  0  0  0\n",
       " 0  1  0  0  0\n",
       " 0  0  1  0  0\n",
       " 1  0  1  0  0\n",
       " 0  1  1  0  0\n",
       " 0  0  0  1  0\n",
       " 1  0  0  1  0\n",
       " 0  1  0  1  0\n",
       " 0  0  0  0  1\n",
       " 1  0  0  0  1"
      ]
     },
     "metadata": {},
     "output_type": "display_data"
    }
   ],
   "source": [
    "lv_A = [\"A1\", \"A2\", \"A3\"]\n",
    "lv_B = [\"B1\", \"B2\", \"B3\", \"B4\"]\n",
    "ref_A = \"A1\"; ref_B = \"B1\"\n",
    "lv_design = [(a, b) for a in lv_A, b in lv_B if !(a == \"A3\" && b == \"B4\")]\n",
    "\n",
    "row  = zeros(Int, length(lv_A) + length(lv_B) - 2)\n",
    "nrow = length(lv_design)\n",
    "C = zeros(Int, nrow, length(row))\n",
    "\n",
    "for i in 1:nrow\n",
    "    # reset row\n",
    "    row .= zeros(Int, length(lv_A) + length(lv_B) - 2)\n",
    "    \n",
    "    # dummy coding for A\n",
    "    if lv_design[i][1] == ref_A \n",
    "        row[1:length(lv_A) - 1] .= 0\n",
    "    else\n",
    "        row[findfirst(x -> x == lv_design[i][1], lv_A[2:3])] = 1\n",
    "    end\n",
    "    \n",
    "    # dummy coding for B\n",
    "    if lv_design[i][2] == ref_B\n",
    "        row[length(lv_A):end] .= 0\n",
    "    else\n",
    "        row[findfirst(x -> x == lv_design[i][2], lv_B[2:4]) + length(lv_A) - 1] = 1\n",
    "    end\n",
    "    \n",
    "    C[i, :] = row\n",
    "end\n",
    "\n",
    "C"
   ]
  },
  {
   "cell_type": "markdown",
   "metadata": {},
   "source": [
    "## Q2 (30 pts) Find approximate optimal designs\n",
    "\n",
    "Using semidefinite programming (SDP) software to find the approximate D-, E-, and A-optimal designs for this clinical trial.\n",
    "\n",
    "Hint: This is what I got, which may or may not be correct.\n",
    "\n",
    "```\n",
    "Approximate Optimal Design\n",
    "┌───────────┬─────────┬─────────┬─────────┬─────────┬─────────┬─────────┐\n",
    "│ design_pt │   D_opt │   E_opt │   A_opt │ D_opt_n │ E_opt_n │ A_opt_n │\n",
    "│    String │ Float64 │ Float64 │ Float64 │ Float64 │ Float64 │ Float64 │\n",
    "├───────────┼─────────┼─────────┼─────────┼─────────┼─────────┼─────────┤\n",
    "│      A1B1 │   0.082 │   0.272 │   0.200 │       8 │      27 │      20 │\n",
    "│      A2B1 │   0.082 │   0.152 │   0.101 │       8 │      15 │      10 │\n",
    "│      A3B1 │   0.097 │   0.114 │   0.104 │      10 │      11 │      10 │\n",
    "│      A1B2 │   0.082 │   0.057 │   0.086 │       8 │       6 │       9 │\n",
    "│      A2B2 │   0.082 │   0.039 │   0.051 │       8 │       4 │       5 │\n",
    "│      A3B2 │   0.097 │   0.057 │   0.068 │      10 │       6 │       7 │\n",
    "│      A1B3 │   0.082 │   0.057 │   0.086 │       8 │       6 │       9 │\n",
    "│      A2B3 │   0.082 │   0.039 │   0.051 │       8 │       4 │       5 │\n",
    "│      A3B3 │   0.097 │   0.057 │   0.068 │      10 │       6 │       7 │\n",
    "│      A1B4 │   0.109 │   0.081 │   0.106 │      11 │       8 │      11 │\n",
    "│      A2B4 │   0.109 │   0.073 │   0.080 │      11 │       7 │       8 │\n",
    "└───────────┴─────────┴─────────┴─────────┴─────────┴─────────┴─────────┘\n",
    "```"
   ]
  },
  {
   "cell_type": "code",
   "execution_count": 8,
   "metadata": {},
   "outputs": [
    {
     "data": {
      "text/plain": [
       "2-element Vector{Constraint}:\n",
       " == constraint (affine)\n",
       "├─ sum (affine; real)\n",
       "│  └─ 11-element real variable (id: 923…821)\n",
       "└─ 1\n",
       " >= constraint (affine)\n",
       "├─ 11-element real variable (id: 923…821)\n",
       "└─ 0"
      ]
     },
     "metadata": {},
     "output_type": "display_data"
    }
   ],
   "source": [
    "# define the optimization problem\n",
    "using Convex, LinearAlgebra\n",
    "\n",
    "p̂ = Variable(length(lv_design))   # proportions of each design to be estimated\n",
    "problemD = maximize(logdet(C' * diagm(p̂) * C))       # objective function\n",
    "problemD.constraints += sum(p̂) == 1 # problem constraints\n",
    "problemD.constraints += p̂ > 0      # problem constraints"
   ]
  },
  {
   "cell_type": "code",
   "execution_count": 9,
   "metadata": {},
   "outputs": [
    {
     "name": "stdout",
     "output_type": "stream",
     "text": [
      "------------------------------------------------------------------\n",
      "          COSMO v0.8.7 - A Quadratic Objective Conic Solver\n",
      "                         Michael Garstka\n",
      "                University of Oxford, 2017 - 2022\n",
      "------------------------------------------------------------------\n",
      "\n",
      "Problem:  x ∈ R^{71},\n",
      "          constraints: A ∈ R^{188x71} (186 nnz),\n",
      "          matrix size to factor: 259x259,\n",
      "          Floating-point precision: Float64\n",
      "Sets:     ZeroSet of dim: 92\n",
      "          DensePsdConeTriangle of dim: 55 (10x10)\n",
      "          Nonnegatives of dim: 11\n",
      "          PsdConeTriangle of dim: 6 (3x3)\n",
      "          PsdConeTriangle of dim: 6 (3x3)\n",
      "          ... and 6 more\n",
      "Decomp:   Num of original PSD cones: 2\n",
      "          Num decomposable PSD cones: 1\n",
      "          Num PSD cones after decomposition: 4\n",
      "          Merge Strategy: CliqueGraphMerge\n",
      "Settings: ϵ_abs = 1.0e-05, ϵ_rel = 1.0e-05,\n",
      "          ϵ_prim_inf = 1.0e-04, ϵ_dual_inf = 1.0e-04,\n",
      "          ρ = 0.1, σ = 1e-06, α = 1.6,\n",
      "          max_iter = 5000,\n",
      "          scaling iter = 10 (on),\n",
      "          check termination every 25 iter,\n",
      "          check infeasibility every 40 iter,\n",
      "          KKT system solver: QDLDL\n",
      "Acc:      Anderson Type2{QRDecomp},\n",
      "          Memory size = 15, RestartedMemory,\t\n",
      "          Safeguarded: true, tol: 2.0\n",
      "Setup Time: 0.42ms\n",
      "\n",
      "Iter:\tObjective:\tPrimal Res:\tDual Res:\tRho:\n",
      "1\t-8.0011e+01\t1.4121e+01\t5.9992e-01\t1.0000e-01\n",
      "25\t 1.3972e+00\t3.5838e-01\t2.9582e-02\t1.0000e-01\n",
      "50\t 3.2878e+00\t6.4213e-02\t4.7212e-03\t1.0000e-01\n",
      "75\t 4.3168e+00\t4.0025e-02\t3.6026e-03\t1.0000e-01\n",
      "100\t 5.0922e+00\t4.4294e-02\t5.1990e-03\t1.0000e-01\n",
      "125\t 5.1547e+00\t2.3668e-02\t8.7851e-04\t1.0000e-01\n",
      "150\t 5.3300e+00\t5.3033e-02\t5.1084e-03\t1.0000e-01\n",
      "175\t 5.5836e+00\t1.7146e-02\t1.1321e-03\t1.0000e-01\n",
      "200\t 5.8588e+00\t1.1776e-02\t9.1854e-04\t1.0000e-01\n",
      "225\t 6.3994e+00\t8.1337e-03\t3.8031e-04\t1.0000e-01\n",
      "250\t 6.4116e+00\t6.3014e-03\t1.8450e-04\t1.0000e-01\n",
      "275\t 6.4322e+00\t5.4947e-03\t5.2618e-05\t1.0000e-01\n",
      "300\t 6.5031e+00\t3.7618e-03\t4.7794e-04\t5.6058e-01\n",
      "325\t 6.6793e+00\t8.0352e-04\t2.0067e-04\t5.6058e-01\n",
      "350\t 6.7044e+00\t2.3000e-04\t2.9094e-05\t5.6058e-01\n",
      "375\t 6.7046e+00\t9.1661e-05\t2.5914e-05\t5.6058e-01\n",
      "400\t 6.7049e+00\t4.4124e-05\t2.5769e-06\t5.6058e-01\n",
      "425\t 6.7046e+00\t1.1004e-05\t3.1695e-06\t5.6058e-01\n",
      "\n",
      "------------------------------------------------------------------\n",
      ">>> Results\n",
      "Status: \u001b[32mSolved\u001b[39m\n",
      "Iterations: 447 (incl. 22 safeguarding iter)\n",
      "Optimal objective: 6.705\n",
      "Runtime: 0.026s (26.36ms)\n",
      "\n"
     ]
    }
   ],
   "source": [
    "using COSMO\n",
    "\n",
    "solver = COSMO.Optimizer()\n",
    "# MOI.set(solver, MOI.RawOptimizerAttribute(\"max_iter\"), 5000)\n",
    "\n",
    "solve!(problemD, solver)"
   ]
  },
  {
   "cell_type": "code",
   "execution_count": 10,
   "metadata": {},
   "outputs": [
    {
     "name": "stdout",
     "output_type": "stream",
     "text": [
      "problemD.status = MathOptInterface.OPTIMAL\n"
     ]
    },
    {
     "data": {
      "text/plain": [
       "11×1 Matrix{Float64}:\n",
       " 2.4437557302050785e-6\n",
       " 0.01788311266524148\n",
       " 0.08452926537430895\n",
       " 0.0845451632777345\n",
       " 0.11546223279115395\n",
       " 0.11546203044365907\n",
       " 0.084529964157253\n",
       " 0.11546500307635961\n",
       " 0.1154622837549907\n",
       " 0.1333401494611688\n",
       " 0.13331834879712157"
      ]
     },
     "metadata": {},
     "output_type": "display_data"
    }
   ],
   "source": [
    "@show problemD.status\n",
    "p̂.value"
   ]
  },
  {
   "cell_type": "code",
   "execution_count": 20,
   "metadata": {},
   "outputs": [
    {
     "data": {
      "text/plain": [
       "2-element Vector{Constraint}:\n",
       " == constraint (affine)\n",
       "├─ sum (affine; real)\n",
       "│  └─ 11-element real variable (id: 109…403)\n",
       "└─ 1\n",
       " >= constraint (affine)\n",
       "├─ 11-element real variable (id: 109…403)\n",
       "└─ 0"
      ]
     },
     "metadata": {},
     "output_type": "display_data"
    }
   ],
   "source": [
    "p̂ = Variable(length(lv_design))   # proportions of each design to be estimated\n",
    "problemE = maximize(eigmin(C' * diagm(p̂) * C))       # objective function\n",
    "problemE.constraints += sum(p̂) == 1 # problem constraints\n",
    "problemE.constraints += p̂ > 0      # problem constraints"
   ]
  },
  {
   "cell_type": "code",
   "execution_count": 21,
   "metadata": {},
   "outputs": [
    {
     "name": "stdout",
     "output_type": "stream",
     "text": [
      "------------------------------------------------------------------\n",
      "          COSMO v0.8.7 - A Quadratic Objective Conic Solver\n",
      "                         Michael Garstka\n",
      "                University of Oxford, 2017 - 2022\n",
      "------------------------------------------------------------------\n",
      "\n",
      "Problem:  x ∈ R^{17},\n",
      "          constraints: A ∈ R^{38x17} (57 nnz),\n",
      "          matrix size to factor: 55x55,\n",
      "          Floating-point precision: Float64\n",
      "Sets:     ZeroSet of dim: 12\n",
      "          Nonnegatives of dim: 11\n",
      "          PsdConeTriangle of dim: 6 (3x3)\n",
      "          PsdConeTriangle of dim: 6 (3x3)\n",
      "          PsdConeTriangle of dim: 3 (2x2)\n",
      "          ... and 0 more\n",
      "Decomp:   Num of original PSD cones: 1\n",
      "          Num decomposable PSD cones: 1\n",
      "          Num PSD cones after decomposition: 3\n",
      "          Merge Strategy: CliqueGraphMerge\n",
      "Settings: ϵ_abs = 1.0e-05, ϵ_rel = 1.0e-05,\n",
      "          ϵ_prim_inf = 1.0e-04, ϵ_dual_inf = 1.0e-04,\n",
      "          ρ = 0.1, σ = 1e-06, α = 1.6,\n",
      "          max_iter = 5000,\n",
      "          scaling iter = 10 (on),\n",
      "          check termination every 25 iter,\n",
      "          check infeasibility every 40 iter,\n",
      "          KKT system solver: QDLDL\n",
      "Acc:      Anderson Type2{QRDecomp},\n",
      "          Memory size = 15, RestartedMemory,\t\n",
      "          Safeguarded: true, tol: 2.0\n",
      "Setup Time: 0.08ms\n",
      "\n",
      "Iter:\tObjective:\tPrimal Res:\tDual Res:\tRho:\n",
      "1\t-7.1705e+00\t4.8325e+00\t5.9999e-01\t1.0000e-01\n",
      "25\t-2.0058e-01\t4.3391e-03\t4.0182e-04\t1.0000e-01\n",
      "50\t-2.0000e-01\t4.6566e-11\t1.1102e-16\t1.0000e-01\n",
      "\n",
      "------------------------------------------------------------------\n",
      ">>> Results\n",
      "Status: \u001b[32mSolved\u001b[39m\n",
      "Iterations: 50\n",
      "Optimal objective: -0.2\n",
      "Runtime: 0.002s (1.85ms)\n",
      "\n"
     ]
    }
   ],
   "source": [
    "solver = COSMO.Optimizer()\n",
    "solve!(problemE, solver)"
   ]
  },
  {
   "cell_type": "code",
   "execution_count": 22,
   "metadata": {},
   "outputs": [
    {
     "name": "stdout",
     "output_type": "stream",
     "text": [
      "problemE.status = MathOptInterface.OPTIMAL\n"
     ]
    },
    {
     "data": {
      "text/plain": [
       "11×1 Matrix{Float64}:\n",
       "  4.192041783728626e-16\n",
       "  0.19999999999999893\n",
       "  0.20000000000000037\n",
       "  0.19999999999999948\n",
       " -4.127064200159377e-17\n",
       " -2.4114369512750234e-16\n",
       "  0.19999999999999918\n",
       "  2.5396354632370765e-16\n",
       " -7.296091224212272e-17\n",
       "  0.20000000000000118\n",
       "  4.296588045974723e-17"
      ]
     },
     "metadata": {},
     "output_type": "display_data"
    }
   ],
   "source": [
    "@show problemE.status\n",
    "p̂.value"
   ]
  },
  {
   "cell_type": "markdown",
   "metadata": {},
   "source": [
    "## Q3 (30 pts) Find exact optimal designs\n",
    "\n",
    "Using mixed-integer semidefinite programming (SDP) software to find the exact D-, E-, and A-optimal designs for this clinical trial.\n",
    "\n",
    "Hint: This is what I got. Apparently I haven't got the E-optimal design right yet.\n",
    "\n",
    "```\n",
    "Exact Optimal Design\n",
    "┌───────────┬───────┬───────┬───────┐\n",
    "│ design_pt │ D_opt │ E_opt │ A_opt │\n",
    "│    String │ Int64 │ Int64 │ Int64 │\n",
    "├───────────┼───────┼───────┼───────┤\n",
    "│      A1B1 │     8 │    90 │    20 │\n",
    "│      A2B1 │     8 │     1 │    10 │\n",
    "│      A3B1 │    10 │     1 │    10 │\n",
    "│      A1B2 │     8 │     1 │     9 │\n",
    "│      A2B2 │     8 │     1 │     5 │\n",
    "│      A3B2 │    10 │     1 │     7 │\n",
    "│      A1B3 │     8 │     1 │     9 │\n",
    "│      A2B3 │     8 │     1 │     5 │\n",
    "│      A3B3 │    10 │     1 │     7 │\n",
    "│      A1B4 │    11 │     1 │    10 │\n",
    "│      A2B4 │    11 │     1 │     8 │\n",
    "└───────────┴───────┴───────┴───────┘\n",
    "```"
   ]
  },
  {
   "cell_type": "markdown",
   "metadata": {},
   "source": [
    "## Q4 (30 bonus points) Optimal design with nuisance parameters\n",
    "\n",
    "Suppose the regression coefficients of linear model $\\boldsymbol{\\beta}$ is partitioned as $\\boldsymbol{\\beta} = (\\boldsymbol{\\beta}_0^T, \\boldsymbol{\\beta}_1^T)^T$, where $\\boldsymbol{\\beta}_0$ are nuisance parameters and $\\boldsymbol{\\beta}_1$ are parameters of primary interest. Given an approximate design $\\mathbf{p} = (p_1, \\ldots, p_m)$, let the information matrix be partitioned accordingly\n",
    "$$\n",
    "\\mathbf{I}(\\mathbf{p}) = \\sum_{i=1}^m p_i \\mathbf{x}_i \\mathbf{x}_i^T =  \\begin{pmatrix}\n",
    "\\mathbf{I}_{00} & \\mathbf{I}_{01} \\\\\n",
    "\\mathbf{I}_{10} & \\mathbf{I}_{11}\n",
    "\\end{pmatrix}.\n",
    "$$\n",
    "Then the information matrix for $\\boldsymbol{\\beta}_1$ adjusted for nuisance parameter $\\boldsymbol{\\beta}_0$ is\n",
    "$$\n",
    "\\mathbf{I}_{1 \\mid 0}(\\mathbf{p}) = \\mathbf{I}_{11} - \\mathbf{I}_{10} \\mathbf{I}_{00}^{-1} \\mathbf{I}_{01}.\n",
    "$$\n",
    "\n",
    "Revisiting the 3x4 factorial design problem in Q1, suppose the drug company only cares about the estimation of A treatment effects. Find the approximate D-, E-, and A-optimal designs."
   ]
  },
  {
   "cell_type": "markdown",
   "metadata": {},
   "source": []
  }
 ],
 "metadata": {
  "@webio": {
   "lastCommId": null,
   "lastKernelId": null
  },
  "jupytext": {
   "formats": "ipynb,qmd"
  },
  "kernelspec": {
   "display_name": "Julia 1.9.0",
   "language": "julia",
   "name": "julia-1.9"
  },
  "language_info": {
   "file_extension": ".jl",
   "mimetype": "application/julia",
   "name": "julia",
   "version": "1.9.0"
  },
  "toc": {
   "colors": {
    "hover_highlight": "#DAA520",
    "running_highlight": "#FF0000",
    "selected_highlight": "#FFD700"
   },
   "moveMenuLeft": true,
   "nav_menu": {
    "height": "87px",
    "width": "252px"
   },
   "navigate_menu": true,
   "number_sections": false,
   "sideBar": true,
   "skip_h1_title": true,
   "threshold": 4,
   "toc_cell": false,
   "toc_section_display": "block",
   "toc_window_display": true,
   "widenNotebook": false
  }
 },
 "nbformat": 4,
 "nbformat_minor": 4
}
