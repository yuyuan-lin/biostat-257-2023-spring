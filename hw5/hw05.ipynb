{
 "cells": [
  {
   "cell_type": "raw",
   "metadata": {},
   "source": [
    "---\n",
    "title: Biostat/Biomath M257 Homework 5\n",
    "subtitle: 'Due May 26 @ 11:59PM'\n",
    "author: Yuyuan Lin (804886544)\n",
    "date: today\n",
    "format:\n",
    "  html:\n",
    "    theme: cosmo\n",
    "    embed-resources: true\n",
    "    number-sections: true\n",
    "    toc: true\n",
    "    toc-depth: 4\n",
    "    toc-location: left\n",
    "---"
   ]
  },
  {
   "cell_type": "markdown",
   "metadata": {},
   "source": [
    "System information (for reproducibility):"
   ]
  },
  {
   "cell_type": "code",
   "execution_count": 1,
   "metadata": {
    "tags": []
   },
   "outputs": [
    {
     "name": "stdout",
     "output_type": "stream",
     "text": [
      "Julia Version 1.9.0\n",
      "Commit 8e630552924 (2023-05-07 11:25 UTC)\n",
      "Platform Info:\n",
      "  OS: macOS (arm64-apple-darwin22.4.0)\n",
      "  CPU: 8 × Apple M1 Pro\n",
      "  WORD_SIZE: 64\n",
      "  LIBM: libopenlibm\n",
      "  LLVM: libLLVM-14.0.6 (ORCJIT, apple-m1)\n",
      "  Threads: 6 on 6 virtual cores\n",
      "Environment:\n",
      "  JULIA_EDITOR = code\n",
      "  JULIA_NUM_THREADS = 6\n"
     ]
    }
   ],
   "source": [
    "versioninfo()"
   ]
  },
  {
   "cell_type": "markdown",
   "metadata": {},
   "source": [
    "Load packages:"
   ]
  },
  {
   "cell_type": "code",
   "execution_count": 2,
   "metadata": {
    "tags": []
   },
   "outputs": [
    {
     "name": "stderr",
     "output_type": "stream",
     "text": [
      "\u001b[32m\u001b[1m  Activating\u001b[22m\u001b[39m project at `~/Documents/UCLA_files/course_work/BIS_M257/hw/biostat-257-2023-spring/hw5`\n"
     ]
    },
    {
     "name": "stderr",
     "output_type": "stream",
     "text": [
      "\u001b[32m\u001b[1m    Updating\u001b[22m\u001b[39m registry at `~/.julia/registries/General.toml`\n"
     ]
    },
    {
     "name": "stderr",
     "output_type": "stream",
     "text": [
      "\u001b[32m\u001b[1m   Installed\u001b[22m\u001b[39m Parsers ────────────── v2.5.10\n"
     ]
    },
    {
     "name": "stderr",
     "output_type": "stream",
     "text": [
      "\u001b[32m\u001b[1m   Installed\u001b[22m\u001b[39m PolynomialRoots ────── v1.0.0\n",
      "\u001b[32m\u001b[1m   Installed\u001b[22m\u001b[39m IterativeSolvers ───── v0.9.2\n",
      "\u001b[32m\u001b[1m   Installed\u001b[22m\u001b[39m LinearMaps ─────────── v3.10.0\n"
     ]
    },
    {
     "name": "stderr",
     "output_type": "stream",
     "text": [
      "\u001b[32m\u001b[1m   Installed\u001b[22m\u001b[39m Pajarito ───────────── v0.8.2\n",
      "\u001b[32m\u001b[1m   Installed\u001b[22m\u001b[39m AbstractTrees ──────── v0.4.4\n",
      "\u001b[32m\u001b[1m   Installed\u001b[22m\u001b[39m Combinatorics ──────── v1.0.2\n",
      "\u001b[32m\u001b[1m   Installed\u001b[22m\u001b[39m LDLFactorizations ──── v0.10.0\n",
      "\u001b[32m\u001b[1m   Installed\u001b[22m\u001b[39m AMD ────────────────── v0.5.0\n"
     ]
    },
    {
     "name": "stderr",
     "output_type": "stream",
     "text": [
      "\u001b[32m\u001b[1m   Installed\u001b[22m\u001b[39m JuMP ───────────────── v1.11.0\n",
      "\u001b[32m\u001b[1m   Installed\u001b[22m\u001b[39m HiGHS_jll ──────────── v1.5.1+0\n",
      "\u001b[32m\u001b[1m   Installed\u001b[22m\u001b[39m GenericLinearAlgebra ─ v0.3.10\n",
      "\u001b[32m\u001b[1m   Installed\u001b[22m\u001b[39m Hypatia ────────────── v0.7.2\n",
      "\u001b[32m\u001b[1m   Installed\u001b[22m\u001b[39m HiGHS ──────────────── v1.5.1\n",
      "\u001b[32m\u001b[1m   Installed\u001b[22m\u001b[39m Convex ─────────────── v0.15.3\n"
     ]
    },
    {
     "name": "stderr",
     "output_type": "stream",
     "text": [
      "\u001b[32m\u001b[1m   Installed\u001b[22m\u001b[39m MathOptInterface ───── v1.16.0\n"
     ]
    },
    {
     "name": "stderr",
     "output_type": "stream",
     "text": [
      "\u001b[32m\u001b[1m    Updating\u001b[22m\u001b[39m `~/Documents/UCLA_files/course_work/BIS_M257/hw/biostat-257-2023-spring/hw5/Project.toml`\n",
      "  \u001b[90m[f65535da] \u001b[39m\u001b[92m+ Convex v0.15.3\u001b[39m\n",
      "  \u001b[90m[a93c6f00] \u001b[39m\u001b[92m+ DataFrames v1.5.0\u001b[39m\n",
      "  \u001b[90m[87dc4568] \u001b[39m\u001b[92m+ HiGHS v1.5.1\u001b[39m\n",
      "  \u001b[90m[b99e6be6] \u001b[39m\u001b[92m+ Hypatia v0.7.2\u001b[39m\n",
      "  \u001b[90m[4076af6c] \u001b[39m\u001b[92m+ JuMP v1.11.0\u001b[39m\n",
      "  \u001b[90m[2f354839] \u001b[39m\u001b[92m+ Pajarito v0.8.2\u001b[39m\n",
      "  \u001b[90m[08abe8d2] \u001b[39m\u001b[92m+ PrettyTables v2.2.4\u001b[39m\n",
      "  \u001b[90m[3eaba693] \u001b[39m\u001b[92m+ StatsModels v0.7.2\u001b[39m\n",
      "\u001b[32m\u001b[1m    Updating\u001b[22m\u001b[39m `~/Documents/UCLA_files/course_work/BIS_M257/hw/biostat-257-2023-spring/hw5/Manifest.toml`\n",
      "  \u001b[90m[14f7f29c] \u001b[39m\u001b[92m+ AMD v0.5.0\u001b[39m\n",
      "  \u001b[90m[1520ce14] \u001b[39m\u001b[92m+ AbstractTrees v0.4.4\u001b[39m\n",
      "  \u001b[90m[6e4b80f9] \u001b[39m\u001b[92m+ BenchmarkTools v1.3.2\u001b[39m\n",
      "  \u001b[90m[49dc2e85] \u001b[39m\u001b[92m+ Calculus v0.5.1\u001b[39m\n",
      "  \u001b[90m[d360d2e6] \u001b[39m\u001b[92m+ ChainRulesCore v1.16.0\u001b[39m\n",
      "  \u001b[90m[523fee87] \u001b[39m\u001b[92m+ CodecBzip2 v0.7.2\u001b[39m\n",
      "  \u001b[90m[944b1d66] \u001b[39m\u001b[92m+ CodecZlib v0.7.1\u001b[39m\n",
      "  \u001b[90m[861a8166] \u001b[39m\u001b[92m+ Combinatorics v1.0.2\u001b[39m\n",
      "  \u001b[90m[bbf7d656] \u001b[39m\u001b[92m+ CommonSubexpressions v0.3.0\u001b[39m\n",
      "  \u001b[90m[34da2185] \u001b[39m\u001b[92m+ Compat v4.6.1\u001b[39m\n",
      "  \u001b[90m[f65535da] \u001b[39m\u001b[92m+ Convex v0.15.3\u001b[39m\n",
      "  \u001b[90m[a8cc5b0e] \u001b[39m\u001b[92m+ Crayons v4.1.1\u001b[39m\n",
      "  \u001b[90m[9a962f9c] \u001b[39m\u001b[92m+ DataAPI v1.15.0\u001b[39m\n",
      "  \u001b[90m[a93c6f00] \u001b[39m\u001b[92m+ DataFrames v1.5.0\u001b[39m\n",
      "  \u001b[90m[864edb3b] \u001b[39m\u001b[92m+ DataStructures v0.18.13\u001b[39m\n",
      "  \u001b[90m[e2d170a0] \u001b[39m\u001b[92m+ DataValueInterfaces v1.0.0\u001b[39m\n",
      "  \u001b[90m[163ba53b] \u001b[39m\u001b[92m+ DiffResults v1.1.0\u001b[39m\n",
      "  \u001b[90m[b552c78f] \u001b[39m\u001b[92m+ DiffRules v1.13.0\u001b[39m\n",
      "  \u001b[90m[ffbed154] \u001b[39m\u001b[92m+ DocStringExtensions v0.9.3\u001b[39m\n",
      "  \u001b[90m[fa6b7ba4] \u001b[39m\u001b[92m+ DualNumbers v0.6.8\u001b[39m\n",
      "  \u001b[90m[59287772] \u001b[39m\u001b[92m+ Formatting v0.4.2\u001b[39m\n",
      "  \u001b[90m[f6369f11] \u001b[39m\u001b[92m+ ForwardDiff v0.10.35\u001b[39m\n",
      "  \u001b[90m[14197337] \u001b[39m\u001b[92m+ GenericLinearAlgebra v0.3.10\u001b[39m\n",
      "  \u001b[90m[87dc4568] \u001b[39m\u001b[92m+ HiGHS v1.5.1\u001b[39m\n",
      "  \u001b[90m[b99e6be6] \u001b[39m\u001b[92m+ Hypatia v0.7.2\u001b[39m\n",
      "  \u001b[90m[34004b35] \u001b[39m\u001b[92m+ HypergeometricFunctions v0.3.16\u001b[39m\n",
      "  \u001b[90m[842dd82b] \u001b[39m\u001b[92m+ InlineStrings v1.4.0\u001b[39m\n",
      "  \u001b[90m[41ab1584] \u001b[39m\u001b[92m+ InvertedIndices v1.3.0\u001b[39m\n",
      "  \u001b[90m[92d709cd] \u001b[39m\u001b[92m+ IrrationalConstants v0.2.2\u001b[39m\n",
      "  \u001b[90m[42fd0dbc] \u001b[39m\u001b[92m+ IterativeSolvers v0.9.2\u001b[39m\n",
      "  \u001b[90m[82899510] \u001b[39m\u001b[92m+ IteratorInterfaceExtensions v1.0.0\u001b[39m\n",
      "  \u001b[90m[692b3bcd] \u001b[39m\u001b[92m+ JLLWrappers v1.4.1\u001b[39m\n",
      "  \u001b[90m[682c06a0] \u001b[39m\u001b[92m+ JSON v0.21.4\u001b[39m\n",
      "  \u001b[90m[4076af6c] \u001b[39m\u001b[92m+ JuMP v1.11.0\u001b[39m\n",
      "  \u001b[90m[40e66cde] \u001b[39m\u001b[92m+ LDLFactorizations v0.10.0\u001b[39m\n",
      "  \u001b[90m[b964fa9f] \u001b[39m\u001b[92m+ LaTeXStrings v1.3.0\u001b[39m\n",
      "  \u001b[90m[7a12625a] \u001b[39m\u001b[92m+ LinearMaps v3.10.0\u001b[39m\n",
      "  \u001b[90m[2ab3a3ac] \u001b[39m\u001b[92m+ LogExpFunctions v0.3.23\u001b[39m\n",
      "  \u001b[90m[1914dd2f] \u001b[39m\u001b[92m+ MacroTools v0.5.10\u001b[39m\n",
      "  \u001b[90m[b8f27783] \u001b[39m\u001b[92m+ MathOptInterface v1.16.0\u001b[39m\n",
      "  \u001b[90m[e1d29d7a] \u001b[39m\u001b[92m+ Missings v1.1.0\u001b[39m\n",
      "  \u001b[90m[d8a4904e] \u001b[39m\u001b[92m+ MutableArithmetics v1.3.0\u001b[39m\n",
      "  \u001b[90m[77ba4419] \u001b[39m\u001b[92m+ NaNMath v1.0.2\u001b[39m\n",
      "  \u001b[90m[bac558e1] \u001b[39m\u001b[92m+ OrderedCollections v1.6.0\u001b[39m\n",
      "  \u001b[90m[2f354839] \u001b[39m\u001b[92m+ Pajarito v0.8.2\u001b[39m\n",
      "  \u001b[90m[69de0a69] \u001b[39m\u001b[92m+ Parsers v2.5.10\u001b[39m\n",
      "  \u001b[90m[3a141323] \u001b[39m\u001b[92m+ PolynomialRoots v1.0.0\u001b[39m\n",
      "  \u001b[90m[2dfb63ee] \u001b[39m\u001b[92m+ PooledArrays v1.4.2\u001b[39m\n",
      "  \u001b[90m[aea7be01] \u001b[39m\u001b[92m+ PrecompileTools v1.1.1\u001b[39m\n",
      "  \u001b[90m[21216c6a] \u001b[39m\u001b[92m+ Preferences v1.4.0\u001b[39m\n",
      "  \u001b[90m[08abe8d2] \u001b[39m\u001b[92m+ PrettyTables v2.2.4\u001b[39m\n",
      "  \u001b[90m[3cdcf5f2] \u001b[39m\u001b[92m+ RecipesBase v1.3.4\u001b[39m\n",
      "  \u001b[90m[189a3867] \u001b[39m\u001b[92m+ Reexport v1.2.2\u001b[39m\n",
      "  \u001b[90m[ae029012] \u001b[39m\u001b[92m+ Requires v1.3.0\u001b[39m\n",
      "  \u001b[90m[79098fc4] \u001b[39m\u001b[92m+ Rmath v0.7.1\u001b[39m\n",
      "  \u001b[90m[91c51154] \u001b[39m\u001b[92m+ SentinelArrays v1.3.18\u001b[39m\n",
      "  \u001b[90m[1277b4bf] \u001b[39m\u001b[92m+ ShiftedArrays v2.0.0\u001b[39m\n",
      "  \u001b[90m[66db9d55] \u001b[39m\u001b[92m+ SnoopPrecompile v1.0.3\u001b[39m\n",
      "  \u001b[90m[a2af1166] \u001b[39m\u001b[92m+ SortingAlgorithms v1.1.0\u001b[39m\n",
      "  \u001b[90m[276daf66] \u001b[39m\u001b[92m+ SpecialFunctions v2.2.0\u001b[39m\n",
      "  \u001b[90m[1e83bf80] \u001b[39m\u001b[92m+ StaticArraysCore v1.4.0\u001b[39m\n",
      "  \u001b[90m[82ae8749] \u001b[39m\u001b[92m+ StatsAPI v1.6.0\u001b[39m\n",
      "  \u001b[90m[2913bbd2] \u001b[39m\u001b[92m+ StatsBase v0.34.0\u001b[39m\n",
      "  \u001b[90m[4c63d2b9] \u001b[39m\u001b[92m+ StatsFuns v1.3.0\u001b[39m\n",
      "  \u001b[90m[3eaba693] \u001b[39m\u001b[92m+ StatsModels v0.7.2\u001b[39m\n",
      "  \u001b[90m[892a3eda] \u001b[39m\u001b[92m+ StringManipulation v0.3.0\u001b[39m\n",
      "  \u001b[90m[3783bdb8] \u001b[39m\u001b[92m+ TableTraits v1.0.1\u001b[39m\n",
      "  \u001b[90m[bd369af6] \u001b[39m\u001b[92m+ Tables v1.10.1\u001b[39m\n",
      "  \u001b[90m[3bb67fe8] \u001b[39m\u001b[92m+ TranscodingStreams v0.9.13\u001b[39m\n",
      "  \u001b[90m[6e34b625] \u001b[39m\u001b[92m+ Bzip2_jll v1.0.8+0\u001b[39m\n",
      "  \u001b[90m[8fd58aa0] \u001b[39m\u001b[92m+ HiGHS_jll v1.5.1+0\u001b[39m\n",
      "  \u001b[90m[efe28fd5] \u001b[39m\u001b[92m+ OpenSpecFun_jll v0.5.5+0\u001b[39m\n",
      "  \u001b[90m[f50d1b31] \u001b[39m\u001b[92m+ Rmath_jll v0.4.0+0\u001b[39m\n",
      "  \u001b[90m[0dad84c5] \u001b[39m\u001b[92m+ ArgTools v1.1.1\u001b[39m\n",
      "  \u001b[90m[56f22d72] \u001b[39m\u001b[92m+ Artifacts\u001b[39m\n",
      "  \u001b[90m[2a0f44e3] \u001b[39m\u001b[92m+ Base64\u001b[39m\n",
      "  \u001b[90m[ade2ca70] \u001b[39m\u001b[92m+ Dates\u001b[39m\n",
      "  \u001b[90m[f43a241f] \u001b[39m\u001b[92m+ Downloads v1.6.0\u001b[39m\n",
      "  \u001b[90m[7b1f6079] \u001b[39m\u001b[92m+ FileWatching\u001b[39m\n",
      "  \u001b[90m[9fa8497b] \u001b[39m\u001b[92m+ Future\u001b[39m\n",
      "  \u001b[90m[b77e0a4c] \u001b[39m\u001b[92m+ InteractiveUtils\u001b[39m\n",
      "  \u001b[90m[b27032c2] \u001b[39m\u001b[92m+ LibCURL v0.6.3\u001b[39m\n",
      "  \u001b[90m[76f85450] \u001b[39m\u001b[92m+ LibGit2\u001b[39m\n",
      "  \u001b[90m[8f399da3] \u001b[39m\u001b[92m+ Libdl\u001b[39m\n",
      "  \u001b[90m[37e2e46d] \u001b[39m\u001b[92m+ LinearAlgebra\u001b[39m\n",
      "  \u001b[90m[56ddb016] \u001b[39m\u001b[92m+ Logging\u001b[39m\n",
      "  \u001b[90m[d6f4376e] \u001b[39m\u001b[92m+ Markdown\u001b[39m\n",
      "  \u001b[90m[a63ad114] \u001b[39m\u001b[92m+ Mmap\u001b[39m\n",
      "  \u001b[90m[ca575930] \u001b[39m\u001b[92m+ NetworkOptions v1.2.0\u001b[39m\n",
      "  \u001b[90m[44cfe95a] \u001b[39m\u001b[92m+ Pkg v1.9.0\u001b[39m\n",
      "  \u001b[90m[de0858da] \u001b[39m\u001b[92m+ Printf\u001b[39m\n",
      "  \u001b[90m[9abbd945] \u001b[39m\u001b[92m+ Profile\u001b[39m\n",
      "  \u001b[90m[3fa0cd96] \u001b[39m\u001b[92m+ REPL\u001b[39m\n",
      "  \u001b[90m[9a3f8284] \u001b[39m\u001b[92m+ Random\u001b[39m\n",
      "  \u001b[90m[ea8e919c] \u001b[39m\u001b[92m+ SHA v0.7.0\u001b[39m\n",
      "  \u001b[90m[9e88b42a] \u001b[39m\u001b[92m+ Serialization\u001b[39m\n",
      "  \u001b[90m[6462fe0b] \u001b[39m\u001b[92m+ Sockets\u001b[39m\n",
      "  \u001b[90m[2f01184e] \u001b[39m\u001b[92m+ SparseArrays\u001b[39m\n",
      "  \u001b[90m[10745b16] \u001b[39m\u001b[92m+ Statistics v1.9.0\u001b[39m\n",
      "  \u001b[90m[4607b0f0] \u001b[39m\u001b[92m+ SuiteSparse\u001b[39m\n",
      "  \u001b[90m[fa267f1f] \u001b[39m\u001b[92m+ TOML v1.0.3\u001b[39m\n",
      "  \u001b[90m[a4e569a6] \u001b[39m\u001b[92m+ Tar v1.10.0\u001b[39m\n",
      "  \u001b[90m[8dfed614] \u001b[39m\u001b[92m+ Test\u001b[39m\n",
      "  \u001b[90m[cf7118a7] \u001b[39m\u001b[92m+ UUIDs\u001b[39m\n",
      "  \u001b[90m[4ec0a83e] \u001b[39m\u001b[92m+ Unicode\u001b[39m\n",
      "  \u001b[90m[e66e0078] \u001b[39m\u001b[92m+ CompilerSupportLibraries_jll v1.0.2+0\u001b[39m\n",
      "  \u001b[90m[deac9b47] \u001b[39m\u001b[92m+ LibCURL_jll v7.84.0+0\u001b[39m\n",
      "  \u001b[90m[29816b5a] \u001b[39m\u001b[92m+ LibSSH2_jll v1.10.2+0\u001b[39m\n",
      "  \u001b[90m[c8ffd9c3] \u001b[39m\u001b[92m+ MbedTLS_jll v2.28.2+0\u001b[39m\n",
      "  \u001b[90m[14a3606d] \u001b[39m\u001b[92m+ MozillaCACerts_jll v2022.10.11\u001b[39m\n",
      "  \u001b[90m[4536629a] \u001b[39m\u001b[92m+ OpenBLAS_jll v0.3.21+4\u001b[39m\n",
      "  \u001b[90m[05823500] \u001b[39m\u001b[92m+ OpenLibm_jll v0.8.1+0\u001b[39m\n",
      "  \u001b[90m[bea87d4a] \u001b[39m\u001b[92m+ SuiteSparse_jll v5.10.1+6\u001b[39m\n",
      "  \u001b[90m[83775a58] \u001b[39m\u001b[92m+ Zlib_jll v1.2.13+0\u001b[39m\n",
      "  \u001b[90m[8e850b90] \u001b[39m\u001b[92m+ libblastrampoline_jll v5.7.0+0\u001b[39m\n",
      "  \u001b[90m[8e850ede] \u001b[39m\u001b[92m+ nghttp2_jll v1.48.0+0\u001b[39m\n",
      "  \u001b[90m[3f19e933] \u001b[39m\u001b[92m+ p7zip_jll v17.4.0+0\u001b[39m\n"
     ]
    },
    {
     "name": "stderr",
     "output_type": "stream",
     "text": [
      "\u001b[32m\u001b[1mPrecompiling\u001b[22m\u001b[39m project...\n"
     ]
    },
    {
     "name": "stderr",
     "output_type": "stream",
     "text": [
      "\u001b[32m  ✓ \u001b[39m\u001b[90mPolynomialRoots\u001b[39m\n",
      "\u001b[32m  ✓ \u001b[39m\u001b[90mAMD\u001b[39m\n"
     ]
    },
    {
     "name": "stderr",
     "output_type": "stream",
     "text": [
      "\u001b[32m  ✓ \u001b[39m\u001b[90mAbstractTrees\u001b[39m\n"
     ]
    },
    {
     "name": "stderr",
     "output_type": "stream",
     "text": [
      "\u001b[32m  ✓ \u001b[39m\u001b[90mCombinatorics\u001b[39m\n"
     ]
    },
    {
     "name": "stderr",
     "output_type": "stream",
     "text": [
      "\u001b[32m  ✓ \u001b[39m\u001b[90mGenericLinearAlgebra\u001b[39m\n"
     ]
    },
    {
     "name": "stderr",
     "output_type": "stream",
     "text": [
      "\u001b[32m  ✓ \u001b[39m\u001b[90mHiGHS_jll\u001b[39m\n"
     ]
    },
    {
     "name": "stderr",
     "output_type": "stream",
     "text": [
      "\u001b[32m  ✓ \u001b[39m\u001b[90mLDLFactorizations\u001b[39m\n"
     ]
    },
    {
     "name": "stderr",
     "output_type": "stream",
     "text": [
      "\u001b[32m  ✓ \u001b[39m\u001b[90mLinearMaps\u001b[39m\n"
     ]
    },
    {
     "name": "stderr",
     "output_type": "stream",
     "text": [
      "\u001b[32m  ✓ \u001b[39m\u001b[90mIterativeSolvers\u001b[39m\n"
     ]
    },
    {
     "name": "stderr",
     "output_type": "stream",
     "text": [
      "\u001b[32m  ✓ \u001b[39m\u001b[90mStatsBase\u001b[39m\n"
     ]
    },
    {
     "name": "stderr",
     "output_type": "stream",
     "text": [
      "\u001b[32m  ✓ \u001b[39mStatsModels\n"
     ]
    },
    {
     "name": "stderr",
     "output_type": "stream",
     "text": [
      "\u001b[32m  ✓ \u001b[39m\u001b[90mParsers\u001b[39m\n"
     ]
    },
    {
     "name": "stderr",
     "output_type": "stream",
     "text": [
      "\u001b[32m  ✓ \u001b[39m\u001b[90mInlineStrings\u001b[39m\n"
     ]
    },
    {
     "name": "stderr",
     "output_type": "stream",
     "text": [
      "\u001b[32m  ✓ \u001b[39m\u001b[90mJSON\u001b[39m\n"
     ]
    },
    {
     "name": "stderr",
     "output_type": "stream",
     "text": [
      "\u001b[32m  ✓ \u001b[39m\u001b[90mBenchmarkTools\u001b[39m\n"
     ]
    },
    {
     "name": "stderr",
     "output_type": "stream",
     "text": [
      "\u001b[32m  ✓ \u001b[39mDataFrames\n"
     ]
    },
    {
     "name": "stderr",
     "output_type": "stream",
     "text": [
      "\u001b[32m  ✓ \u001b[39m\u001b[90mMathOptInterface\u001b[39m\n"
     ]
    },
    {
     "name": "stderr",
     "output_type": "stream",
     "text": [
      "\u001b[32m  ✓ \u001b[39mConvex\n"
     ]
    },
    {
     "name": "stderr",
     "output_type": "stream",
     "text": [
      "\u001b[32m  ✓ \u001b[39mHypatia\n"
     ]
    },
    {
     "name": "stderr",
     "output_type": "stream",
     "text": [
      "\u001b[32m  ✓ \u001b[39mHiGHS\n"
     ]
    },
    {
     "name": "stderr",
     "output_type": "stream",
     "text": [
      "\u001b[32m  ✓ \u001b[39mJuMP\n"
     ]
    },
    {
     "name": "stderr",
     "output_type": "stream",
     "text": [
      "\u001b[32m  ✓ \u001b[39mPajarito\n",
      "  22 dependencies successfully precompiled in 87 seconds. 62 already precompiled.\n"
     ]
    },
    {
     "name": "stdout",
     "output_type": "stream",
     "text": [
      "\u001b[32m\u001b[1mStatus\u001b[22m\u001b[39m `~/Documents/UCLA_files/course_work/BIS_M257/hw/biostat-257-2023-spring/hw5/Project.toml`\n",
      "  \u001b[90m[f65535da] \u001b[39mConvex v0.15.3\n",
      "  \u001b[90m[a93c6f00] \u001b[39mDataFrames v1.5.0\n",
      "  \u001b[90m[87dc4568] \u001b[39mHiGHS v1.5.1\n",
      "  \u001b[90m[b99e6be6] \u001b[39mHypatia v0.7.2\n",
      "  \u001b[90m[4076af6c] \u001b[39mJuMP v1.11.0\n",
      "  \u001b[90m[2f354839] \u001b[39mPajarito v0.8.2\n",
      "  \u001b[90m[08abe8d2] \u001b[39mPrettyTables v2.2.4\n",
      "  \u001b[90m[3eaba693] \u001b[39mStatsModels v0.7.2\n"
     ]
    }
   ],
   "source": [
    "using Pkg\n",
    "\n",
    "Pkg.activate(pwd())\n",
    "Pkg.instantiate()\n",
    "Pkg.status()"
   ]
  },
  {
   "attachments": {},
   "cell_type": "markdown",
   "metadata": {},
   "source": [
    "In this exercise, we practice using disciplined convex programming (SDP in particular) to solve optimal design problems.\n",
    "\n",
    "## Introduction to Optimal design\n",
    "\n",
    "Consider a linear model\n",
    "\\begin{align*}\n",
    "\ty_i = \\mathbf{x}_i^T \\boldsymbol{\\beta} + \\epsilon_i, \\quad i = 1,\\ldots, n,\n",
    "\\end{align*}\n",
    "where $\\epsilon_i$ are independent Gaussian noises with common variance $\\sigma^2$. It is well known that the least squares estimate $\\hat{\\boldsymbol{\\beta}}$ is unbiased and has covariance $\\sigma^2 (\\sum_{i=1}^n \\mathbf{x}_i \\mathbf{x}_i^T)^{-1}$. \n",
    "\n",
    "In **exact optimal design**, given total number of $n$ allowable experiments, we want to choose among a list of $m$ candidate design points $\\{\\mathbf{x}_1, \\ldots, \\mathbf{x}_m\\}$ such that the covariance matrix is minimized in some sense. In mathematical terms, we want to find an integer vector $\\mathbf{n} = (n_1, \\ldots, n_m)$ such that $n_i \\ge 0$, $\\sum_{i=1}^m n_i = n$, and the matrix $\\mathbf{V} = \\left( \\sum_{i=1}^m n_i \\mathbf{x}_i \\mathbf{x}_i^T \\right)^{-1}$ is \"small\".\n",
    "\n",
    "In **approximate optimal design**,  we want to find a probability vector $\\mathbf{p} = (p_1, \\ldots, p_m)$ such that $p_i \\ge 0$, $\\sum_{i=1}^m p_i = 1$, and the matrix $\\mathbf{V} = \\left( \\sum_{i=1}^m p_i \\mathbf{x}_i \\mathbf{x}_i^T \\right)^{-1}$ is \"small\".\n",
    "\n",
    "Commonly used optimal design criteria include:\n",
    "\n",
    "- In **$D$-optimal design**, we minimize the determinant of $\\mathbf{V}$\n",
    "\n",
    "\\begin{align*}\n",
    "\t&\\text{minimize}& \\det \\left( \\sum_{i=1}^m p_i \\mathbf{x}_i \\mathbf{x}_i^T \\right)^{-1} \\\\\n",
    "\t&\\text{subject to}& p_i \\ge 0, \\sum_{i=1}^m p_i = 1.\n",
    "\\end{align*}\n",
    "\n",
    "- In **$E$-optimal design**, we minimize the spectral norm, i.e., the maximum eigenvalue of $\\mathbf{V}$\n",
    "\\begin{align*}\n",
    "\t&\\text{minimize}& \\lambda_{\\text{max}} \\left( \\sum_{i=1}^m p_i \\mathbf{x}_i \\mathbf{x}_i^T \\right)^{-1} \\\\\n",
    "\t&\\text{subject to}& p_i \\ge 0, \\sum_{i=1}^m p_i = 1.\t\n",
    "\\end{align*}\n",
    "Statistically we are minimizing the maximum variance of $\\sum_{j=1}^p a_j \\text{var}(\\hat \\beta_j)$ over all vectors $\\mathbf{a}$ with unit norm.\n",
    "\n",
    "- In **$A$-optimal design**, we minimize the trace of $\\mathbf{V}$\n",
    "\\begin{align*}\n",
    "\t&\\text{minimize}& \\text{tr} \\left( \\sum_{i=1}^m p_i \\mathbf{x}_i \\mathbf{x}_i^T \\right)^{-1} \\\\\n",
    "\t&\\text{subject to}& p_i \\ge 0, \\sum_{i=1}^m p_i = 1.\n",
    "\\end{align*}\n",
    "Statistically we are minimizing the total variance $\\sum_{j=1}^p \\text{var}(\\hat \\beta_j)$.\n",
    "\n",
    "## Q1 (10 pts) 3x4 factorial design\n",
    "\n",
    "A drug company ask you to help design a two factor clinical trial, in which treatment A has three levels (A1, A2, and A3) and treatment B has four levels (B1, B2, B3, and B4). Drug company also tells you that the treatment combination A3:B4 has undesirable side effects so we ignore this design point. \n",
    "\n",
    "Using dummy coding with A1 and B1 as the baseline levels, find the matrix $C$ with each row a unique design point."
   ]
  },
  {
   "cell_type": "markdown",
   "metadata": {},
   "source": [
    "## Q2 (30 pts) Find approximate optimal designs\n",
    "\n",
    "Using semidefinite programming (SDP) software to find the approximate D-, E-, and A-optimal designs for this clinical trial.\n",
    "\n",
    "Hint: This is what I got, which may or may not be correct.\n",
    "\n",
    "```\n",
    "Approximate Optimal Design\n",
    "┌───────────┬─────────┬─────────┬─────────┬─────────┬─────────┬─────────┐\n",
    "│ design_pt │   D_opt │   E_opt │   A_opt │ D_opt_n │ E_opt_n │ A_opt_n │\n",
    "│    String │ Float64 │ Float64 │ Float64 │ Float64 │ Float64 │ Float64 │\n",
    "├───────────┼─────────┼─────────┼─────────┼─────────┼─────────┼─────────┤\n",
    "│      A1B1 │   0.082 │   0.272 │   0.200 │       8 │      27 │      20 │\n",
    "│      A2B1 │   0.082 │   0.152 │   0.101 │       8 │      15 │      10 │\n",
    "│      A3B1 │   0.097 │   0.114 │   0.104 │      10 │      11 │      10 │\n",
    "│      A1B2 │   0.082 │   0.057 │   0.086 │       8 │       6 │       9 │\n",
    "│      A2B2 │   0.082 │   0.039 │   0.051 │       8 │       4 │       5 │\n",
    "│      A3B2 │   0.097 │   0.057 │   0.068 │      10 │       6 │       7 │\n",
    "│      A1B3 │   0.082 │   0.057 │   0.086 │       8 │       6 │       9 │\n",
    "│      A2B3 │   0.082 │   0.039 │   0.051 │       8 │       4 │       5 │\n",
    "│      A3B3 │   0.097 │   0.057 │   0.068 │      10 │       6 │       7 │\n",
    "│      A1B4 │   0.109 │   0.081 │   0.106 │      11 │       8 │      11 │\n",
    "│      A2B4 │   0.109 │   0.073 │   0.080 │      11 │       7 │       8 │\n",
    "└───────────┴─────────┴─────────┴─────────┴─────────┴─────────┴─────────┘\n",
    "```"
   ]
  },
  {
   "cell_type": "markdown",
   "metadata": {},
   "source": [
    "## Q3 (30 pts) Find exact optimal designs\n",
    "\n",
    "Using mixed-integer semidefinite programming (SDP) software to find the exact D-, E-, and A-optimal designs for this clinical trial.\n",
    "\n",
    "Hint: This is what I got. Apparently I haven't got the E-optimal design right yet.\n",
    "\n",
    "```\n",
    "Exact Optimal Design\n",
    "┌───────────┬───────┬───────┬───────┐\n",
    "│ design_pt │ D_opt │ E_opt │ A_opt │\n",
    "│    String │ Int64 │ Int64 │ Int64 │\n",
    "├───────────┼───────┼───────┼───────┤\n",
    "│      A1B1 │     8 │    90 │    20 │\n",
    "│      A2B1 │     8 │     1 │    10 │\n",
    "│      A3B1 │    10 │     1 │    10 │\n",
    "│      A1B2 │     8 │     1 │     9 │\n",
    "│      A2B2 │     8 │     1 │     5 │\n",
    "│      A3B2 │    10 │     1 │     7 │\n",
    "│      A1B3 │     8 │     1 │     9 │\n",
    "│      A2B3 │     8 │     1 │     5 │\n",
    "│      A3B3 │    10 │     1 │     7 │\n",
    "│      A1B4 │    11 │     1 │    10 │\n",
    "│      A2B4 │    11 │     1 │     8 │\n",
    "└───────────┴───────┴───────┴───────┘\n",
    "```"
   ]
  },
  {
   "cell_type": "markdown",
   "metadata": {},
   "source": [
    "## Q4 (30 bonus points) Optimal design with nuisance parameters\n",
    "\n",
    "Suppose the regression coefficients of linear model $\\boldsymbol{\\beta}$ is partitioned as $\\boldsymbol{\\beta} = (\\boldsymbol{\\beta}_0^T, \\boldsymbol{\\beta}_1^T)^T$, where $\\boldsymbol{\\beta}_0$ are nuisance parameters and $\\boldsymbol{\\beta}_1$ are parameters of primary interest. Given an approximate design $\\mathbf{p} = (p_1, \\ldots, p_m)$, let the information matrix be partitioned accordingly\n",
    "$$\n",
    "\\mathbf{I}(\\mathbf{p}) = \\sum_{i=1}^m p_i \\mathbf{x}_i \\mathbf{x}_i^T =  \\begin{pmatrix}\n",
    "\\mathbf{I}_{00} & \\mathbf{I}_{01} \\\\\n",
    "\\mathbf{I}_{10} & \\mathbf{I}_{11}\n",
    "\\end{pmatrix}.\n",
    "$$\n",
    "Then the information matrix for $\\boldsymbol{\\beta}_1$ adjusted for nuisance parameter $\\boldsymbol{\\beta}_0$ is\n",
    "$$\n",
    "\\mathbf{I}_{1 \\mid 0}(\\mathbf{p}) = \\mathbf{I}_{11} - \\mathbf{I}_{10} \\mathbf{I}_{00}^{-1} \\mathbf{I}_{01}.\n",
    "$$\n",
    "\n",
    "Revisiting the 3x4 factorial design problem in Q1, suppose the drug company only cares about the estimation of A treatment effects. Find the approximate D-, E-, and A-optimal designs."
   ]
  }
 ],
 "metadata": {
  "@webio": {
   "lastCommId": null,
   "lastKernelId": null
  },
  "jupytext": {
   "formats": "ipynb,qmd"
  },
  "kernelspec": {
   "display_name": "Julia 1.9.0",
   "language": "julia",
   "name": "julia-1.9"
  },
  "language_info": {
   "file_extension": ".jl",
   "mimetype": "application/julia",
   "name": "julia",
   "version": "1.9.0"
  },
  "toc": {
   "colors": {
    "hover_highlight": "#DAA520",
    "running_highlight": "#FF0000",
    "selected_highlight": "#FFD700"
   },
   "moveMenuLeft": true,
   "nav_menu": {
    "height": "87px",
    "width": "252px"
   },
   "navigate_menu": true,
   "number_sections": false,
   "sideBar": true,
   "skip_h1_title": true,
   "threshold": 4,
   "toc_cell": false,
   "toc_section_display": "block",
   "toc_window_display": true,
   "widenNotebook": false
  }
 },
 "nbformat": 4,
 "nbformat_minor": 4
}
